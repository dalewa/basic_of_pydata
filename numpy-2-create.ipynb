{
 "cells": [
  {
   "cell_type": "markdown",
   "metadata": {},
   "source": [
    "## 摘要\n",
    "\n",
    "* 怎么创建数组？\n",
    "\n",
    "这一节我们主要讲怎么创建数组(ndarray)，创建数组的方式总得来说就是两种。\n",
    "\n",
    "1. 通过numpy自有的函数创建\n",
    "2. 通过序列化数据创建数组"
   ]
  },
  {
   "cell_type": "code",
   "execution_count": 5,
   "metadata": {
    "collapsed": true
   },
   "outputs": [],
   "source": [
    "#首先导入numpy\n",
    "import numpy as np"
   ]
  },
  {
   "cell_type": "code",
   "execution_count": 6,
   "metadata": {
    "collapsed": false
   },
   "outputs": [
    {
     "name": "stdout",
     "output_type": "stream",
     "text": [
      "[0 1 2 3 4 5 6 7 8 9]\n",
      "[ 1  2  3  4  5  6  7  8  9 10]\n",
      "[1 3 5 7 9]\n"
     ]
    }
   ],
   "source": [
    "#np.arange \n",
    "##通过arange我们可以创建指定起始位置，终点位置，步长的一维数组\n",
    "arr1 = np.arange(10)\n",
    "arr2 = np.arange(1,11)\n",
    "arr3 = np.arange(1,11,2)\n",
    "print arr1\n",
    "print arr2\n",
    "print arr3\n"
   ]
  },
  {
   "cell_type": "code",
   "execution_count": 4,
   "metadata": {
    "collapsed": false
   },
   "outputs": [
    {
     "name": "stdout",
     "output_type": "stream",
     "text": [
      "[0, 1, 2, 3, 4, 5, 6, 7, 8, 9]\n"
     ]
    },
    {
     "data": {
      "text/plain": [
       "array([0, 1, 2, 3, 4, 5, 6, 7, 8, 9])"
      ]
     },
     "execution_count": 4,
     "metadata": {},
     "output_type": "execute_result"
    }
   ],
   "source": [
    "lis1 = range(10)\n",
    "print lis1\n",
    "\n",
    "np.arange(10)"
   ]
  },
  {
   "cell_type": "code",
   "execution_count": 5,
   "metadata": {
    "collapsed": false
   },
   "outputs": [
    {
     "name": "stdout",
     "output_type": "stream",
     "text": [
      "9\n",
      "6\n",
      "[5 1 7 1 9 8 6 9 3 4]\n"
     ]
    }
   ],
   "source": [
    "#np.random,np.random.rand,np.random.randn\n",
    "##通过random，我们可以生成指定数量的随机值\n",
    "arr4 = np.random.randint(10)\n",
    "arr5 = np.random.randint(1,10)\n",
    "arr6 = np.random.randint(1,10,10)\n",
    "print arr4\n",
    "print arr5\n",
    "print arr6\n",
    "np.random.randint"
   ]
  },
  {
   "cell_type": "code",
   "execution_count": 10,
   "metadata": {
    "collapsed": false
   },
   "outputs": [
    {
     "name": "stdout",
     "output_type": "stream",
     "text": [
      "[1 2 3 4 5 6]\n",
      "['1' '2' '3' '4' '5' '6' '7' '8' '9']\n"
     ]
    }
   ],
   "source": [
    "#list\n",
    "###我们可以通过序列创建数组，比如列表\n",
    "lis1 = [1,2,3,4,5,6]\n",
    "arr7 = np.array(lis1)\n",
    "print arr7\n",
    "arr8 = np.array(list(\"123456789\"))\n",
    "print arr8"
   ]
  },
  {
   "cell_type": "code",
   "execution_count": null,
   "metadata": {
    "collapsed": true
   },
   "outputs": [],
   "source": []
  }
 ],
 "metadata": {
  "kernelspec": {
   "display_name": "Python 2",
   "language": "python",
   "name": "python2"
  },
  "language_info": {
   "codemirror_mode": {
    "name": "ipython",
    "version": 2
   },
   "file_extension": ".py",
   "mimetype": "text/x-python",
   "name": "python",
   "nbconvert_exporter": "python",
   "pygments_lexer": "ipython2",
   "version": "2.7.11"
  }
 },
 "nbformat": 4,
 "nbformat_minor": 0
}
