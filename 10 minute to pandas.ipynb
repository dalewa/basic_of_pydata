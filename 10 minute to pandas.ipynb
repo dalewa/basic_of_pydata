{
 "cells": [
  {
   "cell_type": "markdown",
   "metadata": {},
   "source": [
    "### 摘要\n",
    "\n",
    "* pandas 简要入门\n",
    "    1. 对象创建\n",
    "    2. 数据视图\n",
    "    3. 索引切片\n",
    "       * 通过标签\n",
    "       * 通过为止\n",
    "       * 布尔索引\n",
    "    4. 缺失数据\n",
    "    5. 操作\n",
    "    6. 合并\n",
    "    7. 分组\n",
    "    8. reshape\n",
    "    9. 数据读入读出\n",
    "    \n",
    "这里我们主要通过pandas官方文档[10 Minutes to pandas](http://pandas.pydata.org/pandas-docs/stable/10min.html)讲解pandas基础\n"
   ]
  },
  {
   "cell_type": "code",
   "execution_count": 4,
   "metadata": {
    "collapsed": false
   },
   "outputs": [],
   "source": [
    "#首先当然是导入我们需要的包\n",
    "\n",
    "import pandas as pd\n",
    "import numpy as np\n",
    "import matplotlib.pyplot as plt\n",
    "\n",
    "#为了更好看，我们选择ggplot样式\n",
    "import matplotlib\n",
    "matplotlib.style.use('ggplot')"
   ]
  },
  {
   "cell_type": "markdown",
   "metadata": {
    "collapsed": true
   },
   "source": [
    "### 对象创建"
   ]
  },
  {
   "cell_type": "markdown",
   "metadata": {},
   "source": [
    "* Series \n",
    "\n",
    "Series有点类似numpy里面的一维数组"
   ]
  },
  {
   "cell_type": "code",
   "execution_count": 5,
   "metadata": {
    "collapsed": false
   },
   "outputs": [
    {
     "data": {
      "text/plain": [
       "0     1\n",
       "1     3\n",
       "2     5\n",
       "3   NaN\n",
       "4     6\n",
       "5     8\n",
       "dtype: float64"
      ]
     },
     "execution_count": 5,
     "metadata": {},
     "output_type": "execute_result"
    }
   ],
   "source": [
    "#创建一个Series\n",
    "s  = pd.Series([1,3,5,np.nan,6,8])\n",
    "s"
   ]
  },
  {
   "cell_type": "markdown",
   "metadata": {},
   "source": [
    "* DataFrame\n",
    "\n",
    "DataFrame 有点类似数据库里面的表table"
   ]
  },
  {
   "cell_type": "code",
   "execution_count": 70,
   "metadata": {
    "collapsed": false
   },
   "outputs": [
    {
     "data": {
      "text/html": [
       "<div>\n",
       "<table border=\"1\" class=\"dataframe\">\n",
       "  <thead>\n",
       "    <tr style=\"text-align: right;\">\n",
       "      <th></th>\n",
       "      <th>A</th>\n",
       "      <th>B</th>\n",
       "      <th>C</th>\n",
       "      <th>D</th>\n",
       "    </tr>\n",
       "  </thead>\n",
       "  <tbody>\n",
       "    <tr>\n",
       "      <th>2016-04-12</th>\n",
       "      <td>-1.321177</td>\n",
       "      <td>-0.401567</td>\n",
       "      <td>0.431935</td>\n",
       "      <td>0.946908</td>\n",
       "    </tr>\n",
       "    <tr>\n",
       "      <th>2016-04-13</th>\n",
       "      <td>1.888603</td>\n",
       "      <td>0.229673</td>\n",
       "      <td>0.910811</td>\n",
       "      <td>0.174443</td>\n",
       "    </tr>\n",
       "    <tr>\n",
       "      <th>2016-04-14</th>\n",
       "      <td>-0.405432</td>\n",
       "      <td>-0.318551</td>\n",
       "      <td>-0.223157</td>\n",
       "      <td>2.141758</td>\n",
       "    </tr>\n",
       "    <tr>\n",
       "      <th>2016-04-15</th>\n",
       "      <td>0.187933</td>\n",
       "      <td>-2.311119</td>\n",
       "      <td>-1.101562</td>\n",
       "      <td>-0.718746</td>\n",
       "    </tr>\n",
       "    <tr>\n",
       "      <th>2016-04-16</th>\n",
       "      <td>-0.855921</td>\n",
       "      <td>-0.475932</td>\n",
       "      <td>-0.577007</td>\n",
       "      <td>1.242079</td>\n",
       "    </tr>\n",
       "    <tr>\n",
       "      <th>2016-04-17</th>\n",
       "      <td>-0.641406</td>\n",
       "      <td>-1.642120</td>\n",
       "      <td>0.223762</td>\n",
       "      <td>0.216799</td>\n",
       "    </tr>\n",
       "  </tbody>\n",
       "</table>\n",
       "</div>"
      ],
      "text/plain": [
       "                   A         B         C         D\n",
       "2016-04-12 -1.321177 -0.401567  0.431935  0.946908\n",
       "2016-04-13  1.888603  0.229673  0.910811  0.174443\n",
       "2016-04-14 -0.405432 -0.318551 -0.223157  2.141758\n",
       "2016-04-15  0.187933 -2.311119 -1.101562 -0.718746\n",
       "2016-04-16 -0.855921 -0.475932 -0.577007  1.242079\n",
       "2016-04-17 -0.641406 -1.642120  0.223762  0.216799"
      ]
     },
     "execution_count": 70,
     "metadata": {},
     "output_type": "execute_result"
    }
   ],
   "source": [
    "#创建一个DataFrame\n",
    "dates = pd.date_range(\"20160412\",periods=6)\n",
    "dates\n",
    "\n",
    "df = pd.DataFrame(np.random.randn(6,4),index=dates,columns=list(\"ABCD\"))\n",
    "df\n",
    "\n"
   ]
  },
  {
   "cell_type": "code",
   "execution_count": 10,
   "metadata": {
    "collapsed": false
   },
   "outputs": [
    {
     "data": {
      "text/html": [
       "<div>\n",
       "<table border=\"1\" class=\"dataframe\">\n",
       "  <thead>\n",
       "    <tr style=\"text-align: right;\">\n",
       "      <th></th>\n",
       "      <th>A</th>\n",
       "      <th>B</th>\n",
       "      <th>C</th>\n",
       "      <th>D</th>\n",
       "      <th>E</th>\n",
       "      <th>F</th>\n",
       "    </tr>\n",
       "  </thead>\n",
       "  <tbody>\n",
       "    <tr>\n",
       "      <th>0</th>\n",
       "      <td>1</td>\n",
       "      <td>2016-04-12</td>\n",
       "      <td>1</td>\n",
       "      <td>3</td>\n",
       "      <td>text</td>\n",
       "      <td>foo</td>\n",
       "    </tr>\n",
       "    <tr>\n",
       "      <th>1</th>\n",
       "      <td>1</td>\n",
       "      <td>2016-04-12</td>\n",
       "      <td>1</td>\n",
       "      <td>3</td>\n",
       "      <td>train</td>\n",
       "      <td>foo</td>\n",
       "    </tr>\n",
       "    <tr>\n",
       "      <th>2</th>\n",
       "      <td>1</td>\n",
       "      <td>2016-04-12</td>\n",
       "      <td>1</td>\n",
       "      <td>3</td>\n",
       "      <td>text</td>\n",
       "      <td>foo</td>\n",
       "    </tr>\n",
       "    <tr>\n",
       "      <th>3</th>\n",
       "      <td>1</td>\n",
       "      <td>2016-04-12</td>\n",
       "      <td>1</td>\n",
       "      <td>3</td>\n",
       "      <td>train</td>\n",
       "      <td>foo</td>\n",
       "    </tr>\n",
       "  </tbody>\n",
       "</table>\n",
       "</div>"
      ],
      "text/plain": [
       "   A          B  C  D      E    F\n",
       "0  1 2016-04-12  1  3   text  foo\n",
       "1  1 2016-04-12  1  3  train  foo\n",
       "2  1 2016-04-12  1  3   text  foo\n",
       "3  1 2016-04-12  1  3  train  foo"
      ]
     },
     "execution_count": 10,
     "metadata": {},
     "output_type": "execute_result"
    }
   ],
   "source": [
    "df2 = pd.DataFrame({\"A\":1,\n",
    "                    \"B\":pd.Timestamp(\"20160412\"),\n",
    "                    \"C\":pd.Series(1,index=list(range(4)),dtype=\"float32\"),\n",
    "                    \"D\":np.array([3]*4,dtype=\"int32\"),\n",
    "                    \"E\":pd.Categorical([\"text\",\"train\",\"text\",\"train\"]),\n",
    "                    \"F\":\"foo\"})\n",
    "df2"
   ]
  },
  {
   "cell_type": "code",
   "execution_count": 11,
   "metadata": {
    "collapsed": false
   },
   "outputs": [
    {
     "data": {
      "text/plain": [
       "A             int64\n",
       "B    datetime64[ns]\n",
       "C           float32\n",
       "D             int32\n",
       "E          category\n",
       "F            object\n",
       "dtype: object"
      ]
     },
     "execution_count": 11,
     "metadata": {},
     "output_type": "execute_result"
    }
   ],
   "source": [
    "df2.dtypes"
   ]
  },
  {
   "cell_type": "code",
   "execution_count": null,
   "metadata": {
    "collapsed": false
   },
   "outputs": [],
   "source": [
    "#使用tab补全\n",
    "df2.<TAB>"
   ]
  },
  {
   "cell_type": "markdown",
   "metadata": {},
   "source": [
    "### 查看数据"
   ]
  },
  {
   "cell_type": "code",
   "execution_count": 16,
   "metadata": {
    "collapsed": false
   },
   "outputs": [
    {
     "data": {
      "text/html": [
       "<div>\n",
       "<table border=\"1\" class=\"dataframe\">\n",
       "  <thead>\n",
       "    <tr style=\"text-align: right;\">\n",
       "      <th></th>\n",
       "      <th>A</th>\n",
       "      <th>B</th>\n",
       "      <th>C</th>\n",
       "      <th>D</th>\n",
       "    </tr>\n",
       "  </thead>\n",
       "  <tbody>\n",
       "    <tr>\n",
       "      <th>2016-04-12</th>\n",
       "      <td>1.494035</td>\n",
       "      <td>-0.249508</td>\n",
       "      <td>-0.840103</td>\n",
       "      <td>0.596635</td>\n",
       "    </tr>\n",
       "    <tr>\n",
       "      <th>2016-04-13</th>\n",
       "      <td>0.150298</td>\n",
       "      <td>-0.972742</td>\n",
       "      <td>-1.182513</td>\n",
       "      <td>-0.412535</td>\n",
       "    </tr>\n",
       "    <tr>\n",
       "      <th>2016-04-14</th>\n",
       "      <td>0.438359</td>\n",
       "      <td>0.888426</td>\n",
       "      <td>-0.568706</td>\n",
       "      <td>-0.391850</td>\n",
       "    </tr>\n",
       "    <tr>\n",
       "      <th>2016-04-15</th>\n",
       "      <td>0.496325</td>\n",
       "      <td>0.238735</td>\n",
       "      <td>0.097390</td>\n",
       "      <td>0.886351</td>\n",
       "    </tr>\n",
       "    <tr>\n",
       "      <th>2016-04-16</th>\n",
       "      <td>-0.388541</td>\n",
       "      <td>0.149561</td>\n",
       "      <td>1.268092</td>\n",
       "      <td>0.007473</td>\n",
       "    </tr>\n",
       "  </tbody>\n",
       "</table>\n",
       "</div>"
      ],
      "text/plain": [
       "                   A         B         C         D\n",
       "2016-04-12  1.494035 -0.249508 -0.840103  0.596635\n",
       "2016-04-13  0.150298 -0.972742 -1.182513 -0.412535\n",
       "2016-04-14  0.438359  0.888426 -0.568706 -0.391850\n",
       "2016-04-15  0.496325  0.238735  0.097390  0.886351\n",
       "2016-04-16 -0.388541  0.149561  1.268092  0.007473"
      ]
     },
     "execution_count": 16,
     "metadata": {},
     "output_type": "execute_result"
    }
   ],
   "source": [
    "#head，tail默认查看5条数据\n",
    "df.head()"
   ]
  },
  {
   "cell_type": "code",
   "execution_count": 17,
   "metadata": {
    "collapsed": false
   },
   "outputs": [
    {
     "data": {
      "text/html": [
       "<div>\n",
       "<table border=\"1\" class=\"dataframe\">\n",
       "  <thead>\n",
       "    <tr style=\"text-align: right;\">\n",
       "      <th></th>\n",
       "      <th>A</th>\n",
       "      <th>B</th>\n",
       "      <th>C</th>\n",
       "      <th>D</th>\n",
       "    </tr>\n",
       "  </thead>\n",
       "  <tbody>\n",
       "    <tr>\n",
       "      <th>2016-04-15</th>\n",
       "      <td>0.496325</td>\n",
       "      <td>0.238735</td>\n",
       "      <td>0.097390</td>\n",
       "      <td>0.886351</td>\n",
       "    </tr>\n",
       "    <tr>\n",
       "      <th>2016-04-16</th>\n",
       "      <td>-0.388541</td>\n",
       "      <td>0.149561</td>\n",
       "      <td>1.268092</td>\n",
       "      <td>0.007473</td>\n",
       "    </tr>\n",
       "    <tr>\n",
       "      <th>2016-04-17</th>\n",
       "      <td>0.259696</td>\n",
       "      <td>0.045658</td>\n",
       "      <td>-0.851169</td>\n",
       "      <td>0.565187</td>\n",
       "    </tr>\n",
       "  </tbody>\n",
       "</table>\n",
       "</div>"
      ],
      "text/plain": [
       "                   A         B         C         D\n",
       "2016-04-15  0.496325  0.238735  0.097390  0.886351\n",
       "2016-04-16 -0.388541  0.149561  1.268092  0.007473\n",
       "2016-04-17  0.259696  0.045658 -0.851169  0.565187"
      ]
     },
     "execution_count": 17,
     "metadata": {},
     "output_type": "execute_result"
    }
   ],
   "source": [
    "df.tail(3)"
   ]
  },
  {
   "cell_type": "code",
   "execution_count": 18,
   "metadata": {
    "collapsed": false
   },
   "outputs": [
    {
     "data": {
      "text/plain": [
       "DatetimeIndex(['2016-04-12', '2016-04-13', '2016-04-14', '2016-04-15',\n",
       "               '2016-04-16', '2016-04-17'],\n",
       "              dtype='datetime64[ns]', freq='D')"
      ]
     },
     "execution_count": 18,
     "metadata": {},
     "output_type": "execute_result"
    }
   ],
   "source": [
    "#产看索引，字段\n",
    "df.index"
   ]
  },
  {
   "cell_type": "code",
   "execution_count": 19,
   "metadata": {
    "collapsed": false
   },
   "outputs": [
    {
     "data": {
      "text/plain": [
       "Index([u'A', u'B', u'C', u'D'], dtype='object')"
      ]
     },
     "execution_count": 19,
     "metadata": {},
     "output_type": "execute_result"
    }
   ],
   "source": [
    "df.columns"
   ]
  },
  {
   "cell_type": "code",
   "execution_count": 20,
   "metadata": {
    "collapsed": false
   },
   "outputs": [
    {
     "data": {
      "text/plain": [
       "array([[ 1.4940347 , -0.24950848, -0.84010293,  0.59663515],\n",
       "       [ 0.15029822, -0.97274187, -1.18251347, -0.41253506],\n",
       "       [ 0.43835922,  0.88842583, -0.56870616, -0.39184972],\n",
       "       [ 0.49632521,  0.23873495,  0.0973903 ,  0.88635082],\n",
       "       [-0.38854074,  0.14956143,  1.26809247,  0.00747331],\n",
       "       [ 0.25969625,  0.04565756, -0.85116928,  0.56518703]])"
      ]
     },
     "execution_count": 20,
     "metadata": {},
     "output_type": "execute_result"
    }
   ],
   "source": [
    "df.values"
   ]
  },
  {
   "cell_type": "code",
   "execution_count": 21,
   "metadata": {
    "collapsed": false
   },
   "outputs": [
    {
     "data": {
      "text/html": [
       "<div>\n",
       "<table border=\"1\" class=\"dataframe\">\n",
       "  <thead>\n",
       "    <tr style=\"text-align: right;\">\n",
       "      <th></th>\n",
       "      <th>A</th>\n",
       "      <th>B</th>\n",
       "      <th>C</th>\n",
       "      <th>D</th>\n",
       "    </tr>\n",
       "  </thead>\n",
       "  <tbody>\n",
       "    <tr>\n",
       "      <th>count</th>\n",
       "      <td>6.000000</td>\n",
       "      <td>6.000000</td>\n",
       "      <td>6.000000</td>\n",
       "      <td>6.000000</td>\n",
       "    </tr>\n",
       "    <tr>\n",
       "      <th>mean</th>\n",
       "      <td>0.408362</td>\n",
       "      <td>0.016688</td>\n",
       "      <td>-0.346168</td>\n",
       "      <td>0.208544</td>\n",
       "    </tr>\n",
       "    <tr>\n",
       "      <th>std</th>\n",
       "      <td>0.618235</td>\n",
       "      <td>0.612790</td>\n",
       "      <td>0.900064</td>\n",
       "      <td>0.552064</td>\n",
       "    </tr>\n",
       "    <tr>\n",
       "      <th>min</th>\n",
       "      <td>-0.388541</td>\n",
       "      <td>-0.972742</td>\n",
       "      <td>-1.182513</td>\n",
       "      <td>-0.412535</td>\n",
       "    </tr>\n",
       "    <tr>\n",
       "      <th>25%</th>\n",
       "      <td>0.177648</td>\n",
       "      <td>-0.175717</td>\n",
       "      <td>-0.848403</td>\n",
       "      <td>-0.292019</td>\n",
       "    </tr>\n",
       "    <tr>\n",
       "      <th>50%</th>\n",
       "      <td>0.349028</td>\n",
       "      <td>0.097609</td>\n",
       "      <td>-0.704405</td>\n",
       "      <td>0.286330</td>\n",
       "    </tr>\n",
       "    <tr>\n",
       "      <th>75%</th>\n",
       "      <td>0.481834</td>\n",
       "      <td>0.216442</td>\n",
       "      <td>-0.069134</td>\n",
       "      <td>0.588773</td>\n",
       "    </tr>\n",
       "    <tr>\n",
       "      <th>max</th>\n",
       "      <td>1.494035</td>\n",
       "      <td>0.888426</td>\n",
       "      <td>1.268092</td>\n",
       "      <td>0.886351</td>\n",
       "    </tr>\n",
       "  </tbody>\n",
       "</table>\n",
       "</div>"
      ],
      "text/plain": [
       "              A         B         C         D\n",
       "count  6.000000  6.000000  6.000000  6.000000\n",
       "mean   0.408362  0.016688 -0.346168  0.208544\n",
       "std    0.618235  0.612790  0.900064  0.552064\n",
       "min   -0.388541 -0.972742 -1.182513 -0.412535\n",
       "25%    0.177648 -0.175717 -0.848403 -0.292019\n",
       "50%    0.349028  0.097609 -0.704405  0.286330\n",
       "75%    0.481834  0.216442 -0.069134  0.588773\n",
       "max    1.494035  0.888426  1.268092  0.886351"
      ]
     },
     "execution_count": 21,
     "metadata": {},
     "output_type": "execute_result"
    }
   ],
   "source": [
    "#查看数据的一些简单统计结果\n",
    "df.describe()"
   ]
  },
  {
   "cell_type": "code",
   "execution_count": 22,
   "metadata": {
    "collapsed": false
   },
   "outputs": [
    {
     "data": {
      "text/html": [
       "<div>\n",
       "<table border=\"1\" class=\"dataframe\">\n",
       "  <thead>\n",
       "    <tr style=\"text-align: right;\">\n",
       "      <th></th>\n",
       "      <th>2016-04-12 00:00:00</th>\n",
       "      <th>2016-04-13 00:00:00</th>\n",
       "      <th>2016-04-14 00:00:00</th>\n",
       "      <th>2016-04-15 00:00:00</th>\n",
       "      <th>2016-04-16 00:00:00</th>\n",
       "      <th>2016-04-17 00:00:00</th>\n",
       "    </tr>\n",
       "  </thead>\n",
       "  <tbody>\n",
       "    <tr>\n",
       "      <th>A</th>\n",
       "      <td>1.494035</td>\n",
       "      <td>0.150298</td>\n",
       "      <td>0.438359</td>\n",
       "      <td>0.496325</td>\n",
       "      <td>-0.388541</td>\n",
       "      <td>0.259696</td>\n",
       "    </tr>\n",
       "    <tr>\n",
       "      <th>B</th>\n",
       "      <td>-0.249508</td>\n",
       "      <td>-0.972742</td>\n",
       "      <td>0.888426</td>\n",
       "      <td>0.238735</td>\n",
       "      <td>0.149561</td>\n",
       "      <td>0.045658</td>\n",
       "    </tr>\n",
       "    <tr>\n",
       "      <th>C</th>\n",
       "      <td>-0.840103</td>\n",
       "      <td>-1.182513</td>\n",
       "      <td>-0.568706</td>\n",
       "      <td>0.097390</td>\n",
       "      <td>1.268092</td>\n",
       "      <td>-0.851169</td>\n",
       "    </tr>\n",
       "    <tr>\n",
       "      <th>D</th>\n",
       "      <td>0.596635</td>\n",
       "      <td>-0.412535</td>\n",
       "      <td>-0.391850</td>\n",
       "      <td>0.886351</td>\n",
       "      <td>0.007473</td>\n",
       "      <td>0.565187</td>\n",
       "    </tr>\n",
       "  </tbody>\n",
       "</table>\n",
       "</div>"
      ],
      "text/plain": [
       "   2016-04-12  2016-04-13  2016-04-14  2016-04-15  2016-04-16  2016-04-17\n",
       "A    1.494035    0.150298    0.438359    0.496325   -0.388541    0.259696\n",
       "B   -0.249508   -0.972742    0.888426    0.238735    0.149561    0.045658\n",
       "C   -0.840103   -1.182513   -0.568706    0.097390    1.268092   -0.851169\n",
       "D    0.596635   -0.412535   -0.391850    0.886351    0.007473    0.565187"
      ]
     },
     "execution_count": 22,
     "metadata": {},
     "output_type": "execute_result"
    }
   ],
   "source": [
    "#数据结构置换\n",
    "df.T"
   ]
  },
  {
   "cell_type": "code",
   "execution_count": 28,
   "metadata": {
    "collapsed": false
   },
   "outputs": [
    {
     "name": "stdout",
     "output_type": "stream",
     "text": [
      "                   A         B         C         D\n",
      "2016-04-12  1.494035 -0.249508 -0.840103  0.596635\n",
      "2016-04-13  0.150298 -0.972742 -1.182513 -0.412535\n",
      "2016-04-14  0.438359  0.888426 -0.568706 -0.391850\n",
      "2016-04-15  0.496325  0.238735  0.097390  0.886351\n",
      "2016-04-16 -0.388541  0.149561  1.268092  0.007473\n",
      "2016-04-17  0.259696  0.045658 -0.851169  0.565187\n"
     ]
    },
    {
     "data": {
      "text/html": [
       "<div>\n",
       "<table border=\"1\" class=\"dataframe\">\n",
       "  <thead>\n",
       "    <tr style=\"text-align: right;\">\n",
       "      <th></th>\n",
       "      <th>D</th>\n",
       "      <th>C</th>\n",
       "      <th>B</th>\n",
       "      <th>A</th>\n",
       "    </tr>\n",
       "  </thead>\n",
       "  <tbody>\n",
       "    <tr>\n",
       "      <th>2016-04-12</th>\n",
       "      <td>0.596635</td>\n",
       "      <td>-0.840103</td>\n",
       "      <td>-0.249508</td>\n",
       "      <td>1.494035</td>\n",
       "    </tr>\n",
       "    <tr>\n",
       "      <th>2016-04-13</th>\n",
       "      <td>-0.412535</td>\n",
       "      <td>-1.182513</td>\n",
       "      <td>-0.972742</td>\n",
       "      <td>0.150298</td>\n",
       "    </tr>\n",
       "    <tr>\n",
       "      <th>2016-04-14</th>\n",
       "      <td>-0.391850</td>\n",
       "      <td>-0.568706</td>\n",
       "      <td>0.888426</td>\n",
       "      <td>0.438359</td>\n",
       "    </tr>\n",
       "    <tr>\n",
       "      <th>2016-04-15</th>\n",
       "      <td>0.886351</td>\n",
       "      <td>0.097390</td>\n",
       "      <td>0.238735</td>\n",
       "      <td>0.496325</td>\n",
       "    </tr>\n",
       "    <tr>\n",
       "      <th>2016-04-16</th>\n",
       "      <td>0.007473</td>\n",
       "      <td>1.268092</td>\n",
       "      <td>0.149561</td>\n",
       "      <td>-0.388541</td>\n",
       "    </tr>\n",
       "    <tr>\n",
       "      <th>2016-04-17</th>\n",
       "      <td>0.565187</td>\n",
       "      <td>-0.851169</td>\n",
       "      <td>0.045658</td>\n",
       "      <td>0.259696</td>\n",
       "    </tr>\n",
       "  </tbody>\n",
       "</table>\n",
       "</div>"
      ],
      "text/plain": [
       "                   D         C         B         A\n",
       "2016-04-12  0.596635 -0.840103 -0.249508  1.494035\n",
       "2016-04-13 -0.412535 -1.182513 -0.972742  0.150298\n",
       "2016-04-14 -0.391850 -0.568706  0.888426  0.438359\n",
       "2016-04-15  0.886351  0.097390  0.238735  0.496325\n",
       "2016-04-16  0.007473  1.268092  0.149561 -0.388541\n",
       "2016-04-17  0.565187 -0.851169  0.045658  0.259696"
      ]
     },
     "execution_count": 28,
     "metadata": {},
     "output_type": "execute_result"
    }
   ],
   "source": [
    "#按轴排序\n",
    "print df\n",
    "df.sort_index(axis=1,ascending=False)"
   ]
  },
  {
   "cell_type": "code",
   "execution_count": 35,
   "metadata": {
    "collapsed": false
   },
   "outputs": [
    {
     "name": "stdout",
     "output_type": "stream",
     "text": [
      "                   A         B         C         D\n",
      "2016-04-12  1.494035 -0.249508 -0.840103  0.596635\n",
      "2016-04-13  0.150298 -0.972742 -1.182513 -0.412535\n",
      "2016-04-14  0.438359  0.888426 -0.568706 -0.391850\n",
      "2016-04-15  0.496325  0.238735  0.097390  0.886351\n",
      "2016-04-16 -0.388541  0.149561  1.268092  0.007473\n",
      "2016-04-17  0.259696  0.045658 -0.851169  0.565187\n"
     ]
    },
    {
     "data": {
      "text/html": [
       "<div>\n",
       "<table border=\"1\" class=\"dataframe\">\n",
       "  <thead>\n",
       "    <tr style=\"text-align: right;\">\n",
       "      <th></th>\n",
       "      <th>A</th>\n",
       "      <th>B</th>\n",
       "      <th>C</th>\n",
       "      <th>D</th>\n",
       "    </tr>\n",
       "  </thead>\n",
       "  <tbody>\n",
       "    <tr>\n",
       "      <th>2016-04-13</th>\n",
       "      <td>0.150298</td>\n",
       "      <td>-0.972742</td>\n",
       "      <td>-1.182513</td>\n",
       "      <td>-0.412535</td>\n",
       "    </tr>\n",
       "    <tr>\n",
       "      <th>2016-04-12</th>\n",
       "      <td>1.494035</td>\n",
       "      <td>-0.249508</td>\n",
       "      <td>-0.840103</td>\n",
       "      <td>0.596635</td>\n",
       "    </tr>\n",
       "    <tr>\n",
       "      <th>2016-04-17</th>\n",
       "      <td>0.259696</td>\n",
       "      <td>0.045658</td>\n",
       "      <td>-0.851169</td>\n",
       "      <td>0.565187</td>\n",
       "    </tr>\n",
       "    <tr>\n",
       "      <th>2016-04-16</th>\n",
       "      <td>-0.388541</td>\n",
       "      <td>0.149561</td>\n",
       "      <td>1.268092</td>\n",
       "      <td>0.007473</td>\n",
       "    </tr>\n",
       "    <tr>\n",
       "      <th>2016-04-15</th>\n",
       "      <td>0.496325</td>\n",
       "      <td>0.238735</td>\n",
       "      <td>0.097390</td>\n",
       "      <td>0.886351</td>\n",
       "    </tr>\n",
       "    <tr>\n",
       "      <th>2016-04-14</th>\n",
       "      <td>0.438359</td>\n",
       "      <td>0.888426</td>\n",
       "      <td>-0.568706</td>\n",
       "      <td>-0.391850</td>\n",
       "    </tr>\n",
       "  </tbody>\n",
       "</table>\n",
       "</div>"
      ],
      "text/plain": [
       "                   A         B         C         D\n",
       "2016-04-13  0.150298 -0.972742 -1.182513 -0.412535\n",
       "2016-04-12  1.494035 -0.249508 -0.840103  0.596635\n",
       "2016-04-17  0.259696  0.045658 -0.851169  0.565187\n",
       "2016-04-16 -0.388541  0.149561  1.268092  0.007473\n",
       "2016-04-15  0.496325  0.238735  0.097390  0.886351\n",
       "2016-04-14  0.438359  0.888426 -0.568706 -0.391850"
      ]
     },
     "execution_count": 35,
     "metadata": {},
     "output_type": "execute_result"
    }
   ],
   "source": [
    "#按值排序\n",
    "print df\n",
    "df.sort_values(by=\"B\")"
   ]
  },
  {
   "cell_type": "markdown",
   "metadata": {},
   "source": [
    "### 选择\n",
    "> 注:尽管使用python或者numpy表达式选择，设置是符合直觉和容易上手，但是pandas推荐使用经过优化的pandas数据访问方法.at,.iat,.loc,iloc以及.ix"
   ]
  },
  {
   "cell_type": "code",
   "execution_count": 36,
   "metadata": {
    "collapsed": false
   },
   "outputs": [
    {
     "data": {
      "text/plain": [
       "2016-04-12    1.494035\n",
       "2016-04-13    0.150298\n",
       "2016-04-14    0.438359\n",
       "2016-04-15    0.496325\n",
       "2016-04-16   -0.388541\n",
       "2016-04-17    0.259696\n",
       "Freq: D, Name: A, dtype: float64"
      ]
     },
     "execution_count": 36,
     "metadata": {},
     "output_type": "execute_result"
    }
   ],
   "source": [
    "#df[A] == df.A\n",
    "df[\"A\"]"
   ]
  },
  {
   "cell_type": "code",
   "execution_count": 37,
   "metadata": {
    "collapsed": false
   },
   "outputs": [
    {
     "data": {
      "text/html": [
       "<div>\n",
       "<table border=\"1\" class=\"dataframe\">\n",
       "  <thead>\n",
       "    <tr style=\"text-align: right;\">\n",
       "      <th></th>\n",
       "      <th>A</th>\n",
       "      <th>B</th>\n",
       "      <th>C</th>\n",
       "      <th>D</th>\n",
       "    </tr>\n",
       "  </thead>\n",
       "  <tbody>\n",
       "    <tr>\n",
       "      <th>2016-04-12</th>\n",
       "      <td>1.494035</td>\n",
       "      <td>-0.249508</td>\n",
       "      <td>-0.840103</td>\n",
       "      <td>0.596635</td>\n",
       "    </tr>\n",
       "    <tr>\n",
       "      <th>2016-04-13</th>\n",
       "      <td>0.150298</td>\n",
       "      <td>-0.972742</td>\n",
       "      <td>-1.182513</td>\n",
       "      <td>-0.412535</td>\n",
       "    </tr>\n",
       "    <tr>\n",
       "      <th>2016-04-14</th>\n",
       "      <td>0.438359</td>\n",
       "      <td>0.888426</td>\n",
       "      <td>-0.568706</td>\n",
       "      <td>-0.391850</td>\n",
       "    </tr>\n",
       "  </tbody>\n",
       "</table>\n",
       "</div>"
      ],
      "text/plain": [
       "                   A         B         C         D\n",
       "2016-04-12  1.494035 -0.249508 -0.840103  0.596635\n",
       "2016-04-13  0.150298 -0.972742 -1.182513 -0.412535\n",
       "2016-04-14  0.438359  0.888426 -0.568706 -0.391850"
      ]
     },
     "execution_count": 37,
     "metadata": {},
     "output_type": "execute_result"
    }
   ],
   "source": [
    "#切片\n",
    "df[0:3]"
   ]
  },
  {
   "cell_type": "code",
   "execution_count": 39,
   "metadata": {
    "collapsed": false
   },
   "outputs": [
    {
     "data": {
      "text/html": [
       "<div>\n",
       "<table border=\"1\" class=\"dataframe\">\n",
       "  <thead>\n",
       "    <tr style=\"text-align: right;\">\n",
       "      <th></th>\n",
       "      <th>A</th>\n",
       "      <th>B</th>\n",
       "      <th>C</th>\n",
       "      <th>D</th>\n",
       "    </tr>\n",
       "  </thead>\n",
       "  <tbody>\n",
       "    <tr>\n",
       "      <th>2016-04-12</th>\n",
       "      <td>1.494035</td>\n",
       "      <td>-0.249508</td>\n",
       "      <td>-0.840103</td>\n",
       "      <td>0.596635</td>\n",
       "    </tr>\n",
       "    <tr>\n",
       "      <th>2016-04-13</th>\n",
       "      <td>0.150298</td>\n",
       "      <td>-0.972742</td>\n",
       "      <td>-1.182513</td>\n",
       "      <td>-0.412535</td>\n",
       "    </tr>\n",
       "    <tr>\n",
       "      <th>2016-04-14</th>\n",
       "      <td>0.438359</td>\n",
       "      <td>0.888426</td>\n",
       "      <td>-0.568706</td>\n",
       "      <td>-0.391850</td>\n",
       "    </tr>\n",
       "  </tbody>\n",
       "</table>\n",
       "</div>"
      ],
      "text/plain": [
       "                   A         B         C         D\n",
       "2016-04-12  1.494035 -0.249508 -0.840103  0.596635\n",
       "2016-04-13  0.150298 -0.972742 -1.182513 -0.412535\n",
       "2016-04-14  0.438359  0.888426 -0.568706 -0.391850"
      ]
     },
     "execution_count": 39,
     "metadata": {},
     "output_type": "execute_result"
    }
   ],
   "source": [
    "df[\"20160412\":\"20160414\"]"
   ]
  },
  {
   "cell_type": "markdown",
   "metadata": {},
   "source": [
    "#### 通过标签选择\n",
    ".loc的切片更加严格，比如下面是不允许的"
   ]
  },
  {
   "cell_type": "code",
   "execution_count": 40,
   "metadata": {
    "collapsed": false
   },
   "outputs": [
    {
     "ename": "TypeError",
     "evalue": "cannot do slice indexing on <class 'pandas.tseries.index.DatetimeIndex'> with these indexers [2] of <type 'int'>",
     "output_type": "error",
     "traceback": [
      "\u001b[1;31m---------------------------------------------------------------------------\u001b[0m",
      "\u001b[1;31mTypeError\u001b[0m                                 Traceback (most recent call last)",
      "\u001b[1;32m<ipython-input-40-58ebccf5a280>\u001b[0m in \u001b[0;36m<module>\u001b[1;34m()\u001b[0m\n\u001b[1;32m----> 1\u001b[1;33m \u001b[0mdf\u001b[0m\u001b[1;33m.\u001b[0m\u001b[0mloc\u001b[0m\u001b[1;33m[\u001b[0m\u001b[1;36m2\u001b[0m\u001b[1;33m:\u001b[0m\u001b[1;36m3\u001b[0m\u001b[1;33m]\u001b[0m\u001b[1;33m\u001b[0m\u001b[0m\n\u001b[0m",
      "\u001b[1;32mC:\\Anaconda\\lib\\site-packages\\pandas\\core\\indexing.pyc\u001b[0m in \u001b[0;36m__getitem__\u001b[1;34m(self, key)\u001b[0m\n\u001b[0;32m   1225\u001b[0m             \u001b[1;32mreturn\u001b[0m \u001b[0mself\u001b[0m\u001b[1;33m.\u001b[0m\u001b[0m_getitem_tuple\u001b[0m\u001b[1;33m(\u001b[0m\u001b[0mkey\u001b[0m\u001b[1;33m)\u001b[0m\u001b[1;33m\u001b[0m\u001b[0m\n\u001b[0;32m   1226\u001b[0m         \u001b[1;32melse\u001b[0m\u001b[1;33m:\u001b[0m\u001b[1;33m\u001b[0m\u001b[0m\n\u001b[1;32m-> 1227\u001b[1;33m             \u001b[1;32mreturn\u001b[0m \u001b[0mself\u001b[0m\u001b[1;33m.\u001b[0m\u001b[0m_getitem_axis\u001b[0m\u001b[1;33m(\u001b[0m\u001b[0mkey\u001b[0m\u001b[1;33m,\u001b[0m \u001b[0maxis\u001b[0m\u001b[1;33m=\u001b[0m\u001b[1;36m0\u001b[0m\u001b[1;33m)\u001b[0m\u001b[1;33m\u001b[0m\u001b[0m\n\u001b[0m\u001b[0;32m   1228\u001b[0m \u001b[1;33m\u001b[0m\u001b[0m\n\u001b[0;32m   1229\u001b[0m     \u001b[1;32mdef\u001b[0m \u001b[0m_getitem_axis\u001b[0m\u001b[1;33m(\u001b[0m\u001b[0mself\u001b[0m\u001b[1;33m,\u001b[0m \u001b[0mkey\u001b[0m\u001b[1;33m,\u001b[0m \u001b[0maxis\u001b[0m\u001b[1;33m=\u001b[0m\u001b[1;36m0\u001b[0m\u001b[1;33m)\u001b[0m\u001b[1;33m:\u001b[0m\u001b[1;33m\u001b[0m\u001b[0m\n",
      "\u001b[1;32mC:\\Anaconda\\lib\\site-packages\\pandas\\core\\indexing.pyc\u001b[0m in \u001b[0;36m_getitem_axis\u001b[1;34m(self, key, axis)\u001b[0m\n\u001b[0;32m   1340\u001b[0m         \u001b[1;32mif\u001b[0m \u001b[0misinstance\u001b[0m\u001b[1;33m(\u001b[0m\u001b[0mkey\u001b[0m\u001b[1;33m,\u001b[0m \u001b[0mslice\u001b[0m\u001b[1;33m)\u001b[0m\u001b[1;33m:\u001b[0m\u001b[1;33m\u001b[0m\u001b[0m\n\u001b[0;32m   1341\u001b[0m             \u001b[0mself\u001b[0m\u001b[1;33m.\u001b[0m\u001b[0m_has_valid_type\u001b[0m\u001b[1;33m(\u001b[0m\u001b[0mkey\u001b[0m\u001b[1;33m,\u001b[0m \u001b[0maxis\u001b[0m\u001b[1;33m)\u001b[0m\u001b[1;33m\u001b[0m\u001b[0m\n\u001b[1;32m-> 1342\u001b[1;33m             \u001b[1;32mreturn\u001b[0m \u001b[0mself\u001b[0m\u001b[1;33m.\u001b[0m\u001b[0m_get_slice_axis\u001b[0m\u001b[1;33m(\u001b[0m\u001b[0mkey\u001b[0m\u001b[1;33m,\u001b[0m \u001b[0maxis\u001b[0m\u001b[1;33m=\u001b[0m\u001b[0maxis\u001b[0m\u001b[1;33m)\u001b[0m\u001b[1;33m\u001b[0m\u001b[0m\n\u001b[0m\u001b[0;32m   1343\u001b[0m         \u001b[1;32melif\u001b[0m \u001b[0mis_bool_indexer\u001b[0m\u001b[1;33m(\u001b[0m\u001b[0mkey\u001b[0m\u001b[1;33m)\u001b[0m\u001b[1;33m:\u001b[0m\u001b[1;33m\u001b[0m\u001b[0m\n\u001b[0;32m   1344\u001b[0m             \u001b[1;32mreturn\u001b[0m \u001b[0mself\u001b[0m\u001b[1;33m.\u001b[0m\u001b[0m_getbool_axis\u001b[0m\u001b[1;33m(\u001b[0m\u001b[0mkey\u001b[0m\u001b[1;33m,\u001b[0m \u001b[0maxis\u001b[0m\u001b[1;33m=\u001b[0m\u001b[0maxis\u001b[0m\u001b[1;33m)\u001b[0m\u001b[1;33m\u001b[0m\u001b[0m\n",
      "\u001b[1;32mC:\\Anaconda\\lib\\site-packages\\pandas\\core\\indexing.pyc\u001b[0m in \u001b[0;36m_get_slice_axis\u001b[1;34m(self, slice_obj, axis)\u001b[0m\n\u001b[0;32m   1247\u001b[0m         \u001b[0mlabels\u001b[0m \u001b[1;33m=\u001b[0m \u001b[0mobj\u001b[0m\u001b[1;33m.\u001b[0m\u001b[0m_get_axis\u001b[0m\u001b[1;33m(\u001b[0m\u001b[0maxis\u001b[0m\u001b[1;33m)\u001b[0m\u001b[1;33m\u001b[0m\u001b[0m\n\u001b[0;32m   1248\u001b[0m         indexer = labels.slice_indexer(slice_obj.start, slice_obj.stop,\n\u001b[1;32m-> 1249\u001b[1;33m                                        slice_obj.step)\n\u001b[0m\u001b[0;32m   1250\u001b[0m \u001b[1;33m\u001b[0m\u001b[0m\n\u001b[0;32m   1251\u001b[0m         \u001b[1;32mif\u001b[0m \u001b[0misinstance\u001b[0m\u001b[1;33m(\u001b[0m\u001b[0mindexer\u001b[0m\u001b[1;33m,\u001b[0m \u001b[0mslice\u001b[0m\u001b[1;33m)\u001b[0m\u001b[1;33m:\u001b[0m\u001b[1;33m\u001b[0m\u001b[0m\n",
      "\u001b[1;32mC:\\Anaconda\\lib\\site-packages\\pandas\\tseries\\index.pyc\u001b[0m in \u001b[0;36mslice_indexer\u001b[1;34m(self, start, end, step, kind)\u001b[0m\n\u001b[0;32m   1434\u001b[0m \u001b[1;33m\u001b[0m\u001b[0m\n\u001b[0;32m   1435\u001b[0m         \u001b[1;32mtry\u001b[0m\u001b[1;33m:\u001b[0m\u001b[1;33m\u001b[0m\u001b[0m\n\u001b[1;32m-> 1436\u001b[1;33m             \u001b[1;32mreturn\u001b[0m \u001b[0mIndex\u001b[0m\u001b[1;33m.\u001b[0m\u001b[0mslice_indexer\u001b[0m\u001b[1;33m(\u001b[0m\u001b[0mself\u001b[0m\u001b[1;33m,\u001b[0m \u001b[0mstart\u001b[0m\u001b[1;33m,\u001b[0m \u001b[0mend\u001b[0m\u001b[1;33m,\u001b[0m \u001b[0mstep\u001b[0m\u001b[1;33m)\u001b[0m\u001b[1;33m\u001b[0m\u001b[0m\n\u001b[0m\u001b[0;32m   1437\u001b[0m         \u001b[1;32mexcept\u001b[0m \u001b[0mKeyError\u001b[0m\u001b[1;33m:\u001b[0m\u001b[1;33m\u001b[0m\u001b[0m\n\u001b[0;32m   1438\u001b[0m             \u001b[1;31m# For historical reasons DatetimeIndex by default supports\u001b[0m\u001b[1;33m\u001b[0m\u001b[1;33m\u001b[0m\u001b[0m\n",
      "\u001b[1;32mC:\\Anaconda\\lib\\site-packages\\pandas\\core\\index.pyc\u001b[0m in \u001b[0;36mslice_indexer\u001b[1;34m(self, start, end, step, kind)\u001b[0m\n\u001b[0;32m   2568\u001b[0m         \u001b[0mThis\u001b[0m \u001b[0mfunction\u001b[0m \u001b[0massumes\u001b[0m \u001b[0mthat\u001b[0m \u001b[0mthe\u001b[0m \u001b[0mdata\u001b[0m \u001b[1;32mis\u001b[0m \u001b[0msorted\u001b[0m\u001b[1;33m,\u001b[0m \u001b[0mso\u001b[0m \u001b[0muse\u001b[0m \u001b[0mat\u001b[0m \u001b[0myour\u001b[0m \u001b[0mown\u001b[0m \u001b[0mperil\u001b[0m\u001b[1;33m\u001b[0m\u001b[0m\n\u001b[0;32m   2569\u001b[0m         \"\"\"\n\u001b[1;32m-> 2570\u001b[1;33m         \u001b[0mstart_slice\u001b[0m\u001b[1;33m,\u001b[0m \u001b[0mend_slice\u001b[0m \u001b[1;33m=\u001b[0m \u001b[0mself\u001b[0m\u001b[1;33m.\u001b[0m\u001b[0mslice_locs\u001b[0m\u001b[1;33m(\u001b[0m\u001b[0mstart\u001b[0m\u001b[1;33m,\u001b[0m \u001b[0mend\u001b[0m\u001b[1;33m,\u001b[0m \u001b[0mstep\u001b[0m\u001b[1;33m=\u001b[0m\u001b[0mstep\u001b[0m\u001b[1;33m,\u001b[0m \u001b[0mkind\u001b[0m\u001b[1;33m=\u001b[0m\u001b[0mkind\u001b[0m\u001b[1;33m)\u001b[0m\u001b[1;33m\u001b[0m\u001b[0m\n\u001b[0m\u001b[0;32m   2571\u001b[0m \u001b[1;33m\u001b[0m\u001b[0m\n\u001b[0;32m   2572\u001b[0m         \u001b[1;31m# return a slice\u001b[0m\u001b[1;33m\u001b[0m\u001b[1;33m\u001b[0m\u001b[0m\n",
      "\u001b[1;32mC:\\Anaconda\\lib\\site-packages\\pandas\\core\\index.pyc\u001b[0m in \u001b[0;36mslice_locs\u001b[1;34m(self, start, end, step, kind)\u001b[0m\n\u001b[0;32m   2712\u001b[0m         \u001b[0mstart_slice\u001b[0m \u001b[1;33m=\u001b[0m \u001b[0mNone\u001b[0m\u001b[1;33m\u001b[0m\u001b[0m\n\u001b[0;32m   2713\u001b[0m         \u001b[1;32mif\u001b[0m \u001b[0mstart\u001b[0m \u001b[1;32mis\u001b[0m \u001b[1;32mnot\u001b[0m \u001b[0mNone\u001b[0m\u001b[1;33m:\u001b[0m\u001b[1;33m\u001b[0m\u001b[0m\n\u001b[1;32m-> 2714\u001b[1;33m             \u001b[0mstart_slice\u001b[0m \u001b[1;33m=\u001b[0m \u001b[0mself\u001b[0m\u001b[1;33m.\u001b[0m\u001b[0mget_slice_bound\u001b[0m\u001b[1;33m(\u001b[0m\u001b[0mstart\u001b[0m\u001b[1;33m,\u001b[0m \u001b[1;34m'left'\u001b[0m\u001b[1;33m,\u001b[0m \u001b[0mkind\u001b[0m\u001b[1;33m)\u001b[0m\u001b[1;33m\u001b[0m\u001b[0m\n\u001b[0m\u001b[0;32m   2715\u001b[0m         \u001b[1;32mif\u001b[0m \u001b[0mstart_slice\u001b[0m \u001b[1;32mis\u001b[0m \u001b[0mNone\u001b[0m\u001b[1;33m:\u001b[0m\u001b[1;33m\u001b[0m\u001b[0m\n\u001b[0;32m   2716\u001b[0m             \u001b[0mstart_slice\u001b[0m \u001b[1;33m=\u001b[0m \u001b[1;36m0\u001b[0m\u001b[1;33m\u001b[0m\u001b[0m\n",
      "\u001b[1;32mC:\\Anaconda\\lib\\site-packages\\pandas\\core\\index.pyc\u001b[0m in \u001b[0;36mget_slice_bound\u001b[1;34m(self, label, side, kind)\u001b[0m\n\u001b[0;32m   2650\u001b[0m         \u001b[1;31m# For datetime indices label may be a string that has to be converted\u001b[0m\u001b[1;33m\u001b[0m\u001b[1;33m\u001b[0m\u001b[0m\n\u001b[0;32m   2651\u001b[0m         \u001b[1;31m# to datetime boundary according to its resolution.\u001b[0m\u001b[1;33m\u001b[0m\u001b[1;33m\u001b[0m\u001b[0m\n\u001b[1;32m-> 2652\u001b[1;33m         \u001b[0mlabel\u001b[0m \u001b[1;33m=\u001b[0m \u001b[0mself\u001b[0m\u001b[1;33m.\u001b[0m\u001b[0m_maybe_cast_slice_bound\u001b[0m\u001b[1;33m(\u001b[0m\u001b[0mlabel\u001b[0m\u001b[1;33m,\u001b[0m \u001b[0mside\u001b[0m\u001b[1;33m,\u001b[0m \u001b[0mkind\u001b[0m\u001b[1;33m)\u001b[0m\u001b[1;33m\u001b[0m\u001b[0m\n\u001b[0m\u001b[0;32m   2653\u001b[0m \u001b[1;33m\u001b[0m\u001b[0m\n\u001b[0;32m   2654\u001b[0m         \u001b[1;31m# we need to look up the label\u001b[0m\u001b[1;33m\u001b[0m\u001b[1;33m\u001b[0m\u001b[0m\n",
      "\u001b[1;32mC:\\Anaconda\\lib\\site-packages\\pandas\\tseries\\index.pyc\u001b[0m in \u001b[0;36m_maybe_cast_slice_bound\u001b[1;34m(self, label, side, kind)\u001b[0m\n\u001b[0;32m   1389\u001b[0m         \"\"\"\n\u001b[0;32m   1390\u001b[0m         \u001b[1;32mif\u001b[0m \u001b[0mis_float\u001b[0m\u001b[1;33m(\u001b[0m\u001b[0mlabel\u001b[0m\u001b[1;33m)\u001b[0m \u001b[1;32mor\u001b[0m \u001b[0misinstance\u001b[0m\u001b[1;33m(\u001b[0m\u001b[0mlabel\u001b[0m\u001b[1;33m,\u001b[0m \u001b[0mtime\u001b[0m\u001b[1;33m)\u001b[0m \u001b[1;32mor\u001b[0m \u001b[0mis_integer\u001b[0m\u001b[1;33m(\u001b[0m\u001b[0mlabel\u001b[0m\u001b[1;33m)\u001b[0m\u001b[1;33m:\u001b[0m\u001b[1;33m\u001b[0m\u001b[0m\n\u001b[1;32m-> 1391\u001b[1;33m             \u001b[0mself\u001b[0m\u001b[1;33m.\u001b[0m\u001b[0m_invalid_indexer\u001b[0m\u001b[1;33m(\u001b[0m\u001b[1;34m'slice'\u001b[0m\u001b[1;33m,\u001b[0m\u001b[0mlabel\u001b[0m\u001b[1;33m)\u001b[0m\u001b[1;33m\u001b[0m\u001b[0m\n\u001b[0m\u001b[0;32m   1392\u001b[0m \u001b[1;33m\u001b[0m\u001b[0m\n\u001b[0;32m   1393\u001b[0m         \u001b[1;32mif\u001b[0m \u001b[0misinstance\u001b[0m\u001b[1;33m(\u001b[0m\u001b[0mlabel\u001b[0m\u001b[1;33m,\u001b[0m \u001b[0mcompat\u001b[0m\u001b[1;33m.\u001b[0m\u001b[0mstring_types\u001b[0m\u001b[1;33m)\u001b[0m\u001b[1;33m:\u001b[0m\u001b[1;33m\u001b[0m\u001b[0m\n",
      "\u001b[1;32mC:\\Anaconda\\lib\\site-packages\\pandas\\core\\index.pyc\u001b[0m in \u001b[0;36m_invalid_indexer\u001b[1;34m(self, form, key)\u001b[0m\n\u001b[0;32m   1015\u001b[0m                                                            \u001b[0mklass\u001b[0m\u001b[1;33m=\u001b[0m\u001b[0mtype\u001b[0m\u001b[1;33m(\u001b[0m\u001b[0mself\u001b[0m\u001b[1;33m)\u001b[0m\u001b[1;33m,\u001b[0m\u001b[1;33m\u001b[0m\u001b[0m\n\u001b[0;32m   1016\u001b[0m                                                            \u001b[0mkey\u001b[0m\u001b[1;33m=\u001b[0m\u001b[0mkey\u001b[0m\u001b[1;33m,\u001b[0m\u001b[1;33m\u001b[0m\u001b[0m\n\u001b[1;32m-> 1017\u001b[1;33m                                                            kind=type(key)))\n\u001b[0m\u001b[0;32m   1018\u001b[0m \u001b[1;33m\u001b[0m\u001b[0m\n\u001b[0;32m   1019\u001b[0m     \u001b[1;32mdef\u001b[0m \u001b[0mget_duplicates\u001b[0m\u001b[1;33m(\u001b[0m\u001b[0mself\u001b[0m\u001b[1;33m)\u001b[0m\u001b[1;33m:\u001b[0m\u001b[1;33m\u001b[0m\u001b[0m\n",
      "\u001b[1;31mTypeError\u001b[0m: cannot do slice indexing on <class 'pandas.tseries.index.DatetimeIndex'> with these indexers [2] of <type 'int'>"
     ]
    }
   ],
   "source": [
    "df.loc[2:3]"
   ]
  },
  {
   "cell_type": "code",
   "execution_count": 41,
   "metadata": {
    "collapsed": false
   },
   "outputs": [
    {
     "data": {
      "text/plain": [
       "A    1.494035\n",
       "B   -0.249508\n",
       "C   -0.840103\n",
       "D    0.596635\n",
       "Name: 2016-04-12 00:00:00, dtype: float64"
      ]
     },
     "execution_count": 41,
     "metadata": {},
     "output_type": "execute_result"
    }
   ],
   "source": [
    "df.loc[dates[0]]"
   ]
  },
  {
   "cell_type": "code",
   "execution_count": 42,
   "metadata": {
    "collapsed": false
   },
   "outputs": [
    {
     "data": {
      "text/html": [
       "<div>\n",
       "<table border=\"1\" class=\"dataframe\">\n",
       "  <thead>\n",
       "    <tr style=\"text-align: right;\">\n",
       "      <th></th>\n",
       "      <th>A</th>\n",
       "      <th>B</th>\n",
       "    </tr>\n",
       "  </thead>\n",
       "  <tbody>\n",
       "    <tr>\n",
       "      <th>2016-04-12</th>\n",
       "      <td>1.494035</td>\n",
       "      <td>-0.249508</td>\n",
       "    </tr>\n",
       "    <tr>\n",
       "      <th>2016-04-13</th>\n",
       "      <td>0.150298</td>\n",
       "      <td>-0.972742</td>\n",
       "    </tr>\n",
       "    <tr>\n",
       "      <th>2016-04-14</th>\n",
       "      <td>0.438359</td>\n",
       "      <td>0.888426</td>\n",
       "    </tr>\n",
       "    <tr>\n",
       "      <th>2016-04-15</th>\n",
       "      <td>0.496325</td>\n",
       "      <td>0.238735</td>\n",
       "    </tr>\n",
       "    <tr>\n",
       "      <th>2016-04-16</th>\n",
       "      <td>-0.388541</td>\n",
       "      <td>0.149561</td>\n",
       "    </tr>\n",
       "    <tr>\n",
       "      <th>2016-04-17</th>\n",
       "      <td>0.259696</td>\n",
       "      <td>0.045658</td>\n",
       "    </tr>\n",
       "  </tbody>\n",
       "</table>\n",
       "</div>"
      ],
      "text/plain": [
       "                   A         B\n",
       "2016-04-12  1.494035 -0.249508\n",
       "2016-04-13  0.150298 -0.972742\n",
       "2016-04-14  0.438359  0.888426\n",
       "2016-04-15  0.496325  0.238735\n",
       "2016-04-16 -0.388541  0.149561\n",
       "2016-04-17  0.259696  0.045658"
      ]
     },
     "execution_count": 42,
     "metadata": {},
     "output_type": "execute_result"
    }
   ],
   "source": [
    "#通过标签多轴选择\n",
    "df.loc[:,[\"A\",\"B\"]]"
   ]
  },
  {
   "cell_type": "code",
   "execution_count": 44,
   "metadata": {
    "collapsed": false
   },
   "outputs": [
    {
     "data": {
      "text/html": [
       "<div>\n",
       "<table border=\"1\" class=\"dataframe\">\n",
       "  <thead>\n",
       "    <tr style=\"text-align: right;\">\n",
       "      <th></th>\n",
       "      <th>A</th>\n",
       "      <th>B</th>\n",
       "    </tr>\n",
       "  </thead>\n",
       "  <tbody>\n",
       "    <tr>\n",
       "      <th>2016-04-12</th>\n",
       "      <td>1.494035</td>\n",
       "      <td>-0.249508</td>\n",
       "    </tr>\n",
       "    <tr>\n",
       "      <th>2016-04-13</th>\n",
       "      <td>0.150298</td>\n",
       "      <td>-0.972742</td>\n",
       "    </tr>\n",
       "    <tr>\n",
       "      <th>2016-04-14</th>\n",
       "      <td>0.438359</td>\n",
       "      <td>0.888426</td>\n",
       "    </tr>\n",
       "  </tbody>\n",
       "</table>\n",
       "</div>"
      ],
      "text/plain": [
       "                   A         B\n",
       "2016-04-12  1.494035 -0.249508\n",
       "2016-04-13  0.150298 -0.972742\n",
       "2016-04-14  0.438359  0.888426"
      ]
     },
     "execution_count": 44,
     "metadata": {},
     "output_type": "execute_result"
    }
   ],
   "source": [
    "#这里不像列表不包括终点！！！\n",
    "df.loc[\"20160412\":\"20160414\",[\"A\",\"B\"]]"
   ]
  },
  {
   "cell_type": "markdown",
   "metadata": {},
   "source": [
    "#### 通过位置(Postion)选择"
   ]
  },
  {
   "cell_type": "code",
   "execution_count": 45,
   "metadata": {
    "collapsed": false
   },
   "outputs": [
    {
     "data": {
      "text/plain": [
       "A    0.496325\n",
       "B    0.238735\n",
       "C    0.097390\n",
       "D    0.886351\n",
       "Name: 2016-04-15 00:00:00, dtype: float64"
      ]
     },
     "execution_count": 45,
     "metadata": {},
     "output_type": "execute_result"
    }
   ],
   "source": [
    "df.iloc[3]"
   ]
  },
  {
   "cell_type": "code",
   "execution_count": 46,
   "metadata": {
    "collapsed": false
   },
   "outputs": [
    {
     "data": {
      "text/html": [
       "<div>\n",
       "<table border=\"1\" class=\"dataframe\">\n",
       "  <thead>\n",
       "    <tr style=\"text-align: right;\">\n",
       "      <th></th>\n",
       "      <th>A</th>\n",
       "      <th>B</th>\n",
       "    </tr>\n",
       "  </thead>\n",
       "  <tbody>\n",
       "    <tr>\n",
       "      <th>2016-04-15</th>\n",
       "      <td>0.496325</td>\n",
       "      <td>0.238735</td>\n",
       "    </tr>\n",
       "    <tr>\n",
       "      <th>2016-04-16</th>\n",
       "      <td>-0.388541</td>\n",
       "      <td>0.149561</td>\n",
       "    </tr>\n",
       "  </tbody>\n",
       "</table>\n",
       "</div>"
      ],
      "text/plain": [
       "                   A         B\n",
       "2016-04-15  0.496325  0.238735\n",
       "2016-04-16 -0.388541  0.149561"
      ]
     },
     "execution_count": 46,
     "metadata": {},
     "output_type": "execute_result"
    }
   ],
   "source": [
    "df.iloc[3:5,0:2]"
   ]
  },
  {
   "cell_type": "code",
   "execution_count": 47,
   "metadata": {
    "collapsed": false
   },
   "outputs": [
    {
     "data": {
      "text/html": [
       "<div>\n",
       "<table border=\"1\" class=\"dataframe\">\n",
       "  <thead>\n",
       "    <tr style=\"text-align: right;\">\n",
       "      <th></th>\n",
       "      <th>A</th>\n",
       "      <th>C</th>\n",
       "    </tr>\n",
       "  </thead>\n",
       "  <tbody>\n",
       "    <tr>\n",
       "      <th>2016-04-13</th>\n",
       "      <td>0.150298</td>\n",
       "      <td>-1.182513</td>\n",
       "    </tr>\n",
       "    <tr>\n",
       "      <th>2016-04-14</th>\n",
       "      <td>0.438359</td>\n",
       "      <td>-0.568706</td>\n",
       "    </tr>\n",
       "    <tr>\n",
       "      <th>2016-04-16</th>\n",
       "      <td>-0.388541</td>\n",
       "      <td>1.268092</td>\n",
       "    </tr>\n",
       "  </tbody>\n",
       "</table>\n",
       "</div>"
      ],
      "text/plain": [
       "                   A         C\n",
       "2016-04-13  0.150298 -1.182513\n",
       "2016-04-14  0.438359 -0.568706\n",
       "2016-04-16 -0.388541  1.268092"
      ]
     },
     "execution_count": 47,
     "metadata": {},
     "output_type": "execute_result"
    }
   ],
   "source": [
    "df.iloc[[1,2,4],[0,2]]"
   ]
  },
  {
   "cell_type": "code",
   "execution_count": 48,
   "metadata": {
    "collapsed": false
   },
   "outputs": [
    {
     "data": {
      "text/html": [
       "<div>\n",
       "<table border=\"1\" class=\"dataframe\">\n",
       "  <thead>\n",
       "    <tr style=\"text-align: right;\">\n",
       "      <th></th>\n",
       "      <th>A</th>\n",
       "      <th>B</th>\n",
       "      <th>C</th>\n",
       "      <th>D</th>\n",
       "    </tr>\n",
       "  </thead>\n",
       "  <tbody>\n",
       "    <tr>\n",
       "      <th>2016-04-13</th>\n",
       "      <td>0.150298</td>\n",
       "      <td>-0.972742</td>\n",
       "      <td>-1.182513</td>\n",
       "      <td>-0.412535</td>\n",
       "    </tr>\n",
       "    <tr>\n",
       "      <th>2016-04-14</th>\n",
       "      <td>0.438359</td>\n",
       "      <td>0.888426</td>\n",
       "      <td>-0.568706</td>\n",
       "      <td>-0.391850</td>\n",
       "    </tr>\n",
       "  </tbody>\n",
       "</table>\n",
       "</div>"
      ],
      "text/plain": [
       "                   A         B         C         D\n",
       "2016-04-13  0.150298 -0.972742 -1.182513 -0.412535\n",
       "2016-04-14  0.438359  0.888426 -0.568706 -0.391850"
      ]
     },
     "execution_count": 48,
     "metadata": {},
     "output_type": "execute_result"
    }
   ],
   "source": [
    "df.iloc[1:3,:]"
   ]
  },
  {
   "cell_type": "code",
   "execution_count": 49,
   "metadata": {
    "collapsed": false
   },
   "outputs": [
    {
     "data": {
      "text/html": [
       "<div>\n",
       "<table border=\"1\" class=\"dataframe\">\n",
       "  <thead>\n",
       "    <tr style=\"text-align: right;\">\n",
       "      <th></th>\n",
       "      <th>B</th>\n",
       "      <th>C</th>\n",
       "    </tr>\n",
       "  </thead>\n",
       "  <tbody>\n",
       "    <tr>\n",
       "      <th>2016-04-12</th>\n",
       "      <td>-0.249508</td>\n",
       "      <td>-0.840103</td>\n",
       "    </tr>\n",
       "    <tr>\n",
       "      <th>2016-04-13</th>\n",
       "      <td>-0.972742</td>\n",
       "      <td>-1.182513</td>\n",
       "    </tr>\n",
       "    <tr>\n",
       "      <th>2016-04-14</th>\n",
       "      <td>0.888426</td>\n",
       "      <td>-0.568706</td>\n",
       "    </tr>\n",
       "    <tr>\n",
       "      <th>2016-04-15</th>\n",
       "      <td>0.238735</td>\n",
       "      <td>0.097390</td>\n",
       "    </tr>\n",
       "    <tr>\n",
       "      <th>2016-04-16</th>\n",
       "      <td>0.149561</td>\n",
       "      <td>1.268092</td>\n",
       "    </tr>\n",
       "    <tr>\n",
       "      <th>2016-04-17</th>\n",
       "      <td>0.045658</td>\n",
       "      <td>-0.851169</td>\n",
       "    </tr>\n",
       "  </tbody>\n",
       "</table>\n",
       "</div>"
      ],
      "text/plain": [
       "                   B         C\n",
       "2016-04-12 -0.249508 -0.840103\n",
       "2016-04-13 -0.972742 -1.182513\n",
       "2016-04-14  0.888426 -0.568706\n",
       "2016-04-15  0.238735  0.097390\n",
       "2016-04-16  0.149561  1.268092\n",
       "2016-04-17  0.045658 -0.851169"
      ]
     },
     "execution_count": 49,
     "metadata": {},
     "output_type": "execute_result"
    }
   ],
   "source": [
    "#字段(columns)切片\n",
    "df.iloc[:,1:3]"
   ]
  },
  {
   "cell_type": "code",
   "execution_count": 50,
   "metadata": {
    "collapsed": false
   },
   "outputs": [
    {
     "data": {
      "text/html": [
       "<div>\n",
       "<table border=\"1\" class=\"dataframe\">\n",
       "  <thead>\n",
       "    <tr style=\"text-align: right;\">\n",
       "      <th></th>\n",
       "      <th>A</th>\n",
       "      <th>B</th>\n",
       "      <th>C</th>\n",
       "      <th>D</th>\n",
       "    </tr>\n",
       "  </thead>\n",
       "  <tbody>\n",
       "    <tr>\n",
       "      <th>2016-04-13</th>\n",
       "      <td>0.150298</td>\n",
       "      <td>-0.972742</td>\n",
       "      <td>-1.182513</td>\n",
       "      <td>-0.412535</td>\n",
       "    </tr>\n",
       "    <tr>\n",
       "      <th>2016-04-14</th>\n",
       "      <td>0.438359</td>\n",
       "      <td>0.888426</td>\n",
       "      <td>-0.568706</td>\n",
       "      <td>-0.391850</td>\n",
       "    </tr>\n",
       "  </tbody>\n",
       "</table>\n",
       "</div>"
      ],
      "text/plain": [
       "                   A         B         C         D\n",
       "2016-04-13  0.150298 -0.972742 -1.182513 -0.412535\n",
       "2016-04-14  0.438359  0.888426 -0.568706 -0.391850"
      ]
     },
     "execution_count": 50,
     "metadata": {},
     "output_type": "execute_result"
    }
   ],
   "source": [
    "#行(row)切片\n",
    "df.iloc[1:3,:]"
   ]
  },
  {
   "cell_type": "code",
   "execution_count": 51,
   "metadata": {
    "collapsed": false
   },
   "outputs": [
    {
     "data": {
      "text/plain": [
       "-0.97274187279670077"
      ]
     },
     "execution_count": 51,
     "metadata": {},
     "output_type": "execute_result"
    }
   ],
   "source": [
    "#获取值\n",
    "df.iloc[1,1]"
   ]
  },
  {
   "cell_type": "code",
   "execution_count": 52,
   "metadata": {
    "collapsed": false
   },
   "outputs": [
    {
     "data": {
      "text/plain": [
       "-0.97274187279670077"
      ]
     },
     "execution_count": 52,
     "metadata": {},
     "output_type": "execute_result"
    }
   ],
   "source": [
    "#获取值的速度更快方式\n",
    "df.iat[1,1]"
   ]
  },
  {
   "cell_type": "markdown",
   "metadata": {},
   "source": [
    "### 布尔索引"
   ]
  },
  {
   "cell_type": "code",
   "execution_count": 54,
   "metadata": {
    "collapsed": false
   },
   "outputs": [
    {
     "name": "stdout",
     "output_type": "stream",
     "text": [
      "                   A         B         C         D\n",
      "2016-04-12  1.494035 -0.249508 -0.840103  0.596635\n",
      "2016-04-13  0.150298 -0.972742 -1.182513 -0.412535\n",
      "2016-04-14  0.438359  0.888426 -0.568706 -0.391850\n",
      "2016-04-15  0.496325  0.238735  0.097390  0.886351\n",
      "2016-04-16 -0.388541  0.149561  1.268092  0.007473\n",
      "2016-04-17  0.259696  0.045658 -0.851169  0.565187\n"
     ]
    },
    {
     "data": {
      "text/html": [
       "<div>\n",
       "<table border=\"1\" class=\"dataframe\">\n",
       "  <thead>\n",
       "    <tr style=\"text-align: right;\">\n",
       "      <th></th>\n",
       "      <th>A</th>\n",
       "      <th>B</th>\n",
       "      <th>C</th>\n",
       "      <th>D</th>\n",
       "    </tr>\n",
       "  </thead>\n",
       "  <tbody>\n",
       "    <tr>\n",
       "      <th>2016-04-12</th>\n",
       "      <td>1.494035</td>\n",
       "      <td>-0.249508</td>\n",
       "      <td>-0.840103</td>\n",
       "      <td>0.596635</td>\n",
       "    </tr>\n",
       "    <tr>\n",
       "      <th>2016-04-13</th>\n",
       "      <td>0.150298</td>\n",
       "      <td>-0.972742</td>\n",
       "      <td>-1.182513</td>\n",
       "      <td>-0.412535</td>\n",
       "    </tr>\n",
       "    <tr>\n",
       "      <th>2016-04-14</th>\n",
       "      <td>0.438359</td>\n",
       "      <td>0.888426</td>\n",
       "      <td>-0.568706</td>\n",
       "      <td>-0.391850</td>\n",
       "    </tr>\n",
       "    <tr>\n",
       "      <th>2016-04-15</th>\n",
       "      <td>0.496325</td>\n",
       "      <td>0.238735</td>\n",
       "      <td>0.097390</td>\n",
       "      <td>0.886351</td>\n",
       "    </tr>\n",
       "    <tr>\n",
       "      <th>2016-04-17</th>\n",
       "      <td>0.259696</td>\n",
       "      <td>0.045658</td>\n",
       "      <td>-0.851169</td>\n",
       "      <td>0.565187</td>\n",
       "    </tr>\n",
       "  </tbody>\n",
       "</table>\n",
       "</div>"
      ],
      "text/plain": [
       "                   A         B         C         D\n",
       "2016-04-12  1.494035 -0.249508 -0.840103  0.596635\n",
       "2016-04-13  0.150298 -0.972742 -1.182513 -0.412535\n",
       "2016-04-14  0.438359  0.888426 -0.568706 -0.391850\n",
       "2016-04-15  0.496325  0.238735  0.097390  0.886351\n",
       "2016-04-17  0.259696  0.045658 -0.851169  0.565187"
      ]
     },
     "execution_count": 54,
     "metadata": {},
     "output_type": "execute_result"
    }
   ],
   "source": [
    "#使用单个字段值选择数据\n",
    "print df\n",
    "df[df.A > 0]"
   ]
  },
  {
   "cell_type": "code",
   "execution_count": 55,
   "metadata": {
    "collapsed": false
   },
   "outputs": [
    {
     "data": {
      "text/html": [
       "<div>\n",
       "<table border=\"1\" class=\"dataframe\">\n",
       "  <thead>\n",
       "    <tr style=\"text-align: right;\">\n",
       "      <th></th>\n",
       "      <th>A</th>\n",
       "      <th>B</th>\n",
       "      <th>C</th>\n",
       "      <th>D</th>\n",
       "    </tr>\n",
       "  </thead>\n",
       "  <tbody>\n",
       "    <tr>\n",
       "      <th>2016-04-12</th>\n",
       "      <td>1.494035</td>\n",
       "      <td>NaN</td>\n",
       "      <td>NaN</td>\n",
       "      <td>0.596635</td>\n",
       "    </tr>\n",
       "    <tr>\n",
       "      <th>2016-04-13</th>\n",
       "      <td>0.150298</td>\n",
       "      <td>NaN</td>\n",
       "      <td>NaN</td>\n",
       "      <td>NaN</td>\n",
       "    </tr>\n",
       "    <tr>\n",
       "      <th>2016-04-14</th>\n",
       "      <td>0.438359</td>\n",
       "      <td>0.888426</td>\n",
       "      <td>NaN</td>\n",
       "      <td>NaN</td>\n",
       "    </tr>\n",
       "    <tr>\n",
       "      <th>2016-04-15</th>\n",
       "      <td>0.496325</td>\n",
       "      <td>0.238735</td>\n",
       "      <td>0.097390</td>\n",
       "      <td>0.886351</td>\n",
       "    </tr>\n",
       "    <tr>\n",
       "      <th>2016-04-16</th>\n",
       "      <td>NaN</td>\n",
       "      <td>0.149561</td>\n",
       "      <td>1.268092</td>\n",
       "      <td>0.007473</td>\n",
       "    </tr>\n",
       "    <tr>\n",
       "      <th>2016-04-17</th>\n",
       "      <td>0.259696</td>\n",
       "      <td>0.045658</td>\n",
       "      <td>NaN</td>\n",
       "      <td>0.565187</td>\n",
       "    </tr>\n",
       "  </tbody>\n",
       "</table>\n",
       "</div>"
      ],
      "text/plain": [
       "                   A         B         C         D\n",
       "2016-04-12  1.494035       NaN       NaN  0.596635\n",
       "2016-04-13  0.150298       NaN       NaN       NaN\n",
       "2016-04-14  0.438359  0.888426       NaN       NaN\n",
       "2016-04-15  0.496325  0.238735  0.097390  0.886351\n",
       "2016-04-16       NaN  0.149561  1.268092  0.007473\n",
       "2016-04-17  0.259696  0.045658       NaN  0.565187"
      ]
     },
     "execution_count": 55,
     "metadata": {},
     "output_type": "execute_result"
    }
   ],
   "source": [
    "#where条件运算\n",
    "df[df > 0]"
   ]
  },
  {
   "cell_type": "code",
   "execution_count": 58,
   "metadata": {
    "collapsed": false
   },
   "outputs": [
    {
     "name": "stdout",
     "output_type": "stream",
     "text": [
      "                   A         B         C         D  E\n",
      "2016-04-12  1.494035 -0.249508 -0.840103  0.596635  1\n",
      "2016-04-13  0.150298 -0.972742 -1.182513 -0.412535  1\n",
      "2016-04-14  0.438359  0.888426 -0.568706 -0.391850  2\n",
      "2016-04-15  0.496325  0.238735  0.097390  0.886351  3\n",
      "2016-04-16 -0.388541  0.149561  1.268092  0.007473  4\n",
      "2016-04-17  0.259696  0.045658 -0.851169  0.565187  3\n"
     ]
    },
    {
     "data": {
      "text/html": [
       "<div>\n",
       "<table border=\"1\" class=\"dataframe\">\n",
       "  <thead>\n",
       "    <tr style=\"text-align: right;\">\n",
       "      <th></th>\n",
       "      <th>A</th>\n",
       "      <th>B</th>\n",
       "      <th>C</th>\n",
       "      <th>D</th>\n",
       "      <th>E</th>\n",
       "    </tr>\n",
       "  </thead>\n",
       "  <tbody>\n",
       "    <tr>\n",
       "      <th>2016-04-14</th>\n",
       "      <td>0.438359</td>\n",
       "      <td>0.888426</td>\n",
       "      <td>-0.568706</td>\n",
       "      <td>-0.391850</td>\n",
       "      <td>2</td>\n",
       "    </tr>\n",
       "    <tr>\n",
       "      <th>2016-04-16</th>\n",
       "      <td>-0.388541</td>\n",
       "      <td>0.149561</td>\n",
       "      <td>1.268092</td>\n",
       "      <td>0.007473</td>\n",
       "      <td>4</td>\n",
       "    </tr>\n",
       "  </tbody>\n",
       "</table>\n",
       "</div>"
      ],
      "text/plain": [
       "                   A         B         C         D  E\n",
       "2016-04-14  0.438359  0.888426 -0.568706 -0.391850  2\n",
       "2016-04-16 -0.388541  0.149561  1.268092  0.007473  4"
      ]
     },
     "execution_count": 58,
     "metadata": {},
     "output_type": "execute_result"
    }
   ],
   "source": [
    "#使用isin方法过滤\n",
    "df2 = df.copy()\n",
    "\n",
    "df2[\"E\"] = [\"1\",\"1\",\"2\",\"3\",\"4\",\"3\"]\n",
    "print df2\n",
    "df2[df2[\"E\"].isin([\"2\",\"4\"])]"
   ]
  },
  {
   "cell_type": "markdown",
   "metadata": {},
   "source": [
    "### 设置\n"
   ]
  },
  {
   "cell_type": "code",
   "execution_count": 60,
   "metadata": {
    "collapsed": false
   },
   "outputs": [
    {
     "name": "stdout",
     "output_type": "stream",
     "text": [
      "2016-04-12    1\n",
      "2016-04-13    2\n",
      "2016-04-14    3\n",
      "2016-04-15    4\n",
      "2016-04-16    5\n",
      "2016-04-17    6\n",
      "Freq: D, dtype: int64\n",
      "                   A         B         C         D  F\n",
      "2016-04-12  1.494035 -0.249508 -0.840103  0.596635  1\n",
      "2016-04-13  0.150298 -0.972742 -1.182513 -0.412535  2\n",
      "2016-04-14  0.438359  0.888426 -0.568706 -0.391850  3\n",
      "2016-04-15  0.496325  0.238735  0.097390  0.886351  4\n",
      "2016-04-16 -0.388541  0.149561  1.268092  0.007473  5\n",
      "2016-04-17  0.259696  0.045658 -0.851169  0.565187  6\n"
     ]
    }
   ],
   "source": [
    "#新增一个字段，通过索引自动对齐\n",
    "s1 = pd.Series([1,2,3,4,5,6,],index=pd.date_range(\"20160412\",periods=6))\n",
    "print s1\n",
    "df[\"F\"]= s1\n",
    "print df"
   ]
  },
  {
   "cell_type": "code",
   "execution_count": 62,
   "metadata": {
    "collapsed": false
   },
   "outputs": [
    {
     "name": "stdout",
     "output_type": "stream",
     "text": [
      "                   A         B         C         D  F\n",
      "2016-04-12  0.000000 -0.249508 -0.840103  0.596635  1\n",
      "2016-04-13  0.150298 -0.972742 -1.182513 -0.412535  2\n",
      "2016-04-14  0.438359  0.888426 -0.568706 -0.391850  3\n",
      "2016-04-15  0.496325  0.238735  0.097390  0.886351  4\n",
      "2016-04-16 -0.388541  0.149561  1.268092  0.007473  5\n",
      "2016-04-17  0.259696  0.045658 -0.851169  0.565187  6\n"
     ]
    }
   ],
   "source": [
    "#通过标签\n",
    "df.at[dates[0],\"A\"] = 0\n",
    "print df"
   ]
  },
  {
   "cell_type": "code",
   "execution_count": 63,
   "metadata": {
    "collapsed": false
   },
   "outputs": [
    {
     "name": "stdout",
     "output_type": "stream",
     "text": [
      "                   A         B         C         D  F\n",
      "2016-04-12  0.000000  0.000000 -0.840103  0.596635  1\n",
      "2016-04-13  0.150298 -0.972742 -1.182513 -0.412535  2\n",
      "2016-04-14  0.438359  0.888426 -0.568706 -0.391850  3\n",
      "2016-04-15  0.496325  0.238735  0.097390  0.886351  4\n",
      "2016-04-16 -0.388541  0.149561  1.268092  0.007473  5\n",
      "2016-04-17  0.259696  0.045658 -0.851169  0.565187  6\n"
     ]
    }
   ],
   "source": [
    "#通过未知\n",
    "df.iat[0,1] = 0\n",
    "print df"
   ]
  },
  {
   "cell_type": "code",
   "execution_count": 64,
   "metadata": {
    "collapsed": false
   },
   "outputs": [
    {
     "name": "stdout",
     "output_type": "stream",
     "text": [
      "                   A         B         C  D  F\n",
      "2016-04-12  0.000000  0.000000 -0.840103  5  1\n",
      "2016-04-13  0.150298 -0.972742 -1.182513  5  2\n",
      "2016-04-14  0.438359  0.888426 -0.568706  5  3\n",
      "2016-04-15  0.496325  0.238735  0.097390  5  4\n",
      "2016-04-16 -0.388541  0.149561  1.268092  5  5\n",
      "2016-04-17  0.259696  0.045658 -0.851169  5  6\n"
     ]
    }
   ],
   "source": [
    "#通过numpy数组\n",
    "df.loc[:,\"D\"] = np.array([5] * len(df))\n",
    "print df"
   ]
  },
  {
   "cell_type": "code",
   "execution_count": 65,
   "metadata": {
    "collapsed": false
   },
   "outputs": [
    {
     "data": {
      "text/html": [
       "<div>\n",
       "<table border=\"1\" class=\"dataframe\">\n",
       "  <thead>\n",
       "    <tr style=\"text-align: right;\">\n",
       "      <th></th>\n",
       "      <th>A</th>\n",
       "      <th>B</th>\n",
       "      <th>C</th>\n",
       "      <th>D</th>\n",
       "      <th>F</th>\n",
       "    </tr>\n",
       "  </thead>\n",
       "  <tbody>\n",
       "    <tr>\n",
       "      <th>2016-04-12</th>\n",
       "      <td>0.000000</td>\n",
       "      <td>0.000000</td>\n",
       "      <td>-0.840103</td>\n",
       "      <td>-5</td>\n",
       "      <td>-1</td>\n",
       "    </tr>\n",
       "    <tr>\n",
       "      <th>2016-04-13</th>\n",
       "      <td>-0.150298</td>\n",
       "      <td>-0.972742</td>\n",
       "      <td>-1.182513</td>\n",
       "      <td>-5</td>\n",
       "      <td>-2</td>\n",
       "    </tr>\n",
       "    <tr>\n",
       "      <th>2016-04-14</th>\n",
       "      <td>-0.438359</td>\n",
       "      <td>-0.888426</td>\n",
       "      <td>-0.568706</td>\n",
       "      <td>-5</td>\n",
       "      <td>-3</td>\n",
       "    </tr>\n",
       "    <tr>\n",
       "      <th>2016-04-15</th>\n",
       "      <td>-0.496325</td>\n",
       "      <td>-0.238735</td>\n",
       "      <td>-0.097390</td>\n",
       "      <td>-5</td>\n",
       "      <td>-4</td>\n",
       "    </tr>\n",
       "    <tr>\n",
       "      <th>2016-04-16</th>\n",
       "      <td>-0.388541</td>\n",
       "      <td>-0.149561</td>\n",
       "      <td>-1.268092</td>\n",
       "      <td>-5</td>\n",
       "      <td>-5</td>\n",
       "    </tr>\n",
       "    <tr>\n",
       "      <th>2016-04-17</th>\n",
       "      <td>-0.259696</td>\n",
       "      <td>-0.045658</td>\n",
       "      <td>-0.851169</td>\n",
       "      <td>-5</td>\n",
       "      <td>-6</td>\n",
       "    </tr>\n",
       "  </tbody>\n",
       "</table>\n",
       "</div>"
      ],
      "text/plain": [
       "                   A         B         C  D  F\n",
       "2016-04-12  0.000000  0.000000 -0.840103 -5 -1\n",
       "2016-04-13 -0.150298 -0.972742 -1.182513 -5 -2\n",
       "2016-04-14 -0.438359 -0.888426 -0.568706 -5 -3\n",
       "2016-04-15 -0.496325 -0.238735 -0.097390 -5 -4\n",
       "2016-04-16 -0.388541 -0.149561 -1.268092 -5 -5\n",
       "2016-04-17 -0.259696 -0.045658 -0.851169 -5 -6"
      ]
     },
     "execution_count": 65,
     "metadata": {},
     "output_type": "execute_result"
    }
   ],
   "source": [
    "#where操作\n",
    "df2 = df.copy()\n",
    "df2[df2 > 0] = -df2\n",
    "df2"
   ]
  },
  {
   "cell_type": "markdown",
   "metadata": {},
   "source": [
    "## 缺失数据\n",
    "pandas 主要使用np.nan体现缺失数据"
   ]
  },
  {
   "cell_type": "code",
   "execution_count": 67,
   "metadata": {
    "collapsed": false
   },
   "outputs": [
    {
     "data": {
      "text/html": [
       "<div>\n",
       "<table border=\"1\" class=\"dataframe\">\n",
       "  <thead>\n",
       "    <tr style=\"text-align: right;\">\n",
       "      <th></th>\n",
       "      <th>A</th>\n",
       "      <th>B</th>\n",
       "      <th>C</th>\n",
       "      <th>D</th>\n",
       "      <th>F</th>\n",
       "      <th>E</th>\n",
       "    </tr>\n",
       "  </thead>\n",
       "  <tbody>\n",
       "    <tr>\n",
       "      <th>2016-04-12</th>\n",
       "      <td>0.000000</td>\n",
       "      <td>0.000000</td>\n",
       "      <td>-0.840103</td>\n",
       "      <td>5</td>\n",
       "      <td>1</td>\n",
       "      <td>NaN</td>\n",
       "    </tr>\n",
       "    <tr>\n",
       "      <th>2016-04-13</th>\n",
       "      <td>0.150298</td>\n",
       "      <td>-0.972742</td>\n",
       "      <td>-1.182513</td>\n",
       "      <td>5</td>\n",
       "      <td>2</td>\n",
       "      <td>NaN</td>\n",
       "    </tr>\n",
       "    <tr>\n",
       "      <th>2016-04-14</th>\n",
       "      <td>0.438359</td>\n",
       "      <td>0.888426</td>\n",
       "      <td>-0.568706</td>\n",
       "      <td>5</td>\n",
       "      <td>3</td>\n",
       "      <td>NaN</td>\n",
       "    </tr>\n",
       "    <tr>\n",
       "      <th>2016-04-15</th>\n",
       "      <td>0.496325</td>\n",
       "      <td>0.238735</td>\n",
       "      <td>0.097390</td>\n",
       "      <td>5</td>\n",
       "      <td>4</td>\n",
       "      <td>NaN</td>\n",
       "    </tr>\n",
       "  </tbody>\n",
       "</table>\n",
       "</div>"
      ],
      "text/plain": [
       "                   A         B         C  D  F   E\n",
       "2016-04-12  0.000000  0.000000 -0.840103  5  1 NaN\n",
       "2016-04-13  0.150298 -0.972742 -1.182513  5  2 NaN\n",
       "2016-04-14  0.438359  0.888426 -0.568706  5  3 NaN\n",
       "2016-04-15  0.496325  0.238735  0.097390  5  4 NaN"
      ]
     },
     "execution_count": 67,
     "metadata": {},
     "output_type": "execute_result"
    }
   ],
   "source": [
    "#reindex可以用来更改/增加/删除索引\n",
    "df1 = df.reindex(index=dates[0:4],columns=list(df.columns) + [\"E\"])\n",
    "df1"
   ]
  },
  {
   "cell_type": "code",
   "execution_count": 69,
   "metadata": {
    "collapsed": false
   },
   "outputs": [
    {
     "data": {
      "text/html": [
       "<div>\n",
       "<table border=\"1\" class=\"dataframe\">\n",
       "  <thead>\n",
       "    <tr style=\"text-align: right;\">\n",
       "      <th></th>\n",
       "      <th>A</th>\n",
       "      <th>B</th>\n",
       "      <th>C</th>\n",
       "      <th>D</th>\n",
       "      <th>F</th>\n",
       "      <th>E</th>\n",
       "    </tr>\n",
       "  </thead>\n",
       "  <tbody>\n",
       "    <tr>\n",
       "      <th>2016-04-12</th>\n",
       "      <td>0.000000</td>\n",
       "      <td>0.000000</td>\n",
       "      <td>-0.840103</td>\n",
       "      <td>5</td>\n",
       "      <td>1</td>\n",
       "      <td>1</td>\n",
       "    </tr>\n",
       "    <tr>\n",
       "      <th>2016-04-13</th>\n",
       "      <td>0.150298</td>\n",
       "      <td>-0.972742</td>\n",
       "      <td>-1.182513</td>\n",
       "      <td>5</td>\n",
       "      <td>2</td>\n",
       "      <td>1</td>\n",
       "    </tr>\n",
       "    <tr>\n",
       "      <th>2016-04-14</th>\n",
       "      <td>0.438359</td>\n",
       "      <td>0.888426</td>\n",
       "      <td>-0.568706</td>\n",
       "      <td>5</td>\n",
       "      <td>3</td>\n",
       "      <td>NaN</td>\n",
       "    </tr>\n",
       "    <tr>\n",
       "      <th>2016-04-15</th>\n",
       "      <td>0.496325</td>\n",
       "      <td>0.238735</td>\n",
       "      <td>0.097390</td>\n",
       "      <td>5</td>\n",
       "      <td>4</td>\n",
       "      <td>NaN</td>\n",
       "    </tr>\n",
       "  </tbody>\n",
       "</table>\n",
       "</div>"
      ],
      "text/plain": [
       "                   A         B         C  D  F   E\n",
       "2016-04-12  0.000000  0.000000 -0.840103  5  1   1\n",
       "2016-04-13  0.150298 -0.972742 -1.182513  5  2   1\n",
       "2016-04-14  0.438359  0.888426 -0.568706  5  3 NaN\n",
       "2016-04-15  0.496325  0.238735  0.097390  5  4 NaN"
      ]
     },
     "execution_count": 69,
     "metadata": {},
     "output_type": "execute_result"
    }
   ],
   "source": [
    "df1.loc[dates[0]:dates[1],\"E\"] = 1\n",
    "df1"
   ]
  },
  {
   "cell_type": "code",
   "execution_count": 71,
   "metadata": {
    "collapsed": false
   },
   "outputs": [
    {
     "data": {
      "text/html": [
       "<div>\n",
       "<table border=\"1\" class=\"dataframe\">\n",
       "  <thead>\n",
       "    <tr style=\"text-align: right;\">\n",
       "      <th></th>\n",
       "      <th>A</th>\n",
       "      <th>B</th>\n",
       "      <th>C</th>\n",
       "      <th>D</th>\n",
       "      <th>F</th>\n",
       "      <th>E</th>\n",
       "    </tr>\n",
       "  </thead>\n",
       "  <tbody>\n",
       "    <tr>\n",
       "      <th>2016-04-12</th>\n",
       "      <td>0.000000</td>\n",
       "      <td>0.000000</td>\n",
       "      <td>-0.840103</td>\n",
       "      <td>5</td>\n",
       "      <td>1</td>\n",
       "      <td>1</td>\n",
       "    </tr>\n",
       "    <tr>\n",
       "      <th>2016-04-13</th>\n",
       "      <td>0.150298</td>\n",
       "      <td>-0.972742</td>\n",
       "      <td>-1.182513</td>\n",
       "      <td>5</td>\n",
       "      <td>2</td>\n",
       "      <td>1</td>\n",
       "    </tr>\n",
       "  </tbody>\n",
       "</table>\n",
       "</div>"
      ],
      "text/plain": [
       "                   A         B         C  D  F  E\n",
       "2016-04-12  0.000000  0.000000 -0.840103  5  1  1\n",
       "2016-04-13  0.150298 -0.972742 -1.182513  5  2  1"
      ]
     },
     "execution_count": 71,
     "metadata": {},
     "output_type": "execute_result"
    }
   ],
   "source": [
    "#删除任意行中有缺失数据的行(row)\n",
    "df1.dropna(how=\"any\")"
   ]
  },
  {
   "cell_type": "code",
   "execution_count": 73,
   "metadata": {
    "collapsed": false
   },
   "outputs": [
    {
     "data": {
      "text/html": [
       "<div>\n",
       "<table border=\"1\" class=\"dataframe\">\n",
       "  <thead>\n",
       "    <tr style=\"text-align: right;\">\n",
       "      <th></th>\n",
       "      <th>A</th>\n",
       "      <th>B</th>\n",
       "      <th>C</th>\n",
       "      <th>D</th>\n",
       "      <th>F</th>\n",
       "      <th>E</th>\n",
       "    </tr>\n",
       "  </thead>\n",
       "  <tbody>\n",
       "    <tr>\n",
       "      <th>2016-04-12</th>\n",
       "      <td>0.000000</td>\n",
       "      <td>0.000000</td>\n",
       "      <td>-0.840103</td>\n",
       "      <td>5</td>\n",
       "      <td>1</td>\n",
       "      <td>1</td>\n",
       "    </tr>\n",
       "    <tr>\n",
       "      <th>2016-04-13</th>\n",
       "      <td>0.150298</td>\n",
       "      <td>-0.972742</td>\n",
       "      <td>-1.182513</td>\n",
       "      <td>5</td>\n",
       "      <td>2</td>\n",
       "      <td>1</td>\n",
       "    </tr>\n",
       "    <tr>\n",
       "      <th>2016-04-14</th>\n",
       "      <td>0.438359</td>\n",
       "      <td>0.888426</td>\n",
       "      <td>-0.568706</td>\n",
       "      <td>5</td>\n",
       "      <td>3</td>\n",
       "      <td>5</td>\n",
       "    </tr>\n",
       "    <tr>\n",
       "      <th>2016-04-15</th>\n",
       "      <td>0.496325</td>\n",
       "      <td>0.238735</td>\n",
       "      <td>0.097390</td>\n",
       "      <td>5</td>\n",
       "      <td>4</td>\n",
       "      <td>5</td>\n",
       "    </tr>\n",
       "  </tbody>\n",
       "</table>\n",
       "</div>"
      ],
      "text/plain": [
       "                   A         B         C  D  F  E\n",
       "2016-04-12  0.000000  0.000000 -0.840103  5  1  1\n",
       "2016-04-13  0.150298 -0.972742 -1.182513  5  2  1\n",
       "2016-04-14  0.438359  0.888426 -0.568706  5  3  5\n",
       "2016-04-15  0.496325  0.238735  0.097390  5  4  5"
      ]
     },
     "execution_count": 73,
     "metadata": {},
     "output_type": "execute_result"
    }
   ],
   "source": [
    "#填充缺失数据的值\n",
    "df1.fillna(value=5)"
   ]
  },
  {
   "cell_type": "code",
   "execution_count": 74,
   "metadata": {
    "collapsed": false
   },
   "outputs": [
    {
     "data": {
      "text/html": [
       "<div>\n",
       "<table border=\"1\" class=\"dataframe\">\n",
       "  <thead>\n",
       "    <tr style=\"text-align: right;\">\n",
       "      <th></th>\n",
       "      <th>A</th>\n",
       "      <th>B</th>\n",
       "      <th>C</th>\n",
       "      <th>D</th>\n",
       "      <th>F</th>\n",
       "      <th>E</th>\n",
       "    </tr>\n",
       "  </thead>\n",
       "  <tbody>\n",
       "    <tr>\n",
       "      <th>2016-04-12</th>\n",
       "      <td>False</td>\n",
       "      <td>False</td>\n",
       "      <td>False</td>\n",
       "      <td>False</td>\n",
       "      <td>False</td>\n",
       "      <td>False</td>\n",
       "    </tr>\n",
       "    <tr>\n",
       "      <th>2016-04-13</th>\n",
       "      <td>False</td>\n",
       "      <td>False</td>\n",
       "      <td>False</td>\n",
       "      <td>False</td>\n",
       "      <td>False</td>\n",
       "      <td>False</td>\n",
       "    </tr>\n",
       "    <tr>\n",
       "      <th>2016-04-14</th>\n",
       "      <td>False</td>\n",
       "      <td>False</td>\n",
       "      <td>False</td>\n",
       "      <td>False</td>\n",
       "      <td>False</td>\n",
       "      <td>True</td>\n",
       "    </tr>\n",
       "    <tr>\n",
       "      <th>2016-04-15</th>\n",
       "      <td>False</td>\n",
       "      <td>False</td>\n",
       "      <td>False</td>\n",
       "      <td>False</td>\n",
       "      <td>False</td>\n",
       "      <td>True</td>\n",
       "    </tr>\n",
       "  </tbody>\n",
       "</table>\n",
       "</div>"
      ],
      "text/plain": [
       "                A      B      C      D      F      E\n",
       "2016-04-12  False  False  False  False  False  False\n",
       "2016-04-13  False  False  False  False  False  False\n",
       "2016-04-14  False  False  False  False  False   True\n",
       "2016-04-15  False  False  False  False  False   True"
      ]
     },
     "execution_count": 74,
     "metadata": {},
     "output_type": "execute_result"
    }
   ],
   "source": [
    "#判断是否为缺失值(nan)\n",
    "pd.isnull(df1)"
   ]
  },
  {
   "cell_type": "markdown",
   "metadata": {},
   "source": [
    "## 操作"
   ]
  },
  {
   "cell_type": "code",
   "execution_count": 75,
   "metadata": {
    "collapsed": false
   },
   "outputs": [
    {
     "data": {
      "text/plain": [
       "A   -0.191234\n",
       "B   -0.819936\n",
       "C   -0.055869\n",
       "D    0.667207\n",
       "dtype: float64"
      ]
     },
     "execution_count": 75,
     "metadata": {},
     "output_type": "execute_result"
    }
   ],
   "source": [
    "#普通操作都是将缺失数据排除在外的,比如mean平均值\n",
    "df.mean()"
   ]
  },
  {
   "cell_type": "code",
   "execution_count": 77,
   "metadata": {
    "collapsed": false
   },
   "outputs": [
    {
     "data": {
      "text/plain": [
       "2016-04-12   -0.085975\n",
       "2016-04-13    0.800882\n",
       "2016-04-14    0.298654\n",
       "2016-04-15   -0.985873\n",
       "2016-04-16   -0.166695\n",
       "2016-04-17   -0.460741\n",
       "Freq: D, dtype: float64"
      ]
     },
     "execution_count": 77,
     "metadata": {},
     "output_type": "execute_result"
    }
   ],
   "source": [
    "df.mean(1)"
   ]
  },
  {
   "cell_type": "code",
   "execution_count": 79,
   "metadata": {
    "collapsed": false
   },
   "outputs": [
    {
     "data": {
      "text/plain": [
       "2016-04-12   NaN\n",
       "2016-04-13   NaN\n",
       "2016-04-14     1\n",
       "2016-04-15     2\n",
       "2016-04-16     4\n",
       "2016-04-17   NaN\n",
       "Freq: D, dtype: float64"
      ]
     },
     "execution_count": 79,
     "metadata": {},
     "output_type": "execute_result"
    }
   ],
   "source": [
    "s = pd.Series([1,2,4,np.nan,6,8],index=dates).shift(2)\n",
    "s"
   ]
  },
  {
   "cell_type": "code",
   "execution_count": 80,
   "metadata": {
    "collapsed": false
   },
   "outputs": [
    {
     "data": {
      "text/html": [
       "<div>\n",
       "<table border=\"1\" class=\"dataframe\">\n",
       "  <thead>\n",
       "    <tr style=\"text-align: right;\">\n",
       "      <th></th>\n",
       "      <th>A</th>\n",
       "      <th>B</th>\n",
       "      <th>C</th>\n",
       "      <th>D</th>\n",
       "    </tr>\n",
       "  </thead>\n",
       "  <tbody>\n",
       "    <tr>\n",
       "      <th>2016-04-12</th>\n",
       "      <td>NaN</td>\n",
       "      <td>NaN</td>\n",
       "      <td>NaN</td>\n",
       "      <td>NaN</td>\n",
       "    </tr>\n",
       "    <tr>\n",
       "      <th>2016-04-13</th>\n",
       "      <td>NaN</td>\n",
       "      <td>NaN</td>\n",
       "      <td>NaN</td>\n",
       "      <td>NaN</td>\n",
       "    </tr>\n",
       "    <tr>\n",
       "      <th>2016-04-14</th>\n",
       "      <td>-1.405432</td>\n",
       "      <td>-1.318551</td>\n",
       "      <td>-1.223157</td>\n",
       "      <td>1.141758</td>\n",
       "    </tr>\n",
       "    <tr>\n",
       "      <th>2016-04-15</th>\n",
       "      <td>-1.812067</td>\n",
       "      <td>-4.311119</td>\n",
       "      <td>-3.101562</td>\n",
       "      <td>-2.718746</td>\n",
       "    </tr>\n",
       "    <tr>\n",
       "      <th>2016-04-16</th>\n",
       "      <td>-4.855921</td>\n",
       "      <td>-4.475932</td>\n",
       "      <td>-4.577007</td>\n",
       "      <td>-2.757921</td>\n",
       "    </tr>\n",
       "    <tr>\n",
       "      <th>2016-04-17</th>\n",
       "      <td>NaN</td>\n",
       "      <td>NaN</td>\n",
       "      <td>NaN</td>\n",
       "      <td>NaN</td>\n",
       "    </tr>\n",
       "  </tbody>\n",
       "</table>\n",
       "</div>"
      ],
      "text/plain": [
       "                   A         B         C         D\n",
       "2016-04-12       NaN       NaN       NaN       NaN\n",
       "2016-04-13       NaN       NaN       NaN       NaN\n",
       "2016-04-14 -1.405432 -1.318551 -1.223157  1.141758\n",
       "2016-04-15 -1.812067 -4.311119 -3.101562 -2.718746\n",
       "2016-04-16 -4.855921 -4.475932 -4.577007 -2.757921\n",
       "2016-04-17       NaN       NaN       NaN       NaN"
      ]
     },
     "execution_count": 80,
     "metadata": {},
     "output_type": "execute_result"
    }
   ],
   "source": [
    "df.sub(s,axis=\"index\")"
   ]
  },
  {
   "cell_type": "markdown",
   "metadata": {},
   "source": [
    "#### apply"
   ]
  },
  {
   "cell_type": "code",
   "execution_count": 83,
   "metadata": {
    "collapsed": false
   },
   "outputs": [
    {
     "name": "stdout",
     "output_type": "stream",
     "text": [
      "                   A         B         C         D\n",
      "2016-04-12 -1.321177 -0.401567  0.431935  0.946908\n",
      "2016-04-13  1.888603  0.229673  0.910811  0.174443\n",
      "2016-04-14 -0.405432 -0.318551 -0.223157  2.141758\n",
      "2016-04-15  0.187933 -2.311119 -1.101562 -0.718746\n",
      "2016-04-16 -0.855921 -0.475932 -0.577007  1.242079\n",
      "2016-04-17 -0.641406 -1.642120  0.223762  0.216799\n"
     ]
    },
    {
     "data": {
      "text/html": [
       "<div>\n",
       "<table border=\"1\" class=\"dataframe\">\n",
       "  <thead>\n",
       "    <tr style=\"text-align: right;\">\n",
       "      <th></th>\n",
       "      <th>A</th>\n",
       "      <th>B</th>\n",
       "      <th>C</th>\n",
       "      <th>D</th>\n",
       "    </tr>\n",
       "  </thead>\n",
       "  <tbody>\n",
       "    <tr>\n",
       "      <th>2016-04-12</th>\n",
       "      <td>-1.321177</td>\n",
       "      <td>-0.401567</td>\n",
       "      <td>0.431935</td>\n",
       "      <td>0.946908</td>\n",
       "    </tr>\n",
       "    <tr>\n",
       "      <th>2016-04-13</th>\n",
       "      <td>0.567426</td>\n",
       "      <td>-0.171894</td>\n",
       "      <td>1.342746</td>\n",
       "      <td>1.121351</td>\n",
       "    </tr>\n",
       "    <tr>\n",
       "      <th>2016-04-14</th>\n",
       "      <td>0.161993</td>\n",
       "      <td>-0.490445</td>\n",
       "      <td>1.119589</td>\n",
       "      <td>3.263109</td>\n",
       "    </tr>\n",
       "    <tr>\n",
       "      <th>2016-04-15</th>\n",
       "      <td>0.349926</td>\n",
       "      <td>-2.801564</td>\n",
       "      <td>0.018028</td>\n",
       "      <td>2.544363</td>\n",
       "    </tr>\n",
       "    <tr>\n",
       "      <th>2016-04-16</th>\n",
       "      <td>-0.505995</td>\n",
       "      <td>-3.277496</td>\n",
       "      <td>-0.558979</td>\n",
       "      <td>3.786443</td>\n",
       "    </tr>\n",
       "    <tr>\n",
       "      <th>2016-04-17</th>\n",
       "      <td>-1.147401</td>\n",
       "      <td>-4.919617</td>\n",
       "      <td>-0.335217</td>\n",
       "      <td>4.003242</td>\n",
       "    </tr>\n",
       "  </tbody>\n",
       "</table>\n",
       "</div>"
      ],
      "text/plain": [
       "                   A         B         C         D\n",
       "2016-04-12 -1.321177 -0.401567  0.431935  0.946908\n",
       "2016-04-13  0.567426 -0.171894  1.342746  1.121351\n",
       "2016-04-14  0.161993 -0.490445  1.119589  3.263109\n",
       "2016-04-15  0.349926 -2.801564  0.018028  2.544363\n",
       "2016-04-16 -0.505995 -3.277496 -0.558979  3.786443\n",
       "2016-04-17 -1.147401 -4.919617 -0.335217  4.003242"
      ]
     },
     "execution_count": 83,
     "metadata": {},
     "output_type": "execute_result"
    }
   ],
   "source": [
    "#应用一个函数\n",
    "print df\n",
    "df.apply(np.cumsum)"
   ]
  },
  {
   "cell_type": "code",
   "execution_count": 84,
   "metadata": {
    "collapsed": false
   },
   "outputs": [
    {
     "data": {
      "text/plain": [
       "A    3.209780\n",
       "B    2.540791\n",
       "C    2.012373\n",
       "D    2.860504\n",
       "dtype: float64"
      ]
     },
     "execution_count": 84,
     "metadata": {},
     "output_type": "execute_result"
    }
   ],
   "source": [
    "df.apply(lambda x:x.max()- x.min())"
   ]
  },
  {
   "cell_type": "markdown",
   "metadata": {},
   "source": [
    "#### 直方图"
   ]
  },
  {
   "cell_type": "code",
   "execution_count": 85,
   "metadata": {
    "collapsed": false
   },
   "outputs": [
    {
     "data": {
      "text/plain": [
       "0    5\n",
       "1    1\n",
       "2    2\n",
       "3    6\n",
       "4    3\n",
       "5    1\n",
       "6    6\n",
       "7    1\n",
       "8    5\n",
       "9    6\n",
       "dtype: int32"
      ]
     },
     "execution_count": 85,
     "metadata": {},
     "output_type": "execute_result"
    }
   ],
   "source": [
    "s = pd.Series(np.random.randint(0,7,size=10))\n",
    "s"
   ]
  },
  {
   "cell_type": "code",
   "execution_count": 86,
   "metadata": {
    "collapsed": false
   },
   "outputs": [
    {
     "data": {
      "text/plain": [
       "6    3\n",
       "1    3\n",
       "5    2\n",
       "3    1\n",
       "2    1\n",
       "dtype: int64"
      ]
     },
     "execution_count": 86,
     "metadata": {},
     "output_type": "execute_result"
    }
   ],
   "source": [
    "s.value_counts()"
   ]
  },
  {
   "cell_type": "markdown",
   "metadata": {},
   "source": [
    "#### 字符串方法"
   ]
  },
  {
   "cell_type": "code",
   "execution_count": 87,
   "metadata": {
    "collapsed": false
   },
   "outputs": [
    {
     "data": {
      "text/plain": [
       "0       a\n",
       "1       b\n",
       "2    acsa\n",
       "3     NaN\n",
       "dtype: object"
      ]
     },
     "execution_count": 87,
     "metadata": {},
     "output_type": "execute_result"
    }
   ],
   "source": [
    "s = pd.Series([\"A\",\"B\",\"AcsA\",np.nan])\n",
    "               \n",
    "s.str.lower()\n",
    "\n",
    "               "
   ]
  },
  {
   "cell_type": "markdown",
   "metadata": {},
   "source": [
    "### 合并"
   ]
  },
  {
   "cell_type": "markdown",
   "metadata": {},
   "source": [
    "#### 连接(concat)"
   ]
  },
  {
   "cell_type": "code",
   "execution_count": 88,
   "metadata": {
    "collapsed": false
   },
   "outputs": [
    {
     "data": {
      "text/html": [
       "<div>\n",
       "<table border=\"1\" class=\"dataframe\">\n",
       "  <thead>\n",
       "    <tr style=\"text-align: right;\">\n",
       "      <th></th>\n",
       "      <th>0</th>\n",
       "      <th>1</th>\n",
       "      <th>2</th>\n",
       "      <th>3</th>\n",
       "    </tr>\n",
       "  </thead>\n",
       "  <tbody>\n",
       "    <tr>\n",
       "      <th>0</th>\n",
       "      <td>0.124045</td>\n",
       "      <td>-2.778432</td>\n",
       "      <td>0.282184</td>\n",
       "      <td>-1.061406</td>\n",
       "    </tr>\n",
       "    <tr>\n",
       "      <th>1</th>\n",
       "      <td>-0.071519</td>\n",
       "      <td>0.129777</td>\n",
       "      <td>-2.273150</td>\n",
       "      <td>1.109550</td>\n",
       "    </tr>\n",
       "    <tr>\n",
       "      <th>2</th>\n",
       "      <td>0.823030</td>\n",
       "      <td>1.065854</td>\n",
       "      <td>-1.183887</td>\n",
       "      <td>-1.124685</td>\n",
       "    </tr>\n",
       "    <tr>\n",
       "      <th>3</th>\n",
       "      <td>1.226887</td>\n",
       "      <td>0.886312</td>\n",
       "      <td>-0.744131</td>\n",
       "      <td>-0.300565</td>\n",
       "    </tr>\n",
       "    <tr>\n",
       "      <th>4</th>\n",
       "      <td>0.316730</td>\n",
       "      <td>1.798206</td>\n",
       "      <td>-0.430594</td>\n",
       "      <td>0.990036</td>\n",
       "    </tr>\n",
       "    <tr>\n",
       "      <th>5</th>\n",
       "      <td>1.067465</td>\n",
       "      <td>-0.903122</td>\n",
       "      <td>1.815993</td>\n",
       "      <td>0.525470</td>\n",
       "    </tr>\n",
       "    <tr>\n",
       "      <th>6</th>\n",
       "      <td>-1.278921</td>\n",
       "      <td>-2.104334</td>\n",
       "      <td>0.333548</td>\n",
       "      <td>-0.702829</td>\n",
       "    </tr>\n",
       "    <tr>\n",
       "      <th>7</th>\n",
       "      <td>1.367018</td>\n",
       "      <td>-1.398305</td>\n",
       "      <td>1.311100</td>\n",
       "      <td>0.380438</td>\n",
       "    </tr>\n",
       "    <tr>\n",
       "      <th>8</th>\n",
       "      <td>-1.932139</td>\n",
       "      <td>1.369344</td>\n",
       "      <td>0.964418</td>\n",
       "      <td>0.039638</td>\n",
       "    </tr>\n",
       "    <tr>\n",
       "      <th>9</th>\n",
       "      <td>0.687727</td>\n",
       "      <td>0.797389</td>\n",
       "      <td>-1.918298</td>\n",
       "      <td>-0.977679</td>\n",
       "    </tr>\n",
       "  </tbody>\n",
       "</table>\n",
       "</div>"
      ],
      "text/plain": [
       "          0         1         2         3\n",
       "0  0.124045 -2.778432  0.282184 -1.061406\n",
       "1 -0.071519  0.129777 -2.273150  1.109550\n",
       "2  0.823030  1.065854 -1.183887 -1.124685\n",
       "3  1.226887  0.886312 -0.744131 -0.300565\n",
       "4  0.316730  1.798206 -0.430594  0.990036\n",
       "5  1.067465 -0.903122  1.815993  0.525470\n",
       "6 -1.278921 -2.104334  0.333548 -0.702829\n",
       "7  1.367018 -1.398305  1.311100  0.380438\n",
       "8 -1.932139  1.369344  0.964418  0.039638\n",
       "9  0.687727  0.797389 -1.918298 -0.977679"
      ]
     },
     "execution_count": 88,
     "metadata": {},
     "output_type": "execute_result"
    }
   ],
   "source": [
    "df = pd.DataFrame(np.random.randn(10,4))\n",
    "df"
   ]
  },
  {
   "cell_type": "code",
   "execution_count": 93,
   "metadata": {
    "collapsed": false
   },
   "outputs": [
    {
     "data": {
      "text/html": [
       "<div>\n",
       "<table border=\"1\" class=\"dataframe\">\n",
       "  <thead>\n",
       "    <tr style=\"text-align: right;\">\n",
       "      <th></th>\n",
       "      <th>0</th>\n",
       "      <th>1</th>\n",
       "      <th>2</th>\n",
       "      <th>3</th>\n",
       "    </tr>\n",
       "  </thead>\n",
       "  <tbody>\n",
       "    <tr>\n",
       "      <th>0</th>\n",
       "      <td>0.124045</td>\n",
       "      <td>-2.778432</td>\n",
       "      <td>0.282184</td>\n",
       "      <td>-1.061406</td>\n",
       "    </tr>\n",
       "    <tr>\n",
       "      <th>1</th>\n",
       "      <td>-0.071519</td>\n",
       "      <td>0.129777</td>\n",
       "      <td>-2.273150</td>\n",
       "      <td>1.109550</td>\n",
       "    </tr>\n",
       "    <tr>\n",
       "      <th>2</th>\n",
       "      <td>0.823030</td>\n",
       "      <td>1.065854</td>\n",
       "      <td>-1.183887</td>\n",
       "      <td>-1.124685</td>\n",
       "    </tr>\n",
       "    <tr>\n",
       "      <th>3</th>\n",
       "      <td>1.226887</td>\n",
       "      <td>0.886312</td>\n",
       "      <td>-0.744131</td>\n",
       "      <td>-0.300565</td>\n",
       "    </tr>\n",
       "    <tr>\n",
       "      <th>4</th>\n",
       "      <td>0.316730</td>\n",
       "      <td>1.798206</td>\n",
       "      <td>-0.430594</td>\n",
       "      <td>0.990036</td>\n",
       "    </tr>\n",
       "    <tr>\n",
       "      <th>5</th>\n",
       "      <td>1.067465</td>\n",
       "      <td>-0.903122</td>\n",
       "      <td>1.815993</td>\n",
       "      <td>0.525470</td>\n",
       "    </tr>\n",
       "    <tr>\n",
       "      <th>6</th>\n",
       "      <td>-1.278921</td>\n",
       "      <td>-2.104334</td>\n",
       "      <td>0.333548</td>\n",
       "      <td>-0.702829</td>\n",
       "    </tr>\n",
       "    <tr>\n",
       "      <th>7</th>\n",
       "      <td>1.367018</td>\n",
       "      <td>-1.398305</td>\n",
       "      <td>1.311100</td>\n",
       "      <td>0.380438</td>\n",
       "    </tr>\n",
       "    <tr>\n",
       "      <th>8</th>\n",
       "      <td>-1.932139</td>\n",
       "      <td>1.369344</td>\n",
       "      <td>0.964418</td>\n",
       "      <td>0.039638</td>\n",
       "    </tr>\n",
       "    <tr>\n",
       "      <th>9</th>\n",
       "      <td>0.687727</td>\n",
       "      <td>0.797389</td>\n",
       "      <td>-1.918298</td>\n",
       "      <td>-0.977679</td>\n",
       "    </tr>\n",
       "  </tbody>\n",
       "</table>\n",
       "</div>"
      ],
      "text/plain": [
       "          0         1         2         3\n",
       "0  0.124045 -2.778432  0.282184 -1.061406\n",
       "1 -0.071519  0.129777 -2.273150  1.109550\n",
       "2  0.823030  1.065854 -1.183887 -1.124685\n",
       "3  1.226887  0.886312 -0.744131 -0.300565\n",
       "4  0.316730  1.798206 -0.430594  0.990036\n",
       "5  1.067465 -0.903122  1.815993  0.525470\n",
       "6 -1.278921 -2.104334  0.333548 -0.702829\n",
       "7  1.367018 -1.398305  1.311100  0.380438\n",
       "8 -1.932139  1.369344  0.964418  0.039638\n",
       "9  0.687727  0.797389 -1.918298 -0.977679"
      ]
     },
     "execution_count": 93,
     "metadata": {},
     "output_type": "execute_result"
    }
   ],
   "source": [
    "#作为示范，我们将df截取成三段\n",
    "prices = [df[:3],df[3:7],df[7:]]\n",
    "\n",
    "pd.concat(prices)"
   ]
  },
  {
   "cell_type": "markdown",
   "metadata": {},
   "source": [
    "#### 结合(join)"
   ]
  },
  {
   "cell_type": "code",
   "execution_count": 96,
   "metadata": {
    "collapsed": false
   },
   "outputs": [
    {
     "name": "stdout",
     "output_type": "stream",
     "text": [
      "   key  lval\n",
      "0  foo     1\n",
      "1  foo     2\n",
      "   key  rval\n",
      "0  foo     4\n",
      "1  foo     5\n"
     ]
    }
   ],
   "source": [
    "#有点类似sql语句\n",
    "left = pd.DataFrame({\"key\":[\"foo\",\"foo\"],\"lval\":[1,2]})\n",
    "right = pd.DataFrame({\"key\":[\"foo\",\"foo\"],\"rval\":[4,5]})\n",
    "print left\n",
    "print right"
   ]
  },
  {
   "cell_type": "code",
   "execution_count": 97,
   "metadata": {
    "collapsed": false
   },
   "outputs": [
    {
     "data": {
      "text/html": [
       "<div>\n",
       "<table border=\"1\" class=\"dataframe\">\n",
       "  <thead>\n",
       "    <tr style=\"text-align: right;\">\n",
       "      <th></th>\n",
       "      <th>key</th>\n",
       "      <th>lval</th>\n",
       "      <th>rval</th>\n",
       "    </tr>\n",
       "  </thead>\n",
       "  <tbody>\n",
       "    <tr>\n",
       "      <th>0</th>\n",
       "      <td>foo</td>\n",
       "      <td>1</td>\n",
       "      <td>4</td>\n",
       "    </tr>\n",
       "    <tr>\n",
       "      <th>1</th>\n",
       "      <td>foo</td>\n",
       "      <td>1</td>\n",
       "      <td>5</td>\n",
       "    </tr>\n",
       "    <tr>\n",
       "      <th>2</th>\n",
       "      <td>foo</td>\n",
       "      <td>2</td>\n",
       "      <td>4</td>\n",
       "    </tr>\n",
       "    <tr>\n",
       "      <th>3</th>\n",
       "      <td>foo</td>\n",
       "      <td>2</td>\n",
       "      <td>5</td>\n",
       "    </tr>\n",
       "  </tbody>\n",
       "</table>\n",
       "</div>"
      ],
      "text/plain": [
       "   key  lval  rval\n",
       "0  foo     1     4\n",
       "1  foo     1     5\n",
       "2  foo     2     4\n",
       "3  foo     2     5"
      ]
     },
     "execution_count": 97,
     "metadata": {},
     "output_type": "execute_result"
    }
   ],
   "source": [
    "pd.merge(left,right,on=\"key\")"
   ]
  },
  {
   "cell_type": "markdown",
   "metadata": {},
   "source": [
    "#### 追加"
   ]
  },
  {
   "cell_type": "code",
   "execution_count": 98,
   "metadata": {
    "collapsed": false
   },
   "outputs": [
    {
     "data": {
      "text/html": [
       "<div>\n",
       "<table border=\"1\" class=\"dataframe\">\n",
       "  <thead>\n",
       "    <tr style=\"text-align: right;\">\n",
       "      <th></th>\n",
       "      <th>A</th>\n",
       "      <th>B</th>\n",
       "      <th>C</th>\n",
       "      <th>D</th>\n",
       "    </tr>\n",
       "  </thead>\n",
       "  <tbody>\n",
       "    <tr>\n",
       "      <th>0</th>\n",
       "      <td>-1.803957</td>\n",
       "      <td>0.493297</td>\n",
       "      <td>1.083160</td>\n",
       "      <td>-1.298020</td>\n",
       "    </tr>\n",
       "    <tr>\n",
       "      <th>1</th>\n",
       "      <td>0.893715</td>\n",
       "      <td>1.355061</td>\n",
       "      <td>0.240654</td>\n",
       "      <td>-0.361230</td>\n",
       "    </tr>\n",
       "    <tr>\n",
       "      <th>2</th>\n",
       "      <td>1.096624</td>\n",
       "      <td>-0.024100</td>\n",
       "      <td>0.732991</td>\n",
       "      <td>1.030548</td>\n",
       "    </tr>\n",
       "    <tr>\n",
       "      <th>3</th>\n",
       "      <td>-0.320463</td>\n",
       "      <td>-0.461341</td>\n",
       "      <td>-1.000956</td>\n",
       "      <td>-0.756610</td>\n",
       "    </tr>\n",
       "    <tr>\n",
       "      <th>4</th>\n",
       "      <td>0.129642</td>\n",
       "      <td>-0.418944</td>\n",
       "      <td>0.150458</td>\n",
       "      <td>-0.071083</td>\n",
       "    </tr>\n",
       "    <tr>\n",
       "      <th>5</th>\n",
       "      <td>-1.710629</td>\n",
       "      <td>-0.736564</td>\n",
       "      <td>-0.068043</td>\n",
       "      <td>1.657054</td>\n",
       "    </tr>\n",
       "    <tr>\n",
       "      <th>6</th>\n",
       "      <td>0.850927</td>\n",
       "      <td>-1.145156</td>\n",
       "      <td>0.587721</td>\n",
       "      <td>1.032687</td>\n",
       "    </tr>\n",
       "    <tr>\n",
       "      <th>7</th>\n",
       "      <td>0.513715</td>\n",
       "      <td>0.863474</td>\n",
       "      <td>-0.481596</td>\n",
       "      <td>1.012032</td>\n",
       "    </tr>\n",
       "  </tbody>\n",
       "</table>\n",
       "</div>"
      ],
      "text/plain": [
       "          A         B         C         D\n",
       "0 -1.803957  0.493297  1.083160 -1.298020\n",
       "1  0.893715  1.355061  0.240654 -0.361230\n",
       "2  1.096624 -0.024100  0.732991  1.030548\n",
       "3 -0.320463 -0.461341 -1.000956 -0.756610\n",
       "4  0.129642 -0.418944  0.150458 -0.071083\n",
       "5 -1.710629 -0.736564 -0.068043  1.657054\n",
       "6  0.850927 -1.145156  0.587721  1.032687\n",
       "7  0.513715  0.863474 -0.481596  1.012032"
      ]
     },
     "execution_count": 98,
     "metadata": {},
     "output_type": "execute_result"
    }
   ],
   "source": [
    "df = pd.DataFrame(np.random.randn(8, 4), columns=['A','B','C','D'])\n",
    "df"
   ]
  },
  {
   "cell_type": "code",
   "execution_count": 100,
   "metadata": {
    "collapsed": false
   },
   "outputs": [
    {
     "data": {
      "text/html": [
       "<div>\n",
       "<table border=\"1\" class=\"dataframe\">\n",
       "  <thead>\n",
       "    <tr style=\"text-align: right;\">\n",
       "      <th></th>\n",
       "      <th>A</th>\n",
       "      <th>B</th>\n",
       "      <th>C</th>\n",
       "      <th>D</th>\n",
       "    </tr>\n",
       "  </thead>\n",
       "  <tbody>\n",
       "    <tr>\n",
       "      <th>0</th>\n",
       "      <td>-1.803957</td>\n",
       "      <td>0.493297</td>\n",
       "      <td>1.083160</td>\n",
       "      <td>-1.298020</td>\n",
       "    </tr>\n",
       "    <tr>\n",
       "      <th>1</th>\n",
       "      <td>0.893715</td>\n",
       "      <td>1.355061</td>\n",
       "      <td>0.240654</td>\n",
       "      <td>-0.361230</td>\n",
       "    </tr>\n",
       "    <tr>\n",
       "      <th>2</th>\n",
       "      <td>1.096624</td>\n",
       "      <td>-0.024100</td>\n",
       "      <td>0.732991</td>\n",
       "      <td>1.030548</td>\n",
       "    </tr>\n",
       "    <tr>\n",
       "      <th>3</th>\n",
       "      <td>-0.320463</td>\n",
       "      <td>-0.461341</td>\n",
       "      <td>-1.000956</td>\n",
       "      <td>-0.756610</td>\n",
       "    </tr>\n",
       "    <tr>\n",
       "      <th>4</th>\n",
       "      <td>0.129642</td>\n",
       "      <td>-0.418944</td>\n",
       "      <td>0.150458</td>\n",
       "      <td>-0.071083</td>\n",
       "    </tr>\n",
       "    <tr>\n",
       "      <th>5</th>\n",
       "      <td>-1.710629</td>\n",
       "      <td>-0.736564</td>\n",
       "      <td>-0.068043</td>\n",
       "      <td>1.657054</td>\n",
       "    </tr>\n",
       "    <tr>\n",
       "      <th>6</th>\n",
       "      <td>0.850927</td>\n",
       "      <td>-1.145156</td>\n",
       "      <td>0.587721</td>\n",
       "      <td>1.032687</td>\n",
       "    </tr>\n",
       "    <tr>\n",
       "      <th>7</th>\n",
       "      <td>0.513715</td>\n",
       "      <td>0.863474</td>\n",
       "      <td>-0.481596</td>\n",
       "      <td>1.012032</td>\n",
       "    </tr>\n",
       "    <tr>\n",
       "      <th>8</th>\n",
       "      <td>-0.320463</td>\n",
       "      <td>-0.461341</td>\n",
       "      <td>-1.000956</td>\n",
       "      <td>-0.756610</td>\n",
       "    </tr>\n",
       "  </tbody>\n",
       "</table>\n",
       "</div>"
      ],
      "text/plain": [
       "          A         B         C         D\n",
       "0 -1.803957  0.493297  1.083160 -1.298020\n",
       "1  0.893715  1.355061  0.240654 -0.361230\n",
       "2  1.096624 -0.024100  0.732991  1.030548\n",
       "3 -0.320463 -0.461341 -1.000956 -0.756610\n",
       "4  0.129642 -0.418944  0.150458 -0.071083\n",
       "5 -1.710629 -0.736564 -0.068043  1.657054\n",
       "6  0.850927 -1.145156  0.587721  1.032687\n",
       "7  0.513715  0.863474 -0.481596  1.012032\n",
       "8 -0.320463 -0.461341 -1.000956 -0.756610"
      ]
     },
     "execution_count": 100,
     "metadata": {},
     "output_type": "execute_result"
    }
   ],
   "source": [
    "s = df.iloc[3]\n",
    "df.append(s,ignore_index=True)"
   ]
  },
  {
   "cell_type": "markdown",
   "metadata": {},
   "source": [
    "### 分组\n",
    "通过\"group by\"我们将处理步骤为一下几个步骤\n",
    "\n",
    "* 拆分(splitting) 通过一些条件将数据拆分为不同的组\n",
    "* 应用(applying) 单独对每个组应用相应的函数\n",
    "* 组合(combining) 将结果组合到一个特定的数据结构"
   ]
  },
  {
   "cell_type": "code",
   "execution_count": 101,
   "metadata": {
    "collapsed": false
   },
   "outputs": [
    {
     "data": {
      "text/html": [
       "<div>\n",
       "<table border=\"1\" class=\"dataframe\">\n",
       "  <thead>\n",
       "    <tr style=\"text-align: right;\">\n",
       "      <th></th>\n",
       "      <th>A</th>\n",
       "      <th>B</th>\n",
       "      <th>C</th>\n",
       "      <th>D</th>\n",
       "    </tr>\n",
       "  </thead>\n",
       "  <tbody>\n",
       "    <tr>\n",
       "      <th>0</th>\n",
       "      <td>foo</td>\n",
       "      <td>one</td>\n",
       "      <td>-0.442928</td>\n",
       "      <td>-0.583661</td>\n",
       "    </tr>\n",
       "    <tr>\n",
       "      <th>1</th>\n",
       "      <td>bar</td>\n",
       "      <td>one</td>\n",
       "      <td>-0.110090</td>\n",
       "      <td>-1.607503</td>\n",
       "    </tr>\n",
       "    <tr>\n",
       "      <th>2</th>\n",
       "      <td>foo</td>\n",
       "      <td>two</td>\n",
       "      <td>-0.305777</td>\n",
       "      <td>-0.208199</td>\n",
       "    </tr>\n",
       "    <tr>\n",
       "      <th>3</th>\n",
       "      <td>bar</td>\n",
       "      <td>three</td>\n",
       "      <td>-0.124780</td>\n",
       "      <td>1.750173</td>\n",
       "    </tr>\n",
       "    <tr>\n",
       "      <th>4</th>\n",
       "      <td>foo</td>\n",
       "      <td>two</td>\n",
       "      <td>-0.744122</td>\n",
       "      <td>-1.724964</td>\n",
       "    </tr>\n",
       "    <tr>\n",
       "      <th>5</th>\n",
       "      <td>bar</td>\n",
       "      <td>two</td>\n",
       "      <td>0.152111</td>\n",
       "      <td>-1.125336</td>\n",
       "    </tr>\n",
       "    <tr>\n",
       "      <th>6</th>\n",
       "      <td>foo</td>\n",
       "      <td>one</td>\n",
       "      <td>0.704630</td>\n",
       "      <td>-0.309908</td>\n",
       "    </tr>\n",
       "    <tr>\n",
       "      <th>7</th>\n",
       "      <td>foo</td>\n",
       "      <td>three</td>\n",
       "      <td>-0.519043</td>\n",
       "      <td>-0.727075</td>\n",
       "    </tr>\n",
       "  </tbody>\n",
       "</table>\n",
       "</div>"
      ],
      "text/plain": [
       "     A      B         C         D\n",
       "0  foo    one -0.442928 -0.583661\n",
       "1  bar    one -0.110090 -1.607503\n",
       "2  foo    two -0.305777 -0.208199\n",
       "3  bar  three -0.124780  1.750173\n",
       "4  foo    two -0.744122 -1.724964\n",
       "5  bar    two  0.152111 -1.125336\n",
       "6  foo    one  0.704630 -0.309908\n",
       "7  foo  three -0.519043 -0.727075"
      ]
     },
     "execution_count": 101,
     "metadata": {},
     "output_type": "execute_result"
    }
   ],
   "source": [
    "df = pd.DataFrame({'A' : ['foo', 'bar', 'foo', 'bar',\n",
    "                       'foo', 'bar', 'foo', 'foo'],\n",
    "                   'B' : ['one', 'one', 'two', 'three',\n",
    "                      'two', 'two', 'one', 'three'],\n",
    "                  'C' : np.random.randn(8),\n",
    "                  'D' : np.random.randn(8)})\n",
    "df"
   ]
  },
  {
   "cell_type": "code",
   "execution_count": 102,
   "metadata": {
    "collapsed": false
   },
   "outputs": [
    {
     "data": {
      "text/html": [
       "<div>\n",
       "<table border=\"1\" class=\"dataframe\">\n",
       "  <thead>\n",
       "    <tr style=\"text-align: right;\">\n",
       "      <th></th>\n",
       "      <th>C</th>\n",
       "      <th>D</th>\n",
       "    </tr>\n",
       "    <tr>\n",
       "      <th>A</th>\n",
       "      <th></th>\n",
       "      <th></th>\n",
       "    </tr>\n",
       "  </thead>\n",
       "  <tbody>\n",
       "    <tr>\n",
       "      <th>bar</th>\n",
       "      <td>-0.082759</td>\n",
       "      <td>-0.982665</td>\n",
       "    </tr>\n",
       "    <tr>\n",
       "      <th>foo</th>\n",
       "      <td>-1.307241</td>\n",
       "      <td>-3.553808</td>\n",
       "    </tr>\n",
       "  </tbody>\n",
       "</table>\n",
       "</div>"
      ],
      "text/plain": [
       "            C         D\n",
       "A                      \n",
       "bar -0.082759 -0.982665\n",
       "foo -1.307241 -3.553808"
      ]
     },
     "execution_count": 102,
     "metadata": {},
     "output_type": "execute_result"
    }
   ],
   "source": [
    "#按字段A分组，并应用sum函数\n",
    "df.groupby(\"A\").sum()"
   ]
  },
  {
   "cell_type": "code",
   "execution_count": 103,
   "metadata": {
    "collapsed": false
   },
   "outputs": [
    {
     "data": {
      "text/html": [
       "<div>\n",
       "<table border=\"1\" class=\"dataframe\">\n",
       "  <thead>\n",
       "    <tr style=\"text-align: right;\">\n",
       "      <th></th>\n",
       "      <th></th>\n",
       "      <th>C</th>\n",
       "      <th>D</th>\n",
       "    </tr>\n",
       "    <tr>\n",
       "      <th>A</th>\n",
       "      <th>B</th>\n",
       "      <th></th>\n",
       "      <th></th>\n",
       "    </tr>\n",
       "  </thead>\n",
       "  <tbody>\n",
       "    <tr>\n",
       "      <th rowspan=\"3\" valign=\"top\">bar</th>\n",
       "      <th>one</th>\n",
       "      <td>-0.110090</td>\n",
       "      <td>-1.607503</td>\n",
       "    </tr>\n",
       "    <tr>\n",
       "      <th>three</th>\n",
       "      <td>-0.124780</td>\n",
       "      <td>1.750173</td>\n",
       "    </tr>\n",
       "    <tr>\n",
       "      <th>two</th>\n",
       "      <td>0.152111</td>\n",
       "      <td>-1.125336</td>\n",
       "    </tr>\n",
       "    <tr>\n",
       "      <th rowspan=\"3\" valign=\"top\">foo</th>\n",
       "      <th>one</th>\n",
       "      <td>0.261702</td>\n",
       "      <td>-0.893570</td>\n",
       "    </tr>\n",
       "    <tr>\n",
       "      <th>three</th>\n",
       "      <td>-0.519043</td>\n",
       "      <td>-0.727075</td>\n",
       "    </tr>\n",
       "    <tr>\n",
       "      <th>two</th>\n",
       "      <td>-1.049899</td>\n",
       "      <td>-1.933163</td>\n",
       "    </tr>\n",
       "  </tbody>\n",
       "</table>\n",
       "</div>"
      ],
      "text/plain": [
       "                  C         D\n",
       "A   B                        \n",
       "bar one   -0.110090 -1.607503\n",
       "    three -0.124780  1.750173\n",
       "    two    0.152111 -1.125336\n",
       "foo one    0.261702 -0.893570\n",
       "    three -0.519043 -0.727075\n",
       "    two   -1.049899 -1.933163"
      ]
     },
     "execution_count": 103,
     "metadata": {},
     "output_type": "execute_result"
    }
   ],
   "source": [
    "#按多个字段分组构成分层级的所以，然后继续应用函数\n",
    "df.groupby([\"A\",\"B\"]).sum()"
   ]
  },
  {
   "cell_type": "markdown",
   "metadata": {},
   "source": [
    "### 重塑(reshaping)"
   ]
  },
  {
   "cell_type": "markdown",
   "metadata": {},
   "source": [
    "#### 堆积(stack)"
   ]
  },
  {
   "cell_type": "code",
   "execution_count": 110,
   "metadata": {
    "collapsed": false
   },
   "outputs": [
    {
     "name": "stdout",
     "output_type": "stream",
     "text": [
      "[('bar', 'one'), ('bar', 'two'), ('baz', 'one'), ('baz', 'two'), ('foo', 'one'), ('foo', 'two'), ('qux', 'one'), ('qux', 'two')]\n",
      "==========================\n",
      "[(['bar', 'bar', 'baz', 'baz', 'foo', 'foo', 'qux', 'qux'],), (['one', 'two', 'one', 'two', 'one', 'two', 'one', 'two'],)]\n"
     ]
    }
   ],
   "source": [
    "#注意符号 *\n",
    "tuples1 = list(zip(*[['bar', 'bar', 'baz', 'baz',\n",
    "                     'foo', 'foo', 'qux', 'qux'],\n",
    "                    ['one', 'two', 'one', 'two',\n",
    "                     'one', 'two', 'one', 'two']]))\n",
    "print tuples1\n",
    "print \"==========================\"\n",
    "tuples2 = list(zip([['bar', 'bar', 'baz', 'baz',\n",
    "                     'foo', 'foo', 'qux', 'qux'],\n",
    "                    ['one', 'two', 'one', 'two',\n",
    "                     'one', 'two', 'one', 'two']]))\n",
    "print tuples2"
   ]
  },
  {
   "cell_type": "code",
   "execution_count": 114,
   "metadata": {
    "collapsed": false
   },
   "outputs": [
    {
     "data": {
      "text/html": [
       "<div>\n",
       "<table border=\"1\" class=\"dataframe\">\n",
       "  <thead>\n",
       "    <tr style=\"text-align: right;\">\n",
       "      <th></th>\n",
       "      <th></th>\n",
       "      <th>A</th>\n",
       "      <th>B</th>\n",
       "    </tr>\n",
       "    <tr>\n",
       "      <th>first</th>\n",
       "      <th>second</th>\n",
       "      <th></th>\n",
       "      <th></th>\n",
       "    </tr>\n",
       "  </thead>\n",
       "  <tbody>\n",
       "    <tr>\n",
       "      <th rowspan=\"2\" valign=\"top\">bar</th>\n",
       "      <th>one</th>\n",
       "      <td>0.640902</td>\n",
       "      <td>0.456340</td>\n",
       "    </tr>\n",
       "    <tr>\n",
       "      <th>two</th>\n",
       "      <td>0.654919</td>\n",
       "      <td>-0.753045</td>\n",
       "    </tr>\n",
       "    <tr>\n",
       "      <th rowspan=\"2\" valign=\"top\">baz</th>\n",
       "      <th>one</th>\n",
       "      <td>0.249405</td>\n",
       "      <td>0.706399</td>\n",
       "    </tr>\n",
       "    <tr>\n",
       "      <th>two</th>\n",
       "      <td>0.310699</td>\n",
       "      <td>-0.662289</td>\n",
       "    </tr>\n",
       "  </tbody>\n",
       "</table>\n",
       "</div>"
      ],
      "text/plain": [
       "                     A         B\n",
       "first second                    \n",
       "bar   one     0.640902  0.456340\n",
       "      two     0.654919 -0.753045\n",
       "baz   one     0.249405  0.706399\n",
       "      two     0.310699 -0.662289"
      ]
     },
     "execution_count": 114,
     "metadata": {},
     "output_type": "execute_result"
    }
   ],
   "source": [
    "tuples = list(zip(*[['bar', 'bar', 'baz', 'baz',\n",
    "                     'foo', 'foo', 'qux', 'qux'],\n",
    "                    ['one', 'two', 'one', 'two',\n",
    "                     'one', 'two', 'one', 'two']]))\n",
    "\n",
    "index = pd.MultiIndex.from_tuples(tuples,names=[\"first\",\"second\"])\n",
    "df = pd.DataFrame(np.random.randn(8,2),index=index,columns=[\"A\",\"B\"])\n",
    "\n",
    "df2 = df[:4]\n",
    "df2"
   ]
  },
  {
   "cell_type": "code",
   "execution_count": 115,
   "metadata": {
    "collapsed": false
   },
   "outputs": [
    {
     "data": {
      "text/plain": [
       "first  second   \n",
       "bar    one     A    0.640902\n",
       "               B    0.456340\n",
       "       two     A    0.654919\n",
       "               B   -0.753045\n",
       "baz    one     A    0.249405\n",
       "               B    0.706399\n",
       "       two     A    0.310699\n",
       "               B   -0.662289\n",
       "dtype: float64"
      ]
     },
     "execution_count": 115,
     "metadata": {},
     "output_type": "execute_result"
    }
   ],
   "source": [
    "#stack方法\n",
    "stacked = df2.stack()\n",
    "stacked"
   ]
  },
  {
   "cell_type": "code",
   "execution_count": 116,
   "metadata": {
    "collapsed": false
   },
   "outputs": [
    {
     "data": {
      "text/html": [
       "<div>\n",
       "<table border=\"1\" class=\"dataframe\">\n",
       "  <thead>\n",
       "    <tr style=\"text-align: right;\">\n",
       "      <th></th>\n",
       "      <th></th>\n",
       "      <th>A</th>\n",
       "      <th>B</th>\n",
       "    </tr>\n",
       "    <tr>\n",
       "      <th>first</th>\n",
       "      <th>second</th>\n",
       "      <th></th>\n",
       "      <th></th>\n",
       "    </tr>\n",
       "  </thead>\n",
       "  <tbody>\n",
       "    <tr>\n",
       "      <th rowspan=\"2\" valign=\"top\">bar</th>\n",
       "      <th>one</th>\n",
       "      <td>0.640902</td>\n",
       "      <td>0.456340</td>\n",
       "    </tr>\n",
       "    <tr>\n",
       "      <th>two</th>\n",
       "      <td>0.654919</td>\n",
       "      <td>-0.753045</td>\n",
       "    </tr>\n",
       "    <tr>\n",
       "      <th rowspan=\"2\" valign=\"top\">baz</th>\n",
       "      <th>one</th>\n",
       "      <td>0.249405</td>\n",
       "      <td>0.706399</td>\n",
       "    </tr>\n",
       "    <tr>\n",
       "      <th>two</th>\n",
       "      <td>0.310699</td>\n",
       "      <td>-0.662289</td>\n",
       "    </tr>\n",
       "  </tbody>\n",
       "</table>\n",
       "</div>"
      ],
      "text/plain": [
       "                     A         B\n",
       "first second                    \n",
       "bar   one     0.640902  0.456340\n",
       "      two     0.654919 -0.753045\n",
       "baz   one     0.249405  0.706399\n",
       "      two     0.310699 -0.662289"
      ]
     },
     "execution_count": 116,
     "metadata": {},
     "output_type": "execute_result"
    }
   ],
   "source": [
    "#与stack相对应的自然还有unstack\n",
    "stacked.unstack()"
   ]
  },
  {
   "cell_type": "code",
   "execution_count": 117,
   "metadata": {
    "collapsed": false
   },
   "outputs": [
    {
     "data": {
      "text/html": [
       "<div>\n",
       "<table border=\"1\" class=\"dataframe\">\n",
       "  <thead>\n",
       "    <tr style=\"text-align: right;\">\n",
       "      <th></th>\n",
       "      <th>second</th>\n",
       "      <th>one</th>\n",
       "      <th>two</th>\n",
       "    </tr>\n",
       "    <tr>\n",
       "      <th>first</th>\n",
       "      <th></th>\n",
       "      <th></th>\n",
       "      <th></th>\n",
       "    </tr>\n",
       "  </thead>\n",
       "  <tbody>\n",
       "    <tr>\n",
       "      <th rowspan=\"2\" valign=\"top\">bar</th>\n",
       "      <th>A</th>\n",
       "      <td>0.640902</td>\n",
       "      <td>0.654919</td>\n",
       "    </tr>\n",
       "    <tr>\n",
       "      <th>B</th>\n",
       "      <td>0.456340</td>\n",
       "      <td>-0.753045</td>\n",
       "    </tr>\n",
       "    <tr>\n",
       "      <th rowspan=\"2\" valign=\"top\">baz</th>\n",
       "      <th>A</th>\n",
       "      <td>0.249405</td>\n",
       "      <td>0.310699</td>\n",
       "    </tr>\n",
       "    <tr>\n",
       "      <th>B</th>\n",
       "      <td>0.706399</td>\n",
       "      <td>-0.662289</td>\n",
       "    </tr>\n",
       "  </tbody>\n",
       "</table>\n",
       "</div>"
      ],
      "text/plain": [
       "second        one       two\n",
       "first                      \n",
       "bar   A  0.640902  0.654919\n",
       "      B  0.456340 -0.753045\n",
       "baz   A  0.249405  0.310699\n",
       "      B  0.706399 -0.662289"
      ]
     },
     "execution_count": 117,
     "metadata": {},
     "output_type": "execute_result"
    }
   ],
   "source": [
    "stacked.unstack(1)"
   ]
  },
  {
   "cell_type": "code",
   "execution_count": 118,
   "metadata": {
    "collapsed": false
   },
   "outputs": [
    {
     "data": {
      "text/html": [
       "<div>\n",
       "<table border=\"1\" class=\"dataframe\">\n",
       "  <thead>\n",
       "    <tr style=\"text-align: right;\">\n",
       "      <th></th>\n",
       "      <th>first</th>\n",
       "      <th>bar</th>\n",
       "      <th>baz</th>\n",
       "    </tr>\n",
       "    <tr>\n",
       "      <th>second</th>\n",
       "      <th></th>\n",
       "      <th></th>\n",
       "      <th></th>\n",
       "    </tr>\n",
       "  </thead>\n",
       "  <tbody>\n",
       "    <tr>\n",
       "      <th rowspan=\"2\" valign=\"top\">one</th>\n",
       "      <th>A</th>\n",
       "      <td>0.640902</td>\n",
       "      <td>0.249405</td>\n",
       "    </tr>\n",
       "    <tr>\n",
       "      <th>B</th>\n",
       "      <td>0.456340</td>\n",
       "      <td>0.706399</td>\n",
       "    </tr>\n",
       "    <tr>\n",
       "      <th rowspan=\"2\" valign=\"top\">two</th>\n",
       "      <th>A</th>\n",
       "      <td>0.654919</td>\n",
       "      <td>0.310699</td>\n",
       "    </tr>\n",
       "    <tr>\n",
       "      <th>B</th>\n",
       "      <td>-0.753045</td>\n",
       "      <td>-0.662289</td>\n",
       "    </tr>\n",
       "  </tbody>\n",
       "</table>\n",
       "</div>"
      ],
      "text/plain": [
       "first          bar       baz\n",
       "second                      \n",
       "one    A  0.640902  0.249405\n",
       "       B  0.456340  0.706399\n",
       "two    A  0.654919  0.310699\n",
       "       B -0.753045 -0.662289"
      ]
     },
     "execution_count": 118,
     "metadata": {},
     "output_type": "execute_result"
    }
   ],
   "source": [
    "stacked.unstack(0)"
   ]
  },
  {
   "cell_type": "markdown",
   "metadata": {},
   "source": [
    "### 透视图or轴心图(pivot tables)"
   ]
  },
  {
   "cell_type": "code",
   "execution_count": 119,
   "metadata": {
    "collapsed": false
   },
   "outputs": [
    {
     "data": {
      "text/html": [
       "<div>\n",
       "<table border=\"1\" class=\"dataframe\">\n",
       "  <thead>\n",
       "    <tr style=\"text-align: right;\">\n",
       "      <th></th>\n",
       "      <th>A</th>\n",
       "      <th>B</th>\n",
       "      <th>C</th>\n",
       "      <th>D</th>\n",
       "      <th>E</th>\n",
       "    </tr>\n",
       "  </thead>\n",
       "  <tbody>\n",
       "    <tr>\n",
       "      <th>0</th>\n",
       "      <td>one</td>\n",
       "      <td>A</td>\n",
       "      <td>foo</td>\n",
       "      <td>-1.354897</td>\n",
       "      <td>-0.118628</td>\n",
       "    </tr>\n",
       "    <tr>\n",
       "      <th>1</th>\n",
       "      <td>one</td>\n",
       "      <td>B</td>\n",
       "      <td>foo</td>\n",
       "      <td>-0.139636</td>\n",
       "      <td>0.066630</td>\n",
       "    </tr>\n",
       "    <tr>\n",
       "      <th>2</th>\n",
       "      <td>two</td>\n",
       "      <td>C</td>\n",
       "      <td>foo</td>\n",
       "      <td>1.351153</td>\n",
       "      <td>0.746671</td>\n",
       "    </tr>\n",
       "    <tr>\n",
       "      <th>3</th>\n",
       "      <td>three</td>\n",
       "      <td>A</td>\n",
       "      <td>bar</td>\n",
       "      <td>-0.881780</td>\n",
       "      <td>1.312087</td>\n",
       "    </tr>\n",
       "    <tr>\n",
       "      <th>4</th>\n",
       "      <td>one</td>\n",
       "      <td>B</td>\n",
       "      <td>bar</td>\n",
       "      <td>-1.234503</td>\n",
       "      <td>0.657089</td>\n",
       "    </tr>\n",
       "    <tr>\n",
       "      <th>5</th>\n",
       "      <td>one</td>\n",
       "      <td>C</td>\n",
       "      <td>bar</td>\n",
       "      <td>-1.237405</td>\n",
       "      <td>1.291014</td>\n",
       "    </tr>\n",
       "    <tr>\n",
       "      <th>6</th>\n",
       "      <td>two</td>\n",
       "      <td>A</td>\n",
       "      <td>foo</td>\n",
       "      <td>-2.016143</td>\n",
       "      <td>0.229072</td>\n",
       "    </tr>\n",
       "    <tr>\n",
       "      <th>7</th>\n",
       "      <td>three</td>\n",
       "      <td>B</td>\n",
       "      <td>foo</td>\n",
       "      <td>-0.716087</td>\n",
       "      <td>-0.462631</td>\n",
       "    </tr>\n",
       "    <tr>\n",
       "      <th>8</th>\n",
       "      <td>one</td>\n",
       "      <td>C</td>\n",
       "      <td>foo</td>\n",
       "      <td>-0.765645</td>\n",
       "      <td>1.420596</td>\n",
       "    </tr>\n",
       "    <tr>\n",
       "      <th>9</th>\n",
       "      <td>one</td>\n",
       "      <td>A</td>\n",
       "      <td>bar</td>\n",
       "      <td>-0.058809</td>\n",
       "      <td>-0.733906</td>\n",
       "    </tr>\n",
       "    <tr>\n",
       "      <th>10</th>\n",
       "      <td>two</td>\n",
       "      <td>B</td>\n",
       "      <td>bar</td>\n",
       "      <td>-1.337942</td>\n",
       "      <td>-0.670357</td>\n",
       "    </tr>\n",
       "    <tr>\n",
       "      <th>11</th>\n",
       "      <td>three</td>\n",
       "      <td>C</td>\n",
       "      <td>bar</td>\n",
       "      <td>-0.473659</td>\n",
       "      <td>-1.502226</td>\n",
       "    </tr>\n",
       "  </tbody>\n",
       "</table>\n",
       "</div>"
      ],
      "text/plain": [
       "        A  B    C         D         E\n",
       "0     one  A  foo -1.354897 -0.118628\n",
       "1     one  B  foo -0.139636  0.066630\n",
       "2     two  C  foo  1.351153  0.746671\n",
       "3   three  A  bar -0.881780  1.312087\n",
       "4     one  B  bar -1.234503  0.657089\n",
       "5     one  C  bar -1.237405  1.291014\n",
       "6     two  A  foo -2.016143  0.229072\n",
       "7   three  B  foo -0.716087 -0.462631\n",
       "8     one  C  foo -0.765645  1.420596\n",
       "9     one  A  bar -0.058809 -0.733906\n",
       "10    two  B  bar -1.337942 -0.670357\n",
       "11  three  C  bar -0.473659 -1.502226"
      ]
     },
     "execution_count": 119,
     "metadata": {},
     "output_type": "execute_result"
    }
   ],
   "source": [
    "df = pd.DataFrame({'A' : ['one', 'one', 'two', 'three'] * 3,\n",
    "                   'B' : ['A', 'B', 'C'] * 4,\n",
    "                   'C' : ['foo', 'foo', 'foo', 'bar', 'bar', 'bar'] * 2,\n",
    "                   'D' : np.random.randn(12),\n",
    "                   'E' : np.random.randn(12)})\n",
    "df"
   ]
  },
  {
   "cell_type": "code",
   "execution_count": 120,
   "metadata": {
    "collapsed": false
   },
   "outputs": [
    {
     "data": {
      "text/html": [
       "<div>\n",
       "<table border=\"1\" class=\"dataframe\">\n",
       "  <thead>\n",
       "    <tr style=\"text-align: right;\">\n",
       "      <th></th>\n",
       "      <th>C</th>\n",
       "      <th>bar</th>\n",
       "      <th>foo</th>\n",
       "    </tr>\n",
       "    <tr>\n",
       "      <th>A</th>\n",
       "      <th>B</th>\n",
       "      <th></th>\n",
       "      <th></th>\n",
       "    </tr>\n",
       "  </thead>\n",
       "  <tbody>\n",
       "    <tr>\n",
       "      <th rowspan=\"3\" valign=\"top\">one</th>\n",
       "      <th>A</th>\n",
       "      <td>-0.058809</td>\n",
       "      <td>-1.354897</td>\n",
       "    </tr>\n",
       "    <tr>\n",
       "      <th>B</th>\n",
       "      <td>-1.234503</td>\n",
       "      <td>-0.139636</td>\n",
       "    </tr>\n",
       "    <tr>\n",
       "      <th>C</th>\n",
       "      <td>-1.237405</td>\n",
       "      <td>-0.765645</td>\n",
       "    </tr>\n",
       "    <tr>\n",
       "      <th rowspan=\"3\" valign=\"top\">three</th>\n",
       "      <th>A</th>\n",
       "      <td>-0.881780</td>\n",
       "      <td>NaN</td>\n",
       "    </tr>\n",
       "    <tr>\n",
       "      <th>B</th>\n",
       "      <td>NaN</td>\n",
       "      <td>-0.716087</td>\n",
       "    </tr>\n",
       "    <tr>\n",
       "      <th>C</th>\n",
       "      <td>-0.473659</td>\n",
       "      <td>NaN</td>\n",
       "    </tr>\n",
       "    <tr>\n",
       "      <th rowspan=\"3\" valign=\"top\">two</th>\n",
       "      <th>A</th>\n",
       "      <td>NaN</td>\n",
       "      <td>-2.016143</td>\n",
       "    </tr>\n",
       "    <tr>\n",
       "      <th>B</th>\n",
       "      <td>-1.337942</td>\n",
       "      <td>NaN</td>\n",
       "    </tr>\n",
       "    <tr>\n",
       "      <th>C</th>\n",
       "      <td>NaN</td>\n",
       "      <td>1.351153</td>\n",
       "    </tr>\n",
       "  </tbody>\n",
       "</table>\n",
       "</div>"
      ],
      "text/plain": [
       "C             bar       foo\n",
       "A     B                    \n",
       "one   A -0.058809 -1.354897\n",
       "      B -1.234503 -0.139636\n",
       "      C -1.237405 -0.765645\n",
       "three A -0.881780       NaN\n",
       "      B       NaN -0.716087\n",
       "      C -0.473659       NaN\n",
       "two   A       NaN -2.016143\n",
       "      B -1.337942       NaN\n",
       "      C       NaN  1.351153"
      ]
     },
     "execution_count": 120,
     "metadata": {},
     "output_type": "execute_result"
    }
   ],
   "source": [
    "pd.pivot_table(df,values=\"D\",index=[\"A\",\"B\"],columns=\"C\")"
   ]
  },
  {
   "cell_type": "markdown",
   "metadata": {},
   "source": [
    "### 时间序列\n",
    "pandas has simple, powerful, and efficient functionality for performing resampling operations during frequency conversion (e.g., converting secondly data into 5-minutely data). This is extremely common in, but not limited to, financial applications. See the Time Series section"
   ]
  },
  {
   "cell_type": "code",
   "execution_count": 129,
   "metadata": {
    "collapsed": false
   },
   "outputs": [
    {
     "data": {
      "text/plain": [
       "274.26"
      ]
     },
     "execution_count": 129,
     "metadata": {},
     "output_type": "execute_result"
    }
   ],
   "source": [
    "#以20160101起始，区间为100，即100个数值，间隔为S，即秒\n",
    "rng = pd.date_range(\"1/1/2016\",periods=100,freq=\"S\")\n",
    "ts = pd.Series(np.random.randint(0,500,len(rng)),index=rng)\n",
    "ts.resample(\"5Min\").sum()"
   ]
  },
  {
   "cell_type": "code",
   "execution_count": 130,
   "metadata": {
    "collapsed": false
   },
   "outputs": [
    {
     "data": {
      "text/plain": [
       "2012-03-06    1.149172\n",
       "2012-03-07   -1.557227\n",
       "2012-03-08   -0.385823\n",
       "2012-03-09   -0.126296\n",
       "2012-03-10   -0.206766\n",
       "Freq: D, dtype: float64"
      ]
     },
     "execution_count": 130,
     "metadata": {},
     "output_type": "execute_result"
    }
   ],
   "source": [
    "rng = pd.date_range('3/6/2012 00:00', periods=5, freq='D')\n",
    "ts = pd.Series(np.random.randn(len(rng)), rng)\n",
    "ts"
   ]
  },
  {
   "cell_type": "code",
   "execution_count": 131,
   "metadata": {
    "collapsed": false
   },
   "outputs": [
    {
     "data": {
      "text/plain": [
       "2012-03-06 00:00:00+00:00    1.149172\n",
       "2012-03-07 00:00:00+00:00   -1.557227\n",
       "2012-03-08 00:00:00+00:00   -0.385823\n",
       "2012-03-09 00:00:00+00:00   -0.126296\n",
       "2012-03-10 00:00:00+00:00   -0.206766\n",
       "Freq: D, dtype: float64"
      ]
     },
     "execution_count": 131,
     "metadata": {},
     "output_type": "execute_result"
    }
   ],
   "source": [
    "#时间转换\n",
    "ts_utc = ts.tz_localize('UTC')\n",
    "ts_utc"
   ]
  },
  {
   "cell_type": "code",
   "execution_count": 132,
   "metadata": {
    "collapsed": false
   },
   "outputs": [
    {
     "data": {
      "text/plain": [
       "2012-03-05 19:00:00-05:00    1.149172\n",
       "2012-03-06 19:00:00-05:00   -1.557227\n",
       "2012-03-07 19:00:00-05:00   -0.385823\n",
       "2012-03-08 19:00:00-05:00   -0.126296\n",
       "2012-03-09 19:00:00-05:00   -0.206766\n",
       "Freq: D, dtype: float64"
      ]
     },
     "execution_count": 132,
     "metadata": {},
     "output_type": "execute_result"
    }
   ],
   "source": [
    "ts_utc.tz_convert('US/Eastern')"
   ]
  },
  {
   "cell_type": "code",
   "execution_count": 133,
   "metadata": {
    "collapsed": false
   },
   "outputs": [
    {
     "data": {
      "text/plain": [
       "2012-01-31   -1.542541\n",
       "2012-02-29    0.250893\n",
       "2012-03-31    0.167703\n",
       "2012-04-30   -0.772975\n",
       "2012-05-31   -0.756767\n",
       "Freq: M, dtype: float64"
      ]
     },
     "execution_count": 133,
     "metadata": {},
     "output_type": "execute_result"
    }
   ],
   "source": [
    "rng = pd.date_range('1/1/2012', periods=5, freq='M')\n",
    "ts = pd.Series(np.random.randn(len(rng)), index=rng)\n",
    "ts"
   ]
  },
  {
   "cell_type": "code",
   "execution_count": 135,
   "metadata": {
    "collapsed": false
   },
   "outputs": [
    {
     "data": {
      "text/plain": [
       "2012-01   -1.542541\n",
       "2012-02    0.250893\n",
       "2012-03    0.167703\n",
       "2012-04   -0.772975\n",
       "2012-05   -0.756767\n",
       "Freq: M, dtype: float64"
      ]
     },
     "execution_count": 135,
     "metadata": {},
     "output_type": "execute_result"
    }
   ],
   "source": [
    "#从间隔月变成了天\n",
    "#Convert Series from DatetimeIndex to PeriodIndex with desired\n",
    "#frequency (inferred from index if not passed)\n",
    "\n",
    "ps = ts.to_period()\n",
    "ps"
   ]
  },
  {
   "cell_type": "code",
   "execution_count": 136,
   "metadata": {
    "collapsed": false
   },
   "outputs": [
    {
     "data": {
      "text/plain": [
       "2012-01-01   -1.542541\n",
       "2012-02-01    0.250893\n",
       "2012-03-01    0.167703\n",
       "2012-04-01   -0.772975\n",
       "2012-05-01   -0.756767\n",
       "Freq: MS, dtype: float64"
      ]
     },
     "execution_count": 136,
     "metadata": {},
     "output_type": "execute_result"
    }
   ],
   "source": [
    "#变成了月首\n",
    "#Cast to datetimeindex of timestamps, at *beginning* of period\n",
    "ps.to_timestamp()"
   ]
  },
  {
   "cell_type": "code",
   "execution_count": 137,
   "metadata": {
    "collapsed": false
   },
   "outputs": [
    {
     "data": {
      "text/plain": [
       "1990-03-01 09:00    0.045935\n",
       "1990-06-01 09:00   -0.256993\n",
       "1990-09-01 09:00    0.960271\n",
       "1990-12-01 09:00    0.318635\n",
       "1991-03-01 09:00   -1.249774\n",
       "Freq: H, dtype: float64"
      ]
     },
     "execution_count": 137,
     "metadata": {},
     "output_type": "execute_result"
    }
   ],
   "source": [
    "#按季度\n",
    "prng = pd.period_range('1990Q1', '2000Q4', freq='Q-NOV')\n",
    "ts = pd.Series(np.random.randn(len(prng)), prng)\n",
    "ts.index = (prng.asfreq('M', 'e') + 1).asfreq('H', 's') + 9\n",
    "ts.head()"
   ]
  },
  {
   "cell_type": "markdown",
   "metadata": {},
   "source": [
    "### 绘图"
   ]
  },
  {
   "cell_type": "code",
   "execution_count": 139,
   "metadata": {
    "collapsed": false
   },
   "outputs": [
    {
     "data": {
      "text/plain": [
       "2016-04-14   -1.013267\n",
       "2016-04-15    0.338443\n",
       "2016-04-16   -0.077605\n",
       "2016-04-17   -0.318305\n",
       "2016-04-18   -1.403171\n",
       "Freq: D, dtype: float64"
      ]
     },
     "execution_count": 139,
     "metadata": {},
     "output_type": "execute_result"
    }
   ],
   "source": [
    "ts = pd.Series(np.random.randn(1000),index=pd.date_range(\"20160414\",periods=1000))\n",
    "ts.head()"
   ]
  },
  {
   "cell_type": "code",
   "execution_count": 145,
   "metadata": {
    "collapsed": false
   },
   "outputs": [
    {
     "data": {
      "text/plain": [
       "<matplotlib.axes._subplots.AxesSubplot at 0xd30c320>"
      ]
     },
     "execution_count": 145,
     "metadata": {},
     "output_type": "execute_result"
    },
    {
     "data": {
      "image/png": "[encoded data removed]",
      "text/plain": [
       "<matplotlib.figure.Figure at 0xd0f5978>"
      ]
     },
     "metadata": {},
     "output_type": "display_data"
    }
   ],
   "source": [
    "%matplotlib inline\n",
    "ts.plot()"
   ]
  },
  {
   "cell_type": "code",
   "execution_count": 146,
   "metadata": {
    "collapsed": false
   },
   "outputs": [
    {
     "data": {
      "text/plain": [
       "<matplotlib.axes._subplots.AxesSubplot at 0xd75ae80>"
      ]
     },
     "execution_count": 146,
     "metadata": {},
     "output_type": "execute_result"
    },
    {
     "data": {
      "image/png": "[encoded data removed]",
      "text/plain": [
       "<matplotlib.figure.Figure at 0xd019048>"
      ]
     },
     "metadata": {},
     "output_type": "display_data"
    }
   ],
   "source": [
    "ts = ts.cumsum()\n",
    "ts.plot()"
   ]
  },
  {
   "cell_type": "code",
   "execution_count": 151,
   "metadata": {
    "collapsed": false
   },
   "outputs": [
    {
     "data": {
      "text/plain": [
       "<matplotlib.axes._subplots.AxesSubplot at 0xd741908>"
      ]
     },
     "execution_count": 151,
     "metadata": {},
     "output_type": "execute_result"
    },
    {
     "data": {
      "image/png": "[encoded data removed]",
      "text/plain": [
       "<matplotlib.figure.Figure at 0xd741a58>"
      ]
     },
     "metadata": {},
     "output_type": "display_data"
    }
   ],
   "source": [
    "#plot通过标签很容易绘出所有字段\n",
    "df = pd.DataFrame(np.random.randn(1000,4),\n",
    "                  index=pd.date_range(\"20160401\",periods=1000),\n",
    "                 columns=[\"A\",\"B\",\"C\",\"D\"])\n",
    "\n",
    "df = df.cumsum()\n",
    "df.plot()"
   ]
  },
  {
   "cell_type": "code",
   "execution_count": 152,
   "metadata": {
    "collapsed": false
   },
   "outputs": [
    {
     "data": {
      "text/plain": [
       "<matplotlib.legend.Legend at 0x11a96320>"
      ]
     },
     "execution_count": 152,
     "metadata": {},
     "output_type": "execute_result"
    },
    {
     "data": {
      "text/plain": [
       "<matplotlib.figure.Figure at 0x124cb470>"
      ]
     },
     "metadata": {},
     "output_type": "display_data"
    },
    {
     "data": {
      "image/png": "[encoded data removed]",
      "text/plain": [
       "<matplotlib.figure.Figure at 0x115299e8>"
      ]
     },
     "metadata": {},
     "output_type": "display_data"
    }
   ],
   "source": [
    "#plt.figure();df.plot();plt.legend(loc=\"best\")"
   ]
  },
  {
   "cell_type": "markdown",
   "metadata": {},
   "source": [
    "### 数据读入读出"
   ]
  },
  {
   "cell_type": "code",
   "execution_count": 153,
   "metadata": {
    "collapsed": true
   },
   "outputs": [],
   "source": [
    "#将数据以csv格式写入到csv文件里\n",
    "df.to_csv(\"foo.csv\")"
   ]
  },
  {
   "cell_type": "code",
   "execution_count": 154,
   "metadata": {
    "collapsed": false
   },
   "outputs": [
    {
     "data": {
      "text/html": [
       "<div>\n",
       "<table border=\"1\" class=\"dataframe\">\n",
       "  <thead>\n",
       "    <tr style=\"text-align: right;\">\n",
       "      <th></th>\n",
       "      <th>Unnamed: 0</th>\n",
       "      <th>A</th>\n",
       "      <th>B</th>\n",
       "      <th>C</th>\n",
       "      <th>D</th>\n",
       "    </tr>\n",
       "  </thead>\n",
       "  <tbody>\n",
       "    <tr>\n",
       "      <th>0</th>\n",
       "      <td>2016-04-01</td>\n",
       "      <td>1.554704</td>\n",
       "      <td>-0.201846</td>\n",
       "      <td>1.003132</td>\n",
       "      <td>-1.788251</td>\n",
       "    </tr>\n",
       "    <tr>\n",
       "      <th>1</th>\n",
       "      <td>2016-04-02</td>\n",
       "      <td>3.011026</td>\n",
       "      <td>0.758091</td>\n",
       "      <td>1.164068</td>\n",
       "      <td>-1.260183</td>\n",
       "    </tr>\n",
       "    <tr>\n",
       "      <th>2</th>\n",
       "      <td>2016-04-03</td>\n",
       "      <td>4.329196</td>\n",
       "      <td>-0.024705</td>\n",
       "      <td>0.343177</td>\n",
       "      <td>-2.216180</td>\n",
       "    </tr>\n",
       "    <tr>\n",
       "      <th>3</th>\n",
       "      <td>2016-04-04</td>\n",
       "      <td>4.684878</td>\n",
       "      <td>2.017070</td>\n",
       "      <td>0.545985</td>\n",
       "      <td>-2.257763</td>\n",
       "    </tr>\n",
       "    <tr>\n",
       "      <th>4</th>\n",
       "      <td>2016-04-05</td>\n",
       "      <td>4.826087</td>\n",
       "      <td>1.651106</td>\n",
       "      <td>0.495529</td>\n",
       "      <td>-2.246019</td>\n",
       "    </tr>\n",
       "    <tr>\n",
       "      <th>5</th>\n",
       "      <td>2016-04-06</td>\n",
       "      <td>6.002997</td>\n",
       "      <td>0.978382</td>\n",
       "      <td>-0.929421</td>\n",
       "      <td>-2.224742</td>\n",
       "    </tr>\n",
       "    <tr>\n",
       "      <th>6</th>\n",
       "      <td>2016-04-07</td>\n",
       "      <td>7.111712</td>\n",
       "      <td>2.546024</td>\n",
       "      <td>-1.657050</td>\n",
       "      <td>-2.188741</td>\n",
       "    </tr>\n",
       "    <tr>\n",
       "      <th>7</th>\n",
       "      <td>2016-04-08</td>\n",
       "      <td>6.311640</td>\n",
       "      <td>3.665048</td>\n",
       "      <td>-1.306682</td>\n",
       "      <td>-0.746576</td>\n",
       "    </tr>\n",
       "    <tr>\n",
       "      <th>8</th>\n",
       "      <td>2016-04-09</td>\n",
       "      <td>4.704858</td>\n",
       "      <td>3.412176</td>\n",
       "      <td>-2.685521</td>\n",
       "      <td>-2.742585</td>\n",
       "    </tr>\n",
       "    <tr>\n",
       "      <th>9</th>\n",
       "      <td>2016-04-10</td>\n",
       "      <td>4.662842</td>\n",
       "      <td>3.213633</td>\n",
       "      <td>-3.338678</td>\n",
       "      <td>-2.161218</td>\n",
       "    </tr>\n",
       "    <tr>\n",
       "      <th>10</th>\n",
       "      <td>2016-04-11</td>\n",
       "      <td>4.575059</td>\n",
       "      <td>4.261202</td>\n",
       "      <td>-3.626132</td>\n",
       "      <td>-2.253072</td>\n",
       "    </tr>\n",
       "    <tr>\n",
       "      <th>11</th>\n",
       "      <td>2016-04-12</td>\n",
       "      <td>4.970526</td>\n",
       "      <td>2.959942</td>\n",
       "      <td>-4.070981</td>\n",
       "      <td>-1.455730</td>\n",
       "    </tr>\n",
       "    <tr>\n",
       "      <th>12</th>\n",
       "      <td>2016-04-13</td>\n",
       "      <td>6.134842</td>\n",
       "      <td>1.958898</td>\n",
       "      <td>-2.853433</td>\n",
       "      <td>0.146288</td>\n",
       "    </tr>\n",
       "    <tr>\n",
       "      <th>13</th>\n",
       "      <td>2016-04-14</td>\n",
       "      <td>6.473295</td>\n",
       "      <td>1.674590</td>\n",
       "      <td>-1.987256</td>\n",
       "      <td>-1.551276</td>\n",
       "    </tr>\n",
       "    <tr>\n",
       "      <th>14</th>\n",
       "      <td>2016-04-15</td>\n",
       "      <td>6.939549</td>\n",
       "      <td>1.894014</td>\n",
       "      <td>-0.621653</td>\n",
       "      <td>-2.419255</td>\n",
       "    </tr>\n",
       "    <tr>\n",
       "      <th>15</th>\n",
       "      <td>2016-04-16</td>\n",
       "      <td>5.292499</td>\n",
       "      <td>2.151749</td>\n",
       "      <td>-1.510761</td>\n",
       "      <td>-2.455120</td>\n",
       "    </tr>\n",
       "    <tr>\n",
       "      <th>16</th>\n",
       "      <td>2016-04-17</td>\n",
       "      <td>7.537944</td>\n",
       "      <td>4.305423</td>\n",
       "      <td>-1.252206</td>\n",
       "      <td>-1.233643</td>\n",
       "    </tr>\n",
       "    <tr>\n",
       "      <th>17</th>\n",
       "      <td>2016-04-18</td>\n",
       "      <td>7.142927</td>\n",
       "      <td>3.954251</td>\n",
       "      <td>-0.369733</td>\n",
       "      <td>-3.170486</td>\n",
       "    </tr>\n",
       "    <tr>\n",
       "      <th>18</th>\n",
       "      <td>2016-04-19</td>\n",
       "      <td>6.938178</td>\n",
       "      <td>5.827573</td>\n",
       "      <td>0.720813</td>\n",
       "      <td>-2.895675</td>\n",
       "    </tr>\n",
       "    <tr>\n",
       "      <th>19</th>\n",
       "      <td>2016-04-20</td>\n",
       "      <td>6.126972</td>\n",
       "      <td>4.446290</td>\n",
       "      <td>0.271736</td>\n",
       "      <td>-2.935799</td>\n",
       "    </tr>\n",
       "    <tr>\n",
       "      <th>20</th>\n",
       "      <td>2016-04-21</td>\n",
       "      <td>4.873332</td>\n",
       "      <td>2.923423</td>\n",
       "      <td>1.164919</td>\n",
       "      <td>-2.379924</td>\n",
       "    </tr>\n",
       "    <tr>\n",
       "      <th>21</th>\n",
       "      <td>2016-04-22</td>\n",
       "      <td>5.343691</td>\n",
       "      <td>1.984919</td>\n",
       "      <td>0.489747</td>\n",
       "      <td>-2.689790</td>\n",
       "    </tr>\n",
       "    <tr>\n",
       "      <th>22</th>\n",
       "      <td>2016-04-23</td>\n",
       "      <td>5.266796</td>\n",
       "      <td>1.041342</td>\n",
       "      <td>-0.912134</td>\n",
       "      <td>-1.335098</td>\n",
       "    </tr>\n",
       "    <tr>\n",
       "      <th>23</th>\n",
       "      <td>2016-04-24</td>\n",
       "      <td>7.246826</td>\n",
       "      <td>0.703701</td>\n",
       "      <td>-0.875879</td>\n",
       "      <td>-0.326643</td>\n",
       "    </tr>\n",
       "    <tr>\n",
       "      <th>24</th>\n",
       "      <td>2016-04-25</td>\n",
       "      <td>7.074297</td>\n",
       "      <td>0.075711</td>\n",
       "      <td>-2.842599</td>\n",
       "      <td>-0.663095</td>\n",
       "    </tr>\n",
       "    <tr>\n",
       "      <th>25</th>\n",
       "      <td>2016-04-26</td>\n",
       "      <td>6.782453</td>\n",
       "      <td>0.325073</td>\n",
       "      <td>-2.014799</td>\n",
       "      <td>0.313389</td>\n",
       "    </tr>\n",
       "    <tr>\n",
       "      <th>26</th>\n",
       "      <td>2016-04-27</td>\n",
       "      <td>4.345549</td>\n",
       "      <td>0.869914</td>\n",
       "      <td>-1.699253</td>\n",
       "      <td>0.067213</td>\n",
       "    </tr>\n",
       "    <tr>\n",
       "      <th>27</th>\n",
       "      <td>2016-04-28</td>\n",
       "      <td>4.847777</td>\n",
       "      <td>1.183148</td>\n",
       "      <td>-3.924882</td>\n",
       "      <td>1.501498</td>\n",
       "    </tr>\n",
       "    <tr>\n",
       "      <th>28</th>\n",
       "      <td>2016-04-29</td>\n",
       "      <td>4.565872</td>\n",
       "      <td>-0.340428</td>\n",
       "      <td>-2.598597</td>\n",
       "      <td>0.948867</td>\n",
       "    </tr>\n",
       "    <tr>\n",
       "      <th>29</th>\n",
       "      <td>2016-04-30</td>\n",
       "      <td>0.838182</td>\n",
       "      <td>-0.121592</td>\n",
       "      <td>-2.235079</td>\n",
       "      <td>1.502875</td>\n",
       "    </tr>\n",
       "    <tr>\n",
       "      <th>...</th>\n",
       "      <td>...</td>\n",
       "      <td>...</td>\n",
       "      <td>...</td>\n",
       "      <td>...</td>\n",
       "      <td>...</td>\n",
       "    </tr>\n",
       "    <tr>\n",
       "      <th>970</th>\n",
       "      <td>2018-11-27</td>\n",
       "      <td>16.115521</td>\n",
       "      <td>0.751783</td>\n",
       "      <td>-29.990381</td>\n",
       "      <td>37.128349</td>\n",
       "    </tr>\n",
       "    <tr>\n",
       "      <th>971</th>\n",
       "      <td>2018-11-28</td>\n",
       "      <td>16.433015</td>\n",
       "      <td>0.529010</td>\n",
       "      <td>-29.669217</td>\n",
       "      <td>37.027020</td>\n",
       "    </tr>\n",
       "    <tr>\n",
       "      <th>972</th>\n",
       "      <td>2018-11-29</td>\n",
       "      <td>17.518527</td>\n",
       "      <td>0.215981</td>\n",
       "      <td>-29.263716</td>\n",
       "      <td>36.190719</td>\n",
       "    </tr>\n",
       "    <tr>\n",
       "      <th>973</th>\n",
       "      <td>2018-11-30</td>\n",
       "      <td>17.778690</td>\n",
       "      <td>-0.867786</td>\n",
       "      <td>-28.776040</td>\n",
       "      <td>35.715538</td>\n",
       "    </tr>\n",
       "    <tr>\n",
       "      <th>974</th>\n",
       "      <td>2018-12-01</td>\n",
       "      <td>18.002558</td>\n",
       "      <td>-1.632566</td>\n",
       "      <td>-27.740981</td>\n",
       "      <td>34.645737</td>\n",
       "    </tr>\n",
       "    <tr>\n",
       "      <th>975</th>\n",
       "      <td>2018-12-02</td>\n",
       "      <td>19.703965</td>\n",
       "      <td>-0.942743</td>\n",
       "      <td>-27.849554</td>\n",
       "      <td>36.651755</td>\n",
       "    </tr>\n",
       "    <tr>\n",
       "      <th>976</th>\n",
       "      <td>2018-12-03</td>\n",
       "      <td>20.501670</td>\n",
       "      <td>0.446489</td>\n",
       "      <td>-27.204278</td>\n",
       "      <td>36.018221</td>\n",
       "    </tr>\n",
       "    <tr>\n",
       "      <th>977</th>\n",
       "      <td>2018-12-04</td>\n",
       "      <td>20.819691</td>\n",
       "      <td>2.169011</td>\n",
       "      <td>-26.433051</td>\n",
       "      <td>35.570307</td>\n",
       "    </tr>\n",
       "    <tr>\n",
       "      <th>978</th>\n",
       "      <td>2018-12-05</td>\n",
       "      <td>22.200314</td>\n",
       "      <td>2.534643</td>\n",
       "      <td>-27.741286</td>\n",
       "      <td>34.724275</td>\n",
       "    </tr>\n",
       "    <tr>\n",
       "      <th>979</th>\n",
       "      <td>2018-12-06</td>\n",
       "      <td>23.858770</td>\n",
       "      <td>1.777469</td>\n",
       "      <td>-25.866123</td>\n",
       "      <td>36.686627</td>\n",
       "    </tr>\n",
       "    <tr>\n",
       "      <th>980</th>\n",
       "      <td>2018-12-07</td>\n",
       "      <td>23.579490</td>\n",
       "      <td>1.718701</td>\n",
       "      <td>-25.447224</td>\n",
       "      <td>36.881905</td>\n",
       "    </tr>\n",
       "    <tr>\n",
       "      <th>981</th>\n",
       "      <td>2018-12-08</td>\n",
       "      <td>24.518579</td>\n",
       "      <td>1.988245</td>\n",
       "      <td>-24.999476</td>\n",
       "      <td>37.532786</td>\n",
       "    </tr>\n",
       "    <tr>\n",
       "      <th>982</th>\n",
       "      <td>2018-12-09</td>\n",
       "      <td>27.605902</td>\n",
       "      <td>0.945529</td>\n",
       "      <td>-24.787197</td>\n",
       "      <td>36.873761</td>\n",
       "    </tr>\n",
       "    <tr>\n",
       "      <th>983</th>\n",
       "      <td>2018-12-10</td>\n",
       "      <td>27.433232</td>\n",
       "      <td>-0.630668</td>\n",
       "      <td>-25.407878</td>\n",
       "      <td>37.572366</td>\n",
       "    </tr>\n",
       "    <tr>\n",
       "      <th>984</th>\n",
       "      <td>2018-12-11</td>\n",
       "      <td>27.335817</td>\n",
       "      <td>0.418094</td>\n",
       "      <td>-25.616999</td>\n",
       "      <td>35.484215</td>\n",
       "    </tr>\n",
       "    <tr>\n",
       "      <th>985</th>\n",
       "      <td>2018-12-12</td>\n",
       "      <td>27.673000</td>\n",
       "      <td>-1.201845</td>\n",
       "      <td>-26.319211</td>\n",
       "      <td>34.414302</td>\n",
       "    </tr>\n",
       "    <tr>\n",
       "      <th>986</th>\n",
       "      <td>2018-12-13</td>\n",
       "      <td>27.480736</td>\n",
       "      <td>-1.132965</td>\n",
       "      <td>-26.292781</td>\n",
       "      <td>34.206313</td>\n",
       "    </tr>\n",
       "    <tr>\n",
       "      <th>987</th>\n",
       "      <td>2018-12-14</td>\n",
       "      <td>28.404567</td>\n",
       "      <td>-0.410335</td>\n",
       "      <td>-27.257036</td>\n",
       "      <td>34.449926</td>\n",
       "    </tr>\n",
       "    <tr>\n",
       "      <th>988</th>\n",
       "      <td>2018-12-15</td>\n",
       "      <td>27.788902</td>\n",
       "      <td>-1.063551</td>\n",
       "      <td>-24.442014</td>\n",
       "      <td>34.261669</td>\n",
       "    </tr>\n",
       "    <tr>\n",
       "      <th>989</th>\n",
       "      <td>2018-12-16</td>\n",
       "      <td>28.109459</td>\n",
       "      <td>-1.747501</td>\n",
       "      <td>-23.775271</td>\n",
       "      <td>34.529911</td>\n",
       "    </tr>\n",
       "    <tr>\n",
       "      <th>990</th>\n",
       "      <td>2018-12-17</td>\n",
       "      <td>28.074601</td>\n",
       "      <td>-1.588247</td>\n",
       "      <td>-24.329296</td>\n",
       "      <td>32.463628</td>\n",
       "    </tr>\n",
       "    <tr>\n",
       "      <th>991</th>\n",
       "      <td>2018-12-18</td>\n",
       "      <td>27.889670</td>\n",
       "      <td>-2.357198</td>\n",
       "      <td>-24.697030</td>\n",
       "      <td>31.872871</td>\n",
       "    </tr>\n",
       "    <tr>\n",
       "      <th>992</th>\n",
       "      <td>2018-12-19</td>\n",
       "      <td>28.043489</td>\n",
       "      <td>-1.087981</td>\n",
       "      <td>-24.925947</td>\n",
       "      <td>31.667218</td>\n",
       "    </tr>\n",
       "    <tr>\n",
       "      <th>993</th>\n",
       "      <td>2018-12-20</td>\n",
       "      <td>28.040341</td>\n",
       "      <td>-1.832016</td>\n",
       "      <td>-26.195755</td>\n",
       "      <td>31.519530</td>\n",
       "    </tr>\n",
       "    <tr>\n",
       "      <th>994</th>\n",
       "      <td>2018-12-21</td>\n",
       "      <td>26.467778</td>\n",
       "      <td>-1.474478</td>\n",
       "      <td>-23.156629</td>\n",
       "      <td>32.548608</td>\n",
       "    </tr>\n",
       "    <tr>\n",
       "      <th>995</th>\n",
       "      <td>2018-12-22</td>\n",
       "      <td>27.343328</td>\n",
       "      <td>-1.819960</td>\n",
       "      <td>-24.270678</td>\n",
       "      <td>31.535453</td>\n",
       "    </tr>\n",
       "    <tr>\n",
       "      <th>996</th>\n",
       "      <td>2018-12-23</td>\n",
       "      <td>28.226535</td>\n",
       "      <td>-1.517058</td>\n",
       "      <td>-23.587823</td>\n",
       "      <td>30.923346</td>\n",
       "    </tr>\n",
       "    <tr>\n",
       "      <th>997</th>\n",
       "      <td>2018-12-24</td>\n",
       "      <td>27.732380</td>\n",
       "      <td>-2.295025</td>\n",
       "      <td>-23.956471</td>\n",
       "      <td>32.478497</td>\n",
       "    </tr>\n",
       "    <tr>\n",
       "      <th>998</th>\n",
       "      <td>2018-12-25</td>\n",
       "      <td>27.405151</td>\n",
       "      <td>-3.587830</td>\n",
       "      <td>-23.761833</td>\n",
       "      <td>33.212327</td>\n",
       "    </tr>\n",
       "    <tr>\n",
       "      <th>999</th>\n",
       "      <td>2018-12-26</td>\n",
       "      <td>28.490398</td>\n",
       "      <td>-2.980880</td>\n",
       "      <td>-25.407366</td>\n",
       "      <td>33.715996</td>\n",
       "    </tr>\n",
       "  </tbody>\n",
       "</table>\n",
       "<p>1000 rows × 5 columns</p>\n",
       "</div>"
      ],
      "text/plain": [
       "     Unnamed: 0          A         B          C          D\n",
       "0    2016-04-01   1.554704 -0.201846   1.003132  -1.788251\n",
       "1    2016-04-02   3.011026  0.758091   1.164068  -1.260183\n",
       "2    2016-04-03   4.329196 -0.024705   0.343177  -2.216180\n",
       "3    2016-04-04   4.684878  2.017070   0.545985  -2.257763\n",
       "4    2016-04-05   4.826087  1.651106   0.495529  -2.246019\n",
       "5    2016-04-06   6.002997  0.978382  -0.929421  -2.224742\n",
       "6    2016-04-07   7.111712  2.546024  -1.657050  -2.188741\n",
       "7    2016-04-08   6.311640  3.665048  -1.306682  -0.746576\n",
       "8    2016-04-09   4.704858  3.412176  -2.685521  -2.742585\n",
       "9    2016-04-10   4.662842  3.213633  -3.338678  -2.161218\n",
       "10   2016-04-11   4.575059  4.261202  -3.626132  -2.253072\n",
       "11   2016-04-12   4.970526  2.959942  -4.070981  -1.455730\n",
       "12   2016-04-13   6.134842  1.958898  -2.853433   0.146288\n",
       "13   2016-04-14   6.473295  1.674590  -1.987256  -1.551276\n",
       "14   2016-04-15   6.939549  1.894014  -0.621653  -2.419255\n",
       "15   2016-04-16   5.292499  2.151749  -1.510761  -2.455120\n",
       "16   2016-04-17   7.537944  4.305423  -1.252206  -1.233643\n",
       "17   2016-04-18   7.142927  3.954251  -0.369733  -3.170486\n",
       "18   2016-04-19   6.938178  5.827573   0.720813  -2.895675\n",
       "19   2016-04-20   6.126972  4.446290   0.271736  -2.935799\n",
       "20   2016-04-21   4.873332  2.923423   1.164919  -2.379924\n",
       "21   2016-04-22   5.343691  1.984919   0.489747  -2.689790\n",
       "22   2016-04-23   5.266796  1.041342  -0.912134  -1.335098\n",
       "23   2016-04-24   7.246826  0.703701  -0.875879  -0.326643\n",
       "24   2016-04-25   7.074297  0.075711  -2.842599  -0.663095\n",
       "25   2016-04-26   6.782453  0.325073  -2.014799   0.313389\n",
       "26   2016-04-27   4.345549  0.869914  -1.699253   0.067213\n",
       "27   2016-04-28   4.847777  1.183148  -3.924882   1.501498\n",
       "28   2016-04-29   4.565872 -0.340428  -2.598597   0.948867\n",
       "29   2016-04-30   0.838182 -0.121592  -2.235079   1.502875\n",
       "..          ...        ...       ...        ...        ...\n",
       "970  2018-11-27  16.115521  0.751783 -29.990381  37.128349\n",
       "971  2018-11-28  16.433015  0.529010 -29.669217  37.027020\n",
       "972  2018-11-29  17.518527  0.215981 -29.263716  36.190719\n",
       "973  2018-11-30  17.778690 -0.867786 -28.776040  35.715538\n",
       "974  2018-12-01  18.002558 -1.632566 -27.740981  34.645737\n",
       "975  2018-12-02  19.703965 -0.942743 -27.849554  36.651755\n",
       "976  2018-12-03  20.501670  0.446489 -27.204278  36.018221\n",
       "977  2018-12-04  20.819691  2.169011 -26.433051  35.570307\n",
       "978  2018-12-05  22.200314  2.534643 -27.741286  34.724275\n",
       "979  2018-12-06  23.858770  1.777469 -25.866123  36.686627\n",
       "980  2018-12-07  23.579490  1.718701 -25.447224  36.881905\n",
       "981  2018-12-08  24.518579  1.988245 -24.999476  37.532786\n",
       "982  2018-12-09  27.605902  0.945529 -24.787197  36.873761\n",
       "983  2018-12-10  27.433232 -0.630668 -25.407878  37.572366\n",
       "984  2018-12-11  27.335817  0.418094 -25.616999  35.484215\n",
       "985  2018-12-12  27.673000 -1.201845 -26.319211  34.414302\n",
       "986  2018-12-13  27.480736 -1.132965 -26.292781  34.206313\n",
       "987  2018-12-14  28.404567 -0.410335 -27.257036  34.449926\n",
       "988  2018-12-15  27.788902 -1.063551 -24.442014  34.261669\n",
       "989  2018-12-16  28.109459 -1.747501 -23.775271  34.529911\n",
       "990  2018-12-17  28.074601 -1.588247 -24.329296  32.463628\n",
       "991  2018-12-18  27.889670 -2.357198 -24.697030  31.872871\n",
       "992  2018-12-19  28.043489 -1.087981 -24.925947  31.667218\n",
       "993  2018-12-20  28.040341 -1.832016 -26.195755  31.519530\n",
       "994  2018-12-21  26.467778 -1.474478 -23.156629  32.548608\n",
       "995  2018-12-22  27.343328 -1.819960 -24.270678  31.535453\n",
       "996  2018-12-23  28.226535 -1.517058 -23.587823  30.923346\n",
       "997  2018-12-24  27.732380 -2.295025 -23.956471  32.478497\n",
       "998  2018-12-25  27.405151 -3.587830 -23.761833  33.212327\n",
       "999  2018-12-26  28.490398 -2.980880 -25.407366  33.715996\n",
       "\n",
       "[1000 rows x 5 columns]"
      ]
     },
     "execution_count": 154,
     "metadata": {},
     "output_type": "execute_result"
    }
   ],
   "source": [
    "#读入csv文件\n",
    "pd.read_csv(\"foo.csv\")"
   ]
  },
  {
   "cell_type": "code",
   "execution_count": 155,
   "metadata": {
    "collapsed": true
   },
   "outputs": [],
   "source": [
    "#以hd5格式保存\n",
    "df.to_hdf(\"foo.h5\",\"df\")"
   ]
  },
  {
   "cell_type": "code",
   "execution_count": 156,
   "metadata": {
    "collapsed": false
   },
   "outputs": [
    {
     "data": {
      "text/html": [
       "<div>\n",
       "<table border=\"1\" class=\"dataframe\">\n",
       "  <thead>\n",
       "    <tr style=\"text-align: right;\">\n",
       "      <th></th>\n",
       "      <th>A</th>\n",
       "      <th>B</th>\n",
       "      <th>C</th>\n",
       "      <th>D</th>\n",
       "    </tr>\n",
       "  </thead>\n",
       "  <tbody>\n",
       "    <tr>\n",
       "      <th>2016-04-01</th>\n",
       "      <td>1.554704</td>\n",
       "      <td>-0.201846</td>\n",
       "      <td>1.003132</td>\n",
       "      <td>-1.788251</td>\n",
       "    </tr>\n",
       "    <tr>\n",
       "      <th>2016-04-02</th>\n",
       "      <td>3.011026</td>\n",
       "      <td>0.758091</td>\n",
       "      <td>1.164068</td>\n",
       "      <td>-1.260183</td>\n",
       "    </tr>\n",
       "    <tr>\n",
       "      <th>2016-04-03</th>\n",
       "      <td>4.329196</td>\n",
       "      <td>-0.024705</td>\n",
       "      <td>0.343177</td>\n",
       "      <td>-2.216180</td>\n",
       "    </tr>\n",
       "    <tr>\n",
       "      <th>2016-04-04</th>\n",
       "      <td>4.684878</td>\n",
       "      <td>2.017070</td>\n",
       "      <td>0.545985</td>\n",
       "      <td>-2.257763</td>\n",
       "    </tr>\n",
       "    <tr>\n",
       "      <th>2016-04-05</th>\n",
       "      <td>4.826087</td>\n",
       "      <td>1.651106</td>\n",
       "      <td>0.495529</td>\n",
       "      <td>-2.246019</td>\n",
       "    </tr>\n",
       "    <tr>\n",
       "      <th>2016-04-06</th>\n",
       "      <td>6.002997</td>\n",
       "      <td>0.978382</td>\n",
       "      <td>-0.929421</td>\n",
       "      <td>-2.224742</td>\n",
       "    </tr>\n",
       "    <tr>\n",
       "      <th>2016-04-07</th>\n",
       "      <td>7.111712</td>\n",
       "      <td>2.546024</td>\n",
       "      <td>-1.657050</td>\n",
       "      <td>-2.188741</td>\n",
       "    </tr>\n",
       "    <tr>\n",
       "      <th>2016-04-08</th>\n",
       "      <td>6.311640</td>\n",
       "      <td>3.665048</td>\n",
       "      <td>-1.306682</td>\n",
       "      <td>-0.746576</td>\n",
       "    </tr>\n",
       "    <tr>\n",
       "      <th>2016-04-09</th>\n",
       "      <td>4.704858</td>\n",
       "      <td>3.412176</td>\n",
       "      <td>-2.685521</td>\n",
       "      <td>-2.742585</td>\n",
       "    </tr>\n",
       "    <tr>\n",
       "      <th>2016-04-10</th>\n",
       "      <td>4.662842</td>\n",
       "      <td>3.213633</td>\n",
       "      <td>-3.338678</td>\n",
       "      <td>-2.161218</td>\n",
       "    </tr>\n",
       "    <tr>\n",
       "      <th>2016-04-11</th>\n",
       "      <td>4.575059</td>\n",
       "      <td>4.261202</td>\n",
       "      <td>-3.626132</td>\n",
       "      <td>-2.253072</td>\n",
       "    </tr>\n",
       "    <tr>\n",
       "      <th>2016-04-12</th>\n",
       "      <td>4.970526</td>\n",
       "      <td>2.959942</td>\n",
       "      <td>-4.070981</td>\n",
       "      <td>-1.455730</td>\n",
       "    </tr>\n",
       "    <tr>\n",
       "      <th>2016-04-13</th>\n",
       "      <td>6.134842</td>\n",
       "      <td>1.958898</td>\n",
       "      <td>-2.853433</td>\n",
       "      <td>0.146288</td>\n",
       "    </tr>\n",
       "    <tr>\n",
       "      <th>2016-04-14</th>\n",
       "      <td>6.473295</td>\n",
       "      <td>1.674590</td>\n",
       "      <td>-1.987256</td>\n",
       "      <td>-1.551276</td>\n",
       "    </tr>\n",
       "    <tr>\n",
       "      <th>2016-04-15</th>\n",
       "      <td>6.939549</td>\n",
       "      <td>1.894014</td>\n",
       "      <td>-0.621653</td>\n",
       "      <td>-2.419255</td>\n",
       "    </tr>\n",
       "    <tr>\n",
       "      <th>2016-04-16</th>\n",
       "      <td>5.292499</td>\n",
       "      <td>2.151749</td>\n",
       "      <td>-1.510761</td>\n",
       "      <td>-2.455120</td>\n",
       "    </tr>\n",
       "    <tr>\n",
       "      <th>2016-04-17</th>\n",
       "      <td>7.537944</td>\n",
       "      <td>4.305423</td>\n",
       "      <td>-1.252206</td>\n",
       "      <td>-1.233643</td>\n",
       "    </tr>\n",
       "    <tr>\n",
       "      <th>2016-04-18</th>\n",
       "      <td>7.142927</td>\n",
       "      <td>3.954251</td>\n",
       "      <td>-0.369733</td>\n",
       "      <td>-3.170486</td>\n",
       "    </tr>\n",
       "    <tr>\n",
       "      <th>2016-04-19</th>\n",
       "      <td>6.938178</td>\n",
       "      <td>5.827573</td>\n",
       "      <td>0.720813</td>\n",
       "      <td>-2.895675</td>\n",
       "    </tr>\n",
       "    <tr>\n",
       "      <th>2016-04-20</th>\n",
       "      <td>6.126972</td>\n",
       "      <td>4.446290</td>\n",
       "      <td>0.271736</td>\n",
       "      <td>-2.935799</td>\n",
       "    </tr>\n",
       "    <tr>\n",
       "      <th>2016-04-21</th>\n",
       "      <td>4.873332</td>\n",
       "      <td>2.923423</td>\n",
       "      <td>1.164919</td>\n",
       "      <td>-2.379924</td>\n",
       "    </tr>\n",
       "    <tr>\n",
       "      <th>2016-04-22</th>\n",
       "      <td>5.343691</td>\n",
       "      <td>1.984919</td>\n",
       "      <td>0.489747</td>\n",
       "      <td>-2.689790</td>\n",
       "    </tr>\n",
       "    <tr>\n",
       "      <th>2016-04-23</th>\n",
       "      <td>5.266796</td>\n",
       "      <td>1.041342</td>\n",
       "      <td>-0.912134</td>\n",
       "      <td>-1.335098</td>\n",
       "    </tr>\n",
       "    <tr>\n",
       "      <th>2016-04-24</th>\n",
       "      <td>7.246826</td>\n",
       "      <td>0.703701</td>\n",
       "      <td>-0.875879</td>\n",
       "      <td>-0.326643</td>\n",
       "    </tr>\n",
       "    <tr>\n",
       "      <th>2016-04-25</th>\n",
       "      <td>7.074297</td>\n",
       "      <td>0.075711</td>\n",
       "      <td>-2.842599</td>\n",
       "      <td>-0.663095</td>\n",
       "    </tr>\n",
       "    <tr>\n",
       "      <th>2016-04-26</th>\n",
       "      <td>6.782453</td>\n",
       "      <td>0.325073</td>\n",
       "      <td>-2.014799</td>\n",
       "      <td>0.313389</td>\n",
       "    </tr>\n",
       "    <tr>\n",
       "      <th>2016-04-27</th>\n",
       "      <td>4.345549</td>\n",
       "      <td>0.869914</td>\n",
       "      <td>-1.699253</td>\n",
       "      <td>0.067213</td>\n",
       "    </tr>\n",
       "    <tr>\n",
       "      <th>2016-04-28</th>\n",
       "      <td>4.847777</td>\n",
       "      <td>1.183148</td>\n",
       "      <td>-3.924882</td>\n",
       "      <td>1.501498</td>\n",
       "    </tr>\n",
       "    <tr>\n",
       "      <th>2016-04-29</th>\n",
       "      <td>4.565872</td>\n",
       "      <td>-0.340428</td>\n",
       "      <td>-2.598597</td>\n",
       "      <td>0.948867</td>\n",
       "    </tr>\n",
       "    <tr>\n",
       "      <th>2016-04-30</th>\n",
       "      <td>0.838182</td>\n",
       "      <td>-0.121592</td>\n",
       "      <td>-2.235079</td>\n",
       "      <td>1.502875</td>\n",
       "    </tr>\n",
       "    <tr>\n",
       "      <th>...</th>\n",
       "      <td>...</td>\n",
       "      <td>...</td>\n",
       "      <td>...</td>\n",
       "      <td>...</td>\n",
       "    </tr>\n",
       "    <tr>\n",
       "      <th>2018-11-27</th>\n",
       "      <td>16.115521</td>\n",
       "      <td>0.751783</td>\n",
       "      <td>-29.990381</td>\n",
       "      <td>37.128349</td>\n",
       "    </tr>\n",
       "    <tr>\n",
       "      <th>2018-11-28</th>\n",
       "      <td>16.433015</td>\n",
       "      <td>0.529010</td>\n",
       "      <td>-29.669217</td>\n",
       "      <td>37.027020</td>\n",
       "    </tr>\n",
       "    <tr>\n",
       "      <th>2018-11-29</th>\n",
       "      <td>17.518527</td>\n",
       "      <td>0.215981</td>\n",
       "      <td>-29.263716</td>\n",
       "      <td>36.190719</td>\n",
       "    </tr>\n",
       "    <tr>\n",
       "      <th>2018-11-30</th>\n",
       "      <td>17.778690</td>\n",
       "      <td>-0.867786</td>\n",
       "      <td>-28.776040</td>\n",
       "      <td>35.715538</td>\n",
       "    </tr>\n",
       "    <tr>\n",
       "      <th>2018-12-01</th>\n",
       "      <td>18.002558</td>\n",
       "      <td>-1.632566</td>\n",
       "      <td>-27.740981</td>\n",
       "      <td>34.645737</td>\n",
       "    </tr>\n",
       "    <tr>\n",
       "      <th>2018-12-02</th>\n",
       "      <td>19.703965</td>\n",
       "      <td>-0.942743</td>\n",
       "      <td>-27.849554</td>\n",
       "      <td>36.651755</td>\n",
       "    </tr>\n",
       "    <tr>\n",
       "      <th>2018-12-03</th>\n",
       "      <td>20.501670</td>\n",
       "      <td>0.446489</td>\n",
       "      <td>-27.204278</td>\n",
       "      <td>36.018221</td>\n",
       "    </tr>\n",
       "    <tr>\n",
       "      <th>2018-12-04</th>\n",
       "      <td>20.819691</td>\n",
       "      <td>2.169011</td>\n",
       "      <td>-26.433051</td>\n",
       "      <td>35.570307</td>\n",
       "    </tr>\n",
       "    <tr>\n",
       "      <th>2018-12-05</th>\n",
       "      <td>22.200314</td>\n",
       "      <td>2.534643</td>\n",
       "      <td>-27.741286</td>\n",
       "      <td>34.724275</td>\n",
       "    </tr>\n",
       "    <tr>\n",
       "      <th>2018-12-06</th>\n",
       "      <td>23.858770</td>\n",
       "      <td>1.777469</td>\n",
       "      <td>-25.866123</td>\n",
       "      <td>36.686627</td>\n",
       "    </tr>\n",
       "    <tr>\n",
       "      <th>2018-12-07</th>\n",
       "      <td>23.579490</td>\n",
       "      <td>1.718701</td>\n",
       "      <td>-25.447224</td>\n",
       "      <td>36.881905</td>\n",
       "    </tr>\n",
       "    <tr>\n",
       "      <th>2018-12-08</th>\n",
       "      <td>24.518579</td>\n",
       "      <td>1.988245</td>\n",
       "      <td>-24.999476</td>\n",
       "      <td>37.532786</td>\n",
       "    </tr>\n",
       "    <tr>\n",
       "      <th>2018-12-09</th>\n",
       "      <td>27.605902</td>\n",
       "      <td>0.945529</td>\n",
       "      <td>-24.787197</td>\n",
       "      <td>36.873761</td>\n",
       "    </tr>\n",
       "    <tr>\n",
       "      <th>2018-12-10</th>\n",
       "      <td>27.433232</td>\n",
       "      <td>-0.630668</td>\n",
       "      <td>-25.407878</td>\n",
       "      <td>37.572366</td>\n",
       "    </tr>\n",
       "    <tr>\n",
       "      <th>2018-12-11</th>\n",
       "      <td>27.335817</td>\n",
       "      <td>0.418094</td>\n",
       "      <td>-25.616999</td>\n",
       "      <td>35.484215</td>\n",
       "    </tr>\n",
       "    <tr>\n",
       "      <th>2018-12-12</th>\n",
       "      <td>27.673000</td>\n",
       "      <td>-1.201845</td>\n",
       "      <td>-26.319211</td>\n",
       "      <td>34.414302</td>\n",
       "    </tr>\n",
       "    <tr>\n",
       "      <th>2018-12-13</th>\n",
       "      <td>27.480736</td>\n",
       "      <td>-1.132965</td>\n",
       "      <td>-26.292781</td>\n",
       "      <td>34.206313</td>\n",
       "    </tr>\n",
       "    <tr>\n",
       "      <th>2018-12-14</th>\n",
       "      <td>28.404567</td>\n",
       "      <td>-0.410335</td>\n",
       "      <td>-27.257036</td>\n",
       "      <td>34.449926</td>\n",
       "    </tr>\n",
       "    <tr>\n",
       "      <th>2018-12-15</th>\n",
       "      <td>27.788902</td>\n",
       "      <td>-1.063551</td>\n",
       "      <td>-24.442014</td>\n",
       "      <td>34.261669</td>\n",
       "    </tr>\n",
       "    <tr>\n",
       "      <th>2018-12-16</th>\n",
       "      <td>28.109459</td>\n",
       "      <td>-1.747501</td>\n",
       "      <td>-23.775271</td>\n",
       "      <td>34.529911</td>\n",
       "    </tr>\n",
       "    <tr>\n",
       "      <th>2018-12-17</th>\n",
       "      <td>28.074601</td>\n",
       "      <td>-1.588247</td>\n",
       "      <td>-24.329296</td>\n",
       "      <td>32.463628</td>\n",
       "    </tr>\n",
       "    <tr>\n",
       "      <th>2018-12-18</th>\n",
       "      <td>27.889670</td>\n",
       "      <td>-2.357198</td>\n",
       "      <td>-24.697030</td>\n",
       "      <td>31.872871</td>\n",
       "    </tr>\n",
       "    <tr>\n",
       "      <th>2018-12-19</th>\n",
       "      <td>28.043489</td>\n",
       "      <td>-1.087981</td>\n",
       "      <td>-24.925947</td>\n",
       "      <td>31.667218</td>\n",
       "    </tr>\n",
       "    <tr>\n",
       "      <th>2018-12-20</th>\n",
       "      <td>28.040341</td>\n",
       "      <td>-1.832016</td>\n",
       "      <td>-26.195755</td>\n",
       "      <td>31.519530</td>\n",
       "    </tr>\n",
       "    <tr>\n",
       "      <th>2018-12-21</th>\n",
       "      <td>26.467778</td>\n",
       "      <td>-1.474478</td>\n",
       "      <td>-23.156629</td>\n",
       "      <td>32.548608</td>\n",
       "    </tr>\n",
       "    <tr>\n",
       "      <th>2018-12-22</th>\n",
       "      <td>27.343328</td>\n",
       "      <td>-1.819960</td>\n",
       "      <td>-24.270678</td>\n",
       "      <td>31.535453</td>\n",
       "    </tr>\n",
       "    <tr>\n",
       "      <th>2018-12-23</th>\n",
       "      <td>28.226535</td>\n",
       "      <td>-1.517058</td>\n",
       "      <td>-23.587823</td>\n",
       "      <td>30.923346</td>\n",
       "    </tr>\n",
       "    <tr>\n",
       "      <th>2018-12-24</th>\n",
       "      <td>27.732380</td>\n",
       "      <td>-2.295025</td>\n",
       "      <td>-23.956471</td>\n",
       "      <td>32.478497</td>\n",
       "    </tr>\n",
       "    <tr>\n",
       "      <th>2018-12-25</th>\n",
       "      <td>27.405151</td>\n",
       "      <td>-3.587830</td>\n",
       "      <td>-23.761833</td>\n",
       "      <td>33.212327</td>\n",
       "    </tr>\n",
       "    <tr>\n",
       "      <th>2018-12-26</th>\n",
       "      <td>28.490398</td>\n",
       "      <td>-2.980880</td>\n",
       "      <td>-25.407366</td>\n",
       "      <td>33.715996</td>\n",
       "    </tr>\n",
       "  </tbody>\n",
       "</table>\n",
       "<p>1000 rows × 4 columns</p>\n",
       "</div>"
      ],
      "text/plain": [
       "                    A         B          C          D\n",
       "2016-04-01   1.554704 -0.201846   1.003132  -1.788251\n",
       "2016-04-02   3.011026  0.758091   1.164068  -1.260183\n",
       "2016-04-03   4.329196 -0.024705   0.343177  -2.216180\n",
       "2016-04-04   4.684878  2.017070   0.545985  -2.257763\n",
       "2016-04-05   4.826087  1.651106   0.495529  -2.246019\n",
       "2016-04-06   6.002997  0.978382  -0.929421  -2.224742\n",
       "2016-04-07   7.111712  2.546024  -1.657050  -2.188741\n",
       "2016-04-08   6.311640  3.665048  -1.306682  -0.746576\n",
       "2016-04-09   4.704858  3.412176  -2.685521  -2.742585\n",
       "2016-04-10   4.662842  3.213633  -3.338678  -2.161218\n",
       "2016-04-11   4.575059  4.261202  -3.626132  -2.253072\n",
       "2016-04-12   4.970526  2.959942  -4.070981  -1.455730\n",
       "2016-04-13   6.134842  1.958898  -2.853433   0.146288\n",
       "2016-04-14   6.473295  1.674590  -1.987256  -1.551276\n",
       "2016-04-15   6.939549  1.894014  -0.621653  -2.419255\n",
       "2016-04-16   5.292499  2.151749  -1.510761  -2.455120\n",
       "2016-04-17   7.537944  4.305423  -1.252206  -1.233643\n",
       "2016-04-18   7.142927  3.954251  -0.369733  -3.170486\n",
       "2016-04-19   6.938178  5.827573   0.720813  -2.895675\n",
       "2016-04-20   6.126972  4.446290   0.271736  -2.935799\n",
       "2016-04-21   4.873332  2.923423   1.164919  -2.379924\n",
       "2016-04-22   5.343691  1.984919   0.489747  -2.689790\n",
       "2016-04-23   5.266796  1.041342  -0.912134  -1.335098\n",
       "2016-04-24   7.246826  0.703701  -0.875879  -0.326643\n",
       "2016-04-25   7.074297  0.075711  -2.842599  -0.663095\n",
       "2016-04-26   6.782453  0.325073  -2.014799   0.313389\n",
       "2016-04-27   4.345549  0.869914  -1.699253   0.067213\n",
       "2016-04-28   4.847777  1.183148  -3.924882   1.501498\n",
       "2016-04-29   4.565872 -0.340428  -2.598597   0.948867\n",
       "2016-04-30   0.838182 -0.121592  -2.235079   1.502875\n",
       "...               ...       ...        ...        ...\n",
       "2018-11-27  16.115521  0.751783 -29.990381  37.128349\n",
       "2018-11-28  16.433015  0.529010 -29.669217  37.027020\n",
       "2018-11-29  17.518527  0.215981 -29.263716  36.190719\n",
       "2018-11-30  17.778690 -0.867786 -28.776040  35.715538\n",
       "2018-12-01  18.002558 -1.632566 -27.740981  34.645737\n",
       "2018-12-02  19.703965 -0.942743 -27.849554  36.651755\n",
       "2018-12-03  20.501670  0.446489 -27.204278  36.018221\n",
       "2018-12-04  20.819691  2.169011 -26.433051  35.570307\n",
       "2018-12-05  22.200314  2.534643 -27.741286  34.724275\n",
       "2018-12-06  23.858770  1.777469 -25.866123  36.686627\n",
       "2018-12-07  23.579490  1.718701 -25.447224  36.881905\n",
       "2018-12-08  24.518579  1.988245 -24.999476  37.532786\n",
       "2018-12-09  27.605902  0.945529 -24.787197  36.873761\n",
       "2018-12-10  27.433232 -0.630668 -25.407878  37.572366\n",
       "2018-12-11  27.335817  0.418094 -25.616999  35.484215\n",
       "2018-12-12  27.673000 -1.201845 -26.319211  34.414302\n",
       "2018-12-13  27.480736 -1.132965 -26.292781  34.206313\n",
       "2018-12-14  28.404567 -0.410335 -27.257036  34.449926\n",
       "2018-12-15  27.788902 -1.063551 -24.442014  34.261669\n",
       "2018-12-16  28.109459 -1.747501 -23.775271  34.529911\n",
       "2018-12-17  28.074601 -1.588247 -24.329296  32.463628\n",
       "2018-12-18  27.889670 -2.357198 -24.697030  31.872871\n",
       "2018-12-19  28.043489 -1.087981 -24.925947  31.667218\n",
       "2018-12-20  28.040341 -1.832016 -26.195755  31.519530\n",
       "2018-12-21  26.467778 -1.474478 -23.156629  32.548608\n",
       "2018-12-22  27.343328 -1.819960 -24.270678  31.535453\n",
       "2018-12-23  28.226535 -1.517058 -23.587823  30.923346\n",
       "2018-12-24  27.732380 -2.295025 -23.956471  32.478497\n",
       "2018-12-25  27.405151 -3.587830 -23.761833  33.212327\n",
       "2018-12-26  28.490398 -2.980880 -25.407366  33.715996\n",
       "\n",
       "[1000 rows x 4 columns]"
      ]
     },
     "execution_count": 156,
     "metadata": {},
     "output_type": "execute_result"
    }
   ],
   "source": [
    "pd.read_hdf(\"foo.h5\",\"df\")"
   ]
  },
  {
   "cell_type": "code",
   "execution_count": 157,
   "metadata": {
    "collapsed": true
   },
   "outputs": [],
   "source": [
    "#保存为excel文件\n",
    "df.to_excel(\"foo.xlsx\",sheet_name=\"Sheet1\")"
   ]
  },
  {
   "cell_type": "code",
   "execution_count": 158,
   "metadata": {
    "collapsed": false
   },
   "outputs": [
    {
     "data": {
      "text/html": [
       "<div>\n",
       "<table border=\"1\" class=\"dataframe\">\n",
       "  <thead>\n",
       "    <tr style=\"text-align: right;\">\n",
       "      <th></th>\n",
       "      <th>A</th>\n",
       "      <th>B</th>\n",
       "      <th>C</th>\n",
       "      <th>D</th>\n",
       "    </tr>\n",
       "  </thead>\n",
       "  <tbody>\n",
       "    <tr>\n",
       "      <th>2016-04-01</th>\n",
       "      <td>1.554704</td>\n",
       "      <td>-0.201846</td>\n",
       "      <td>1.003132</td>\n",
       "      <td>-1.788251</td>\n",
       "    </tr>\n",
       "    <tr>\n",
       "      <th>2016-04-02</th>\n",
       "      <td>3.011026</td>\n",
       "      <td>0.758091</td>\n",
       "      <td>1.164068</td>\n",
       "      <td>-1.260183</td>\n",
       "    </tr>\n",
       "    <tr>\n",
       "      <th>2016-04-03</th>\n",
       "      <td>4.329196</td>\n",
       "      <td>-0.024705</td>\n",
       "      <td>0.343177</td>\n",
       "      <td>-2.216180</td>\n",
       "    </tr>\n",
       "    <tr>\n",
       "      <th>2016-04-04</th>\n",
       "      <td>4.684878</td>\n",
       "      <td>2.017070</td>\n",
       "      <td>0.545985</td>\n",
       "      <td>-2.257763</td>\n",
       "    </tr>\n",
       "    <tr>\n",
       "      <th>2016-04-05</th>\n",
       "      <td>4.826087</td>\n",
       "      <td>1.651106</td>\n",
       "      <td>0.495529</td>\n",
       "      <td>-2.246019</td>\n",
       "    </tr>\n",
       "    <tr>\n",
       "      <th>2016-04-06</th>\n",
       "      <td>6.002997</td>\n",
       "      <td>0.978382</td>\n",
       "      <td>-0.929421</td>\n",
       "      <td>-2.224742</td>\n",
       "    </tr>\n",
       "    <tr>\n",
       "      <th>2016-04-07</th>\n",
       "      <td>7.111712</td>\n",
       "      <td>2.546024</td>\n",
       "      <td>-1.657050</td>\n",
       "      <td>-2.188741</td>\n",
       "    </tr>\n",
       "    <tr>\n",
       "      <th>2016-04-08</th>\n",
       "      <td>6.311640</td>\n",
       "      <td>3.665048</td>\n",
       "      <td>-1.306682</td>\n",
       "      <td>-0.746576</td>\n",
       "    </tr>\n",
       "    <tr>\n",
       "      <th>2016-04-09</th>\n",
       "      <td>4.704858</td>\n",
       "      <td>3.412176</td>\n",
       "      <td>-2.685521</td>\n",
       "      <td>-2.742585</td>\n",
       "    </tr>\n",
       "    <tr>\n",
       "      <th>2016-04-10</th>\n",
       "      <td>4.662842</td>\n",
       "      <td>3.213633</td>\n",
       "      <td>-3.338678</td>\n",
       "      <td>-2.161218</td>\n",
       "    </tr>\n",
       "    <tr>\n",
       "      <th>2016-04-11</th>\n",
       "      <td>4.575059</td>\n",
       "      <td>4.261202</td>\n",
       "      <td>-3.626132</td>\n",
       "      <td>-2.253072</td>\n",
       "    </tr>\n",
       "    <tr>\n",
       "      <th>2016-04-12</th>\n",
       "      <td>4.970526</td>\n",
       "      <td>2.959942</td>\n",
       "      <td>-4.070981</td>\n",
       "      <td>-1.455730</td>\n",
       "    </tr>\n",
       "    <tr>\n",
       "      <th>2016-04-13</th>\n",
       "      <td>6.134842</td>\n",
       "      <td>1.958898</td>\n",
       "      <td>-2.853433</td>\n",
       "      <td>0.146288</td>\n",
       "    </tr>\n",
       "    <tr>\n",
       "      <th>2016-04-14</th>\n",
       "      <td>6.473295</td>\n",
       "      <td>1.674590</td>\n",
       "      <td>-1.987256</td>\n",
       "      <td>-1.551276</td>\n",
       "    </tr>\n",
       "    <tr>\n",
       "      <th>2016-04-15</th>\n",
       "      <td>6.939549</td>\n",
       "      <td>1.894014</td>\n",
       "      <td>-0.621653</td>\n",
       "      <td>-2.419255</td>\n",
       "    </tr>\n",
       "    <tr>\n",
       "      <th>2016-04-16</th>\n",
       "      <td>5.292499</td>\n",
       "      <td>2.151749</td>\n",
       "      <td>-1.510761</td>\n",
       "      <td>-2.455120</td>\n",
       "    </tr>\n",
       "    <tr>\n",
       "      <th>2016-04-17</th>\n",
       "      <td>7.537944</td>\n",
       "      <td>4.305423</td>\n",
       "      <td>-1.252206</td>\n",
       "      <td>-1.233643</td>\n",
       "    </tr>\n",
       "    <tr>\n",
       "      <th>2016-04-18</th>\n",
       "      <td>7.142927</td>\n",
       "      <td>3.954251</td>\n",
       "      <td>-0.369733</td>\n",
       "      <td>-3.170486</td>\n",
       "    </tr>\n",
       "    <tr>\n",
       "      <th>2016-04-19</th>\n",
       "      <td>6.938178</td>\n",
       "      <td>5.827573</td>\n",
       "      <td>0.720813</td>\n",
       "      <td>-2.895675</td>\n",
       "    </tr>\n",
       "    <tr>\n",
       "      <th>2016-04-20</th>\n",
       "      <td>6.126972</td>\n",
       "      <td>4.446290</td>\n",
       "      <td>0.271736</td>\n",
       "      <td>-2.935799</td>\n",
       "    </tr>\n",
       "    <tr>\n",
       "      <th>2016-04-21</th>\n",
       "      <td>4.873332</td>\n",
       "      <td>2.923423</td>\n",
       "      <td>1.164919</td>\n",
       "      <td>-2.379924</td>\n",
       "    </tr>\n",
       "    <tr>\n",
       "      <th>2016-04-22</th>\n",
       "      <td>5.343691</td>\n",
       "      <td>1.984919</td>\n",
       "      <td>0.489747</td>\n",
       "      <td>-2.689790</td>\n",
       "    </tr>\n",
       "    <tr>\n",
       "      <th>2016-04-23</th>\n",
       "      <td>5.266796</td>\n",
       "      <td>1.041342</td>\n",
       "      <td>-0.912134</td>\n",
       "      <td>-1.335098</td>\n",
       "    </tr>\n",
       "    <tr>\n",
       "      <th>2016-04-24</th>\n",
       "      <td>7.246826</td>\n",
       "      <td>0.703701</td>\n",
       "      <td>-0.875879</td>\n",
       "      <td>-0.326643</td>\n",
       "    </tr>\n",
       "    <tr>\n",
       "      <th>2016-04-25</th>\n",
       "      <td>7.074297</td>\n",
       "      <td>0.075711</td>\n",
       "      <td>-2.842599</td>\n",
       "      <td>-0.663095</td>\n",
       "    </tr>\n",
       "    <tr>\n",
       "      <th>2016-04-26</th>\n",
       "      <td>6.782453</td>\n",
       "      <td>0.325073</td>\n",
       "      <td>-2.014799</td>\n",
       "      <td>0.313389</td>\n",
       "    </tr>\n",
       "    <tr>\n",
       "      <th>2016-04-27</th>\n",
       "      <td>4.345549</td>\n",
       "      <td>0.869914</td>\n",
       "      <td>-1.699253</td>\n",
       "      <td>0.067213</td>\n",
       "    </tr>\n",
       "    <tr>\n",
       "      <th>2016-04-28</th>\n",
       "      <td>4.847777</td>\n",
       "      <td>1.183148</td>\n",
       "      <td>-3.924882</td>\n",
       "      <td>1.501498</td>\n",
       "    </tr>\n",
       "    <tr>\n",
       "      <th>2016-04-29</th>\n",
       "      <td>4.565872</td>\n",
       "      <td>-0.340428</td>\n",
       "      <td>-2.598597</td>\n",
       "      <td>0.948867</td>\n",
       "    </tr>\n",
       "    <tr>\n",
       "      <th>2016-04-30</th>\n",
       "      <td>0.838182</td>\n",
       "      <td>-0.121592</td>\n",
       "      <td>-2.235079</td>\n",
       "      <td>1.502875</td>\n",
       "    </tr>\n",
       "    <tr>\n",
       "      <th>...</th>\n",
       "      <td>...</td>\n",
       "      <td>...</td>\n",
       "      <td>...</td>\n",
       "      <td>...</td>\n",
       "    </tr>\n",
       "    <tr>\n",
       "      <th>2018-11-27</th>\n",
       "      <td>16.115521</td>\n",
       "      <td>0.751783</td>\n",
       "      <td>-29.990381</td>\n",
       "      <td>37.128349</td>\n",
       "    </tr>\n",
       "    <tr>\n",
       "      <th>2018-11-28</th>\n",
       "      <td>16.433015</td>\n",
       "      <td>0.529010</td>\n",
       "      <td>-29.669217</td>\n",
       "      <td>37.027020</td>\n",
       "    </tr>\n",
       "    <tr>\n",
       "      <th>2018-11-29</th>\n",
       "      <td>17.518527</td>\n",
       "      <td>0.215981</td>\n",
       "      <td>-29.263716</td>\n",
       "      <td>36.190719</td>\n",
       "    </tr>\n",
       "    <tr>\n",
       "      <th>2018-11-30</th>\n",
       "      <td>17.778690</td>\n",
       "      <td>-0.867786</td>\n",
       "      <td>-28.776040</td>\n",
       "      <td>35.715538</td>\n",
       "    </tr>\n",
       "    <tr>\n",
       "      <th>2018-12-01</th>\n",
       "      <td>18.002558</td>\n",
       "      <td>-1.632566</td>\n",
       "      <td>-27.740981</td>\n",
       "      <td>34.645737</td>\n",
       "    </tr>\n",
       "    <tr>\n",
       "      <th>2018-12-02</th>\n",
       "      <td>19.703965</td>\n",
       "      <td>-0.942743</td>\n",
       "      <td>-27.849554</td>\n",
       "      <td>36.651755</td>\n",
       "    </tr>\n",
       "    <tr>\n",
       "      <th>2018-12-03</th>\n",
       "      <td>20.501670</td>\n",
       "      <td>0.446489</td>\n",
       "      <td>-27.204278</td>\n",
       "      <td>36.018221</td>\n",
       "    </tr>\n",
       "    <tr>\n",
       "      <th>2018-12-04</th>\n",
       "      <td>20.819691</td>\n",
       "      <td>2.169011</td>\n",
       "      <td>-26.433051</td>\n",
       "      <td>35.570307</td>\n",
       "    </tr>\n",
       "    <tr>\n",
       "      <th>2018-12-05</th>\n",
       "      <td>22.200314</td>\n",
       "      <td>2.534643</td>\n",
       "      <td>-27.741286</td>\n",
       "      <td>34.724275</td>\n",
       "    </tr>\n",
       "    <tr>\n",
       "      <th>2018-12-06</th>\n",
       "      <td>23.858770</td>\n",
       "      <td>1.777469</td>\n",
       "      <td>-25.866123</td>\n",
       "      <td>36.686627</td>\n",
       "    </tr>\n",
       "    <tr>\n",
       "      <th>2018-12-07</th>\n",
       "      <td>23.579490</td>\n",
       "      <td>1.718701</td>\n",
       "      <td>-25.447224</td>\n",
       "      <td>36.881905</td>\n",
       "    </tr>\n",
       "    <tr>\n",
       "      <th>2018-12-08</th>\n",
       "      <td>24.518579</td>\n",
       "      <td>1.988245</td>\n",
       "      <td>-24.999476</td>\n",
       "      <td>37.532786</td>\n",
       "    </tr>\n",
       "    <tr>\n",
       "      <th>2018-12-09</th>\n",
       "      <td>27.605902</td>\n",
       "      <td>0.945529</td>\n",
       "      <td>-24.787197</td>\n",
       "      <td>36.873761</td>\n",
       "    </tr>\n",
       "    <tr>\n",
       "      <th>2018-12-10</th>\n",
       "      <td>27.433232</td>\n",
       "      <td>-0.630668</td>\n",
       "      <td>-25.407878</td>\n",
       "      <td>37.572366</td>\n",
       "    </tr>\n",
       "    <tr>\n",
       "      <th>2018-12-11</th>\n",
       "      <td>27.335817</td>\n",
       "      <td>0.418094</td>\n",
       "      <td>-25.616999</td>\n",
       "      <td>35.484215</td>\n",
       "    </tr>\n",
       "    <tr>\n",
       "      <th>2018-12-12</th>\n",
       "      <td>27.673000</td>\n",
       "      <td>-1.201845</td>\n",
       "      <td>-26.319211</td>\n",
       "      <td>34.414302</td>\n",
       "    </tr>\n",
       "    <tr>\n",
       "      <th>2018-12-13</th>\n",
       "      <td>27.480736</td>\n",
       "      <td>-1.132965</td>\n",
       "      <td>-26.292781</td>\n",
       "      <td>34.206313</td>\n",
       "    </tr>\n",
       "    <tr>\n",
       "      <th>2018-12-14</th>\n",
       "      <td>28.404567</td>\n",
       "      <td>-0.410335</td>\n",
       "      <td>-27.257036</td>\n",
       "      <td>34.449926</td>\n",
       "    </tr>\n",
       "    <tr>\n",
       "      <th>2018-12-15</th>\n",
       "      <td>27.788902</td>\n",
       "      <td>-1.063551</td>\n",
       "      <td>-24.442014</td>\n",
       "      <td>34.261669</td>\n",
       "    </tr>\n",
       "    <tr>\n",
       "      <th>2018-12-16</th>\n",
       "      <td>28.109459</td>\n",
       "      <td>-1.747501</td>\n",
       "      <td>-23.775271</td>\n",
       "      <td>34.529911</td>\n",
       "    </tr>\n",
       "    <tr>\n",
       "      <th>2018-12-17</th>\n",
       "      <td>28.074601</td>\n",
       "      <td>-1.588247</td>\n",
       "      <td>-24.329296</td>\n",
       "      <td>32.463628</td>\n",
       "    </tr>\n",
       "    <tr>\n",
       "      <th>2018-12-18</th>\n",
       "      <td>27.889670</td>\n",
       "      <td>-2.357198</td>\n",
       "      <td>-24.697030</td>\n",
       "      <td>31.872871</td>\n",
       "    </tr>\n",
       "    <tr>\n",
       "      <th>2018-12-19</th>\n",
       "      <td>28.043489</td>\n",
       "      <td>-1.087981</td>\n",
       "      <td>-24.925947</td>\n",
       "      <td>31.667218</td>\n",
       "    </tr>\n",
       "    <tr>\n",
       "      <th>2018-12-20</th>\n",
       "      <td>28.040341</td>\n",
       "      <td>-1.832016</td>\n",
       "      <td>-26.195755</td>\n",
       "      <td>31.519530</td>\n",
       "    </tr>\n",
       "    <tr>\n",
       "      <th>2018-12-21</th>\n",
       "      <td>26.467778</td>\n",
       "      <td>-1.474478</td>\n",
       "      <td>-23.156629</td>\n",
       "      <td>32.548608</td>\n",
       "    </tr>\n",
       "    <tr>\n",
       "      <th>2018-12-22</th>\n",
       "      <td>27.343328</td>\n",
       "      <td>-1.819960</td>\n",
       "      <td>-24.270678</td>\n",
       "      <td>31.535453</td>\n",
       "    </tr>\n",
       "    <tr>\n",
       "      <th>2018-12-23</th>\n",
       "      <td>28.226535</td>\n",
       "      <td>-1.517058</td>\n",
       "      <td>-23.587823</td>\n",
       "      <td>30.923346</td>\n",
       "    </tr>\n",
       "    <tr>\n",
       "      <th>2018-12-24</th>\n",
       "      <td>27.732380</td>\n",
       "      <td>-2.295025</td>\n",
       "      <td>-23.956471</td>\n",
       "      <td>32.478497</td>\n",
       "    </tr>\n",
       "    <tr>\n",
       "      <th>2018-12-25</th>\n",
       "      <td>27.405151</td>\n",
       "      <td>-3.587830</td>\n",
       "      <td>-23.761833</td>\n",
       "      <td>33.212327</td>\n",
       "    </tr>\n",
       "    <tr>\n",
       "      <th>2018-12-26</th>\n",
       "      <td>28.490398</td>\n",
       "      <td>-2.980880</td>\n",
       "      <td>-25.407366</td>\n",
       "      <td>33.715996</td>\n",
       "    </tr>\n",
       "  </tbody>\n",
       "</table>\n",
       "<p>1000 rows × 4 columns</p>\n",
       "</div>"
      ],
      "text/plain": [
       "                    A         B          C          D\n",
       "2016-04-01   1.554704 -0.201846   1.003132  -1.788251\n",
       "2016-04-02   3.011026  0.758091   1.164068  -1.260183\n",
       "2016-04-03   4.329196 -0.024705   0.343177  -2.216180\n",
       "2016-04-04   4.684878  2.017070   0.545985  -2.257763\n",
       "2016-04-05   4.826087  1.651106   0.495529  -2.246019\n",
       "2016-04-06   6.002997  0.978382  -0.929421  -2.224742\n",
       "2016-04-07   7.111712  2.546024  -1.657050  -2.188741\n",
       "2016-04-08   6.311640  3.665048  -1.306682  -0.746576\n",
       "2016-04-09   4.704858  3.412176  -2.685521  -2.742585\n",
       "2016-04-10   4.662842  3.213633  -3.338678  -2.161218\n",
       "2016-04-11   4.575059  4.261202  -3.626132  -2.253072\n",
       "2016-04-12   4.970526  2.959942  -4.070981  -1.455730\n",
       "2016-04-13   6.134842  1.958898  -2.853433   0.146288\n",
       "2016-04-14   6.473295  1.674590  -1.987256  -1.551276\n",
       "2016-04-15   6.939549  1.894014  -0.621653  -2.419255\n",
       "2016-04-16   5.292499  2.151749  -1.510761  -2.455120\n",
       "2016-04-17   7.537944  4.305423  -1.252206  -1.233643\n",
       "2016-04-18   7.142927  3.954251  -0.369733  -3.170486\n",
       "2016-04-19   6.938178  5.827573   0.720813  -2.895675\n",
       "2016-04-20   6.126972  4.446290   0.271736  -2.935799\n",
       "2016-04-21   4.873332  2.923423   1.164919  -2.379924\n",
       "2016-04-22   5.343691  1.984919   0.489747  -2.689790\n",
       "2016-04-23   5.266796  1.041342  -0.912134  -1.335098\n",
       "2016-04-24   7.246826  0.703701  -0.875879  -0.326643\n",
       "2016-04-25   7.074297  0.075711  -2.842599  -0.663095\n",
       "2016-04-26   6.782453  0.325073  -2.014799   0.313389\n",
       "2016-04-27   4.345549  0.869914  -1.699253   0.067213\n",
       "2016-04-28   4.847777  1.183148  -3.924882   1.501498\n",
       "2016-04-29   4.565872 -0.340428  -2.598597   0.948867\n",
       "2016-04-30   0.838182 -0.121592  -2.235079   1.502875\n",
       "...               ...       ...        ...        ...\n",
       "2018-11-27  16.115521  0.751783 -29.990381  37.128349\n",
       "2018-11-28  16.433015  0.529010 -29.669217  37.027020\n",
       "2018-11-29  17.518527  0.215981 -29.263716  36.190719\n",
       "2018-11-30  17.778690 -0.867786 -28.776040  35.715538\n",
       "2018-12-01  18.002558 -1.632566 -27.740981  34.645737\n",
       "2018-12-02  19.703965 -0.942743 -27.849554  36.651755\n",
       "2018-12-03  20.501670  0.446489 -27.204278  36.018221\n",
       "2018-12-04  20.819691  2.169011 -26.433051  35.570307\n",
       "2018-12-05  22.200314  2.534643 -27.741286  34.724275\n",
       "2018-12-06  23.858770  1.777469 -25.866123  36.686627\n",
       "2018-12-07  23.579490  1.718701 -25.447224  36.881905\n",
       "2018-12-08  24.518579  1.988245 -24.999476  37.532786\n",
       "2018-12-09  27.605902  0.945529 -24.787197  36.873761\n",
       "2018-12-10  27.433232 -0.630668 -25.407878  37.572366\n",
       "2018-12-11  27.335817  0.418094 -25.616999  35.484215\n",
       "2018-12-12  27.673000 -1.201845 -26.319211  34.414302\n",
       "2018-12-13  27.480736 -1.132965 -26.292781  34.206313\n",
       "2018-12-14  28.404567 -0.410335 -27.257036  34.449926\n",
       "2018-12-15  27.788902 -1.063551 -24.442014  34.261669\n",
       "2018-12-16  28.109459 -1.747501 -23.775271  34.529911\n",
       "2018-12-17  28.074601 -1.588247 -24.329296  32.463628\n",
       "2018-12-18  27.889670 -2.357198 -24.697030  31.872871\n",
       "2018-12-19  28.043489 -1.087981 -24.925947  31.667218\n",
       "2018-12-20  28.040341 -1.832016 -26.195755  31.519530\n",
       "2018-12-21  26.467778 -1.474478 -23.156629  32.548608\n",
       "2018-12-22  27.343328 -1.819960 -24.270678  31.535453\n",
       "2018-12-23  28.226535 -1.517058 -23.587823  30.923346\n",
       "2018-12-24  27.732380 -2.295025 -23.956471  32.478497\n",
       "2018-12-25  27.405151 -3.587830 -23.761833  33.212327\n",
       "2018-12-26  28.490398 -2.980880 -25.407366  33.715996\n",
       "\n",
       "[1000 rows x 4 columns]"
      ]
     },
     "execution_count": 158,
     "metadata": {},
     "output_type": "execute_result"
    }
   ],
   "source": [
    "pd.read_excel(\"foo.xlsx\",\"Sheet1\",index_col=None,na_values=[\"NA\"])"
   ]
  },
  {
   "cell_type": "code",
   "execution_count": null,
   "metadata": {
    "collapsed": true
   },
   "outputs": [],
   "source": []
  }
 ],
 "metadata": {
  "kernelspec": {
   "display_name": "Python 2",
   "language": "python",
   "name": "python2"
  },
  "language_info": {
   "codemirror_mode": {
    "name": "ipython",
    "version": 2
   },
   "file_extension": ".py",
   "mimetype": "text/x-python",
   "name": "python",
   "nbconvert_exporter": "python",
   "pygments_lexer": "ipython2",
   "version": "2.7.11"
  }
 },
 "nbformat": 4,
 "nbformat_minor": 0
}
