{
 "cells": [
  {
   "cell_type": "markdown",
   "metadata": {},
   "source": [
    "### 摘要\n",
    "\n",
    "* pandas 简要入门\n",
    "    1. 对象创建\n",
    "    2. 数据视图\n",
    "    3. 索引切片\n",
    "       * 通过标签\n",
    "       * 通过为止\n",
    "       * 布尔索引\n",
    "    4. 缺失数据\n",
    "    5. 操作\n",
    "    6. 合并\n",
    "    7. 分组\n",
    "    8. reshape\n",
    "    9. 数据读入读出\n",
    "    \n",
    "这里我们主要通过pandas官方文档[10 Minutes to pandas](http://pandas.pydata.org/pandas-docs/stable/10min.html)讲解pandas基础\n",
    "\n",
    "中文翻译文档[十分钟搞定pandas](http://www.cnblogs.com/chaosimple/p/4153083.html)\n"
   ]
  },
  {
   "cell_type": "code",
   "execution_count": 2,
   "metadata": {
    "collapsed": false
   },
   "outputs": [],
   "source": [
    "#首先当然是导入我们需要的包\n",
    "import pandas as pd\n",
    "import numpy as np\n",
    "import matplotlib.pyplot as plt\n",
    "%matplotlib inline\n",
    "#为了更好看，我们选择ggplot样式\n",
    "import matplotlib\n",
    "matplotlib.style.use('ggplot')"
   ]
  },
  {
   "cell_type": "markdown",
   "metadata": {
    "collapsed": true
   },
   "source": [
    "### 对象创建"
   ]
  },
  {
   "cell_type": "markdown",
   "metadata": {},
   "source": [
    "* Series \n",
    "\n",
    "Series有点类似numpy里面的一维数组"
   ]
  },
  {
   "cell_type": "code",
   "execution_count": 43,
   "metadata": {
    "collapsed": false
   },
   "outputs": [
    {
     "name": "stdout",
     "output_type": "stream",
     "text": [
      "11    A\n",
      "21    B\n",
      "31    C\n",
      "41    D\n",
      "51    E\n",
      "61    F\n",
      "71    G\n",
      "dtype: object\n",
      "A\n"
     ]
    }
   ],
   "source": [
    "#创建一个Series\n",
    "s  = pd.Series([1,3,5,np.nan,6,8])\n",
    "#print s\n",
    "\n",
    "n1 = np.array(list(\"ABCDEFG\"))\n",
    "#print n1\n",
    "\n",
    "s2 = pd.Series(n1)\n",
    "#print s2\n",
    "\n",
    "lis = list(\"ABCDEFG\")\n",
    "s3 = pd.Series(lis)\n",
    "#print s3\n",
    "\n",
    "s4 = pd.Series(list(\"ABCDEFG\"),index=[11,21,31,41,51,61,71])\n",
    "print s4\n",
    "print s4[11]"
   ]
  },
  {
   "cell_type": "markdown",
   "metadata": {},
   "source": [
    "* DataFrame\n",
    "\n",
    "DataFrame 有点类似数据库里面的表table"
   ]
  },
  {
   "cell_type": "code",
   "execution_count": 3,
   "metadata": {
    "collapsed": false
   },
   "outputs": [
    {
     "name": "stdout",
     "output_type": "stream",
     "text": [
      "DatetimeIndex(['2016-04-12', '2016-04-13', '2016-04-14', '2016-04-15',\n",
      "               '2016-04-16', '2016-04-17'],\n",
      "              dtype='datetime64[ns]', freq='D')\n"
     ]
    },
    {
     "data": {
      "text/html": [
       "<div>\n",
       "<table border=\"1\" class=\"dataframe\">\n",
       "  <thead>\n",
       "    <tr style=\"text-align: right;\">\n",
       "      <th></th>\n",
       "      <th>A</th>\n",
       "      <th>B</th>\n",
       "      <th>C</th>\n",
       "      <th>D</th>\n",
       "    </tr>\n",
       "  </thead>\n",
       "  <tbody>\n",
       "    <tr>\n",
       "      <th>2016-04-12</th>\n",
       "      <td>-0.352075</td>\n",
       "      <td>0.792117</td>\n",
       "      <td>-0.478669</td>\n",
       "      <td>0.705107</td>\n",
       "    </tr>\n",
       "    <tr>\n",
       "      <th>2016-04-13</th>\n",
       "      <td>-0.395491</td>\n",
       "      <td>0.760144</td>\n",
       "      <td>-0.109512</td>\n",
       "      <td>-0.386012</td>\n",
       "    </tr>\n",
       "    <tr>\n",
       "      <th>2016-04-14</th>\n",
       "      <td>0.127280</td>\n",
       "      <td>0.021084</td>\n",
       "      <td>3.087900</td>\n",
       "      <td>1.133400</td>\n",
       "    </tr>\n",
       "    <tr>\n",
       "      <th>2016-04-15</th>\n",
       "      <td>-1.100870</td>\n",
       "      <td>-0.071101</td>\n",
       "      <td>-0.243060</td>\n",
       "      <td>-0.190100</td>\n",
       "    </tr>\n",
       "    <tr>\n",
       "      <th>2016-04-16</th>\n",
       "      <td>0.421173</td>\n",
       "      <td>-1.002471</td>\n",
       "      <td>-0.139795</td>\n",
       "      <td>-0.467803</td>\n",
       "    </tr>\n",
       "    <tr>\n",
       "      <th>2016-04-17</th>\n",
       "      <td>0.513706</td>\n",
       "      <td>-0.660055</td>\n",
       "      <td>-1.638824</td>\n",
       "      <td>0.508767</td>\n",
       "    </tr>\n",
       "  </tbody>\n",
       "</table>\n",
       "</div>"
      ],
      "text/plain": [
       "                   A         B         C         D\n",
       "2016-04-12 -0.352075  0.792117 -0.478669  0.705107\n",
       "2016-04-13 -0.395491  0.760144 -0.109512 -0.386012\n",
       "2016-04-14  0.127280  0.021084  3.087900  1.133400\n",
       "2016-04-15 -1.100870 -0.071101 -0.243060 -0.190100\n",
       "2016-04-16  0.421173 -1.002471 -0.139795 -0.467803\n",
       "2016-04-17  0.513706 -0.660055 -1.638824  0.508767"
      ]
     },
     "execution_count": 3,
     "metadata": {},
     "output_type": "execute_result"
    }
   ],
   "source": [
    "#创建一个DataFrame\n",
    "dates = pd.date_range(\"20160412\",periods=6)\n",
    "dates\n",
    "print dates\n",
    "df = pd.DataFrame(np.random.randn(6,4),index=dates,columns=list(\"ABCD\"))\n",
    "#df\n",
    "#df = pd.DataFrame(np.random.randn(5,5),index=list(\"12345\"),columns=list(\"ABCDE\"))\n",
    "#df\n",
    "df"
   ]
  },
  {
   "cell_type": "code",
   "execution_count": 46,
   "metadata": {
    "collapsed": false
   },
   "outputs": [
    {
     "data": {
      "text/html": [
       "<div>\n",
       "<table border=\"1\" class=\"dataframe\">\n",
       "  <thead>\n",
       "    <tr style=\"text-align: right;\">\n",
       "      <th></th>\n",
       "      <th>A</th>\n",
       "      <th>B</th>\n",
       "      <th>C</th>\n",
       "      <th>D</th>\n",
       "      <th>E</th>\n",
       "      <th>F</th>\n",
       "    </tr>\n",
       "  </thead>\n",
       "  <tbody>\n",
       "    <tr>\n",
       "      <th>0</th>\n",
       "      <td>1</td>\n",
       "      <td>2016-04-12</td>\n",
       "      <td>1</td>\n",
       "      <td>3</td>\n",
       "      <td>text</td>\n",
       "      <td>foo</td>\n",
       "    </tr>\n",
       "    <tr>\n",
       "      <th>1</th>\n",
       "      <td>1</td>\n",
       "      <td>2016-04-12</td>\n",
       "      <td>1</td>\n",
       "      <td>3</td>\n",
       "      <td>train</td>\n",
       "      <td>foo</td>\n",
       "    </tr>\n",
       "    <tr>\n",
       "      <th>2</th>\n",
       "      <td>1</td>\n",
       "      <td>2016-04-12</td>\n",
       "      <td>1</td>\n",
       "      <td>3</td>\n",
       "      <td>text</td>\n",
       "      <td>foo</td>\n",
       "    </tr>\n",
       "    <tr>\n",
       "      <th>3</th>\n",
       "      <td>1</td>\n",
       "      <td>2016-04-12</td>\n",
       "      <td>1</td>\n",
       "      <td>3</td>\n",
       "      <td>train</td>\n",
       "      <td>foo</td>\n",
       "    </tr>\n",
       "  </tbody>\n",
       "</table>\n",
       "</div>"
      ],
      "text/plain": [
       "   A          B  C  D      E    F\n",
       "0  1 2016-04-12  1  3   text  foo\n",
       "1  1 2016-04-12  1  3  train  foo\n",
       "2  1 2016-04-12  1  3   text  foo\n",
       "3  1 2016-04-12  1  3  train  foo"
      ]
     },
     "execution_count": 46,
     "metadata": {},
     "output_type": "execute_result"
    }
   ],
   "source": [
    "df2 = pd.DataFrame({\"A\":1,\n",
    "                    \"B\":pd.Timestamp(\"20160412\"),\n",
    "                    \"C\":pd.Series(1,index=list(range(4)),dtype=\"float32\"),\n",
    "                    \"D\":np.array([3]*4,dtype=\"int32\"),\n",
    "                    \"E\":pd.Categorical([\"text\",\"train\",\"text\",\"train\"]),\n",
    "                    \"F\":\"foo\"})\n",
    "df2"
   ]
  },
  {
   "cell_type": "code",
   "execution_count": 47,
   "metadata": {
    "collapsed": false
   },
   "outputs": [
    {
     "data": {
      "text/plain": [
       "A             int64\n",
       "B    datetime64[ns]\n",
       "C           float32\n",
       "D             int32\n",
       "E          category\n",
       "F            object\n",
       "dtype: object"
      ]
     },
     "execution_count": 47,
     "metadata": {},
     "output_type": "execute_result"
    }
   ],
   "source": [
    "df2.dtypes"
   ]
  },
  {
   "cell_type": "code",
   "execution_count": 48,
   "metadata": {
    "collapsed": false
   },
   "outputs": [
    {
     "data": {
      "text/plain": [
       "0    1\n",
       "1    1\n",
       "2    1\n",
       "3    1\n",
       "Name: A, dtype: int64"
      ]
     },
     "execution_count": 48,
     "metadata": {},
     "output_type": "execute_result"
    }
   ],
   "source": [
    "#使用tab补全\n",
    "#df2.<TAB>\n",
    "df2."
   ]
  },
  {
   "cell_type": "markdown",
   "metadata": {},
   "source": [
    "### 查看数据"
   ]
  },
  {
   "cell_type": "code",
   "execution_count": 50,
   "metadata": {
    "collapsed": false
   },
   "outputs": [
    {
     "name": "stdout",
     "output_type": "stream",
     "text": [
      "                   A         B         C         D\n",
      "2016-04-12 -1.554724 -0.410271  2.642086  0.669351\n",
      "2016-04-13 -0.059116 -0.505077  0.171248 -1.093928\n",
      "2016-04-14 -0.489809  1.896279  0.862216  1.049714\n",
      "2016-04-15  0.638732  0.727150  1.561333 -1.571183\n",
      "2016-04-16 -0.083850  1.590114  0.579363  1.656634\n",
      "2016-04-17  1.185765 -0.876440 -2.517277 -0.530999\n"
     ]
    },
    {
     "data": {
      "text/html": [
       "<div>\n",
       "<table border=\"1\" class=\"dataframe\">\n",
       "  <thead>\n",
       "    <tr style=\"text-align: right;\">\n",
       "      <th></th>\n",
       "      <th>A</th>\n",
       "      <th>B</th>\n",
       "      <th>C</th>\n",
       "      <th>D</th>\n",
       "    </tr>\n",
       "  </thead>\n",
       "  <tbody>\n",
       "    <tr>\n",
       "      <th>2016-04-12</th>\n",
       "      <td>-1.554724</td>\n",
       "      <td>-0.410271</td>\n",
       "      <td>2.642086</td>\n",
       "      <td>0.669351</td>\n",
       "    </tr>\n",
       "    <tr>\n",
       "      <th>2016-04-13</th>\n",
       "      <td>-0.059116</td>\n",
       "      <td>-0.505077</td>\n",
       "      <td>0.171248</td>\n",
       "      <td>-1.093928</td>\n",
       "    </tr>\n",
       "  </tbody>\n",
       "</table>\n",
       "</div>"
      ],
      "text/plain": [
       "                   A         B         C         D\n",
       "2016-04-12 -1.554724 -0.410271  2.642086  0.669351\n",
       "2016-04-13 -0.059116 -0.505077  0.171248 -1.093928"
      ]
     },
     "execution_count": 50,
     "metadata": {},
     "output_type": "execute_result"
    }
   ],
   "source": [
    "#head，tail默认查看5条数据\n",
    "print df\n",
    "df.head(2)"
   ]
  },
  {
   "cell_type": "code",
   "execution_count": 16,
   "metadata": {
    "collapsed": false
   },
   "outputs": [
    {
     "data": {
      "text/html": [
       "<div>\n",
       "<table border=\"1\" class=\"dataframe\">\n",
       "  <thead>\n",
       "    <tr style=\"text-align: right;\">\n",
       "      <th></th>\n",
       "      <th>1</th>\n",
       "      <th>2</th>\n",
       "      <th>3</th>\n",
       "      <th>4</th>\n",
       "      <th>5</th>\n",
       "    </tr>\n",
       "  </thead>\n",
       "  <tbody>\n",
       "    <tr>\n",
       "      <th>3</th>\n",
       "      <td>-0.115293</td>\n",
       "      <td>-0.375435</td>\n",
       "      <td>0.828214</td>\n",
       "      <td>-0.286124</td>\n",
       "      <td>-0.047644</td>\n",
       "    </tr>\n",
       "    <tr>\n",
       "      <th>4</th>\n",
       "      <td>-0.153121</td>\n",
       "      <td>-0.419129</td>\n",
       "      <td>0.469492</td>\n",
       "      <td>-0.525162</td>\n",
       "      <td>1.968026</td>\n",
       "    </tr>\n",
       "    <tr>\n",
       "      <th>5</th>\n",
       "      <td>-0.661572</td>\n",
       "      <td>0.592646</td>\n",
       "      <td>0.033026</td>\n",
       "      <td>0.127838</td>\n",
       "      <td>-0.239606</td>\n",
       "    </tr>\n",
       "  </tbody>\n",
       "</table>\n",
       "</div>"
      ],
      "text/plain": [
       "          1         2         3         4         5\n",
       "3 -0.115293 -0.375435  0.828214 -0.286124 -0.047644\n",
       "4 -0.153121 -0.419129  0.469492 -0.525162  1.968026\n",
       "5 -0.661572  0.592646  0.033026  0.127838 -0.239606"
      ]
     },
     "execution_count": 16,
     "metadata": {},
     "output_type": "execute_result"
    }
   ],
   "source": [
    "df.tail(3)"
   ]
  },
  {
   "cell_type": "code",
   "execution_count": 51,
   "metadata": {
    "collapsed": false
   },
   "outputs": [
    {
     "data": {
      "text/plain": [
       "DatetimeIndex(['2016-04-12', '2016-04-13', '2016-04-14', '2016-04-15',\n",
       "               '2016-04-16', '2016-04-17'],\n",
       "              dtype='datetime64[ns]', freq='D')"
      ]
     },
     "execution_count": 51,
     "metadata": {},
     "output_type": "execute_result"
    }
   ],
   "source": [
    "#查看索引，字段\n",
    "df.index"
   ]
  },
  {
   "cell_type": "code",
   "execution_count": 52,
   "metadata": {
    "collapsed": false
   },
   "outputs": [
    {
     "data": {
      "text/plain": [
       "Index([u'A', u'B', u'C', u'D'], dtype='object')"
      ]
     },
     "execution_count": 52,
     "metadata": {},
     "output_type": "execute_result"
    }
   ],
   "source": [
    "df.columns"
   ]
  },
  {
   "cell_type": "code",
   "execution_count": 53,
   "metadata": {
    "collapsed": false
   },
   "outputs": [
    {
     "data": {
      "text/plain": [
       "array([[-1.55472393, -0.41027057,  2.64208558,  0.66935141],\n",
       "       [-0.05911559, -0.50507691,  0.17124838, -1.09392762],\n",
       "       [-0.48980879,  1.8962794 ,  0.86221635,  1.04971405],\n",
       "       [ 0.63873237,  0.72714973,  1.56133272, -1.57118297],\n",
       "       [-0.08385024,  1.5901145 ,  0.57936327,  1.65663434],\n",
       "       [ 1.18576481, -0.87643989, -2.51727748, -0.53099877]])"
      ]
     },
     "execution_count": 53,
     "metadata": {},
     "output_type": "execute_result"
    }
   ],
   "source": [
    "df.values"
   ]
  },
  {
   "cell_type": "code",
   "execution_count": 20,
   "metadata": {
    "collapsed": false
   },
   "outputs": [
    {
     "data": {
      "text/html": [
       "<div>\n",
       "<table border=\"1\" class=\"dataframe\">\n",
       "  <thead>\n",
       "    <tr style=\"text-align: right;\">\n",
       "      <th></th>\n",
       "      <th>1</th>\n",
       "      <th>2</th>\n",
       "      <th>3</th>\n",
       "      <th>4</th>\n",
       "      <th>5</th>\n",
       "    </tr>\n",
       "  </thead>\n",
       "  <tbody>\n",
       "    <tr>\n",
       "      <th>count</th>\n",
       "      <td>5.000000</td>\n",
       "      <td>5.000000</td>\n",
       "      <td>5.000000</td>\n",
       "      <td>5.000000</td>\n",
       "      <td>5.000000</td>\n",
       "    </tr>\n",
       "    <tr>\n",
       "      <th>mean</th>\n",
       "      <td>0.114031</td>\n",
       "      <td>0.312457</td>\n",
       "      <td>0.495302</td>\n",
       "      <td>-0.238638</td>\n",
       "      <td>0.519303</td>\n",
       "    </tr>\n",
       "    <tr>\n",
       "      <th>std</th>\n",
       "      <td>0.898314</td>\n",
       "      <td>0.838444</td>\n",
       "      <td>0.354527</td>\n",
       "      <td>0.676819</td>\n",
       "      <td>1.315448</td>\n",
       "    </tr>\n",
       "    <tr>\n",
       "      <th>min</th>\n",
       "      <td>-0.661572</td>\n",
       "      <td>-0.419129</td>\n",
       "      <td>0.033026</td>\n",
       "      <td>-1.152965</td>\n",
       "      <td>-0.941754</td>\n",
       "    </tr>\n",
       "    <tr>\n",
       "      <th>25%</th>\n",
       "      <td>-0.170051</td>\n",
       "      <td>-0.375435</td>\n",
       "      <td>0.285208</td>\n",
       "      <td>-0.525162</td>\n",
       "      <td>-0.239606</td>\n",
       "    </tr>\n",
       "    <tr>\n",
       "      <th>50%</th>\n",
       "      <td>-0.153121</td>\n",
       "      <td>0.148600</td>\n",
       "      <td>0.469492</td>\n",
       "      <td>-0.286124</td>\n",
       "      <td>-0.047644</td>\n",
       "    </tr>\n",
       "    <tr>\n",
       "      <th>75%</th>\n",
       "      <td>-0.115293</td>\n",
       "      <td>0.592646</td>\n",
       "      <td>0.828214</td>\n",
       "      <td>0.127838</td>\n",
       "      <td>1.857494</td>\n",
       "    </tr>\n",
       "    <tr>\n",
       "      <th>max</th>\n",
       "      <td>1.670195</td>\n",
       "      <td>1.615601</td>\n",
       "      <td>0.860572</td>\n",
       "      <td>0.643226</td>\n",
       "      <td>1.968026</td>\n",
       "    </tr>\n",
       "  </tbody>\n",
       "</table>\n",
       "</div>"
      ],
      "text/plain": [
       "              1         2         3         4         5\n",
       "count  5.000000  5.000000  5.000000  5.000000  5.000000\n",
       "mean   0.114031  0.312457  0.495302 -0.238638  0.519303\n",
       "std    0.898314  0.838444  0.354527  0.676819  1.315448\n",
       "min   -0.661572 -0.419129  0.033026 -1.152965 -0.941754\n",
       "25%   -0.170051 -0.375435  0.285208 -0.525162 -0.239606\n",
       "50%   -0.153121  0.148600  0.469492 -0.286124 -0.047644\n",
       "75%   -0.115293  0.592646  0.828214  0.127838  1.857494\n",
       "max    1.670195  1.615601  0.860572  0.643226  1.968026"
      ]
     },
     "execution_count": 20,
     "metadata": {},
     "output_type": "execute_result"
    }
   ],
   "source": [
    "#查看数据的一些简单统计结果\n",
    "df.describe()"
   ]
  },
  {
   "cell_type": "code",
   "execution_count": 54,
   "metadata": {
    "collapsed": false
   },
   "outputs": [
    {
     "data": {
      "text/html": [
       "<div>\n",
       "<table border=\"1\" class=\"dataframe\">\n",
       "  <thead>\n",
       "    <tr style=\"text-align: right;\">\n",
       "      <th></th>\n",
       "      <th>2016-04-12 00:00:00</th>\n",
       "      <th>2016-04-13 00:00:00</th>\n",
       "      <th>2016-04-14 00:00:00</th>\n",
       "      <th>2016-04-15 00:00:00</th>\n",
       "      <th>2016-04-16 00:00:00</th>\n",
       "      <th>2016-04-17 00:00:00</th>\n",
       "    </tr>\n",
       "  </thead>\n",
       "  <tbody>\n",
       "    <tr>\n",
       "      <th>A</th>\n",
       "      <td>-1.554724</td>\n",
       "      <td>-0.059116</td>\n",
       "      <td>-0.489809</td>\n",
       "      <td>0.638732</td>\n",
       "      <td>-0.083850</td>\n",
       "      <td>1.185765</td>\n",
       "    </tr>\n",
       "    <tr>\n",
       "      <th>B</th>\n",
       "      <td>-0.410271</td>\n",
       "      <td>-0.505077</td>\n",
       "      <td>1.896279</td>\n",
       "      <td>0.727150</td>\n",
       "      <td>1.590114</td>\n",
       "      <td>-0.876440</td>\n",
       "    </tr>\n",
       "    <tr>\n",
       "      <th>C</th>\n",
       "      <td>2.642086</td>\n",
       "      <td>0.171248</td>\n",
       "      <td>0.862216</td>\n",
       "      <td>1.561333</td>\n",
       "      <td>0.579363</td>\n",
       "      <td>-2.517277</td>\n",
       "    </tr>\n",
       "    <tr>\n",
       "      <th>D</th>\n",
       "      <td>0.669351</td>\n",
       "      <td>-1.093928</td>\n",
       "      <td>1.049714</td>\n",
       "      <td>-1.571183</td>\n",
       "      <td>1.656634</td>\n",
       "      <td>-0.530999</td>\n",
       "    </tr>\n",
       "  </tbody>\n",
       "</table>\n",
       "</div>"
      ],
      "text/plain": [
       "   2016-04-12  2016-04-13  2016-04-14  2016-04-15  2016-04-16  2016-04-17\n",
       "A   -1.554724   -0.059116   -0.489809    0.638732   -0.083850    1.185765\n",
       "B   -0.410271   -0.505077    1.896279    0.727150    1.590114   -0.876440\n",
       "C    2.642086    0.171248    0.862216    1.561333    0.579363   -2.517277\n",
       "D    0.669351   -1.093928    1.049714   -1.571183    1.656634   -0.530999"
      ]
     },
     "execution_count": 54,
     "metadata": {},
     "output_type": "execute_result"
    }
   ],
   "source": [
    "#数据结构置换\n",
    "df.T"
   ]
  },
  {
   "cell_type": "code",
   "execution_count": 56,
   "metadata": {
    "collapsed": false
   },
   "outputs": [
    {
     "name": "stdout",
     "output_type": "stream",
     "text": [
      "                   A         B         C         D\n",
      "2016-04-12 -1.554724 -0.410271  2.642086  0.669351\n",
      "2016-04-13 -0.059116 -0.505077  0.171248 -1.093928\n",
      "2016-04-14 -0.489809  1.896279  0.862216  1.049714\n",
      "2016-04-15  0.638732  0.727150  1.561333 -1.571183\n",
      "2016-04-16 -0.083850  1.590114  0.579363  1.656634\n",
      "2016-04-17  1.185765 -0.876440 -2.517277 -0.530999\n"
     ]
    },
    {
     "data": {
      "text/html": [
       "<div>\n",
       "<table border=\"1\" class=\"dataframe\">\n",
       "  <thead>\n",
       "    <tr style=\"text-align: right;\">\n",
       "      <th></th>\n",
       "      <th>A</th>\n",
       "      <th>B</th>\n",
       "      <th>C</th>\n",
       "      <th>D</th>\n",
       "    </tr>\n",
       "  </thead>\n",
       "  <tbody>\n",
       "    <tr>\n",
       "      <th>2016-04-12</th>\n",
       "      <td>-1.554724</td>\n",
       "      <td>-0.410271</td>\n",
       "      <td>2.642086</td>\n",
       "      <td>0.669351</td>\n",
       "    </tr>\n",
       "    <tr>\n",
       "      <th>2016-04-14</th>\n",
       "      <td>-0.489809</td>\n",
       "      <td>1.896279</td>\n",
       "      <td>0.862216</td>\n",
       "      <td>1.049714</td>\n",
       "    </tr>\n",
       "    <tr>\n",
       "      <th>2016-04-16</th>\n",
       "      <td>-0.083850</td>\n",
       "      <td>1.590114</td>\n",
       "      <td>0.579363</td>\n",
       "      <td>1.656634</td>\n",
       "    </tr>\n",
       "    <tr>\n",
       "      <th>2016-04-13</th>\n",
       "      <td>-0.059116</td>\n",
       "      <td>-0.505077</td>\n",
       "      <td>0.171248</td>\n",
       "      <td>-1.093928</td>\n",
       "    </tr>\n",
       "    <tr>\n",
       "      <th>2016-04-15</th>\n",
       "      <td>0.638732</td>\n",
       "      <td>0.727150</td>\n",
       "      <td>1.561333</td>\n",
       "      <td>-1.571183</td>\n",
       "    </tr>\n",
       "    <tr>\n",
       "      <th>2016-04-17</th>\n",
       "      <td>1.185765</td>\n",
       "      <td>-0.876440</td>\n",
       "      <td>-2.517277</td>\n",
       "      <td>-0.530999</td>\n",
       "    </tr>\n",
       "  </tbody>\n",
       "</table>\n",
       "</div>"
      ],
      "text/plain": [
       "                   A         B         C         D\n",
       "2016-04-12 -1.554724 -0.410271  2.642086  0.669351\n",
       "2016-04-14 -0.489809  1.896279  0.862216  1.049714\n",
       "2016-04-16 -0.083850  1.590114  0.579363  1.656634\n",
       "2016-04-13 -0.059116 -0.505077  0.171248 -1.093928\n",
       "2016-04-15  0.638732  0.727150  1.561333 -1.571183\n",
       "2016-04-17  1.185765 -0.876440 -2.517277 -0.530999"
      ]
     },
     "execution_count": 56,
     "metadata": {},
     "output_type": "execute_result"
    }
   ],
   "source": [
    "#按值排序\n",
    "print df\n",
    "df.sort_values(by=\"A\")"
   ]
  },
  {
   "cell_type": "markdown",
   "metadata": {},
   "source": [
    "### 选择\n",
    "> 注:尽管使用python或者numpy表达式选择，设置是符合直觉和容易上手，但是pandas推荐使用经过优化的pandas数据访问方法.at,.iat,.loc,iloc以及.ix"
   ]
  },
  {
   "cell_type": "code",
   "execution_count": 59,
   "metadata": {
    "collapsed": false
   },
   "outputs": [
    {
     "name": "stdout",
     "output_type": "stream",
     "text": [
      "                   A         B         C         D\n",
      "2016-04-12 -1.554724 -0.410271  2.642086  0.669351\n",
      "2016-04-13 -0.059116 -0.505077  0.171248 -1.093928\n",
      "2016-04-14 -0.489809  1.896279  0.862216  1.049714\n",
      "2016-04-15  0.638732  0.727150  1.561333 -1.571183\n",
      "2016-04-16 -0.083850  1.590114  0.579363  1.656634\n",
      "2016-04-17  1.185765 -0.876440 -2.517277 -0.530999\n"
     ]
    },
    {
     "data": {
      "text/plain": [
       "2016-04-12   -1.554724\n",
       "2016-04-13   -0.059116\n",
       "2016-04-14   -0.489809\n",
       "2016-04-15    0.638732\n",
       "2016-04-16   -0.083850\n",
       "2016-04-17    1.185765\n",
       "Freq: D, Name: A, dtype: float64"
      ]
     },
     "execution_count": 59,
     "metadata": {},
     "output_type": "execute_result"
    }
   ],
   "source": [
    "#df[A] == df.A\n",
    "print df\n",
    "#df[\"A\"]\n",
    "df.A"
   ]
  },
  {
   "cell_type": "code",
   "execution_count": 60,
   "metadata": {
    "collapsed": false
   },
   "outputs": [
    {
     "data": {
      "text/html": [
       "<div>\n",
       "<table border=\"1\" class=\"dataframe\">\n",
       "  <thead>\n",
       "    <tr style=\"text-align: right;\">\n",
       "      <th></th>\n",
       "      <th>A</th>\n",
       "      <th>B</th>\n",
       "      <th>C</th>\n",
       "      <th>D</th>\n",
       "    </tr>\n",
       "  </thead>\n",
       "  <tbody>\n",
       "    <tr>\n",
       "      <th>2016-04-12</th>\n",
       "      <td>-1.554724</td>\n",
       "      <td>-0.410271</td>\n",
       "      <td>2.642086</td>\n",
       "      <td>0.669351</td>\n",
       "    </tr>\n",
       "    <tr>\n",
       "      <th>2016-04-13</th>\n",
       "      <td>-0.059116</td>\n",
       "      <td>-0.505077</td>\n",
       "      <td>0.171248</td>\n",
       "      <td>-1.093928</td>\n",
       "    </tr>\n",
       "    <tr>\n",
       "      <th>2016-04-14</th>\n",
       "      <td>-0.489809</td>\n",
       "      <td>1.896279</td>\n",
       "      <td>0.862216</td>\n",
       "      <td>1.049714</td>\n",
       "    </tr>\n",
       "  </tbody>\n",
       "</table>\n",
       "</div>"
      ],
      "text/plain": [
       "                   A         B         C         D\n",
       "2016-04-12 -1.554724 -0.410271  2.642086  0.669351\n",
       "2016-04-13 -0.059116 -0.505077  0.171248 -1.093928\n",
       "2016-04-14 -0.489809  1.896279  0.862216  1.049714"
      ]
     },
     "execution_count": 60,
     "metadata": {},
     "output_type": "execute_result"
    }
   ],
   "source": [
    "#切片\n",
    "df[0:3]"
   ]
  },
  {
   "cell_type": "code",
   "execution_count": 35,
   "metadata": {
    "collapsed": false
   },
   "outputs": [
    {
     "data": {
      "text/html": [
       "<div>\n",
       "<table border=\"1\" class=\"dataframe\">\n",
       "  <thead>\n",
       "    <tr style=\"text-align: right;\">\n",
       "      <th></th>\n",
       "      <th>A</th>\n",
       "      <th>B</th>\n",
       "      <th>C</th>\n",
       "      <th>D</th>\n",
       "    </tr>\n",
       "  </thead>\n",
       "  <tbody>\n",
       "    <tr>\n",
       "      <th>2016-04-12</th>\n",
       "      <td>0.722894</td>\n",
       "      <td>0.644555</td>\n",
       "      <td>-0.377230</td>\n",
       "      <td>0.933034</td>\n",
       "    </tr>\n",
       "    <tr>\n",
       "      <th>2016-04-13</th>\n",
       "      <td>0.086092</td>\n",
       "      <td>1.015555</td>\n",
       "      <td>0.473564</td>\n",
       "      <td>-1.242422</td>\n",
       "    </tr>\n",
       "    <tr>\n",
       "      <th>2016-04-14</th>\n",
       "      <td>1.021846</td>\n",
       "      <td>-0.636046</td>\n",
       "      <td>1.814778</td>\n",
       "      <td>-1.248404</td>\n",
       "    </tr>\n",
       "  </tbody>\n",
       "</table>\n",
       "</div>"
      ],
      "text/plain": [
       "                   A         B         C         D\n",
       "2016-04-12  0.722894  0.644555 -0.377230  0.933034\n",
       "2016-04-13  0.086092  1.015555  0.473564 -1.242422\n",
       "2016-04-14  1.021846 -0.636046  1.814778 -1.248404"
      ]
     },
     "execution_count": 35,
     "metadata": {},
     "output_type": "execute_result"
    }
   ],
   "source": [
    "df[\"20160412\":\"20160414\"]"
   ]
  },
  {
   "cell_type": "markdown",
   "metadata": {},
   "source": [
    "#### 通过标签选择\n",
    ".loc的切片更加严格，比如下面是不允许的"
   ]
  },
  {
   "cell_type": "code",
   "execution_count": 36,
   "metadata": {
    "collapsed": false
   },
   "outputs": [
    {
     "ename": "TypeError",
     "evalue": "cannot do slice indexing on <class 'pandas.tseries.index.DatetimeIndex'> with these indexers [2] of <type 'int'>",
     "output_type": "error",
     "traceback": [
      "\u001b[1;31m---------------------------------------------------------------------------\u001b[0m",
      "\u001b[1;31mTypeError\u001b[0m                                 Traceback (most recent call last)",
      "\u001b[1;32m<ipython-input-36-58ebccf5a280>\u001b[0m in \u001b[0;36m<module>\u001b[1;34m()\u001b[0m\n\u001b[1;32m----> 1\u001b[1;33m \u001b[0mdf\u001b[0m\u001b[1;33m.\u001b[0m\u001b[0mloc\u001b[0m\u001b[1;33m[\u001b[0m\u001b[1;36m2\u001b[0m\u001b[1;33m:\u001b[0m\u001b[1;36m3\u001b[0m\u001b[1;33m]\u001b[0m\u001b[1;33m\u001b[0m\u001b[0m\n\u001b[0m",
      "\u001b[1;32mC:\\Anaconda\\lib\\site-packages\\pandas\\core\\indexing.pyc\u001b[0m in \u001b[0;36m__getitem__\u001b[1;34m(self, key)\u001b[0m\n\u001b[0;32m   1225\u001b[0m             \u001b[1;32mreturn\u001b[0m \u001b[0mself\u001b[0m\u001b[1;33m.\u001b[0m\u001b[0m_getitem_tuple\u001b[0m\u001b[1;33m(\u001b[0m\u001b[0mkey\u001b[0m\u001b[1;33m)\u001b[0m\u001b[1;33m\u001b[0m\u001b[0m\n\u001b[0;32m   1226\u001b[0m         \u001b[1;32melse\u001b[0m\u001b[1;33m:\u001b[0m\u001b[1;33m\u001b[0m\u001b[0m\n\u001b[1;32m-> 1227\u001b[1;33m             \u001b[1;32mreturn\u001b[0m \u001b[0mself\u001b[0m\u001b[1;33m.\u001b[0m\u001b[0m_getitem_axis\u001b[0m\u001b[1;33m(\u001b[0m\u001b[0mkey\u001b[0m\u001b[1;33m,\u001b[0m \u001b[0maxis\u001b[0m\u001b[1;33m=\u001b[0m\u001b[1;36m0\u001b[0m\u001b[1;33m)\u001b[0m\u001b[1;33m\u001b[0m\u001b[0m\n\u001b[0m\u001b[0;32m   1228\u001b[0m \u001b[1;33m\u001b[0m\u001b[0m\n\u001b[0;32m   1229\u001b[0m     \u001b[1;32mdef\u001b[0m \u001b[0m_getitem_axis\u001b[0m\u001b[1;33m(\u001b[0m\u001b[0mself\u001b[0m\u001b[1;33m,\u001b[0m \u001b[0mkey\u001b[0m\u001b[1;33m,\u001b[0m \u001b[0maxis\u001b[0m\u001b[1;33m=\u001b[0m\u001b[1;36m0\u001b[0m\u001b[1;33m)\u001b[0m\u001b[1;33m:\u001b[0m\u001b[1;33m\u001b[0m\u001b[0m\n",
      "\u001b[1;32mC:\\Anaconda\\lib\\site-packages\\pandas\\core\\indexing.pyc\u001b[0m in \u001b[0;36m_getitem_axis\u001b[1;34m(self, key, axis)\u001b[0m\n\u001b[0;32m   1340\u001b[0m         \u001b[1;32mif\u001b[0m \u001b[0misinstance\u001b[0m\u001b[1;33m(\u001b[0m\u001b[0mkey\u001b[0m\u001b[1;33m,\u001b[0m \u001b[0mslice\u001b[0m\u001b[1;33m)\u001b[0m\u001b[1;33m:\u001b[0m\u001b[1;33m\u001b[0m\u001b[0m\n\u001b[0;32m   1341\u001b[0m             \u001b[0mself\u001b[0m\u001b[1;33m.\u001b[0m\u001b[0m_has_valid_type\u001b[0m\u001b[1;33m(\u001b[0m\u001b[0mkey\u001b[0m\u001b[1;33m,\u001b[0m \u001b[0maxis\u001b[0m\u001b[1;33m)\u001b[0m\u001b[1;33m\u001b[0m\u001b[0m\n\u001b[1;32m-> 1342\u001b[1;33m             \u001b[1;32mreturn\u001b[0m \u001b[0mself\u001b[0m\u001b[1;33m.\u001b[0m\u001b[0m_get_slice_axis\u001b[0m\u001b[1;33m(\u001b[0m\u001b[0mkey\u001b[0m\u001b[1;33m,\u001b[0m \u001b[0maxis\u001b[0m\u001b[1;33m=\u001b[0m\u001b[0maxis\u001b[0m\u001b[1;33m)\u001b[0m\u001b[1;33m\u001b[0m\u001b[0m\n\u001b[0m\u001b[0;32m   1343\u001b[0m         \u001b[1;32melif\u001b[0m \u001b[0mis_bool_indexer\u001b[0m\u001b[1;33m(\u001b[0m\u001b[0mkey\u001b[0m\u001b[1;33m)\u001b[0m\u001b[1;33m:\u001b[0m\u001b[1;33m\u001b[0m\u001b[0m\n\u001b[0;32m   1344\u001b[0m             \u001b[1;32mreturn\u001b[0m \u001b[0mself\u001b[0m\u001b[1;33m.\u001b[0m\u001b[0m_getbool_axis\u001b[0m\u001b[1;33m(\u001b[0m\u001b[0mkey\u001b[0m\u001b[1;33m,\u001b[0m \u001b[0maxis\u001b[0m\u001b[1;33m=\u001b[0m\u001b[0maxis\u001b[0m\u001b[1;33m)\u001b[0m\u001b[1;33m\u001b[0m\u001b[0m\n",
      "\u001b[1;32mC:\\Anaconda\\lib\\site-packages\\pandas\\core\\indexing.pyc\u001b[0m in \u001b[0;36m_get_slice_axis\u001b[1;34m(self, slice_obj, axis)\u001b[0m\n\u001b[0;32m   1247\u001b[0m         \u001b[0mlabels\u001b[0m \u001b[1;33m=\u001b[0m \u001b[0mobj\u001b[0m\u001b[1;33m.\u001b[0m\u001b[0m_get_axis\u001b[0m\u001b[1;33m(\u001b[0m\u001b[0maxis\u001b[0m\u001b[1;33m)\u001b[0m\u001b[1;33m\u001b[0m\u001b[0m\n\u001b[0;32m   1248\u001b[0m         indexer = labels.slice_indexer(slice_obj.start, slice_obj.stop,\n\u001b[1;32m-> 1249\u001b[1;33m                                        slice_obj.step)\n\u001b[0m\u001b[0;32m   1250\u001b[0m \u001b[1;33m\u001b[0m\u001b[0m\n\u001b[0;32m   1251\u001b[0m         \u001b[1;32mif\u001b[0m \u001b[0misinstance\u001b[0m\u001b[1;33m(\u001b[0m\u001b[0mindexer\u001b[0m\u001b[1;33m,\u001b[0m \u001b[0mslice\u001b[0m\u001b[1;33m)\u001b[0m\u001b[1;33m:\u001b[0m\u001b[1;33m\u001b[0m\u001b[0m\n",
      "\u001b[1;32mC:\\Anaconda\\lib\\site-packages\\pandas\\tseries\\index.pyc\u001b[0m in \u001b[0;36mslice_indexer\u001b[1;34m(self, start, end, step, kind)\u001b[0m\n\u001b[0;32m   1434\u001b[0m \u001b[1;33m\u001b[0m\u001b[0m\n\u001b[0;32m   1435\u001b[0m         \u001b[1;32mtry\u001b[0m\u001b[1;33m:\u001b[0m\u001b[1;33m\u001b[0m\u001b[0m\n\u001b[1;32m-> 1436\u001b[1;33m             \u001b[1;32mreturn\u001b[0m \u001b[0mIndex\u001b[0m\u001b[1;33m.\u001b[0m\u001b[0mslice_indexer\u001b[0m\u001b[1;33m(\u001b[0m\u001b[0mself\u001b[0m\u001b[1;33m,\u001b[0m \u001b[0mstart\u001b[0m\u001b[1;33m,\u001b[0m \u001b[0mend\u001b[0m\u001b[1;33m,\u001b[0m \u001b[0mstep\u001b[0m\u001b[1;33m)\u001b[0m\u001b[1;33m\u001b[0m\u001b[0m\n\u001b[0m\u001b[0;32m   1437\u001b[0m         \u001b[1;32mexcept\u001b[0m \u001b[0mKeyError\u001b[0m\u001b[1;33m:\u001b[0m\u001b[1;33m\u001b[0m\u001b[0m\n\u001b[0;32m   1438\u001b[0m             \u001b[1;31m# For historical reasons DatetimeIndex by default supports\u001b[0m\u001b[1;33m\u001b[0m\u001b[1;33m\u001b[0m\u001b[0m\n",
      "\u001b[1;32mC:\\Anaconda\\lib\\site-packages\\pandas\\core\\index.pyc\u001b[0m in \u001b[0;36mslice_indexer\u001b[1;34m(self, start, end, step, kind)\u001b[0m\n\u001b[0;32m   2568\u001b[0m         \u001b[0mThis\u001b[0m \u001b[0mfunction\u001b[0m \u001b[0massumes\u001b[0m \u001b[0mthat\u001b[0m \u001b[0mthe\u001b[0m \u001b[0mdata\u001b[0m \u001b[1;32mis\u001b[0m \u001b[0msorted\u001b[0m\u001b[1;33m,\u001b[0m \u001b[0mso\u001b[0m \u001b[0muse\u001b[0m \u001b[0mat\u001b[0m \u001b[0myour\u001b[0m \u001b[0mown\u001b[0m \u001b[0mperil\u001b[0m\u001b[1;33m\u001b[0m\u001b[0m\n\u001b[0;32m   2569\u001b[0m         \"\"\"\n\u001b[1;32m-> 2570\u001b[1;33m         \u001b[0mstart_slice\u001b[0m\u001b[1;33m,\u001b[0m \u001b[0mend_slice\u001b[0m \u001b[1;33m=\u001b[0m \u001b[0mself\u001b[0m\u001b[1;33m.\u001b[0m\u001b[0mslice_locs\u001b[0m\u001b[1;33m(\u001b[0m\u001b[0mstart\u001b[0m\u001b[1;33m,\u001b[0m \u001b[0mend\u001b[0m\u001b[1;33m,\u001b[0m \u001b[0mstep\u001b[0m\u001b[1;33m=\u001b[0m\u001b[0mstep\u001b[0m\u001b[1;33m,\u001b[0m \u001b[0mkind\u001b[0m\u001b[1;33m=\u001b[0m\u001b[0mkind\u001b[0m\u001b[1;33m)\u001b[0m\u001b[1;33m\u001b[0m\u001b[0m\n\u001b[0m\u001b[0;32m   2571\u001b[0m \u001b[1;33m\u001b[0m\u001b[0m\n\u001b[0;32m   2572\u001b[0m         \u001b[1;31m# return a slice\u001b[0m\u001b[1;33m\u001b[0m\u001b[1;33m\u001b[0m\u001b[0m\n",
      "\u001b[1;32mC:\\Anaconda\\lib\\site-packages\\pandas\\core\\index.pyc\u001b[0m in \u001b[0;36mslice_locs\u001b[1;34m(self, start, end, step, kind)\u001b[0m\n\u001b[0;32m   2712\u001b[0m         \u001b[0mstart_slice\u001b[0m \u001b[1;33m=\u001b[0m \u001b[0mNone\u001b[0m\u001b[1;33m\u001b[0m\u001b[0m\n\u001b[0;32m   2713\u001b[0m         \u001b[1;32mif\u001b[0m \u001b[0mstart\u001b[0m \u001b[1;32mis\u001b[0m \u001b[1;32mnot\u001b[0m \u001b[0mNone\u001b[0m\u001b[1;33m:\u001b[0m\u001b[1;33m\u001b[0m\u001b[0m\n\u001b[1;32m-> 2714\u001b[1;33m             \u001b[0mstart_slice\u001b[0m \u001b[1;33m=\u001b[0m \u001b[0mself\u001b[0m\u001b[1;33m.\u001b[0m\u001b[0mget_slice_bound\u001b[0m\u001b[1;33m(\u001b[0m\u001b[0mstart\u001b[0m\u001b[1;33m,\u001b[0m \u001b[1;34m'left'\u001b[0m\u001b[1;33m,\u001b[0m \u001b[0mkind\u001b[0m\u001b[1;33m)\u001b[0m\u001b[1;33m\u001b[0m\u001b[0m\n\u001b[0m\u001b[0;32m   2715\u001b[0m         \u001b[1;32mif\u001b[0m \u001b[0mstart_slice\u001b[0m \u001b[1;32mis\u001b[0m \u001b[0mNone\u001b[0m\u001b[1;33m:\u001b[0m\u001b[1;33m\u001b[0m\u001b[0m\n\u001b[0;32m   2716\u001b[0m             \u001b[0mstart_slice\u001b[0m \u001b[1;33m=\u001b[0m \u001b[1;36m0\u001b[0m\u001b[1;33m\u001b[0m\u001b[0m\n",
      "\u001b[1;32mC:\\Anaconda\\lib\\site-packages\\pandas\\core\\index.pyc\u001b[0m in \u001b[0;36mget_slice_bound\u001b[1;34m(self, label, side, kind)\u001b[0m\n\u001b[0;32m   2650\u001b[0m         \u001b[1;31m# For datetime indices label may be a string that has to be converted\u001b[0m\u001b[1;33m\u001b[0m\u001b[1;33m\u001b[0m\u001b[0m\n\u001b[0;32m   2651\u001b[0m         \u001b[1;31m# to datetime boundary according to its resolution.\u001b[0m\u001b[1;33m\u001b[0m\u001b[1;33m\u001b[0m\u001b[0m\n\u001b[1;32m-> 2652\u001b[1;33m         \u001b[0mlabel\u001b[0m \u001b[1;33m=\u001b[0m \u001b[0mself\u001b[0m\u001b[1;33m.\u001b[0m\u001b[0m_maybe_cast_slice_bound\u001b[0m\u001b[1;33m(\u001b[0m\u001b[0mlabel\u001b[0m\u001b[1;33m,\u001b[0m \u001b[0mside\u001b[0m\u001b[1;33m,\u001b[0m \u001b[0mkind\u001b[0m\u001b[1;33m)\u001b[0m\u001b[1;33m\u001b[0m\u001b[0m\n\u001b[0m\u001b[0;32m   2653\u001b[0m \u001b[1;33m\u001b[0m\u001b[0m\n\u001b[0;32m   2654\u001b[0m         \u001b[1;31m# we need to look up the label\u001b[0m\u001b[1;33m\u001b[0m\u001b[1;33m\u001b[0m\u001b[0m\n",
      "\u001b[1;32mC:\\Anaconda\\lib\\site-packages\\pandas\\tseries\\index.pyc\u001b[0m in \u001b[0;36m_maybe_cast_slice_bound\u001b[1;34m(self, label, side, kind)\u001b[0m\n\u001b[0;32m   1389\u001b[0m         \"\"\"\n\u001b[0;32m   1390\u001b[0m         \u001b[1;32mif\u001b[0m \u001b[0mis_float\u001b[0m\u001b[1;33m(\u001b[0m\u001b[0mlabel\u001b[0m\u001b[1;33m)\u001b[0m \u001b[1;32mor\u001b[0m \u001b[0misinstance\u001b[0m\u001b[1;33m(\u001b[0m\u001b[0mlabel\u001b[0m\u001b[1;33m,\u001b[0m \u001b[0mtime\u001b[0m\u001b[1;33m)\u001b[0m \u001b[1;32mor\u001b[0m \u001b[0mis_integer\u001b[0m\u001b[1;33m(\u001b[0m\u001b[0mlabel\u001b[0m\u001b[1;33m)\u001b[0m\u001b[1;33m:\u001b[0m\u001b[1;33m\u001b[0m\u001b[0m\n\u001b[1;32m-> 1391\u001b[1;33m             \u001b[0mself\u001b[0m\u001b[1;33m.\u001b[0m\u001b[0m_invalid_indexer\u001b[0m\u001b[1;33m(\u001b[0m\u001b[1;34m'slice'\u001b[0m\u001b[1;33m,\u001b[0m\u001b[0mlabel\u001b[0m\u001b[1;33m)\u001b[0m\u001b[1;33m\u001b[0m\u001b[0m\n\u001b[0m\u001b[0;32m   1392\u001b[0m \u001b[1;33m\u001b[0m\u001b[0m\n\u001b[0;32m   1393\u001b[0m         \u001b[1;32mif\u001b[0m \u001b[0misinstance\u001b[0m\u001b[1;33m(\u001b[0m\u001b[0mlabel\u001b[0m\u001b[1;33m,\u001b[0m \u001b[0mcompat\u001b[0m\u001b[1;33m.\u001b[0m\u001b[0mstring_types\u001b[0m\u001b[1;33m)\u001b[0m\u001b[1;33m:\u001b[0m\u001b[1;33m\u001b[0m\u001b[0m\n",
      "\u001b[1;32mC:\\Anaconda\\lib\\site-packages\\pandas\\core\\index.pyc\u001b[0m in \u001b[0;36m_invalid_indexer\u001b[1;34m(self, form, key)\u001b[0m\n\u001b[0;32m   1015\u001b[0m                                                            \u001b[0mklass\u001b[0m\u001b[1;33m=\u001b[0m\u001b[0mtype\u001b[0m\u001b[1;33m(\u001b[0m\u001b[0mself\u001b[0m\u001b[1;33m)\u001b[0m\u001b[1;33m,\u001b[0m\u001b[1;33m\u001b[0m\u001b[0m\n\u001b[0;32m   1016\u001b[0m                                                            \u001b[0mkey\u001b[0m\u001b[1;33m=\u001b[0m\u001b[0mkey\u001b[0m\u001b[1;33m,\u001b[0m\u001b[1;33m\u001b[0m\u001b[0m\n\u001b[1;32m-> 1017\u001b[1;33m                                                            kind=type(key)))\n\u001b[0m\u001b[0;32m   1018\u001b[0m \u001b[1;33m\u001b[0m\u001b[0m\n\u001b[0;32m   1019\u001b[0m     \u001b[1;32mdef\u001b[0m \u001b[0mget_duplicates\u001b[0m\u001b[1;33m(\u001b[0m\u001b[0mself\u001b[0m\u001b[1;33m)\u001b[0m\u001b[1;33m:\u001b[0m\u001b[1;33m\u001b[0m\u001b[0m\n",
      "\u001b[1;31mTypeError\u001b[0m: cannot do slice indexing on <class 'pandas.tseries.index.DatetimeIndex'> with these indexers [2] of <type 'int'>"
     ]
    }
   ],
   "source": [
    "df.loc[2:3]"
   ]
  },
  {
   "cell_type": "code",
   "execution_count": 64,
   "metadata": {
    "collapsed": false
   },
   "outputs": [
    {
     "name": "stdout",
     "output_type": "stream",
     "text": [
      "DatetimeIndex(['2016-04-12', '2016-04-13', '2016-04-14', '2016-04-15',\n",
      "               '2016-04-16', '2016-04-17'],\n",
      "              dtype='datetime64[ns]', freq='D')\n",
      "                   A         B         C         D\n",
      "2016-04-12 -1.554724 -0.410271  2.642086  0.669351\n",
      "2016-04-13 -0.059116 -0.505077  0.171248 -1.093928\n",
      "2016-04-14 -0.489809  1.896279  0.862216  1.049714\n",
      "2016-04-15  0.638732  0.727150  1.561333 -1.571183\n",
      "2016-04-16 -0.083850  1.590114  0.579363  1.656634\n",
      "2016-04-17  1.185765 -0.876440 -2.517277 -0.530999\n"
     ]
    }
   ],
   "source": [
    "print df.index\n",
    "df.loc[\"2016-04-12\"]\n",
    "print df"
   ]
  },
  {
   "cell_type": "code",
   "execution_count": 66,
   "metadata": {
    "collapsed": false
   },
   "outputs": [
    {
     "data": {
      "text/html": [
       "<div>\n",
       "<table border=\"1\" class=\"dataframe\">\n",
       "  <thead>\n",
       "    <tr style=\"text-align: right;\">\n",
       "      <th></th>\n",
       "      <th>A</th>\n",
       "      <th>C</th>\n",
       "    </tr>\n",
       "  </thead>\n",
       "  <tbody>\n",
       "    <tr>\n",
       "      <th>2016-04-12</th>\n",
       "      <td>-1.554724</td>\n",
       "      <td>2.642086</td>\n",
       "    </tr>\n",
       "    <tr>\n",
       "      <th>2016-04-13</th>\n",
       "      <td>-0.059116</td>\n",
       "      <td>0.171248</td>\n",
       "    </tr>\n",
       "    <tr>\n",
       "      <th>2016-04-14</th>\n",
       "      <td>-0.489809</td>\n",
       "      <td>0.862216</td>\n",
       "    </tr>\n",
       "    <tr>\n",
       "      <th>2016-04-15</th>\n",
       "      <td>0.638732</td>\n",
       "      <td>1.561333</td>\n",
       "    </tr>\n",
       "    <tr>\n",
       "      <th>2016-04-16</th>\n",
       "      <td>-0.083850</td>\n",
       "      <td>0.579363</td>\n",
       "    </tr>\n",
       "    <tr>\n",
       "      <th>2016-04-17</th>\n",
       "      <td>1.185765</td>\n",
       "      <td>-2.517277</td>\n",
       "    </tr>\n",
       "  </tbody>\n",
       "</table>\n",
       "</div>"
      ],
      "text/plain": [
       "                   A         C\n",
       "2016-04-12 -1.554724  2.642086\n",
       "2016-04-13 -0.059116  0.171248\n",
       "2016-04-14 -0.489809  0.862216\n",
       "2016-04-15  0.638732  1.561333\n",
       "2016-04-16 -0.083850  0.579363\n",
       "2016-04-17  1.185765 -2.517277"
      ]
     },
     "execution_count": 66,
     "metadata": {},
     "output_type": "execute_result"
    }
   ],
   "source": [
    "#通过标签多轴选择\n",
    "df.loc[:]\n",
    "df.loc[:,[\"A\",\"C\"]]"
   ]
  },
  {
   "cell_type": "code",
   "execution_count": 44,
   "metadata": {
    "collapsed": false
   },
   "outputs": [
    {
     "data": {
      "text/html": [
       "<div>\n",
       "<table border=\"1\" class=\"dataframe\">\n",
       "  <thead>\n",
       "    <tr style=\"text-align: right;\">\n",
       "      <th></th>\n",
       "      <th>A</th>\n",
       "      <th>B</th>\n",
       "    </tr>\n",
       "  </thead>\n",
       "  <tbody>\n",
       "    <tr>\n",
       "      <th>2016-04-12</th>\n",
       "      <td>1.494035</td>\n",
       "      <td>-0.249508</td>\n",
       "    </tr>\n",
       "    <tr>\n",
       "      <th>2016-04-13</th>\n",
       "      <td>0.150298</td>\n",
       "      <td>-0.972742</td>\n",
       "    </tr>\n",
       "    <tr>\n",
       "      <th>2016-04-14</th>\n",
       "      <td>0.438359</td>\n",
       "      <td>0.888426</td>\n",
       "    </tr>\n",
       "  </tbody>\n",
       "</table>\n",
       "</div>"
      ],
      "text/plain": [
       "                   A         B\n",
       "2016-04-12  1.494035 -0.249508\n",
       "2016-04-13  0.150298 -0.972742\n",
       "2016-04-14  0.438359  0.888426"
      ]
     },
     "execution_count": 44,
     "metadata": {},
     "output_type": "execute_result"
    }
   ],
   "source": [
    "#这里不像列表不包括终点！！！\n",
    "df.loc[\"20160412\":\"20160414\",[\"A\",\"B\"]]"
   ]
  },
  {
   "cell_type": "markdown",
   "metadata": {},
   "source": [
    "#### 通过位置(Postion)选择"
   ]
  },
  {
   "cell_type": "code",
   "execution_count": 45,
   "metadata": {
    "collapsed": false
   },
   "outputs": [
    {
     "data": {
      "text/plain": [
       "A    0.496325\n",
       "B    0.238735\n",
       "C    0.097390\n",
       "D    0.886351\n",
       "Name: 2016-04-15 00:00:00, dtype: float64"
      ]
     },
     "execution_count": 45,
     "metadata": {},
     "output_type": "execute_result"
    }
   ],
   "source": [
    "df.iloc[3]"
   ]
  },
  {
   "cell_type": "code",
   "execution_count": 67,
   "metadata": {
    "collapsed": false
   },
   "outputs": [
    {
     "data": {
      "text/html": [
       "<div>\n",
       "<table border=\"1\" class=\"dataframe\">\n",
       "  <thead>\n",
       "    <tr style=\"text-align: right;\">\n",
       "      <th></th>\n",
       "      <th>A</th>\n",
       "      <th>C</th>\n",
       "    </tr>\n",
       "  </thead>\n",
       "  <tbody>\n",
       "    <tr>\n",
       "      <th>2016-04-15</th>\n",
       "      <td>0.638732</td>\n",
       "      <td>1.561333</td>\n",
       "    </tr>\n",
       "    <tr>\n",
       "      <th>2016-04-16</th>\n",
       "      <td>-0.083850</td>\n",
       "      <td>0.579363</td>\n",
       "    </tr>\n",
       "  </tbody>\n",
       "</table>\n",
       "</div>"
      ],
      "text/plain": [
       "                   A         C\n",
       "2016-04-15  0.638732  1.561333\n",
       "2016-04-16 -0.083850  0.579363"
      ]
     },
     "execution_count": 67,
     "metadata": {},
     "output_type": "execute_result"
    }
   ],
   "source": [
    "df.iloc[3:5,0:4:2]"
   ]
  },
  {
   "cell_type": "code",
   "execution_count": 47,
   "metadata": {
    "collapsed": false
   },
   "outputs": [
    {
     "data": {
      "text/html": [
       "<div>\n",
       "<table border=\"1\" class=\"dataframe\">\n",
       "  <thead>\n",
       "    <tr style=\"text-align: right;\">\n",
       "      <th></th>\n",
       "      <th>A</th>\n",
       "      <th>C</th>\n",
       "    </tr>\n",
       "  </thead>\n",
       "  <tbody>\n",
       "    <tr>\n",
       "      <th>2016-04-13</th>\n",
       "      <td>0.150298</td>\n",
       "      <td>-1.182513</td>\n",
       "    </tr>\n",
       "    <tr>\n",
       "      <th>2016-04-14</th>\n",
       "      <td>0.438359</td>\n",
       "      <td>-0.568706</td>\n",
       "    </tr>\n",
       "    <tr>\n",
       "      <th>2016-04-16</th>\n",
       "      <td>-0.388541</td>\n",
       "      <td>1.268092</td>\n",
       "    </tr>\n",
       "  </tbody>\n",
       "</table>\n",
       "</div>"
      ],
      "text/plain": [
       "                   A         C\n",
       "2016-04-13  0.150298 -1.182513\n",
       "2016-04-14  0.438359 -0.568706\n",
       "2016-04-16 -0.388541  1.268092"
      ]
     },
     "execution_count": 47,
     "metadata": {},
     "output_type": "execute_result"
    }
   ],
   "source": [
    "df.iloc[[1,2,4],[0,2]]"
   ]
  },
  {
   "cell_type": "code",
   "execution_count": 48,
   "metadata": {
    "collapsed": false
   },
   "outputs": [
    {
     "data": {
      "text/html": [
       "<div>\n",
       "<table border=\"1\" class=\"dataframe\">\n",
       "  <thead>\n",
       "    <tr style=\"text-align: right;\">\n",
       "      <th></th>\n",
       "      <th>A</th>\n",
       "      <th>B</th>\n",
       "      <th>C</th>\n",
       "      <th>D</th>\n",
       "    </tr>\n",
       "  </thead>\n",
       "  <tbody>\n",
       "    <tr>\n",
       "      <th>2016-04-13</th>\n",
       "      <td>0.150298</td>\n",
       "      <td>-0.972742</td>\n",
       "      <td>-1.182513</td>\n",
       "      <td>-0.412535</td>\n",
       "    </tr>\n",
       "    <tr>\n",
       "      <th>2016-04-14</th>\n",
       "      <td>0.438359</td>\n",
       "      <td>0.888426</td>\n",
       "      <td>-0.568706</td>\n",
       "      <td>-0.391850</td>\n",
       "    </tr>\n",
       "  </tbody>\n",
       "</table>\n",
       "</div>"
      ],
      "text/plain": [
       "                   A         B         C         D\n",
       "2016-04-13  0.150298 -0.972742 -1.182513 -0.412535\n",
       "2016-04-14  0.438359  0.888426 -0.568706 -0.391850"
      ]
     },
     "execution_count": 48,
     "metadata": {},
     "output_type": "execute_result"
    }
   ],
   "source": [
    "df.iloc[1:3,:]"
   ]
  },
  {
   "cell_type": "code",
   "execution_count": 49,
   "metadata": {
    "collapsed": false
   },
   "outputs": [
    {
     "data": {
      "text/html": [
       "<div>\n",
       "<table border=\"1\" class=\"dataframe\">\n",
       "  <thead>\n",
       "    <tr style=\"text-align: right;\">\n",
       "      <th></th>\n",
       "      <th>B</th>\n",
       "      <th>C</th>\n",
       "    </tr>\n",
       "  </thead>\n",
       "  <tbody>\n",
       "    <tr>\n",
       "      <th>2016-04-12</th>\n",
       "      <td>-0.249508</td>\n",
       "      <td>-0.840103</td>\n",
       "    </tr>\n",
       "    <tr>\n",
       "      <th>2016-04-13</th>\n",
       "      <td>-0.972742</td>\n",
       "      <td>-1.182513</td>\n",
       "    </tr>\n",
       "    <tr>\n",
       "      <th>2016-04-14</th>\n",
       "      <td>0.888426</td>\n",
       "      <td>-0.568706</td>\n",
       "    </tr>\n",
       "    <tr>\n",
       "      <th>2016-04-15</th>\n",
       "      <td>0.238735</td>\n",
       "      <td>0.097390</td>\n",
       "    </tr>\n",
       "    <tr>\n",
       "      <th>2016-04-16</th>\n",
       "      <td>0.149561</td>\n",
       "      <td>1.268092</td>\n",
       "    </tr>\n",
       "    <tr>\n",
       "      <th>2016-04-17</th>\n",
       "      <td>0.045658</td>\n",
       "      <td>-0.851169</td>\n",
       "    </tr>\n",
       "  </tbody>\n",
       "</table>\n",
       "</div>"
      ],
      "text/plain": [
       "                   B         C\n",
       "2016-04-12 -0.249508 -0.840103\n",
       "2016-04-13 -0.972742 -1.182513\n",
       "2016-04-14  0.888426 -0.568706\n",
       "2016-04-15  0.238735  0.097390\n",
       "2016-04-16  0.149561  1.268092\n",
       "2016-04-17  0.045658 -0.851169"
      ]
     },
     "execution_count": 49,
     "metadata": {},
     "output_type": "execute_result"
    }
   ],
   "source": [
    "#字段(columns)切片\n",
    "df.iloc[:,1:3]"
   ]
  },
  {
   "cell_type": "code",
   "execution_count": 50,
   "metadata": {
    "collapsed": false
   },
   "outputs": [
    {
     "data": {
      "text/html": [
       "<div>\n",
       "<table border=\"1\" class=\"dataframe\">\n",
       "  <thead>\n",
       "    <tr style=\"text-align: right;\">\n",
       "      <th></th>\n",
       "      <th>A</th>\n",
       "      <th>B</th>\n",
       "      <th>C</th>\n",
       "      <th>D</th>\n",
       "    </tr>\n",
       "  </thead>\n",
       "  <tbody>\n",
       "    <tr>\n",
       "      <th>2016-04-13</th>\n",
       "      <td>0.150298</td>\n",
       "      <td>-0.972742</td>\n",
       "      <td>-1.182513</td>\n",
       "      <td>-0.412535</td>\n",
       "    </tr>\n",
       "    <tr>\n",
       "      <th>2016-04-14</th>\n",
       "      <td>0.438359</td>\n",
       "      <td>0.888426</td>\n",
       "      <td>-0.568706</td>\n",
       "      <td>-0.391850</td>\n",
       "    </tr>\n",
       "  </tbody>\n",
       "</table>\n",
       "</div>"
      ],
      "text/plain": [
       "                   A         B         C         D\n",
       "2016-04-13  0.150298 -0.972742 -1.182513 -0.412535\n",
       "2016-04-14  0.438359  0.888426 -0.568706 -0.391850"
      ]
     },
     "execution_count": 50,
     "metadata": {},
     "output_type": "execute_result"
    }
   ],
   "source": [
    "#行(row)切片\n",
    "df.iloc[1:3,:]"
   ]
  },
  {
   "cell_type": "code",
   "execution_count": 68,
   "metadata": {
    "collapsed": false
   },
   "outputs": [
    {
     "data": {
      "text/plain": [
       "-0.50507690581096476"
      ]
     },
     "execution_count": 68,
     "metadata": {},
     "output_type": "execute_result"
    }
   ],
   "source": [
    "#获取值\n",
    "df.iloc[1,1]"
   ]
  },
  {
   "cell_type": "code",
   "execution_count": 52,
   "metadata": {
    "collapsed": false
   },
   "outputs": [
    {
     "data": {
      "text/plain": [
       "-0.97274187279670077"
      ]
     },
     "execution_count": 52,
     "metadata": {},
     "output_type": "execute_result"
    }
   ],
   "source": [
    "#获取值的速度更快方式\n",
    "df.iat[1,1]"
   ]
  },
  {
   "cell_type": "markdown",
   "metadata": {},
   "source": [
    "### 布尔索引"
   ]
  },
  {
   "cell_type": "code",
   "execution_count": 70,
   "metadata": {
    "collapsed": false
   },
   "outputs": [
    {
     "name": "stdout",
     "output_type": "stream",
     "text": [
      "                   A         B         C         D\n",
      "2016-04-12 -1.554724 -0.410271  2.642086  0.669351\n",
      "2016-04-13 -0.059116 -0.505077  0.171248 -1.093928\n",
      "2016-04-14 -0.489809  1.896279  0.862216  1.049714\n",
      "2016-04-15  0.638732  0.727150  1.561333 -1.571183\n",
      "2016-04-16 -0.083850  1.590114  0.579363  1.656634\n",
      "2016-04-17  1.185765 -0.876440 -2.517277 -0.530999\n"
     ]
    },
    {
     "data": {
      "text/html": [
       "<div>\n",
       "<table border=\"1\" class=\"dataframe\">\n",
       "  <thead>\n",
       "    <tr style=\"text-align: right;\">\n",
       "      <th></th>\n",
       "      <th>A</th>\n",
       "      <th>B</th>\n",
       "      <th>C</th>\n",
       "      <th>D</th>\n",
       "    </tr>\n",
       "  </thead>\n",
       "  <tbody>\n",
       "    <tr>\n",
       "      <th>2016-04-14</th>\n",
       "      <td>-0.489809</td>\n",
       "      <td>1.896279</td>\n",
       "      <td>0.862216</td>\n",
       "      <td>1.049714</td>\n",
       "    </tr>\n",
       "    <tr>\n",
       "      <th>2016-04-16</th>\n",
       "      <td>-0.083850</td>\n",
       "      <td>1.590114</td>\n",
       "      <td>0.579363</td>\n",
       "      <td>1.656634</td>\n",
       "    </tr>\n",
       "  </tbody>\n",
       "</table>\n",
       "</div>"
      ],
      "text/plain": [
       "                   A         B         C         D\n",
       "2016-04-14 -0.489809  1.896279  0.862216  1.049714\n",
       "2016-04-16 -0.083850  1.590114  0.579363  1.656634"
      ]
     },
     "execution_count": 70,
     "metadata": {},
     "output_type": "execute_result"
    }
   ],
   "source": [
    "#使用单个字段值选择数据\n",
    "print df\n",
    "#df[df.A > 0]\n",
    "df[df.B > 1]"
   ]
  },
  {
   "cell_type": "code",
   "execution_count": 88,
   "metadata": {
    "collapsed": false
   },
   "outputs": [
    {
     "data": {
      "text/html": [
       "<div>\n",
       "<table border=\"1\" class=\"dataframe\">\n",
       "  <thead>\n",
       "    <tr style=\"text-align: right;\">\n",
       "      <th></th>\n",
       "      <th>A</th>\n",
       "      <th>B</th>\n",
       "      <th>C</th>\n",
       "      <th>D</th>\n",
       "    </tr>\n",
       "  </thead>\n",
       "  <tbody>\n",
       "    <tr>\n",
       "      <th>2016-04-12</th>\n",
       "      <td>-1.554724</td>\n",
       "      <td>-0.410271</td>\n",
       "      <td>2.642086</td>\n",
       "      <td>0.669351</td>\n",
       "    </tr>\n",
       "    <tr>\n",
       "      <th>2016-04-13</th>\n",
       "      <td>-0.059116</td>\n",
       "      <td>NaN</td>\n",
       "      <td>0.171248</td>\n",
       "      <td>-1.093928</td>\n",
       "    </tr>\n",
       "    <tr>\n",
       "      <th>2016-04-14</th>\n",
       "      <td>-0.489809</td>\n",
       "      <td>1.89628</td>\n",
       "      <td>0.862216</td>\n",
       "      <td>1.049714</td>\n",
       "    </tr>\n",
       "    <tr>\n",
       "      <th>2016-04-15</th>\n",
       "      <td>0.638732</td>\n",
       "      <td>0.72715</td>\n",
       "      <td>1.561333</td>\n",
       "      <td>-1.571183</td>\n",
       "    </tr>\n",
       "    <tr>\n",
       "      <th>2016-04-16</th>\n",
       "      <td>-0.083850</td>\n",
       "      <td>1.59011</td>\n",
       "      <td>0.579363</td>\n",
       "      <td>1.656634</td>\n",
       "    </tr>\n",
       "  </tbody>\n",
       "</table>\n",
       "</div>"
      ],
      "text/plain": [
       "                   A         B         C         D\n",
       "2016-04-12 -1.554724 -0.410271  2.642086  0.669351\n",
       "2016-04-13 -0.059116       NaN  0.171248 -1.093928\n",
       "2016-04-14 -0.489809   1.89628  0.862216  1.049714\n",
       "2016-04-15  0.638732   0.72715  1.561333 -1.571183\n",
       "2016-04-16 -0.083850   1.59011  0.579363  1.656634"
      ]
     },
     "execution_count": 88,
     "metadata": {},
     "output_type": "execute_result"
    }
   ],
   "source": [
    "#where条件运算\n",
    "df3 = df[df > -1.6]\n",
    "df4 = df3.dropna()\n",
    "df4.iloc[1,1] = \"NaN\"\n",
    "df4.dropna()"
   ]
  },
  {
   "cell_type": "code",
   "execution_count": 92,
   "metadata": {
    "collapsed": false
   },
   "outputs": [
    {
     "name": "stdout",
     "output_type": "stream",
     "text": [
      "                   A         B         C         D  E\n",
      "2016-04-12 -1.554724 -0.410271  2.642086  0.669351  1\n",
      "2016-04-13 -0.059116 -0.505077  0.171248 -1.093928  1\n",
      "2016-04-14 -0.489809  1.896279  0.862216  1.049714  2\n",
      "2016-04-15  0.638732  0.727150  1.561333 -1.571183  3\n",
      "2016-04-16 -0.083850  1.590114  0.579363  1.656634  4\n",
      "2016-04-17  1.185765 -0.876440 -2.517277 -0.530999  3\n"
     ]
    },
    {
     "data": {
      "text/html": [
       "<div>\n",
       "<table border=\"1\" class=\"dataframe\">\n",
       "  <thead>\n",
       "    <tr style=\"text-align: right;\">\n",
       "      <th></th>\n",
       "      <th>A</th>\n",
       "      <th>B</th>\n",
       "      <th>C</th>\n",
       "      <th>D</th>\n",
       "      <th>E</th>\n",
       "    </tr>\n",
       "  </thead>\n",
       "  <tbody>\n",
       "    <tr>\n",
       "      <th>2016-04-14</th>\n",
       "      <td>-0.489809</td>\n",
       "      <td>1.896279</td>\n",
       "      <td>0.862216</td>\n",
       "      <td>1.049714</td>\n",
       "      <td>2</td>\n",
       "    </tr>\n",
       "    <tr>\n",
       "      <th>2016-04-16</th>\n",
       "      <td>-0.083850</td>\n",
       "      <td>1.590114</td>\n",
       "      <td>0.579363</td>\n",
       "      <td>1.656634</td>\n",
       "      <td>4</td>\n",
       "    </tr>\n",
       "  </tbody>\n",
       "</table>\n",
       "</div>"
      ],
      "text/plain": [
       "                   A         B         C         D  E\n",
       "2016-04-14 -0.489809  1.896279  0.862216  1.049714  2\n",
       "2016-04-16 -0.083850  1.590114  0.579363  1.656634  4"
      ]
     },
     "execution_count": 92,
     "metadata": {},
     "output_type": "execute_result"
    }
   ],
   "source": [
    "#使用isin方法过滤\n",
    "df2 = df.copy()\n",
    "\n",
    "df2[\"E\"] = [\"1\",\"1\",\"2\",\"3\",\"4\",\"3\"]\n",
    "print df2\n",
    "df2[df2[\"E\"].isin([\"2\",\"4\"])]\n"
   ]
  },
  {
   "cell_type": "markdown",
   "metadata": {},
   "source": [
    "### 设置\n"
   ]
  },
  {
   "cell_type": "code",
   "execution_count": 93,
   "metadata": {
    "collapsed": false
   },
   "outputs": [
    {
     "name": "stdout",
     "output_type": "stream",
     "text": [
      "2016-04-13    1\n",
      "2016-04-14    2\n",
      "2016-04-15    3\n",
      "2016-04-16    4\n",
      "2016-04-17    5\n",
      "2016-04-18    6\n",
      "Freq: D, dtype: int64\n",
      "                   A         B         C         D   F\n",
      "2016-04-12 -1.554724 -0.410271  2.642086  0.669351 NaN\n",
      "2016-04-13 -0.059116 -0.505077  0.171248 -1.093928   1\n",
      "2016-04-14 -0.489809  1.896279  0.862216  1.049714   2\n",
      "2016-04-15  0.638732  0.727150  1.561333 -1.571183   3\n",
      "2016-04-16 -0.083850  1.590114  0.579363  1.656634   4\n",
      "2016-04-17  1.185765 -0.876440 -2.517277 -0.530999   5\n"
     ]
    }
   ],
   "source": [
    "#新增一个字段，通过索引自动对齐\n",
    "s1 = pd.Series([1,2,3,4,5,6,],index=pd.date_range(\"20160413\",periods=6))\n",
    "print s1\n",
    "df[\"F\"]= s1\n",
    "print df"
   ]
  },
  {
   "cell_type": "code",
   "execution_count": 94,
   "metadata": {
    "collapsed": false,
    "scrolled": true
   },
   "outputs": [
    {
     "name": "stdout",
     "output_type": "stream",
     "text": [
      "                   A         B         C         D   F\n",
      "2016-04-12  0.000000 -0.410271  2.642086  0.669351 NaN\n",
      "2016-04-13 -0.059116 -0.505077  0.171248 -1.093928   1\n",
      "2016-04-14 -0.489809  1.896279  0.862216  1.049714   2\n",
      "2016-04-15  0.638732  0.727150  1.561333 -1.571183   3\n",
      "2016-04-16 -0.083850  1.590114  0.579363  1.656634   4\n",
      "2016-04-17  1.185765 -0.876440 -2.517277 -0.530999   5\n"
     ]
    }
   ],
   "source": [
    "#通过标签\n",
    "df.at[dates[0],\"A\"] = 0\n",
    "print df"
   ]
  },
  {
   "cell_type": "code",
   "execution_count": 95,
   "metadata": {
    "collapsed": false
   },
   "outputs": [
    {
     "name": "stdout",
     "output_type": "stream",
     "text": [
      "                   A         B         C         D   F\n",
      "2016-04-12  0.000000  0.000000  2.642086  0.669351 NaN\n",
      "2016-04-13 -0.059116 -0.505077  0.171248 -1.093928   1\n",
      "2016-04-14 -0.489809  1.896279  0.862216  1.049714   2\n",
      "2016-04-15  0.638732  0.727150  1.561333 -1.571183   3\n",
      "2016-04-16 -0.083850  1.590114  0.579363  1.656634   4\n",
      "2016-04-17  1.185765 -0.876440 -2.517277 -0.530999   5\n"
     ]
    }
   ],
   "source": [
    "#通过位置\n",
    "df.iat[0,1] = 0\n",
    "print df"
   ]
  },
  {
   "cell_type": "code",
   "execution_count": 97,
   "metadata": {
    "collapsed": false
   },
   "outputs": [
    {
     "name": "stdout",
     "output_type": "stream",
     "text": [
      "[1, 1, 1, 1, 1, 1]\n",
      "                   A         B         C  D   F\n",
      "2016-04-12  0.000000  0.000000  2.642086  5 NaN\n",
      "2016-04-13 -0.059116 -0.505077  0.171248  5   1\n",
      "2016-04-14 -0.489809  1.896279  0.862216  5   2\n",
      "2016-04-15  0.638732  0.727150  1.561333  5   3\n",
      "2016-04-16 -0.083850  1.590114  0.579363  5   4\n",
      "2016-04-17  1.185765 -0.876440 -2.517277  5   5\n"
     ]
    }
   ],
   "source": [
    "#通过numpy数组\n",
    "print [1] * len(df)\n",
    "df.loc[:,\"D\"] = np.array([5] * len(df))\n",
    "print df"
   ]
  },
  {
   "cell_type": "code",
   "execution_count": 99,
   "metadata": {
    "collapsed": false
   },
   "outputs": [
    {
     "data": {
      "text/html": [
       "<div>\n",
       "<table border=\"1\" class=\"dataframe\">\n",
       "  <thead>\n",
       "    <tr style=\"text-align: right;\">\n",
       "      <th></th>\n",
       "      <th>A</th>\n",
       "      <th>B</th>\n",
       "      <th>C</th>\n",
       "      <th>D</th>\n",
       "      <th>F</th>\n",
       "    </tr>\n",
       "  </thead>\n",
       "  <tbody>\n",
       "    <tr>\n",
       "      <th>2016-04-12</th>\n",
       "      <td>0.000000</td>\n",
       "      <td>0.000000</td>\n",
       "      <td>-2.642086</td>\n",
       "      <td>-5</td>\n",
       "      <td>NaN</td>\n",
       "    </tr>\n",
       "    <tr>\n",
       "      <th>2016-04-13</th>\n",
       "      <td>-0.059116</td>\n",
       "      <td>-0.505077</td>\n",
       "      <td>-0.171248</td>\n",
       "      <td>-5</td>\n",
       "      <td>-1</td>\n",
       "    </tr>\n",
       "    <tr>\n",
       "      <th>2016-04-14</th>\n",
       "      <td>-0.489809</td>\n",
       "      <td>-1.896279</td>\n",
       "      <td>-0.862216</td>\n",
       "      <td>-5</td>\n",
       "      <td>-2</td>\n",
       "    </tr>\n",
       "    <tr>\n",
       "      <th>2016-04-15</th>\n",
       "      <td>-0.638732</td>\n",
       "      <td>-0.727150</td>\n",
       "      <td>-1.561333</td>\n",
       "      <td>-5</td>\n",
       "      <td>-3</td>\n",
       "    </tr>\n",
       "    <tr>\n",
       "      <th>2016-04-16</th>\n",
       "      <td>-0.083850</td>\n",
       "      <td>-1.590114</td>\n",
       "      <td>-0.579363</td>\n",
       "      <td>-5</td>\n",
       "      <td>-4</td>\n",
       "    </tr>\n",
       "    <tr>\n",
       "      <th>2016-04-17</th>\n",
       "      <td>-1.185765</td>\n",
       "      <td>-0.876440</td>\n",
       "      <td>-2.517277</td>\n",
       "      <td>-5</td>\n",
       "      <td>-5</td>\n",
       "    </tr>\n",
       "  </tbody>\n",
       "</table>\n",
       "</div>"
      ],
      "text/plain": [
       "                   A         B         C  D   F\n",
       "2016-04-12  0.000000  0.000000 -2.642086 -5 NaN\n",
       "2016-04-13 -0.059116 -0.505077 -0.171248 -5  -1\n",
       "2016-04-14 -0.489809 -1.896279 -0.862216 -5  -2\n",
       "2016-04-15 -0.638732 -0.727150 -1.561333 -5  -3\n",
       "2016-04-16 -0.083850 -1.590114 -0.579363 -5  -4\n",
       "2016-04-17 -1.185765 -0.876440 -2.517277 -5  -5"
      ]
     },
     "execution_count": 99,
     "metadata": {},
     "output_type": "execute_result"
    }
   ],
   "source": [
    "#where操作\n",
    "df2 = df.copy()\n",
    "df2[df2 > 0] = -df2\n",
    "df2"
   ]
  },
  {
   "cell_type": "markdown",
   "metadata": {},
   "source": [
    "## 缺失数据\n",
    "pandas 主要使用np.nan体现缺失数据"
   ]
  },
  {
   "cell_type": "code",
   "execution_count": 100,
   "metadata": {
    "collapsed": false
   },
   "outputs": [
    {
     "data": {
      "text/html": [
       "<div>\n",
       "<table border=\"1\" class=\"dataframe\">\n",
       "  <thead>\n",
       "    <tr style=\"text-align: right;\">\n",
       "      <th></th>\n",
       "      <th>A</th>\n",
       "      <th>B</th>\n",
       "      <th>C</th>\n",
       "      <th>D</th>\n",
       "      <th>F</th>\n",
       "      <th>E</th>\n",
       "    </tr>\n",
       "  </thead>\n",
       "  <tbody>\n",
       "    <tr>\n",
       "      <th>2016-04-12</th>\n",
       "      <td>0.000000</td>\n",
       "      <td>0.000000</td>\n",
       "      <td>2.642086</td>\n",
       "      <td>5</td>\n",
       "      <td>NaN</td>\n",
       "      <td>NaN</td>\n",
       "    </tr>\n",
       "    <tr>\n",
       "      <th>2016-04-13</th>\n",
       "      <td>-0.059116</td>\n",
       "      <td>-0.505077</td>\n",
       "      <td>0.171248</td>\n",
       "      <td>5</td>\n",
       "      <td>1</td>\n",
       "      <td>NaN</td>\n",
       "    </tr>\n",
       "    <tr>\n",
       "      <th>2016-04-14</th>\n",
       "      <td>-0.489809</td>\n",
       "      <td>1.896279</td>\n",
       "      <td>0.862216</td>\n",
       "      <td>5</td>\n",
       "      <td>2</td>\n",
       "      <td>NaN</td>\n",
       "    </tr>\n",
       "    <tr>\n",
       "      <th>2016-04-15</th>\n",
       "      <td>0.638732</td>\n",
       "      <td>0.727150</td>\n",
       "      <td>1.561333</td>\n",
       "      <td>5</td>\n",
       "      <td>3</td>\n",
       "      <td>NaN</td>\n",
       "    </tr>\n",
       "  </tbody>\n",
       "</table>\n",
       "</div>"
      ],
      "text/plain": [
       "                   A         B         C  D   F   E\n",
       "2016-04-12  0.000000  0.000000  2.642086  5 NaN NaN\n",
       "2016-04-13 -0.059116 -0.505077  0.171248  5   1 NaN\n",
       "2016-04-14 -0.489809  1.896279  0.862216  5   2 NaN\n",
       "2016-04-15  0.638732  0.727150  1.561333  5   3 NaN"
      ]
     },
     "execution_count": 100,
     "metadata": {},
     "output_type": "execute_result"
    }
   ],
   "source": [
    "#reindex可以用来更改/增加/删除索引\n",
    "df1 = df.reindex(index=dates[0:4],columns=list(df.columns) + [\"E\"])\n",
    "df1"
   ]
  },
  {
   "cell_type": "code",
   "execution_count": 101,
   "metadata": {
    "collapsed": false
   },
   "outputs": [
    {
     "data": {
      "text/html": [
       "<div>\n",
       "<table border=\"1\" class=\"dataframe\">\n",
       "  <thead>\n",
       "    <tr style=\"text-align: right;\">\n",
       "      <th></th>\n",
       "      <th>A</th>\n",
       "      <th>B</th>\n",
       "      <th>C</th>\n",
       "      <th>D</th>\n",
       "      <th>F</th>\n",
       "      <th>E</th>\n",
       "    </tr>\n",
       "  </thead>\n",
       "  <tbody>\n",
       "    <tr>\n",
       "      <th>2016-04-12</th>\n",
       "      <td>0.000000</td>\n",
       "      <td>0.000000</td>\n",
       "      <td>2.642086</td>\n",
       "      <td>5</td>\n",
       "      <td>NaN</td>\n",
       "      <td>1</td>\n",
       "    </tr>\n",
       "    <tr>\n",
       "      <th>2016-04-13</th>\n",
       "      <td>-0.059116</td>\n",
       "      <td>-0.505077</td>\n",
       "      <td>0.171248</td>\n",
       "      <td>5</td>\n",
       "      <td>1</td>\n",
       "      <td>1</td>\n",
       "    </tr>\n",
       "    <tr>\n",
       "      <th>2016-04-14</th>\n",
       "      <td>-0.489809</td>\n",
       "      <td>1.896279</td>\n",
       "      <td>0.862216</td>\n",
       "      <td>5</td>\n",
       "      <td>2</td>\n",
       "      <td>NaN</td>\n",
       "    </tr>\n",
       "    <tr>\n",
       "      <th>2016-04-15</th>\n",
       "      <td>0.638732</td>\n",
       "      <td>0.727150</td>\n",
       "      <td>1.561333</td>\n",
       "      <td>5</td>\n",
       "      <td>3</td>\n",
       "      <td>NaN</td>\n",
       "    </tr>\n",
       "  </tbody>\n",
       "</table>\n",
       "</div>"
      ],
      "text/plain": [
       "                   A         B         C  D   F   E\n",
       "2016-04-12  0.000000  0.000000  2.642086  5 NaN   1\n",
       "2016-04-13 -0.059116 -0.505077  0.171248  5   1   1\n",
       "2016-04-14 -0.489809  1.896279  0.862216  5   2 NaN\n",
       "2016-04-15  0.638732  0.727150  1.561333  5   3 NaN"
      ]
     },
     "execution_count": 101,
     "metadata": {},
     "output_type": "execute_result"
    }
   ],
   "source": [
    "df1.loc[dates[0]:dates[1],\"E\"] = 1\n",
    "df1"
   ]
  },
  {
   "cell_type": "code",
   "execution_count": 105,
   "metadata": {
    "collapsed": false
   },
   "outputs": [
    {
     "data": {
      "text/plain": [
       "nan"
      ]
     },
     "execution_count": 105,
     "metadata": {},
     "output_type": "execute_result"
    }
   ],
   "source": [
    "#删除任意行中有缺失数据的行(row)\n",
    "df1.dropna(how=\"any\")"
   ]
  },
  {
   "cell_type": "code",
   "execution_count": 107,
   "metadata": {
    "collapsed": false
   },
   "outputs": [
    {
     "data": {
      "text/html": [
       "<div>\n",
       "<table border=\"1\" class=\"dataframe\">\n",
       "  <thead>\n",
       "    <tr style=\"text-align: right;\">\n",
       "      <th></th>\n",
       "      <th>A</th>\n",
       "      <th>B</th>\n",
       "      <th>C</th>\n",
       "      <th>D</th>\n",
       "      <th>F</th>\n",
       "      <th>E</th>\n",
       "    </tr>\n",
       "  </thead>\n",
       "  <tbody>\n",
       "    <tr>\n",
       "      <th>2016-04-12</th>\n",
       "      <td>0.000000</td>\n",
       "      <td>0.000000</td>\n",
       "      <td>2.642086</td>\n",
       "      <td>5</td>\n",
       "      <td>0</td>\n",
       "      <td>1</td>\n",
       "    </tr>\n",
       "    <tr>\n",
       "      <th>2016-04-13</th>\n",
       "      <td>-0.059116</td>\n",
       "      <td>-0.505077</td>\n",
       "      <td>0.171248</td>\n",
       "      <td>5</td>\n",
       "      <td>1</td>\n",
       "      <td>1</td>\n",
       "    </tr>\n",
       "    <tr>\n",
       "      <th>2016-04-14</th>\n",
       "      <td>-0.489809</td>\n",
       "      <td>1.896279</td>\n",
       "      <td>0.862216</td>\n",
       "      <td>5</td>\n",
       "      <td>2</td>\n",
       "      <td>0</td>\n",
       "    </tr>\n",
       "    <tr>\n",
       "      <th>2016-04-15</th>\n",
       "      <td>0.638732</td>\n",
       "      <td>0.727150</td>\n",
       "      <td>1.561333</td>\n",
       "      <td>5</td>\n",
       "      <td>3</td>\n",
       "      <td>0</td>\n",
       "    </tr>\n",
       "  </tbody>\n",
       "</table>\n",
       "</div>"
      ],
      "text/plain": [
       "                   A         B         C  D  F  E\n",
       "2016-04-12  0.000000  0.000000  2.642086  5  0  1\n",
       "2016-04-13 -0.059116 -0.505077  0.171248  5  1  1\n",
       "2016-04-14 -0.489809  1.896279  0.862216  5  2  0\n",
       "2016-04-15  0.638732  0.727150  1.561333  5  3  0"
      ]
     },
     "execution_count": 107,
     "metadata": {},
     "output_type": "execute_result"
    }
   ],
   "source": [
    "#填充缺失数据的值\n",
    "df1.fillna(value=0)"
   ]
  },
  {
   "cell_type": "code",
   "execution_count": 108,
   "metadata": {
    "collapsed": false
   },
   "outputs": [
    {
     "data": {
      "text/html": [
       "<div>\n",
       "<table border=\"1\" class=\"dataframe\">\n",
       "  <thead>\n",
       "    <tr style=\"text-align: right;\">\n",
       "      <th></th>\n",
       "      <th>A</th>\n",
       "      <th>B</th>\n",
       "      <th>C</th>\n",
       "      <th>D</th>\n",
       "      <th>F</th>\n",
       "      <th>E</th>\n",
       "    </tr>\n",
       "  </thead>\n",
       "  <tbody>\n",
       "    <tr>\n",
       "      <th>2016-04-12</th>\n",
       "      <td>False</td>\n",
       "      <td>False</td>\n",
       "      <td>False</td>\n",
       "      <td>False</td>\n",
       "      <td>True</td>\n",
       "      <td>False</td>\n",
       "    </tr>\n",
       "    <tr>\n",
       "      <th>2016-04-13</th>\n",
       "      <td>False</td>\n",
       "      <td>False</td>\n",
       "      <td>False</td>\n",
       "      <td>False</td>\n",
       "      <td>False</td>\n",
       "      <td>False</td>\n",
       "    </tr>\n",
       "    <tr>\n",
       "      <th>2016-04-14</th>\n",
       "      <td>False</td>\n",
       "      <td>False</td>\n",
       "      <td>False</td>\n",
       "      <td>False</td>\n",
       "      <td>False</td>\n",
       "      <td>True</td>\n",
       "    </tr>\n",
       "    <tr>\n",
       "      <th>2016-04-15</th>\n",
       "      <td>False</td>\n",
       "      <td>False</td>\n",
       "      <td>False</td>\n",
       "      <td>False</td>\n",
       "      <td>False</td>\n",
       "      <td>True</td>\n",
       "    </tr>\n",
       "  </tbody>\n",
       "</table>\n",
       "</div>"
      ],
      "text/plain": [
       "                A      B      C      D      F      E\n",
       "2016-04-12  False  False  False  False   True  False\n",
       "2016-04-13  False  False  False  False  False  False\n",
       "2016-04-14  False  False  False  False  False   True\n",
       "2016-04-15  False  False  False  False  False   True"
      ]
     },
     "execution_count": 108,
     "metadata": {},
     "output_type": "execute_result"
    }
   ],
   "source": [
    "#判断是否为缺失值(nan)\n",
    "pd.isnull(df1)"
   ]
  },
  {
   "cell_type": "markdown",
   "metadata": {},
   "source": [
    "## 操作"
   ]
  },
  {
   "cell_type": "code",
   "execution_count": 75,
   "metadata": {
    "collapsed": false
   },
   "outputs": [
    {
     "data": {
      "text/plain": [
       "A   -0.191234\n",
       "B   -0.819936\n",
       "C   -0.055869\n",
       "D    0.667207\n",
       "dtype: float64"
      ]
     },
     "execution_count": 75,
     "metadata": {},
     "output_type": "execute_result"
    }
   ],
   "source": [
    "#普通操作都是将缺失数据排除在外的,比如mean平均值\n",
    "df.mean()"
   ]
  },
  {
   "cell_type": "code",
   "execution_count": 77,
   "metadata": {
    "collapsed": false
   },
   "outputs": [
    {
     "data": {
      "text/plain": [
       "2016-04-12   -0.085975\n",
       "2016-04-13    0.800882\n",
       "2016-04-14    0.298654\n",
       "2016-04-15   -0.985873\n",
       "2016-04-16   -0.166695\n",
       "2016-04-17   -0.460741\n",
       "Freq: D, dtype: float64"
      ]
     },
     "execution_count": 77,
     "metadata": {},
     "output_type": "execute_result"
    }
   ],
   "source": [
    "df.mean(1)\n",
    "df.mean"
   ]
  },
  {
   "cell_type": "code",
   "execution_count": 5,
   "metadata": {
    "collapsed": false
   },
   "outputs": [
    {
     "data": {
      "text/plain": [
       "2016-04-12   NaN\n",
       "2016-04-13   NaN\n",
       "2016-04-14     1\n",
       "2016-04-15     2\n",
       "2016-04-16     4\n",
       "2016-04-17   NaN\n",
       "Freq: D, dtype: float64"
      ]
     },
     "execution_count": 5,
     "metadata": {},
     "output_type": "execute_result"
    }
   ],
   "source": [
    "s = pd.Series([1,2,4,np.nan,6,8],index=dates).shift(2)\n",
    "s"
   ]
  },
  {
   "cell_type": "code",
   "execution_count": 6,
   "metadata": {
    "collapsed": false
   },
   "outputs": [
    {
     "name": "stdout",
     "output_type": "stream",
     "text": [
      "                   A         B         C         D\n",
      "2016-04-12 -0.352075  0.792117 -0.478669  0.705107\n",
      "2016-04-13 -0.395491  0.760144 -0.109512 -0.386012\n",
      "2016-04-14  0.127280  0.021084  3.087900  1.133400\n",
      "2016-04-15 -1.100870 -0.071101 -0.243060 -0.190100\n",
      "2016-04-16  0.421173 -1.002471 -0.139795 -0.467803\n",
      "2016-04-17  0.513706 -0.660055 -1.638824  0.508767\n"
     ]
    },
    {
     "data": {
      "text/html": [
       "<div>\n",
       "<table border=\"1\" class=\"dataframe\">\n",
       "  <thead>\n",
       "    <tr style=\"text-align: right;\">\n",
       "      <th></th>\n",
       "      <th>A</th>\n",
       "      <th>B</th>\n",
       "      <th>C</th>\n",
       "      <th>D</th>\n",
       "    </tr>\n",
       "  </thead>\n",
       "  <tbody>\n",
       "    <tr>\n",
       "      <th>2016-04-12</th>\n",
       "      <td>NaN</td>\n",
       "      <td>NaN</td>\n",
       "      <td>NaN</td>\n",
       "      <td>NaN</td>\n",
       "    </tr>\n",
       "    <tr>\n",
       "      <th>2016-04-13</th>\n",
       "      <td>NaN</td>\n",
       "      <td>NaN</td>\n",
       "      <td>NaN</td>\n",
       "      <td>NaN</td>\n",
       "    </tr>\n",
       "    <tr>\n",
       "      <th>2016-04-14</th>\n",
       "      <td>-0.872720</td>\n",
       "      <td>-0.978916</td>\n",
       "      <td>2.087900</td>\n",
       "      <td>0.133400</td>\n",
       "    </tr>\n",
       "    <tr>\n",
       "      <th>2016-04-15</th>\n",
       "      <td>-3.100870</td>\n",
       "      <td>-2.071101</td>\n",
       "      <td>-2.243060</td>\n",
       "      <td>-2.190100</td>\n",
       "    </tr>\n",
       "    <tr>\n",
       "      <th>2016-04-16</th>\n",
       "      <td>-3.578827</td>\n",
       "      <td>-5.002471</td>\n",
       "      <td>-4.139795</td>\n",
       "      <td>-4.467803</td>\n",
       "    </tr>\n",
       "    <tr>\n",
       "      <th>2016-04-17</th>\n",
       "      <td>NaN</td>\n",
       "      <td>NaN</td>\n",
       "      <td>NaN</td>\n",
       "      <td>NaN</td>\n",
       "    </tr>\n",
       "  </tbody>\n",
       "</table>\n",
       "</div>"
      ],
      "text/plain": [
       "                   A         B         C         D\n",
       "2016-04-12       NaN       NaN       NaN       NaN\n",
       "2016-04-13       NaN       NaN       NaN       NaN\n",
       "2016-04-14 -0.872720 -0.978916  2.087900  0.133400\n",
       "2016-04-15 -3.100870 -2.071101 -2.243060 -2.190100\n",
       "2016-04-16 -3.578827 -5.002471 -4.139795 -4.467803\n",
       "2016-04-17       NaN       NaN       NaN       NaN"
      ]
     },
     "execution_count": 6,
     "metadata": {},
     "output_type": "execute_result"
    }
   ],
   "source": [
    "print df\n",
    "df.sub(s,axis=\"index\")"
   ]
  },
  {
   "cell_type": "markdown",
   "metadata": {},
   "source": [
    "#### apply"
   ]
  },
  {
   "cell_type": "code",
   "execution_count": 9,
   "metadata": {
    "collapsed": false
   },
   "outputs": [
    {
     "name": "stdout",
     "output_type": "stream",
     "text": [
      "                   A         B         C         D\n",
      "2016-04-12 -0.352075  0.792117 -0.478669  0.705107\n",
      "2016-04-13 -0.395491  0.760144 -0.109512 -0.386012\n",
      "2016-04-14  0.127280  0.021084  3.087900  1.133400\n",
      "2016-04-15 -1.100870 -0.071101 -0.243060 -0.190100\n",
      "2016-04-16  0.421173 -1.002471 -0.139795 -0.467803\n",
      "2016-04-17  0.513706 -0.660055 -1.638824  0.508767\n"
     ]
    },
    {
     "data": {
      "text/html": [
       "<div>\n",
       "<table border=\"1\" class=\"dataframe\">\n",
       "  <thead>\n",
       "    <tr style=\"text-align: right;\">\n",
       "      <th></th>\n",
       "      <th>A</th>\n",
       "      <th>B</th>\n",
       "      <th>C</th>\n",
       "      <th>D</th>\n",
       "    </tr>\n",
       "  </thead>\n",
       "  <tbody>\n",
       "    <tr>\n",
       "      <th>2016-04-12</th>\n",
       "      <td>9.647925</td>\n",
       "      <td>10.792117</td>\n",
       "      <td>9.521331</td>\n",
       "      <td>10.705107</td>\n",
       "    </tr>\n",
       "    <tr>\n",
       "      <th>2016-04-13</th>\n",
       "      <td>9.604509</td>\n",
       "      <td>10.760144</td>\n",
       "      <td>9.890488</td>\n",
       "      <td>9.613988</td>\n",
       "    </tr>\n",
       "    <tr>\n",
       "      <th>2016-04-14</th>\n",
       "      <td>10.127280</td>\n",
       "      <td>10.021084</td>\n",
       "      <td>13.087900</td>\n",
       "      <td>11.133400</td>\n",
       "    </tr>\n",
       "    <tr>\n",
       "      <th>2016-04-15</th>\n",
       "      <td>8.899130</td>\n",
       "      <td>9.928899</td>\n",
       "      <td>9.756940</td>\n",
       "      <td>9.809900</td>\n",
       "    </tr>\n",
       "    <tr>\n",
       "      <th>2016-04-16</th>\n",
       "      <td>10.421173</td>\n",
       "      <td>8.997529</td>\n",
       "      <td>9.860205</td>\n",
       "      <td>9.532197</td>\n",
       "    </tr>\n",
       "    <tr>\n",
       "      <th>2016-04-17</th>\n",
       "      <td>10.513706</td>\n",
       "      <td>9.339945</td>\n",
       "      <td>8.361176</td>\n",
       "      <td>10.508767</td>\n",
       "    </tr>\n",
       "  </tbody>\n",
       "</table>\n",
       "</div>"
      ],
      "text/plain": [
       "                    A          B          C          D\n",
       "2016-04-12   9.647925  10.792117   9.521331  10.705107\n",
       "2016-04-13   9.604509  10.760144   9.890488   9.613988\n",
       "2016-04-14  10.127280  10.021084  13.087900  11.133400\n",
       "2016-04-15   8.899130   9.928899   9.756940   9.809900\n",
       "2016-04-16  10.421173   8.997529   9.860205   9.532197\n",
       "2016-04-17  10.513706   9.339945   8.361176  10.508767"
      ]
     },
     "execution_count": 9,
     "metadata": {},
     "output_type": "execute_result"
    }
   ],
   "source": [
    "#应用一个函数\n",
    "print df\n",
    "#df.apply(np.cumsum)\n",
    "\n",
    "def f1(x):\n",
    "    return x + 10\n",
    "\n",
    "df.apply(f1)"
   ]
  },
  {
   "cell_type": "code",
   "execution_count": 84,
   "metadata": {
    "collapsed": false
   },
   "outputs": [
    {
     "data": {
      "text/plain": [
       "A    3.209780\n",
       "B    2.540791\n",
       "C    2.012373\n",
       "D    2.860504\n",
       "dtype: float64"
      ]
     },
     "execution_count": 84,
     "metadata": {},
     "output_type": "execute_result"
    }
   ],
   "source": [
    "df.apply(lambda x:x.max()- x.min())"
   ]
  },
  {
   "cell_type": "markdown",
   "metadata": {},
   "source": [
    "#### 直方图"
   ]
  },
  {
   "cell_type": "code",
   "execution_count": 85,
   "metadata": {
    "collapsed": false
   },
   "outputs": [
    {
     "data": {
      "text/plain": [
       "0    5\n",
       "1    1\n",
       "2    2\n",
       "3    6\n",
       "4    3\n",
       "5    1\n",
       "6    6\n",
       "7    1\n",
       "8    5\n",
       "9    6\n",
       "dtype: int32"
      ]
     },
     "execution_count": 85,
     "metadata": {},
     "output_type": "execute_result"
    }
   ],
   "source": [
    "s = pd.Series(np.random.randint(0,7,size=10))\n",
    "s"
   ]
  },
  {
   "cell_type": "code",
   "execution_count": 86,
   "metadata": {
    "collapsed": false
   },
   "outputs": [
    {
     "data": {
      "text/plain": [
       "6    3\n",
       "1    3\n",
       "5    2\n",
       "3    1\n",
       "2    1\n",
       "dtype: int64"
      ]
     },
     "execution_count": 86,
     "metadata": {},
     "output_type": "execute_result"
    }
   ],
   "source": [
    "s.value_counts()"
   ]
  },
  {
   "cell_type": "markdown",
   "metadata": {},
   "source": [
    "#### 字符串方法"
   ]
  },
  {
   "cell_type": "code",
   "execution_count": 87,
   "metadata": {
    "collapsed": false
   },
   "outputs": [
    {
     "data": {
      "text/plain": [
       "0       a\n",
       "1       b\n",
       "2    acsa\n",
       "3     NaN\n",
       "dtype: object"
      ]
     },
     "execution_count": 87,
     "metadata": {},
     "output_type": "execute_result"
    }
   ],
   "source": [
    "s = pd.Series([\"A\",\"B\",\"AcsA\",np.nan])\n",
    "               \n",
    "s.str.lower()\n",
    "\n",
    "               "
   ]
  },
  {
   "cell_type": "markdown",
   "metadata": {},
   "source": [
    "### 合并"
   ]
  },
  {
   "cell_type": "markdown",
   "metadata": {},
   "source": [
    "#### 连接(concat)"
   ]
  },
  {
   "cell_type": "code",
   "execution_count": 10,
   "metadata": {
    "collapsed": false
   },
   "outputs": [
    {
     "data": {
      "text/html": [
       "<div>\n",
       "<table border=\"1\" class=\"dataframe\">\n",
       "  <thead>\n",
       "    <tr style=\"text-align: right;\">\n",
       "      <th></th>\n",
       "      <th>0</th>\n",
       "      <th>1</th>\n",
       "      <th>2</th>\n",
       "      <th>3</th>\n",
       "    </tr>\n",
       "  </thead>\n",
       "  <tbody>\n",
       "    <tr>\n",
       "      <th>0</th>\n",
       "      <td>-0.764616</td>\n",
       "      <td>0.032180</td>\n",
       "      <td>0.248739</td>\n",
       "      <td>1.065290</td>\n",
       "    </tr>\n",
       "    <tr>\n",
       "      <th>1</th>\n",
       "      <td>2.330307</td>\n",
       "      <td>-0.279503</td>\n",
       "      <td>-0.903340</td>\n",
       "      <td>-0.767350</td>\n",
       "    </tr>\n",
       "    <tr>\n",
       "      <th>2</th>\n",
       "      <td>-1.350195</td>\n",
       "      <td>-1.341795</td>\n",
       "      <td>-0.027881</td>\n",
       "      <td>-0.053618</td>\n",
       "    </tr>\n",
       "    <tr>\n",
       "      <th>3</th>\n",
       "      <td>0.748911</td>\n",
       "      <td>-0.874745</td>\n",
       "      <td>-0.530252</td>\n",
       "      <td>-0.113454</td>\n",
       "    </tr>\n",
       "    <tr>\n",
       "      <th>4</th>\n",
       "      <td>0.085049</td>\n",
       "      <td>-2.677635</td>\n",
       "      <td>0.065332</td>\n",
       "      <td>0.193470</td>\n",
       "    </tr>\n",
       "    <tr>\n",
       "      <th>5</th>\n",
       "      <td>-1.227479</td>\n",
       "      <td>1.013566</td>\n",
       "      <td>0.006526</td>\n",
       "      <td>-0.446945</td>\n",
       "    </tr>\n",
       "    <tr>\n",
       "      <th>6</th>\n",
       "      <td>-1.361310</td>\n",
       "      <td>-0.691454</td>\n",
       "      <td>0.521745</td>\n",
       "      <td>-0.139383</td>\n",
       "    </tr>\n",
       "    <tr>\n",
       "      <th>7</th>\n",
       "      <td>-1.539920</td>\n",
       "      <td>-0.213475</td>\n",
       "      <td>0.073463</td>\n",
       "      <td>-0.839439</td>\n",
       "    </tr>\n",
       "    <tr>\n",
       "      <th>8</th>\n",
       "      <td>0.780558</td>\n",
       "      <td>-0.201224</td>\n",
       "      <td>-0.046462</td>\n",
       "      <td>-2.290903</td>\n",
       "    </tr>\n",
       "    <tr>\n",
       "      <th>9</th>\n",
       "      <td>-1.668068</td>\n",
       "      <td>1.157175</td>\n",
       "      <td>0.712575</td>\n",
       "      <td>0.601733</td>\n",
       "    </tr>\n",
       "  </tbody>\n",
       "</table>\n",
       "</div>"
      ],
      "text/plain": [
       "          0         1         2         3\n",
       "0 -0.764616  0.032180  0.248739  1.065290\n",
       "1  2.330307 -0.279503 -0.903340 -0.767350\n",
       "2 -1.350195 -1.341795 -0.027881 -0.053618\n",
       "3  0.748911 -0.874745 -0.530252 -0.113454\n",
       "4  0.085049 -2.677635  0.065332  0.193470\n",
       "5 -1.227479  1.013566  0.006526 -0.446945\n",
       "6 -1.361310 -0.691454  0.521745 -0.139383\n",
       "7 -1.539920 -0.213475  0.073463 -0.839439\n",
       "8  0.780558 -0.201224 -0.046462 -2.290903\n",
       "9 -1.668068  1.157175  0.712575  0.601733"
      ]
     },
     "execution_count": 10,
     "metadata": {},
     "output_type": "execute_result"
    }
   ],
   "source": [
    "df = pd.DataFrame(np.random.randn(10,4))\n",
    "df"
   ]
  },
  {
   "cell_type": "code",
   "execution_count": 12,
   "metadata": {
    "collapsed": false
   },
   "outputs": [
    {
     "data": {
      "text/html": [
       "<div>\n",
       "<table border=\"1\" class=\"dataframe\">\n",
       "  <thead>\n",
       "    <tr style=\"text-align: right;\">\n",
       "      <th></th>\n",
       "      <th>0</th>\n",
       "      <th>1</th>\n",
       "      <th>2</th>\n",
       "      <th>3</th>\n",
       "    </tr>\n",
       "  </thead>\n",
       "  <tbody>\n",
       "    <tr>\n",
       "      <th>0</th>\n",
       "      <td>-0.764616</td>\n",
       "      <td>0.032180</td>\n",
       "      <td>0.248739</td>\n",
       "      <td>1.065290</td>\n",
       "    </tr>\n",
       "    <tr>\n",
       "      <th>1</th>\n",
       "      <td>2.330307</td>\n",
       "      <td>-0.279503</td>\n",
       "      <td>-0.903340</td>\n",
       "      <td>-0.767350</td>\n",
       "    </tr>\n",
       "    <tr>\n",
       "      <th>2</th>\n",
       "      <td>-1.350195</td>\n",
       "      <td>-1.341795</td>\n",
       "      <td>-0.027881</td>\n",
       "      <td>-0.053618</td>\n",
       "    </tr>\n",
       "    <tr>\n",
       "      <th>3</th>\n",
       "      <td>0.748911</td>\n",
       "      <td>-0.874745</td>\n",
       "      <td>-0.530252</td>\n",
       "      <td>-0.113454</td>\n",
       "    </tr>\n",
       "    <tr>\n",
       "      <th>4</th>\n",
       "      <td>0.085049</td>\n",
       "      <td>-2.677635</td>\n",
       "      <td>0.065332</td>\n",
       "      <td>0.193470</td>\n",
       "    </tr>\n",
       "    <tr>\n",
       "      <th>5</th>\n",
       "      <td>-1.227479</td>\n",
       "      <td>1.013566</td>\n",
       "      <td>0.006526</td>\n",
       "      <td>-0.446945</td>\n",
       "    </tr>\n",
       "    <tr>\n",
       "      <th>6</th>\n",
       "      <td>-1.361310</td>\n",
       "      <td>-0.691454</td>\n",
       "      <td>0.521745</td>\n",
       "      <td>-0.139383</td>\n",
       "    </tr>\n",
       "    <tr>\n",
       "      <th>7</th>\n",
       "      <td>-1.539920</td>\n",
       "      <td>-0.213475</td>\n",
       "      <td>0.073463</td>\n",
       "      <td>-0.839439</td>\n",
       "    </tr>\n",
       "    <tr>\n",
       "      <th>8</th>\n",
       "      <td>0.780558</td>\n",
       "      <td>-0.201224</td>\n",
       "      <td>-0.046462</td>\n",
       "      <td>-2.290903</td>\n",
       "    </tr>\n",
       "    <tr>\n",
       "      <th>9</th>\n",
       "      <td>-1.668068</td>\n",
       "      <td>1.157175</td>\n",
       "      <td>0.712575</td>\n",
       "      <td>0.601733</td>\n",
       "    </tr>\n",
       "    <tr>\n",
       "      <th>0</th>\n",
       "      <td>-0.764616</td>\n",
       "      <td>0.032180</td>\n",
       "      <td>0.248739</td>\n",
       "      <td>1.065290</td>\n",
       "    </tr>\n",
       "    <tr>\n",
       "      <th>1</th>\n",
       "      <td>2.330307</td>\n",
       "      <td>-0.279503</td>\n",
       "      <td>-0.903340</td>\n",
       "      <td>-0.767350</td>\n",
       "    </tr>\n",
       "    <tr>\n",
       "      <th>2</th>\n",
       "      <td>-1.350195</td>\n",
       "      <td>-1.341795</td>\n",
       "      <td>-0.027881</td>\n",
       "      <td>-0.053618</td>\n",
       "    </tr>\n",
       "  </tbody>\n",
       "</table>\n",
       "</div>"
      ],
      "text/plain": [
       "          0         1         2         3\n",
       "0 -0.764616  0.032180  0.248739  1.065290\n",
       "1  2.330307 -0.279503 -0.903340 -0.767350\n",
       "2 -1.350195 -1.341795 -0.027881 -0.053618\n",
       "3  0.748911 -0.874745 -0.530252 -0.113454\n",
       "4  0.085049 -2.677635  0.065332  0.193470\n",
       "5 -1.227479  1.013566  0.006526 -0.446945\n",
       "6 -1.361310 -0.691454  0.521745 -0.139383\n",
       "7 -1.539920 -0.213475  0.073463 -0.839439\n",
       "8  0.780558 -0.201224 -0.046462 -2.290903\n",
       "9 -1.668068  1.157175  0.712575  0.601733\n",
       "0 -0.764616  0.032180  0.248739  1.065290\n",
       "1  2.330307 -0.279503 -0.903340 -0.767350\n",
       "2 -1.350195 -1.341795 -0.027881 -0.053618"
      ]
     },
     "execution_count": 12,
     "metadata": {},
     "output_type": "execute_result"
    }
   ],
   "source": [
    "#作为示范，我们将df截取成三段\n",
    "prices = [df[:3],df[3:7],df[7:]]\n",
    "#print df[:3]\n",
    "#print df[3:7]\n",
    "prices = [df[:],df[:3]]\n",
    "pd.concat(prices)"
   ]
  },
  {
   "cell_type": "markdown",
   "metadata": {},
   "source": [
    "#### 结合(join)"
   ]
  },
  {
   "cell_type": "code",
   "execution_count": 96,
   "metadata": {
    "collapsed": false
   },
   "outputs": [
    {
     "name": "stdout",
     "output_type": "stream",
     "text": [
      "   key  lval\n",
      "0  foo     1\n",
      "1  foo     2\n",
      "   key  rval\n",
      "0  foo     4\n",
      "1  foo     5\n"
     ]
    }
   ],
   "source": [
    "#有点类似sql语句\n",
    "left = pd.DataFrame({\"key\":[\"foo\",\"foo\"],\"lval\":[1,2]})\n",
    "right = pd.DataFrame({\"key\":[\"foo\",\"foo\"],\"rval\":[4,5]})\n",
    "print left\n",
    "print right"
   ]
  },
  {
   "cell_type": "code",
   "execution_count": 97,
   "metadata": {
    "collapsed": false
   },
   "outputs": [
    {
     "data": {
      "text/html": [
       "<div>\n",
       "<table border=\"1\" class=\"dataframe\">\n",
       "  <thead>\n",
       "    <tr style=\"text-align: right;\">\n",
       "      <th></th>\n",
       "      <th>key</th>\n",
       "      <th>lval</th>\n",
       "      <th>rval</th>\n",
       "    </tr>\n",
       "  </thead>\n",
       "  <tbody>\n",
       "    <tr>\n",
       "      <th>0</th>\n",
       "      <td>foo</td>\n",
       "      <td>1</td>\n",
       "      <td>4</td>\n",
       "    </tr>\n",
       "    <tr>\n",
       "      <th>1</th>\n",
       "      <td>foo</td>\n",
       "      <td>1</td>\n",
       "      <td>5</td>\n",
       "    </tr>\n",
       "    <tr>\n",
       "      <th>2</th>\n",
       "      <td>foo</td>\n",
       "      <td>2</td>\n",
       "      <td>4</td>\n",
       "    </tr>\n",
       "    <tr>\n",
       "      <th>3</th>\n",
       "      <td>foo</td>\n",
       "      <td>2</td>\n",
       "      <td>5</td>\n",
       "    </tr>\n",
       "  </tbody>\n",
       "</table>\n",
       "</div>"
      ],
      "text/plain": [
       "   key  lval  rval\n",
       "0  foo     1     4\n",
       "1  foo     1     5\n",
       "2  foo     2     4\n",
       "3  foo     2     5"
      ]
     },
     "execution_count": 97,
     "metadata": {},
     "output_type": "execute_result"
    }
   ],
   "source": [
    "pd.merge\n",
    "pd.merge(left,right,on=\"key\")"
   ]
  },
  {
   "cell_type": "markdown",
   "metadata": {},
   "source": [
    "#### 追加"
   ]
  },
  {
   "cell_type": "code",
   "execution_count": 17,
   "metadata": {
    "collapsed": false
   },
   "outputs": [
    {
     "data": {
      "text/html": [
       "<div>\n",
       "<table border=\"1\" class=\"dataframe\">\n",
       "  <thead>\n",
       "    <tr style=\"text-align: right;\">\n",
       "      <th></th>\n",
       "      <th>A</th>\n",
       "      <th>B</th>\n",
       "      <th>C</th>\n",
       "      <th>D</th>\n",
       "    </tr>\n",
       "  </thead>\n",
       "  <tbody>\n",
       "    <tr>\n",
       "      <th>0</th>\n",
       "      <td>-0.151871</td>\n",
       "      <td>0.936671</td>\n",
       "      <td>0.487203</td>\n",
       "      <td>-1.381930</td>\n",
       "    </tr>\n",
       "    <tr>\n",
       "      <th>1</th>\n",
       "      <td>-0.870754</td>\n",
       "      <td>-1.497147</td>\n",
       "      <td>0.406161</td>\n",
       "      <td>-0.744774</td>\n",
       "    </tr>\n",
       "    <tr>\n",
       "      <th>2</th>\n",
       "      <td>1.030762</td>\n",
       "      <td>1.793356</td>\n",
       "      <td>-0.264976</td>\n",
       "      <td>0.103072</td>\n",
       "    </tr>\n",
       "    <tr>\n",
       "      <th>3</th>\n",
       "      <td>-0.415324</td>\n",
       "      <td>1.188486</td>\n",
       "      <td>-0.829872</td>\n",
       "      <td>-0.957868</td>\n",
       "    </tr>\n",
       "    <tr>\n",
       "      <th>4</th>\n",
       "      <td>0.702387</td>\n",
       "      <td>-1.731462</td>\n",
       "      <td>-2.256148</td>\n",
       "      <td>-0.238631</td>\n",
       "    </tr>\n",
       "    <tr>\n",
       "      <th>5</th>\n",
       "      <td>0.006896</td>\n",
       "      <td>0.935113</td>\n",
       "      <td>1.914486</td>\n",
       "      <td>-0.018000</td>\n",
       "    </tr>\n",
       "    <tr>\n",
       "      <th>6</th>\n",
       "      <td>-0.571948</td>\n",
       "      <td>1.801581</td>\n",
       "      <td>-0.831280</td>\n",
       "      <td>0.597823</td>\n",
       "    </tr>\n",
       "    <tr>\n",
       "      <th>7</th>\n",
       "      <td>0.045401</td>\n",
       "      <td>-0.348547</td>\n",
       "      <td>-0.191316</td>\n",
       "      <td>1.091572</td>\n",
       "    </tr>\n",
       "  </tbody>\n",
       "</table>\n",
       "</div>"
      ],
      "text/plain": [
       "          A         B         C         D\n",
       "0 -0.151871  0.936671  0.487203 -1.381930\n",
       "1 -0.870754 -1.497147  0.406161 -0.744774\n",
       "2  1.030762  1.793356 -0.264976  0.103072\n",
       "3 -0.415324  1.188486 -0.829872 -0.957868\n",
       "4  0.702387 -1.731462 -2.256148 -0.238631\n",
       "5  0.006896  0.935113  1.914486 -0.018000\n",
       "6 -0.571948  1.801581 -0.831280  0.597823\n",
       "7  0.045401 -0.348547 -0.191316  1.091572"
      ]
     },
     "execution_count": 17,
     "metadata": {},
     "output_type": "execute_result"
    }
   ],
   "source": [
    "df = pd.DataFrame(np.random.randn(8, 4), columns=['A','B','C','D'])\n",
    "df\n"
   ]
  },
  {
   "cell_type": "code",
   "execution_count": 100,
   "metadata": {
    "collapsed": false
   },
   "outputs": [
    {
     "data": {
      "text/html": [
       "<div>\n",
       "<table border=\"1\" class=\"dataframe\">\n",
       "  <thead>\n",
       "    <tr style=\"text-align: right;\">\n",
       "      <th></th>\n",
       "      <th>A</th>\n",
       "      <th>B</th>\n",
       "      <th>C</th>\n",
       "      <th>D</th>\n",
       "    </tr>\n",
       "  </thead>\n",
       "  <tbody>\n",
       "    <tr>\n",
       "      <th>0</th>\n",
       "      <td>-1.803957</td>\n",
       "      <td>0.493297</td>\n",
       "      <td>1.083160</td>\n",
       "      <td>-1.298020</td>\n",
       "    </tr>\n",
       "    <tr>\n",
       "      <th>1</th>\n",
       "      <td>0.893715</td>\n",
       "      <td>1.355061</td>\n",
       "      <td>0.240654</td>\n",
       "      <td>-0.361230</td>\n",
       "    </tr>\n",
       "    <tr>\n",
       "      <th>2</th>\n",
       "      <td>1.096624</td>\n",
       "      <td>-0.024100</td>\n",
       "      <td>0.732991</td>\n",
       "      <td>1.030548</td>\n",
       "    </tr>\n",
       "    <tr>\n",
       "      <th>3</th>\n",
       "      <td>-0.320463</td>\n",
       "      <td>-0.461341</td>\n",
       "      <td>-1.000956</td>\n",
       "      <td>-0.756610</td>\n",
       "    </tr>\n",
       "    <tr>\n",
       "      <th>4</th>\n",
       "      <td>0.129642</td>\n",
       "      <td>-0.418944</td>\n",
       "      <td>0.150458</td>\n",
       "      <td>-0.071083</td>\n",
       "    </tr>\n",
       "    <tr>\n",
       "      <th>5</th>\n",
       "      <td>-1.710629</td>\n",
       "      <td>-0.736564</td>\n",
       "      <td>-0.068043</td>\n",
       "      <td>1.657054</td>\n",
       "    </tr>\n",
       "    <tr>\n",
       "      <th>6</th>\n",
       "      <td>0.850927</td>\n",
       "      <td>-1.145156</td>\n",
       "      <td>0.587721</td>\n",
       "      <td>1.032687</td>\n",
       "    </tr>\n",
       "    <tr>\n",
       "      <th>7</th>\n",
       "      <td>0.513715</td>\n",
       "      <td>0.863474</td>\n",
       "      <td>-0.481596</td>\n",
       "      <td>1.012032</td>\n",
       "    </tr>\n",
       "    <tr>\n",
       "      <th>8</th>\n",
       "      <td>-0.320463</td>\n",
       "      <td>-0.461341</td>\n",
       "      <td>-1.000956</td>\n",
       "      <td>-0.756610</td>\n",
       "    </tr>\n",
       "  </tbody>\n",
       "</table>\n",
       "</div>"
      ],
      "text/plain": [
       "          A         B         C         D\n",
       "0 -1.803957  0.493297  1.083160 -1.298020\n",
       "1  0.893715  1.355061  0.240654 -0.361230\n",
       "2  1.096624 -0.024100  0.732991  1.030548\n",
       "3 -0.320463 -0.461341 -1.000956 -0.756610\n",
       "4  0.129642 -0.418944  0.150458 -0.071083\n",
       "5 -1.710629 -0.736564 -0.068043  1.657054\n",
       "6  0.850927 -1.145156  0.587721  1.032687\n",
       "7  0.513715  0.863474 -0.481596  1.012032\n",
       "8 -0.320463 -0.461341 -1.000956 -0.756610"
      ]
     },
     "execution_count": 100,
     "metadata": {},
     "output_type": "execute_result"
    }
   ],
   "source": [
    "s = df.iloc[3]\n",
    "df.append(s,ignore_index=True)"
   ]
  },
  {
   "cell_type": "markdown",
   "metadata": {},
   "source": [
    "### 分组\n",
    "通过\"group by\"我们将处理步骤为一下几个步骤\n",
    "\n",
    "* 拆分(splitting) 通过一些条件将数据拆分为不同的组\n",
    "* 应用(applying) 单独对每个组应用相应的函数\n",
    "* 组合(combining) 将结果组合到一个特定的数据结构"
   ]
  },
  {
   "cell_type": "code",
   "execution_count": 31,
   "metadata": {
    "collapsed": false
   },
   "outputs": [
    {
     "data": {
      "text/html": [
       "<div>\n",
       "<table border=\"1\" class=\"dataframe\">\n",
       "  <thead>\n",
       "    <tr style=\"text-align: right;\">\n",
       "      <th></th>\n",
       "      <th>A</th>\n",
       "      <th>B</th>\n",
       "      <th>C</th>\n",
       "      <th>D</th>\n",
       "    </tr>\n",
       "  </thead>\n",
       "  <tbody>\n",
       "    <tr>\n",
       "      <th>0</th>\n",
       "      <td>foo</td>\n",
       "      <td>one</td>\n",
       "      <td>0.321555</td>\n",
       "      <td>-0.166083</td>\n",
       "    </tr>\n",
       "    <tr>\n",
       "      <th>1</th>\n",
       "      <td>bar</td>\n",
       "      <td>one</td>\n",
       "      <td>-0.887980</td>\n",
       "      <td>2.138512</td>\n",
       "    </tr>\n",
       "    <tr>\n",
       "      <th>2</th>\n",
       "      <td>foo</td>\n",
       "      <td>two</td>\n",
       "      <td>0.064857</td>\n",
       "      <td>-0.276736</td>\n",
       "    </tr>\n",
       "    <tr>\n",
       "      <th>3</th>\n",
       "      <td>bar</td>\n",
       "      <td>three</td>\n",
       "      <td>0.904829</td>\n",
       "      <td>-0.729712</td>\n",
       "    </tr>\n",
       "    <tr>\n",
       "      <th>4</th>\n",
       "      <td>foo</td>\n",
       "      <td>two</td>\n",
       "      <td>-0.808626</td>\n",
       "      <td>-0.413066</td>\n",
       "    </tr>\n",
       "    <tr>\n",
       "      <th>5</th>\n",
       "      <td>bar</td>\n",
       "      <td>two</td>\n",
       "      <td>0.768860</td>\n",
       "      <td>-0.562561</td>\n",
       "    </tr>\n",
       "    <tr>\n",
       "      <th>6</th>\n",
       "      <td>foo</td>\n",
       "      <td>one</td>\n",
       "      <td>0.700582</td>\n",
       "      <td>-1.051933</td>\n",
       "    </tr>\n",
       "    <tr>\n",
       "      <th>7</th>\n",
       "      <td>foo</td>\n",
       "      <td>three</td>\n",
       "      <td>-0.097548</td>\n",
       "      <td>-1.756538</td>\n",
       "    </tr>\n",
       "  </tbody>\n",
       "</table>\n",
       "</div>"
      ],
      "text/plain": [
       "     A      B         C         D\n",
       "0  foo    one  0.321555 -0.166083\n",
       "1  bar    one -0.887980  2.138512\n",
       "2  foo    two  0.064857 -0.276736\n",
       "3  bar  three  0.904829 -0.729712\n",
       "4  foo    two -0.808626 -0.413066\n",
       "5  bar    two  0.768860 -0.562561\n",
       "6  foo    one  0.700582 -1.051933\n",
       "7  foo  three -0.097548 -1.756538"
      ]
     },
     "execution_count": 31,
     "metadata": {},
     "output_type": "execute_result"
    }
   ],
   "source": [
    "df = pd.DataFrame({'A' : ['foo', 'bar', 'foo', 'bar',\n",
    "                       'foo', 'bar', 'foo', 'foo'],\n",
    "                   'B' : ['one', 'one', 'two', 'three',\n",
    "                      'two', 'two', 'one', 'three'],\n",
    "                  'C' : np.random.randn(8),\n",
    "                  'D' : np.random.randn(8)})\n",
    "df"
   ]
  },
  {
   "cell_type": "code",
   "execution_count": 35,
   "metadata": {
    "collapsed": false
   },
   "outputs": [
    {
     "data": {
      "text/html": [
       "<div>\n",
       "<table border=\"1\" class=\"dataframe\">\n",
       "  <thead>\n",
       "    <tr style=\"text-align: right;\">\n",
       "      <th></th>\n",
       "      <th>C</th>\n",
       "      <th>D</th>\n",
       "    </tr>\n",
       "    <tr>\n",
       "      <th>A</th>\n",
       "      <th></th>\n",
       "      <th></th>\n",
       "    </tr>\n",
       "  </thead>\n",
       "  <tbody>\n",
       "    <tr>\n",
       "      <th>bar</th>\n",
       "      <td>0.785709</td>\n",
       "      <td>0.846239</td>\n",
       "    </tr>\n",
       "    <tr>\n",
       "      <th>foo</th>\n",
       "      <td>0.180820</td>\n",
       "      <td>-3.664356</td>\n",
       "    </tr>\n",
       "  </tbody>\n",
       "</table>\n",
       "</div>"
      ],
      "text/plain": [
       "            C         D\n",
       "A                      \n",
       "bar  0.785709  0.846239\n",
       "foo  0.180820 -3.664356"
      ]
     },
     "execution_count": 35,
     "metadata": {},
     "output_type": "execute_result"
    }
   ],
   "source": [
    "#按字段A分组，并应用sum函数\n",
    "df.groupby(\"A\").sum()\n",
    "#df.groupby(\"A\")"
   ]
  },
  {
   "cell_type": "code",
   "execution_count": 33,
   "metadata": {
    "collapsed": false
   },
   "outputs": [
    {
     "data": {
      "text/html": [
       "<div>\n",
       "<table border=\"1\" class=\"dataframe\">\n",
       "  <thead>\n",
       "    <tr style=\"text-align: right;\">\n",
       "      <th></th>\n",
       "      <th></th>\n",
       "      <th>C</th>\n",
       "      <th>D</th>\n",
       "    </tr>\n",
       "    <tr>\n",
       "      <th>A</th>\n",
       "      <th>B</th>\n",
       "      <th></th>\n",
       "      <th></th>\n",
       "    </tr>\n",
       "  </thead>\n",
       "  <tbody>\n",
       "    <tr>\n",
       "      <th rowspan=\"3\" valign=\"top\">bar</th>\n",
       "      <th>one</th>\n",
       "      <td>-0.887980</td>\n",
       "      <td>2.138512</td>\n",
       "    </tr>\n",
       "    <tr>\n",
       "      <th>three</th>\n",
       "      <td>0.904829</td>\n",
       "      <td>-0.729712</td>\n",
       "    </tr>\n",
       "    <tr>\n",
       "      <th>two</th>\n",
       "      <td>0.768860</td>\n",
       "      <td>-0.562561</td>\n",
       "    </tr>\n",
       "    <tr>\n",
       "      <th rowspan=\"3\" valign=\"top\">foo</th>\n",
       "      <th>one</th>\n",
       "      <td>1.022137</td>\n",
       "      <td>-1.218016</td>\n",
       "    </tr>\n",
       "    <tr>\n",
       "      <th>three</th>\n",
       "      <td>-0.097548</td>\n",
       "      <td>-1.756538</td>\n",
       "    </tr>\n",
       "    <tr>\n",
       "      <th>two</th>\n",
       "      <td>-0.743770</td>\n",
       "      <td>-0.689802</td>\n",
       "    </tr>\n",
       "  </tbody>\n",
       "</table>\n",
       "</div>"
      ],
      "text/plain": [
       "                  C         D\n",
       "A   B                        \n",
       "bar one   -0.887980  2.138512\n",
       "    three  0.904829 -0.729712\n",
       "    two    0.768860 -0.562561\n",
       "foo one    1.022137 -1.218016\n",
       "    three -0.097548 -1.756538\n",
       "    two   -0.743770 -0.689802"
      ]
     },
     "execution_count": 33,
     "metadata": {},
     "output_type": "execute_result"
    }
   ],
   "source": [
    "#按多个字段分组构成分层级的所以，然后继续应用函数\n",
    "df.groupby([\"A\",\"B\"]).sum()"
   ]
  },
  {
   "cell_type": "markdown",
   "metadata": {},
   "source": [
    "### 重塑(reshaping)"
   ]
  },
  {
   "cell_type": "markdown",
   "metadata": {},
   "source": [
    "#### 堆积(stack)"
   ]
  },
  {
   "cell_type": "code",
   "execution_count": 110,
   "metadata": {
    "collapsed": false
   },
   "outputs": [
    {
     "name": "stdout",
     "output_type": "stream",
     "text": [
      "[('bar', 'one'), ('bar', 'two'), ('baz', 'one'), ('baz', 'two'), ('foo', 'one'), ('foo', 'two'), ('qux', 'one'), ('qux', 'two')]\n",
      "==========================\n",
      "[(['bar', 'bar', 'baz', 'baz', 'foo', 'foo', 'qux', 'qux'],), (['one', 'two', 'one', 'two', 'one', 'two', 'one', 'two'],)]\n"
     ]
    }
   ],
   "source": [
    "#注意符号 *\n",
    "tuples1 = list(zip(*[['bar', 'bar', 'baz', 'baz',\n",
    "                     'foo', 'foo', 'qux', 'qux'],\n",
    "                    ['one', 'two', 'one', 'two',\n",
    "                     'one', 'two', 'one', 'two']]))\n",
    "print tuples1\n",
    "print \"==========================\"\n",
    "tuples2 = list(zip([['bar', 'bar', 'baz', 'baz',\n",
    "                     'foo', 'foo', 'qux', 'qux'],\n",
    "                    ['one', 'two', 'one', 'two',\n",
    "                     'one', 'two', 'one', 'two']]))\n",
    "print tuples2"
   ]
  },
  {
   "cell_type": "code",
   "execution_count": 114,
   "metadata": {
    "collapsed": false
   },
   "outputs": [
    {
     "data": {
      "text/html": [
       "<div>\n",
       "<table border=\"1\" class=\"dataframe\">\n",
       "  <thead>\n",
       "    <tr style=\"text-align: right;\">\n",
       "      <th></th>\n",
       "      <th></th>\n",
       "      <th>A</th>\n",
       "      <th>B</th>\n",
       "    </tr>\n",
       "    <tr>\n",
       "      <th>first</th>\n",
       "      <th>second</th>\n",
       "      <th></th>\n",
       "      <th></th>\n",
       "    </tr>\n",
       "  </thead>\n",
       "  <tbody>\n",
       "    <tr>\n",
       "      <th rowspan=\"2\" valign=\"top\">bar</th>\n",
       "      <th>one</th>\n",
       "      <td>0.640902</td>\n",
       "      <td>0.456340</td>\n",
       "    </tr>\n",
       "    <tr>\n",
       "      <th>two</th>\n",
       "      <td>0.654919</td>\n",
       "      <td>-0.753045</td>\n",
       "    </tr>\n",
       "    <tr>\n",
       "      <th rowspan=\"2\" valign=\"top\">baz</th>\n",
       "      <th>one</th>\n",
       "      <td>0.249405</td>\n",
       "      <td>0.706399</td>\n",
       "    </tr>\n",
       "    <tr>\n",
       "      <th>two</th>\n",
       "      <td>0.310699</td>\n",
       "      <td>-0.662289</td>\n",
       "    </tr>\n",
       "  </tbody>\n",
       "</table>\n",
       "</div>"
      ],
      "text/plain": [
       "                     A         B\n",
       "first second                    \n",
       "bar   one     0.640902  0.456340\n",
       "      two     0.654919 -0.753045\n",
       "baz   one     0.249405  0.706399\n",
       "      two     0.310699 -0.662289"
      ]
     },
     "execution_count": 114,
     "metadata": {},
     "output_type": "execute_result"
    }
   ],
   "source": [
    "tuples = list(zip(*[['bar', 'bar', 'baz', 'baz',\n",
    "                     'foo', 'foo', 'qux', 'qux'],\n",
    "                    ['one', 'two', 'one', 'two',\n",
    "                     'one', 'two', 'one', 'two']]))\n",
    "\n",
    "index = pd.MultiIndex.from_tuples(tuples,names=[\"first\",\"second\"])\n",
    "df = pd.DataFrame(np.random.randn(8,2),index=index,columns=[\"A\",\"B\"])\n",
    "\n",
    "df2 = df[:4]\n",
    "df2"
   ]
  },
  {
   "cell_type": "code",
   "execution_count": 115,
   "metadata": {
    "collapsed": false
   },
   "outputs": [
    {
     "data": {
      "text/plain": [
       "first  second   \n",
       "bar    one     A    0.640902\n",
       "               B    0.456340\n",
       "       two     A    0.654919\n",
       "               B   -0.753045\n",
       "baz    one     A    0.249405\n",
       "               B    0.706399\n",
       "       two     A    0.310699\n",
       "               B   -0.662289\n",
       "dtype: float64"
      ]
     },
     "execution_count": 115,
     "metadata": {},
     "output_type": "execute_result"
    }
   ],
   "source": [
    "#stack方法\n",
    "stacked = df2.stack()\n",
    "stacked"
   ]
  },
  {
   "cell_type": "code",
   "execution_count": 116,
   "metadata": {
    "collapsed": false
   },
   "outputs": [
    {
     "data": {
      "text/html": [
       "<div>\n",
       "<table border=\"1\" class=\"dataframe\">\n",
       "  <thead>\n",
       "    <tr style=\"text-align: right;\">\n",
       "      <th></th>\n",
       "      <th></th>\n",
       "      <th>A</th>\n",
       "      <th>B</th>\n",
       "    </tr>\n",
       "    <tr>\n",
       "      <th>first</th>\n",
       "      <th>second</th>\n",
       "      <th></th>\n",
       "      <th></th>\n",
       "    </tr>\n",
       "  </thead>\n",
       "  <tbody>\n",
       "    <tr>\n",
       "      <th rowspan=\"2\" valign=\"top\">bar</th>\n",
       "      <th>one</th>\n",
       "      <td>0.640902</td>\n",
       "      <td>0.456340</td>\n",
       "    </tr>\n",
       "    <tr>\n",
       "      <th>two</th>\n",
       "      <td>0.654919</td>\n",
       "      <td>-0.753045</td>\n",
       "    </tr>\n",
       "    <tr>\n",
       "      <th rowspan=\"2\" valign=\"top\">baz</th>\n",
       "      <th>one</th>\n",
       "      <td>0.249405</td>\n",
       "      <td>0.706399</td>\n",
       "    </tr>\n",
       "    <tr>\n",
       "      <th>two</th>\n",
       "      <td>0.310699</td>\n",
       "      <td>-0.662289</td>\n",
       "    </tr>\n",
       "  </tbody>\n",
       "</table>\n",
       "</div>"
      ],
      "text/plain": [
       "                     A         B\n",
       "first second                    \n",
       "bar   one     0.640902  0.456340\n",
       "      two     0.654919 -0.753045\n",
       "baz   one     0.249405  0.706399\n",
       "      two     0.310699 -0.662289"
      ]
     },
     "execution_count": 116,
     "metadata": {},
     "output_type": "execute_result"
    }
   ],
   "source": [
    "#与stack相对应的自然还有unstack\n",
    "stacked.unstack()"
   ]
  },
  {
   "cell_type": "code",
   "execution_count": 117,
   "metadata": {
    "collapsed": false
   },
   "outputs": [
    {
     "data": {
      "text/html": [
       "<div>\n",
       "<table border=\"1\" class=\"dataframe\">\n",
       "  <thead>\n",
       "    <tr style=\"text-align: right;\">\n",
       "      <th></th>\n",
       "      <th>second</th>\n",
       "      <th>one</th>\n",
       "      <th>two</th>\n",
       "    </tr>\n",
       "    <tr>\n",
       "      <th>first</th>\n",
       "      <th></th>\n",
       "      <th></th>\n",
       "      <th></th>\n",
       "    </tr>\n",
       "  </thead>\n",
       "  <tbody>\n",
       "    <tr>\n",
       "      <th rowspan=\"2\" valign=\"top\">bar</th>\n",
       "      <th>A</th>\n",
       "      <td>0.640902</td>\n",
       "      <td>0.654919</td>\n",
       "    </tr>\n",
       "    <tr>\n",
       "      <th>B</th>\n",
       "      <td>0.456340</td>\n",
       "      <td>-0.753045</td>\n",
       "    </tr>\n",
       "    <tr>\n",
       "      <th rowspan=\"2\" valign=\"top\">baz</th>\n",
       "      <th>A</th>\n",
       "      <td>0.249405</td>\n",
       "      <td>0.310699</td>\n",
       "    </tr>\n",
       "    <tr>\n",
       "      <th>B</th>\n",
       "      <td>0.706399</td>\n",
       "      <td>-0.662289</td>\n",
       "    </tr>\n",
       "  </tbody>\n",
       "</table>\n",
       "</div>"
      ],
      "text/plain": [
       "second        one       two\n",
       "first                      \n",
       "bar   A  0.640902  0.654919\n",
       "      B  0.456340 -0.753045\n",
       "baz   A  0.249405  0.310699\n",
       "      B  0.706399 -0.662289"
      ]
     },
     "execution_count": 117,
     "metadata": {},
     "output_type": "execute_result"
    }
   ],
   "source": [
    "stacked.unstack(1)"
   ]
  },
  {
   "cell_type": "code",
   "execution_count": 118,
   "metadata": {
    "collapsed": false
   },
   "outputs": [
    {
     "data": {
      "text/html": [
       "<div>\n",
       "<table border=\"1\" class=\"dataframe\">\n",
       "  <thead>\n",
       "    <tr style=\"text-align: right;\">\n",
       "      <th></th>\n",
       "      <th>first</th>\n",
       "      <th>bar</th>\n",
       "      <th>baz</th>\n",
       "    </tr>\n",
       "    <tr>\n",
       "      <th>second</th>\n",
       "      <th></th>\n",
       "      <th></th>\n",
       "      <th></th>\n",
       "    </tr>\n",
       "  </thead>\n",
       "  <tbody>\n",
       "    <tr>\n",
       "      <th rowspan=\"2\" valign=\"top\">one</th>\n",
       "      <th>A</th>\n",
       "      <td>0.640902</td>\n",
       "      <td>0.249405</td>\n",
       "    </tr>\n",
       "    <tr>\n",
       "      <th>B</th>\n",
       "      <td>0.456340</td>\n",
       "      <td>0.706399</td>\n",
       "    </tr>\n",
       "    <tr>\n",
       "      <th rowspan=\"2\" valign=\"top\">two</th>\n",
       "      <th>A</th>\n",
       "      <td>0.654919</td>\n",
       "      <td>0.310699</td>\n",
       "    </tr>\n",
       "    <tr>\n",
       "      <th>B</th>\n",
       "      <td>-0.753045</td>\n",
       "      <td>-0.662289</td>\n",
       "    </tr>\n",
       "  </tbody>\n",
       "</table>\n",
       "</div>"
      ],
      "text/plain": [
       "first          bar       baz\n",
       "second                      \n",
       "one    A  0.640902  0.249405\n",
       "       B  0.456340  0.706399\n",
       "two    A  0.654919  0.310699\n",
       "       B -0.753045 -0.662289"
      ]
     },
     "execution_count": 118,
     "metadata": {},
     "output_type": "execute_result"
    }
   ],
   "source": [
    "stacked.unstack(0)"
   ]
  },
  {
   "cell_type": "markdown",
   "metadata": {},
   "source": [
    "### 透视图or轴心图(pivot tables)"
   ]
  },
  {
   "cell_type": "code",
   "execution_count": 119,
   "metadata": {
    "collapsed": false
   },
   "outputs": [
    {
     "data": {
      "text/html": [
       "<div>\n",
       "<table border=\"1\" class=\"dataframe\">\n",
       "  <thead>\n",
       "    <tr style=\"text-align: right;\">\n",
       "      <th></th>\n",
       "      <th>A</th>\n",
       "      <th>B</th>\n",
       "      <th>C</th>\n",
       "      <th>D</th>\n",
       "      <th>E</th>\n",
       "    </tr>\n",
       "  </thead>\n",
       "  <tbody>\n",
       "    <tr>\n",
       "      <th>0</th>\n",
       "      <td>one</td>\n",
       "      <td>A</td>\n",
       "      <td>foo</td>\n",
       "      <td>-1.354897</td>\n",
       "      <td>-0.118628</td>\n",
       "    </tr>\n",
       "    <tr>\n",
       "      <th>1</th>\n",
       "      <td>one</td>\n",
       "      <td>B</td>\n",
       "      <td>foo</td>\n",
       "      <td>-0.139636</td>\n",
       "      <td>0.066630</td>\n",
       "    </tr>\n",
       "    <tr>\n",
       "      <th>2</th>\n",
       "      <td>two</td>\n",
       "      <td>C</td>\n",
       "      <td>foo</td>\n",
       "      <td>1.351153</td>\n",
       "      <td>0.746671</td>\n",
       "    </tr>\n",
       "    <tr>\n",
       "      <th>3</th>\n",
       "      <td>three</td>\n",
       "      <td>A</td>\n",
       "      <td>bar</td>\n",
       "      <td>-0.881780</td>\n",
       "      <td>1.312087</td>\n",
       "    </tr>\n",
       "    <tr>\n",
       "      <th>4</th>\n",
       "      <td>one</td>\n",
       "      <td>B</td>\n",
       "      <td>bar</td>\n",
       "      <td>-1.234503</td>\n",
       "      <td>0.657089</td>\n",
       "    </tr>\n",
       "    <tr>\n",
       "      <th>5</th>\n",
       "      <td>one</td>\n",
       "      <td>C</td>\n",
       "      <td>bar</td>\n",
       "      <td>-1.237405</td>\n",
       "      <td>1.291014</td>\n",
       "    </tr>\n",
       "    <tr>\n",
       "      <th>6</th>\n",
       "      <td>two</td>\n",
       "      <td>A</td>\n",
       "      <td>foo</td>\n",
       "      <td>-2.016143</td>\n",
       "      <td>0.229072</td>\n",
       "    </tr>\n",
       "    <tr>\n",
       "      <th>7</th>\n",
       "      <td>three</td>\n",
       "      <td>B</td>\n",
       "      <td>foo</td>\n",
       "      <td>-0.716087</td>\n",
       "      <td>-0.462631</td>\n",
       "    </tr>\n",
       "    <tr>\n",
       "      <th>8</th>\n",
       "      <td>one</td>\n",
       "      <td>C</td>\n",
       "      <td>foo</td>\n",
       "      <td>-0.765645</td>\n",
       "      <td>1.420596</td>\n",
       "    </tr>\n",
       "    <tr>\n",
       "      <th>9</th>\n",
       "      <td>one</td>\n",
       "      <td>A</td>\n",
       "      <td>bar</td>\n",
       "      <td>-0.058809</td>\n",
       "      <td>-0.733906</td>\n",
       "    </tr>\n",
       "    <tr>\n",
       "      <th>10</th>\n",
       "      <td>two</td>\n",
       "      <td>B</td>\n",
       "      <td>bar</td>\n",
       "      <td>-1.337942</td>\n",
       "      <td>-0.670357</td>\n",
       "    </tr>\n",
       "    <tr>\n",
       "      <th>11</th>\n",
       "      <td>three</td>\n",
       "      <td>C</td>\n",
       "      <td>bar</td>\n",
       "      <td>-0.473659</td>\n",
       "      <td>-1.502226</td>\n",
       "    </tr>\n",
       "  </tbody>\n",
       "</table>\n",
       "</div>"
      ],
      "text/plain": [
       "        A  B    C         D         E\n",
       "0     one  A  foo -1.354897 -0.118628\n",
       "1     one  B  foo -0.139636  0.066630\n",
       "2     two  C  foo  1.351153  0.746671\n",
       "3   three  A  bar -0.881780  1.312087\n",
       "4     one  B  bar -1.234503  0.657089\n",
       "5     one  C  bar -1.237405  1.291014\n",
       "6     two  A  foo -2.016143  0.229072\n",
       "7   three  B  foo -0.716087 -0.462631\n",
       "8     one  C  foo -0.765645  1.420596\n",
       "9     one  A  bar -0.058809 -0.733906\n",
       "10    two  B  bar -1.337942 -0.670357\n",
       "11  three  C  bar -0.473659 -1.502226"
      ]
     },
     "execution_count": 119,
     "metadata": {},
     "output_type": "execute_result"
    }
   ],
   "source": [
    "df = pd.DataFrame({'A' : ['one', 'one', 'two', 'three'] * 3,\n",
    "                   'B' : ['A', 'B', 'C'] * 4,\n",
    "                   'C' : ['foo', 'foo', 'foo', 'bar', 'bar', 'bar'] * 2,\n",
    "                   'D' : np.random.randn(12),\n",
    "                   'E' : np.random.randn(12)})\n",
    "df"
   ]
  },
  {
   "cell_type": "code",
   "execution_count": 120,
   "metadata": {
    "collapsed": false
   },
   "outputs": [
    {
     "data": {
      "text/html": [
       "<div>\n",
       "<table border=\"1\" class=\"dataframe\">\n",
       "  <thead>\n",
       "    <tr style=\"text-align: right;\">\n",
       "      <th></th>\n",
       "      <th>C</th>\n",
       "      <th>bar</th>\n",
       "      <th>foo</th>\n",
       "    </tr>\n",
       "    <tr>\n",
       "      <th>A</th>\n",
       "      <th>B</th>\n",
       "      <th></th>\n",
       "      <th></th>\n",
       "    </tr>\n",
       "  </thead>\n",
       "  <tbody>\n",
       "    <tr>\n",
       "      <th rowspan=\"3\" valign=\"top\">one</th>\n",
       "      <th>A</th>\n",
       "      <td>-0.058809</td>\n",
       "      <td>-1.354897</td>\n",
       "    </tr>\n",
       "    <tr>\n",
       "      <th>B</th>\n",
       "      <td>-1.234503</td>\n",
       "      <td>-0.139636</td>\n",
       "    </tr>\n",
       "    <tr>\n",
       "      <th>C</th>\n",
       "      <td>-1.237405</td>\n",
       "      <td>-0.765645</td>\n",
       "    </tr>\n",
       "    <tr>\n",
       "      <th rowspan=\"3\" valign=\"top\">three</th>\n",
       "      <th>A</th>\n",
       "      <td>-0.881780</td>\n",
       "      <td>NaN</td>\n",
       "    </tr>\n",
       "    <tr>\n",
       "      <th>B</th>\n",
       "      <td>NaN</td>\n",
       "      <td>-0.716087</td>\n",
       "    </tr>\n",
       "    <tr>\n",
       "      <th>C</th>\n",
       "      <td>-0.473659</td>\n",
       "      <td>NaN</td>\n",
       "    </tr>\n",
       "    <tr>\n",
       "      <th rowspan=\"3\" valign=\"top\">two</th>\n",
       "      <th>A</th>\n",
       "      <td>NaN</td>\n",
       "      <td>-2.016143</td>\n",
       "    </tr>\n",
       "    <tr>\n",
       "      <th>B</th>\n",
       "      <td>-1.337942</td>\n",
       "      <td>NaN</td>\n",
       "    </tr>\n",
       "    <tr>\n",
       "      <th>C</th>\n",
       "      <td>NaN</td>\n",
       "      <td>1.351153</td>\n",
       "    </tr>\n",
       "  </tbody>\n",
       "</table>\n",
       "</div>"
      ],
      "text/plain": [
       "C             bar       foo\n",
       "A     B                    \n",
       "one   A -0.058809 -1.354897\n",
       "      B -1.234503 -0.139636\n",
       "      C -1.237405 -0.765645\n",
       "three A -0.881780       NaN\n",
       "      B       NaN -0.716087\n",
       "      C -0.473659       NaN\n",
       "two   A       NaN -2.016143\n",
       "      B -1.337942       NaN\n",
       "      C       NaN  1.351153"
      ]
     },
     "execution_count": 120,
     "metadata": {},
     "output_type": "execute_result"
    }
   ],
   "source": [
    "pd.pivot_table(df,values=\"D\",index=[\"A\",\"B\"],columns=\"C\")"
   ]
  },
  {
   "cell_type": "markdown",
   "metadata": {},
   "source": [
    "### 时间序列\n",
    "pandas has simple, powerful, and efficient functionality for performing resampling operations during frequency conversion (e.g., converting secondly data into 5-minutely data). This is extremely common in, but not limited to, financial applications. See the Time Series section"
   ]
  },
  {
   "cell_type": "code",
   "execution_count": 43,
   "metadata": {
    "collapsed": false
   },
   "outputs": [
    {
     "name": "stdout",
     "output_type": "stream",
     "text": [
      "2016-01-01 00:00:00    252\n",
      "2016-01-01 00:00:01    498\n",
      "2016-01-01 00:00:02    230\n",
      "2016-01-01 00:00:03    493\n",
      "2016-01-01 00:00:04    494\n",
      "2016-01-01 00:00:05    302\n",
      "2016-01-01 00:00:06    399\n",
      "2016-01-01 00:00:07    311\n",
      "2016-01-01 00:00:08    186\n",
      "2016-01-01 00:00:09    278\n",
      "2016-01-01 00:00:10    485\n",
      "2016-01-01 00:00:11    302\n",
      "2016-01-01 00:00:12     84\n",
      "2016-01-01 00:00:13    492\n",
      "2016-01-01 00:00:14    241\n",
      "2016-01-01 00:00:15    487\n",
      "2016-01-01 00:00:16    441\n",
      "2016-01-01 00:00:17    169\n",
      "2016-01-01 00:00:18    464\n",
      "2016-01-01 00:00:19     56\n",
      "2016-01-01 00:00:20    375\n",
      "2016-01-01 00:00:21    273\n",
      "2016-01-01 00:00:22    375\n",
      "2016-01-01 00:00:23    130\n",
      "2016-01-01 00:00:24    166\n",
      "2016-01-01 00:00:25    388\n",
      "2016-01-01 00:00:26     54\n",
      "2016-01-01 00:00:27    248\n",
      "2016-01-01 00:00:28    478\n",
      "2016-01-01 00:00:29    352\n",
      "                      ... \n",
      "2016-01-01 00:01:10    380\n",
      "2016-01-01 00:01:11    321\n",
      "2016-01-01 00:01:12    320\n",
      "2016-01-01 00:01:13    280\n",
      "2016-01-01 00:01:14    341\n",
      "2016-01-01 00:01:15    481\n",
      "2016-01-01 00:01:16    397\n",
      "2016-01-01 00:01:17    102\n",
      "2016-01-01 00:01:18    252\n",
      "2016-01-01 00:01:19    124\n",
      "2016-01-01 00:01:20     96\n",
      "2016-01-01 00:01:21      9\n",
      "2016-01-01 00:01:22    153\n",
      "2016-01-01 00:01:23     60\n",
      "2016-01-01 00:01:24    173\n",
      "2016-01-01 00:01:25     34\n",
      "2016-01-01 00:01:26    390\n",
      "2016-01-01 00:01:27     10\n",
      "2016-01-01 00:01:28    395\n",
      "2016-01-01 00:01:29      7\n",
      "2016-01-01 00:01:30    464\n",
      "2016-01-01 00:01:31     94\n",
      "2016-01-01 00:01:32      9\n",
      "2016-01-01 00:01:33    244\n",
      "2016-01-01 00:01:34    465\n",
      "2016-01-01 00:01:35    153\n",
      "2016-01-01 00:01:36    457\n",
      "2016-01-01 00:01:37    131\n",
      "2016-01-01 00:01:38    236\n",
      "2016-01-01 00:01:39    114\n",
      "Freq: S, dtype: int32\n"
     ]
    }
   ],
   "source": [
    "#以20160101起始，区间为100，即100个数值，间隔为S，即秒\n",
    "rng = pd.date_range(\"1/1/2016\",periods=100,freq=\"S\")\n",
    "ts = pd.Series(np.random.randint(0,500,len(rng)),index=rng)\n",
    "print ts"
   ]
  },
  {
   "cell_type": "code",
   "execution_count": 44,
   "metadata": {
    "collapsed": false
   },
   "outputs": [
    {
     "data": {
      "text/plain": [
       "2012-03-06    0.903033\n",
       "2012-03-07    0.304238\n",
       "2012-03-08   -0.763415\n",
       "2012-03-09    0.264887\n",
       "2012-03-10    0.446351\n",
       "Freq: D, dtype: float64"
      ]
     },
     "execution_count": 44,
     "metadata": {},
     "output_type": "execute_result"
    }
   ],
   "source": [
    "rng = pd.date_range('3/6/2012 00:00', periods=5, freq='D')\n",
    "ts = pd.Series(np.random.randn(len(rng)), rng)\n",
    "ts"
   ]
  },
  {
   "cell_type": "code",
   "execution_count": 45,
   "metadata": {
    "collapsed": false
   },
   "outputs": [
    {
     "data": {
      "text/plain": [
       "2012-03-06 00:00:00+00:00    0.903033\n",
       "2012-03-07 00:00:00+00:00    0.304238\n",
       "2012-03-08 00:00:00+00:00   -0.763415\n",
       "2012-03-09 00:00:00+00:00    0.264887\n",
       "2012-03-10 00:00:00+00:00    0.446351\n",
       "Freq: D, dtype: float64"
      ]
     },
     "execution_count": 45,
     "metadata": {},
     "output_type": "execute_result"
    }
   ],
   "source": [
    "#时间转换\n",
    "ts_utc = ts.tz_localize('UTC')\n",
    "ts_utc"
   ]
  },
  {
   "cell_type": "code",
   "execution_count": 46,
   "metadata": {
    "collapsed": false
   },
   "outputs": [
    {
     "data": {
      "text/plain": [
       "2012-03-05 19:00:00-05:00    0.903033\n",
       "2012-03-06 19:00:00-05:00    0.304238\n",
       "2012-03-07 19:00:00-05:00   -0.763415\n",
       "2012-03-08 19:00:00-05:00    0.264887\n",
       "2012-03-09 19:00:00-05:00    0.446351\n",
       "Freq: D, dtype: float64"
      ]
     },
     "execution_count": 46,
     "metadata": {},
     "output_type": "execute_result"
    }
   ],
   "source": [
    "ts_utc.tz_convert('US/Eastern')"
   ]
  },
  {
   "cell_type": "code",
   "execution_count": 47,
   "metadata": {
    "collapsed": false
   },
   "outputs": [
    {
     "data": {
      "text/plain": [
       "2012-01-31   -0.428556\n",
       "2012-02-29    1.133229\n",
       "2012-03-31    0.919503\n",
       "2012-04-30    0.938412\n",
       "2012-05-31    0.253314\n",
       "Freq: M, dtype: float64"
      ]
     },
     "execution_count": 47,
     "metadata": {},
     "output_type": "execute_result"
    }
   ],
   "source": [
    "rng = pd.date_range('1/1/2012', periods=5, freq='M')\n",
    "ts = pd.Series(np.random.randn(len(rng)), index=rng)\n",
    "ts"
   ]
  },
  {
   "cell_type": "code",
   "execution_count": 48,
   "metadata": {
    "collapsed": false
   },
   "outputs": [
    {
     "data": {
      "text/plain": [
       "2012-01   -0.428556\n",
       "2012-02    1.133229\n",
       "2012-03    0.919503\n",
       "2012-04    0.938412\n",
       "2012-05    0.253314\n",
       "Freq: M, dtype: float64"
      ]
     },
     "execution_count": 48,
     "metadata": {},
     "output_type": "execute_result"
    }
   ],
   "source": [
    "#从间隔月变成了天\n",
    "#Convert Series from DatetimeIndex to PeriodIndex with desired\n",
    "#frequency (inferred from index if not passed)\n",
    "\n",
    "ps = ts.to_period()\n",
    "ps"
   ]
  },
  {
   "cell_type": "code",
   "execution_count": 49,
   "metadata": {
    "collapsed": false
   },
   "outputs": [
    {
     "data": {
      "text/plain": [
       "2012-01-01   -0.428556\n",
       "2012-02-01    1.133229\n",
       "2012-03-01    0.919503\n",
       "2012-04-01    0.938412\n",
       "2012-05-01    0.253314\n",
       "Freq: MS, dtype: float64"
      ]
     },
     "execution_count": 49,
     "metadata": {},
     "output_type": "execute_result"
    }
   ],
   "source": [
    "#变成了月首\n",
    "#Cast to datetimeindex of timestamps, at *beginning* of period\n",
    "ps.to_timestamp()"
   ]
  },
  {
   "cell_type": "code",
   "execution_count": 50,
   "metadata": {
    "collapsed": false
   },
   "outputs": [
    {
     "data": {
      "text/plain": [
       "1990-03-01 09:00   -0.092047\n",
       "1990-06-01 09:00    0.116372\n",
       "1990-09-01 09:00    1.154482\n",
       "1990-12-01 09:00    1.680943\n",
       "1991-03-01 09:00   -0.204594\n",
       "Freq: H, dtype: float64"
      ]
     },
     "execution_count": 50,
     "metadata": {},
     "output_type": "execute_result"
    }
   ],
   "source": [
    "#按季度\n",
    "prng = pd.period_range('1990Q1', '2000Q4', freq='Q-NOV')\n",
    "ts = pd.Series(np.random.randn(len(prng)), prng)\n",
    "ts.index = (prng.asfreq('M', 'e') + 1).asfreq('H', 's') + 9\n",
    "ts.head()"
   ]
  },
  {
   "cell_type": "markdown",
   "metadata": {},
   "source": [
    "### 绘图"
   ]
  },
  {
   "cell_type": "code",
   "execution_count": 51,
   "metadata": {
    "collapsed": false
   },
   "outputs": [
    {
     "data": {
      "text/plain": [
       "2016-04-14    1.280404\n",
       "2016-04-15    0.878438\n",
       "2016-04-16    0.823764\n",
       "2016-04-17    0.266053\n",
       "2016-04-18   -0.535789\n",
       "Freq: D, dtype: float64"
      ]
     },
     "execution_count": 51,
     "metadata": {},
     "output_type": "execute_result"
    }
   ],
   "source": [
    "ts = pd.Series(np.random.randn(1000),index=pd.date_range(\"20160414\",periods=1000))\n",
    "ts.head()"
   ]
  },
  {
   "cell_type": "code",
   "execution_count": 53,
   "metadata": {
    "collapsed": false
   },
   "outputs": [
    {
     "data": {
      "text/plain": [
       "<matplotlib.axes._subplots.AxesSubplot at 0xd0ef240>"
      ]
     },
     "execution_count": 53,
     "metadata": {},
     "output_type": "execute_result"
    },
    {
     "data": {
      "image/png": "[encoded data removed]",
      "text/plain": [
       "<matplotlib.figure.Figure at 0xc26fc18>"
      ]
     },
     "metadata": {},
     "output_type": "display_data"
    }
   ],
   "source": [
    "ts.plot(figsize=(12,8))"
   ]
  },
  {
   "cell_type": "code",
   "execution_count": 58,
   "metadata": {
    "collapsed": false
   },
   "outputs": [
    {
     "data": {
      "text/plain": [
       "<matplotlib.axes._subplots.AxesSubplot at 0xd8d8780>"
      ]
     },
     "execution_count": 58,
     "metadata": {},
     "output_type": "execute_result"
    },
    {
     "data": {
      "image/png": "[encoded data removed]",
      "text/plain": [
       "<matplotlib.figure.Figure at 0xd097748>"
      ]
     },
     "metadata": {},
     "output_type": "display_data"
    }
   ],
   "source": [
    "ts = ts.cumsum()\n",
    "ts.plot()\n"
   ]
  },
  {
   "cell_type": "code",
   "execution_count": 59,
   "metadata": {
    "collapsed": false
   },
   "outputs": [
    {
     "data": {
      "text/plain": [
       "<matplotlib.axes._subplots.AxesSubplot at 0xd8505c0>"
      ]
     },
     "execution_count": 59,
     "metadata": {},
     "output_type": "execute_result"
    },
    {
     "data": {
      "image/png": "[encoded data removed]",
      "text/plain": [
       "<matplotlib.figure.Figure at 0xe40fac8>"
      ]
     },
     "metadata": {},
     "output_type": "display_data"
    }
   ],
   "source": [
    "#plot通过标签很容易绘出所有字段\n",
    "df = pd.DataFrame(np.random.randn(1000,4),\n",
    "                  index=pd.date_range(\"20160401\",periods=1000),\n",
    "                 columns=[\"A\",\"B\",\"C\",\"D\"])\n",
    "\n",
    "df = df.cumsum()\n",
    "df.plot()"
   ]
  },
  {
   "cell_type": "code",
   "execution_count": 152,
   "metadata": {
    "collapsed": false
   },
   "outputs": [
    {
     "data": {
      "text/plain": [
       "<matplotlib.legend.Legend at 0x11a96320>"
      ]
     },
     "execution_count": 152,
     "metadata": {},
     "output_type": "execute_result"
    },
    {
     "data": {
      "text/plain": [
       "<matplotlib.figure.Figure at 0x124cb470>"
      ]
     },
     "metadata": {},
     "output_type": "display_data"
    },
    {
     "data": {
      "image/png": "[encoded data removed]",
      "text/plain": [
       "<matplotlib.figure.Figure at 0x115299e8>"
      ]
     },
     "metadata": {},
     "output_type": "display_data"
    }
   ],
   "source": [
    "#plt.figure();df.plot();plt.legend(loc=\"best\")"
   ]
  },
  {
   "cell_type": "markdown",
   "metadata": {},
   "source": [
    "### 数据读入读出"
   ]
  },
  {
   "cell_type": "code",
   "execution_count": 63,
   "metadata": {
    "collapsed": false
   },
   "outputs": [],
   "source": [
    "#将数据以csv格式写入到csv文件里\n",
    "pd.set_option(\"display.notebook_repr_html\",True)\n",
    "pd.set_option(\"display.max_columns\",6)\n",
    "pd.set_option(\"display.max_rows\",10)\n",
    "pd.set_option(\"display.width\",78)\n",
    "pd.set_option(\"precision\",4)\n",
    "\n",
    "df\n",
    "df.to_csv(\"foo.csv\")"
   ]
  },
  {
   "cell_type": "code",
   "execution_count": 64,
   "metadata": {
    "collapsed": false
   },
   "outputs": [
    {
     "data": {
      "text/html": [
       "<div>\n",
       "<table border=\"1\" class=\"dataframe\">\n",
       "  <thead>\n",
       "    <tr style=\"text-align: right;\">\n",
       "      <th></th>\n",
       "      <th>Unnamed: 0</th>\n",
       "      <th>A</th>\n",
       "      <th>B</th>\n",
       "      <th>C</th>\n",
       "      <th>D</th>\n",
       "    </tr>\n",
       "  </thead>\n",
       "  <tbody>\n",
       "    <tr>\n",
       "      <th>0</th>\n",
       "      <td>2016-04-01</td>\n",
       "      <td>-0.3118</td>\n",
       "      <td>0.8232</td>\n",
       "      <td>-0.2146</td>\n",
       "      <td>1.1814</td>\n",
       "    </tr>\n",
       "    <tr>\n",
       "      <th>1</th>\n",
       "      <td>2016-04-02</td>\n",
       "      <td>-0.6623</td>\n",
       "      <td>1.1066</td>\n",
       "      <td>0.3997</td>\n",
       "      <td>1.5629</td>\n",
       "    </tr>\n",
       "    <tr>\n",
       "      <th>2</th>\n",
       "      <td>2016-04-03</td>\n",
       "      <td>-1.3388</td>\n",
       "      <td>0.3407</td>\n",
       "      <td>0.2567</td>\n",
       "      <td>2.2855</td>\n",
       "    </tr>\n",
       "    <tr>\n",
       "      <th>3</th>\n",
       "      <td>2016-04-04</td>\n",
       "      <td>-1.8287</td>\n",
       "      <td>-2.8518</td>\n",
       "      <td>1.2188</td>\n",
       "      <td>2.5184</td>\n",
       "    </tr>\n",
       "    <tr>\n",
       "      <th>4</th>\n",
       "      <td>2016-04-05</td>\n",
       "      <td>-1.2470</td>\n",
       "      <td>-2.6942</td>\n",
       "      <td>1.3281</td>\n",
       "      <td>1.1024</td>\n",
       "    </tr>\n",
       "    <tr>\n",
       "      <th>...</th>\n",
       "      <td>...</td>\n",
       "      <td>...</td>\n",
       "      <td>...</td>\n",
       "      <td>...</td>\n",
       "      <td>...</td>\n",
       "    </tr>\n",
       "    <tr>\n",
       "      <th>995</th>\n",
       "      <td>2018-12-22</td>\n",
       "      <td>30.2756</td>\n",
       "      <td>8.7752</td>\n",
       "      <td>-52.7485</td>\n",
       "      <td>2.3956</td>\n",
       "    </tr>\n",
       "    <tr>\n",
       "      <th>996</th>\n",
       "      <td>2018-12-23</td>\n",
       "      <td>30.7548</td>\n",
       "      <td>8.7991</td>\n",
       "      <td>-51.5304</td>\n",
       "      <td>0.9264</td>\n",
       "    </tr>\n",
       "    <tr>\n",
       "      <th>997</th>\n",
       "      <td>2018-12-24</td>\n",
       "      <td>28.8414</td>\n",
       "      <td>7.3836</td>\n",
       "      <td>-50.1439</td>\n",
       "      <td>1.0571</td>\n",
       "    </tr>\n",
       "    <tr>\n",
       "      <th>998</th>\n",
       "      <td>2018-12-25</td>\n",
       "      <td>28.7948</td>\n",
       "      <td>8.7935</td>\n",
       "      <td>-49.1695</td>\n",
       "      <td>-0.4584</td>\n",
       "    </tr>\n",
       "    <tr>\n",
       "      <th>999</th>\n",
       "      <td>2018-12-26</td>\n",
       "      <td>26.3903</td>\n",
       "      <td>7.9959</td>\n",
       "      <td>-49.5665</td>\n",
       "      <td>1.5169</td>\n",
       "    </tr>\n",
       "  </tbody>\n",
       "</table>\n",
       "<p>1000 rows × 5 columns</p>\n",
       "</div>"
      ],
      "text/plain": [
       "     Unnamed: 0        A       B        C       D\n",
       "0    2016-04-01  -0.3118  0.8232  -0.2146  1.1814\n",
       "1    2016-04-02  -0.6623  1.1066   0.3997  1.5629\n",
       "2    2016-04-03  -1.3388  0.3407   0.2567  2.2855\n",
       "3    2016-04-04  -1.8287 -2.8518   1.2188  2.5184\n",
       "4    2016-04-05  -1.2470 -2.6942   1.3281  1.1024\n",
       "..          ...      ...     ...      ...     ...\n",
       "995  2018-12-22  30.2756  8.7752 -52.7485  2.3956\n",
       "996  2018-12-23  30.7548  8.7991 -51.5304  0.9264\n",
       "997  2018-12-24  28.8414  7.3836 -50.1439  1.0571\n",
       "998  2018-12-25  28.7948  8.7935 -49.1695 -0.4584\n",
       "999  2018-12-26  26.3903  7.9959 -49.5665  1.5169\n",
       "\n",
       "[1000 rows x 5 columns]"
      ]
     },
     "execution_count": 64,
     "metadata": {},
     "output_type": "execute_result"
    }
   ],
   "source": [
    "#读入csv文件\n",
    "pd.read_csv(\"foo.csv\")"
   ]
  },
  {
   "cell_type": "code",
   "execution_count": 155,
   "metadata": {
    "collapsed": true
   },
   "outputs": [],
   "source": [
    "#以hd5格式保存\n",
    "df.to_hdf(\"foo.h5\",\"df\")"
   ]
  },
  {
   "cell_type": "code",
   "execution_count": 65,
   "metadata": {
    "collapsed": false
   },
   "outputs": [
    {
     "data": {
      "text/html": [
       "<div>\n",
       "<table border=\"1\" class=\"dataframe\">\n",
       "  <thead>\n",
       "    <tr style=\"text-align: right;\">\n",
       "      <th></th>\n",
       "      <th>A</th>\n",
       "      <th>B</th>\n",
       "      <th>C</th>\n",
       "      <th>D</th>\n",
       "    </tr>\n",
       "  </thead>\n",
       "  <tbody>\n",
       "    <tr>\n",
       "      <th>2016-04-01</th>\n",
       "      <td>1.5547</td>\n",
       "      <td>-0.2018</td>\n",
       "      <td>1.0031</td>\n",
       "      <td>-1.7883</td>\n",
       "    </tr>\n",
       "    <tr>\n",
       "      <th>2016-04-02</th>\n",
       "      <td>3.0110</td>\n",
       "      <td>0.7581</td>\n",
       "      <td>1.1641</td>\n",
       "      <td>-1.2602</td>\n",
       "    </tr>\n",
       "    <tr>\n",
       "      <th>2016-04-03</th>\n",
       "      <td>4.3292</td>\n",
       "      <td>-0.0247</td>\n",
       "      <td>0.3432</td>\n",
       "      <td>-2.2162</td>\n",
       "    </tr>\n",
       "    <tr>\n",
       "      <th>2016-04-04</th>\n",
       "      <td>4.6849</td>\n",
       "      <td>2.0171</td>\n",
       "      <td>0.5460</td>\n",
       "      <td>-2.2578</td>\n",
       "    </tr>\n",
       "    <tr>\n",
       "      <th>2016-04-05</th>\n",
       "      <td>4.8261</td>\n",
       "      <td>1.6511</td>\n",
       "      <td>0.4955</td>\n",
       "      <td>-2.2460</td>\n",
       "    </tr>\n",
       "    <tr>\n",
       "      <th>...</th>\n",
       "      <td>...</td>\n",
       "      <td>...</td>\n",
       "      <td>...</td>\n",
       "      <td>...</td>\n",
       "    </tr>\n",
       "    <tr>\n",
       "      <th>2018-12-22</th>\n",
       "      <td>27.3433</td>\n",
       "      <td>-1.8200</td>\n",
       "      <td>-24.2707</td>\n",
       "      <td>31.5355</td>\n",
       "    </tr>\n",
       "    <tr>\n",
       "      <th>2018-12-23</th>\n",
       "      <td>28.2265</td>\n",
       "      <td>-1.5171</td>\n",
       "      <td>-23.5878</td>\n",
       "      <td>30.9233</td>\n",
       "    </tr>\n",
       "    <tr>\n",
       "      <th>2018-12-24</th>\n",
       "      <td>27.7324</td>\n",
       "      <td>-2.2950</td>\n",
       "      <td>-23.9565</td>\n",
       "      <td>32.4785</td>\n",
       "    </tr>\n",
       "    <tr>\n",
       "      <th>2018-12-25</th>\n",
       "      <td>27.4052</td>\n",
       "      <td>-3.5878</td>\n",
       "      <td>-23.7618</td>\n",
       "      <td>33.2123</td>\n",
       "    </tr>\n",
       "    <tr>\n",
       "      <th>2018-12-26</th>\n",
       "      <td>28.4904</td>\n",
       "      <td>-2.9809</td>\n",
       "      <td>-25.4074</td>\n",
       "      <td>33.7160</td>\n",
       "    </tr>\n",
       "  </tbody>\n",
       "</table>\n",
       "<p>1000 rows × 4 columns</p>\n",
       "</div>"
      ],
      "text/plain": [
       "                  A       B        C        D\n",
       "2016-04-01   1.5547 -0.2018   1.0031  -1.7883\n",
       "2016-04-02   3.0110  0.7581   1.1641  -1.2602\n",
       "2016-04-03   4.3292 -0.0247   0.3432  -2.2162\n",
       "2016-04-04   4.6849  2.0171   0.5460  -2.2578\n",
       "2016-04-05   4.8261  1.6511   0.4955  -2.2460\n",
       "...             ...     ...      ...      ...\n",
       "2018-12-22  27.3433 -1.8200 -24.2707  31.5355\n",
       "2018-12-23  28.2265 -1.5171 -23.5878  30.9233\n",
       "2018-12-24  27.7324 -2.2950 -23.9565  32.4785\n",
       "2018-12-25  27.4052 -3.5878 -23.7618  33.2123\n",
       "2018-12-26  28.4904 -2.9809 -25.4074  33.7160\n",
       "\n",
       "[1000 rows x 4 columns]"
      ]
     },
     "execution_count": 65,
     "metadata": {},
     "output_type": "execute_result"
    }
   ],
   "source": [
    "pd.read_hdf(\"foo.h5\",\"df\")"
   ]
  },
  {
   "cell_type": "code",
   "execution_count": 157,
   "metadata": {
    "collapsed": true
   },
   "outputs": [],
   "source": [
    "#保存为excel文件\n",
    "df.to_excel(\"foo.xlsx\",sheet_name=\"Sheet1\")"
   ]
  },
  {
   "cell_type": "code",
   "execution_count": 66,
   "metadata": {
    "collapsed": false
   },
   "outputs": [
    {
     "data": {
      "text/html": [
       "<div>\n",
       "<table border=\"1\" class=\"dataframe\">\n",
       "  <thead>\n",
       "    <tr style=\"text-align: right;\">\n",
       "      <th></th>\n",
       "      <th>A</th>\n",
       "      <th>B</th>\n",
       "      <th>C</th>\n",
       "      <th>D</th>\n",
       "    </tr>\n",
       "  </thead>\n",
       "  <tbody>\n",
       "    <tr>\n",
       "      <th>2016-04-01</th>\n",
       "      <td>1.5547</td>\n",
       "      <td>-0.2018</td>\n",
       "      <td>1.0031</td>\n",
       "      <td>-1.7883</td>\n",
       "    </tr>\n",
       "    <tr>\n",
       "      <th>2016-04-02</th>\n",
       "      <td>3.0110</td>\n",
       "      <td>0.7581</td>\n",
       "      <td>1.1641</td>\n",
       "      <td>-1.2602</td>\n",
       "    </tr>\n",
       "    <tr>\n",
       "      <th>2016-04-03</th>\n",
       "      <td>4.3292</td>\n",
       "      <td>-0.0247</td>\n",
       "      <td>0.3432</td>\n",
       "      <td>-2.2162</td>\n",
       "    </tr>\n",
       "    <tr>\n",
       "      <th>2016-04-04</th>\n",
       "      <td>4.6849</td>\n",
       "      <td>2.0171</td>\n",
       "      <td>0.5460</td>\n",
       "      <td>-2.2578</td>\n",
       "    </tr>\n",
       "    <tr>\n",
       "      <th>2016-04-05</th>\n",
       "      <td>4.8261</td>\n",
       "      <td>1.6511</td>\n",
       "      <td>0.4955</td>\n",
       "      <td>-2.2460</td>\n",
       "    </tr>\n",
       "    <tr>\n",
       "      <th>...</th>\n",
       "      <td>...</td>\n",
       "      <td>...</td>\n",
       "      <td>...</td>\n",
       "      <td>...</td>\n",
       "    </tr>\n",
       "    <tr>\n",
       "      <th>2018-12-22</th>\n",
       "      <td>27.3433</td>\n",
       "      <td>-1.8200</td>\n",
       "      <td>-24.2707</td>\n",
       "      <td>31.5355</td>\n",
       "    </tr>\n",
       "    <tr>\n",
       "      <th>2018-12-23</th>\n",
       "      <td>28.2265</td>\n",
       "      <td>-1.5171</td>\n",
       "      <td>-23.5878</td>\n",
       "      <td>30.9233</td>\n",
       "    </tr>\n",
       "    <tr>\n",
       "      <th>2018-12-24</th>\n",
       "      <td>27.7324</td>\n",
       "      <td>-2.2950</td>\n",
       "      <td>-23.9565</td>\n",
       "      <td>32.4785</td>\n",
       "    </tr>\n",
       "    <tr>\n",
       "      <th>2018-12-25</th>\n",
       "      <td>27.4052</td>\n",
       "      <td>-3.5878</td>\n",
       "      <td>-23.7618</td>\n",
       "      <td>33.2123</td>\n",
       "    </tr>\n",
       "    <tr>\n",
       "      <th>2018-12-26</th>\n",
       "      <td>28.4904</td>\n",
       "      <td>-2.9809</td>\n",
       "      <td>-25.4074</td>\n",
       "      <td>33.7160</td>\n",
       "    </tr>\n",
       "  </tbody>\n",
       "</table>\n",
       "<p>1000 rows × 4 columns</p>\n",
       "</div>"
      ],
      "text/plain": [
       "                  A       B        C        D\n",
       "2016-04-01   1.5547 -0.2018   1.0031  -1.7883\n",
       "2016-04-02   3.0110  0.7581   1.1641  -1.2602\n",
       "2016-04-03   4.3292 -0.0247   0.3432  -2.2162\n",
       "2016-04-04   4.6849  2.0171   0.5460  -2.2578\n",
       "2016-04-05   4.8261  1.6511   0.4955  -2.2460\n",
       "...             ...     ...      ...      ...\n",
       "2018-12-22  27.3433 -1.8200 -24.2707  31.5355\n",
       "2018-12-23  28.2265 -1.5171 -23.5878  30.9233\n",
       "2018-12-24  27.7324 -2.2950 -23.9565  32.4785\n",
       "2018-12-25  27.4052 -3.5878 -23.7618  33.2123\n",
       "2018-12-26  28.4904 -2.9809 -25.4074  33.7160\n",
       "\n",
       "[1000 rows x 4 columns]"
      ]
     },
     "execution_count": 66,
     "metadata": {},
     "output_type": "execute_result"
    }
   ],
   "source": [
    "pd.read_excel(\"foo.xlsx\",\"Sheet1\",index_col=None,na_values=[\"NA\"])"
   ]
  },
  {
   "cell_type": "code",
   "execution_count": null,
   "metadata": {
    "collapsed": true
   },
   "outputs": [],
   "source": []
  }
 ],
 "metadata": {
  "kernelspec": {
   "display_name": "Python 2",
   "language": "python",
   "name": "python2"
  },
  "language_info": {
   "codemirror_mode": {
    "name": "ipython",
    "version": 2
   },
   "file_extension": ".py",
   "mimetype": "text/x-python",
   "name": "python",
   "nbconvert_exporter": "python",
   "pygments_lexer": "ipython2",
   "version": "2.7.11"
  }
 },
 "nbformat": 4,
 "nbformat_minor": 0
}
