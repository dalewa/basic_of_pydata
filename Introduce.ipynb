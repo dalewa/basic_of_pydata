{
 "cells": [
  {
   "cell_type": "markdown",
   "metadata": {},
   "source": [
    "### 摘要\n",
    "\n",
    "* 为什么要数据分析\n",
    "> 由于互联网的飞速发展，信息时代的普及，每天的数据量不再是以字节，kb为单位的容量单位，总而言之，靠人力是难完成这些数据处理的任务，所以有了计算机的用武之地，有了计算机编程的用武之地，可视数据在一定程度上是为我们自己服务的，虽然我不能一一阅读，但是我需要从中提取我们自己需要的东西，所以，我们需要数据分析\n",
    "\n",
    "* 为什么要数据可视化\n",
    "> 数据分析之后呢？看着一串一串的数字，我宁愿没有处理数据，这样就不需要在一堆看似意义的数字中需要结果，寻找相似的，需要数据指标，如果每个数据通过聚合，通过图形表达出来呢？我想这也是为什么各式各样的报表，囊括一大堆柱状图，饼状图，趋势图的原因，而怎么可视化便是本视频想着重讲解的部分\n",
    "\n",
    "* python数据分析的优势\n",
    "> 因为python高级语言，所以写法不会像低级语言如C，C++那样晦涩难懂，甚至接近自然语言，再者python实在有太多太多的库以供使用，也许为人所诟病的是python的运行速度，可视如果选择用一行代码还是几十行C或者更多的代码来完成同一件事，我想你会考虑的，再者数据分析大多数情况是不需要很高的实时性的。\n",
    "\n",
    "* 数据分析有哪些工具\n",
    "参考：[http://www.bigdata.ren/portal.php?mod=view&aid=893](http://www.bigdata.ren/portal.php?mod=view&aid=893)\n",
    "\n",
    "#### 本课程主要介绍的数据分析及可视化工具为pandas~\n",
    "[10 minute to pandas](http://nbviewer.jupyter.org/github/youerning/basic_of_pydata/blob/master/10%20minute%20to%20pandas.ipynb)\n",
    "\n",
    "[pandas 可视化](http://nbviewer.jupyter.org/github/youerning/basic_of_pydata/blob/master/Pandas%20Visualization.ipynb)\n",
    "\n",
    "中文翻译参考：[10 分钟玩转pandas](http://www.cnblogs.com/chaosimple/p/4153083.html)\n",
    "官方文档参考:[Visualization](http://pandas.pydata.org/pandas-docs/stable/visualization.html)\n",
    "\n",
    "课程内容如下：\n",
    "\n",
    "* numpy基础\n",
    "* pandas基础\n",
    "* [实战之股票](http://youerning.blog.51cto.com/10513771/1726349)\n",
    "* [实战之日志](http://youerning.blog.51cto.com/10513771/1712775)"
   ]
  },
  {
   "cell_type": "code",
   "execution_count": 3,
   "metadata": {
    "collapsed": true
   },
   "outputs": [],
   "source": [
    "import pandas as pd\n",
    "import numpy as np\n",
    "%matplotlib inline"
   ]
  },
  {
   "cell_type": "code",
   "execution_count": 5,
   "metadata": {
    "collapsed": true
   },
   "outputs": [],
   "source": [
    "pd.set_option(\"display.notebook_repr_html\",False)\n",
    "pd.set_option(\"display.max_columns\",6)\n",
    "pd.set_option(\"display.max_rows\",10)\n",
    "pd.set_option(\"display.width\",78)\n",
    "pd.set_option(\"precision\",4)"
   ]
  },
  {
   "cell_type": "code",
   "execution_count": null,
   "metadata": {
    "collapsed": true
   },
   "outputs": [],
   "source": []
  }
 ],
 "metadata": {
  "kernelspec": {
   "display_name": "Python 2",
   "language": "python",
   "name": "python2"
  },
  "language_info": {
   "codemirror_mode": {
    "name": "ipython",
    "version": 2
   },
   "file_extension": ".py",
   "mimetype": "text/x-python",
   "name": "python",
   "nbconvert_exporter": "python",
   "pygments_lexer": "ipython2",
   "version": "2.7.11"
  }
 },
 "nbformat": 4,
 "nbformat_minor": 0
}
