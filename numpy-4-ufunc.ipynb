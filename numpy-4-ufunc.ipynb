{
 "cells": [
  {
   "cell_type": "markdown",
   "metadata": {},
   "source": [
    "### 摘要\n",
    "\n",
    "* numpy里面的一些内置的方法，函数以及numpy的基本运算\n",
    "\n",
    "ufunc参考:[http://docs.scipy.org/doc/numpy/reference/ufuncs.html](http://docs.scipy.org/doc/numpy/reference/ufuncs.html)"
   ]
  },
  {
   "cell_type": "code",
   "execution_count": 2,
   "metadata": {
    "collapsed": true
   },
   "outputs": [],
   "source": [
    "#首先导入numpy\n",
    "import numpy as np"
   ]
  },
  {
   "cell_type": "code",
   "execution_count": 8,
   "metadata": {
    "collapsed": false
   },
   "outputs": [
    {
     "name": "stdout",
     "output_type": "stream",
     "text": [
      "[0 1 2 3 4 5 6 7 8 9]\n",
      "[ 1  3  5  7  9 11 13 15 17 19]\n",
      "-------------\n",
      "[ 1  4  7 10 13 16 19 22 25 28]\n",
      "[  0   3  10  21  36  55  78 105 136 171]\n",
      "[0 0 0 0 0 0 0 0 0 0]\n",
      "[ -1  -2  -3  -4  -5  -6  -7  -8  -9 -10]\n"
     ]
    }
   ],
   "source": [
    "#首先是numpy的基本运算，如加减乘除\n",
    "arr1 = np.arange(10)\n",
    "print arr1\n",
    "arr2 = np.arange(1,20,2)\n",
    "print arr2\n",
    "print \"-------------\"\n",
    "print arr1 + arr2\n",
    "print arr1 * arr2\n",
    "print arr1 / arr2\n",
    "print arr1 - arr2"
   ]
  },
  {
   "cell_type": "markdown",
   "metadata": {},
   "source": [
    "#### 这里我们会讲解一些还算常用的ufunc"
   ]
  },
  {
   "cell_type": "code",
   "execution_count": 11,
   "metadata": {
    "collapsed": false
   },
   "outputs": [
    {
     "name": "stdout",
     "output_type": "stream",
     "text": [
      "[0 1 2 3 4 5 6 7 8 9]\n",
      "9\n",
      "0\n"
     ]
    }
   ],
   "source": [
    "#max,min\n",
    "arr = np.arange(10)\n",
    "print arr\n",
    "print arr.max()\n",
    "print arr.min()"
   ]
  },
  {
   "cell_type": "code",
   "execution_count": 14,
   "metadata": {
    "collapsed": false
   },
   "outputs": [
    {
     "name": "stdout",
     "output_type": "stream",
     "text": [
      "[1 0 3 5 0]\n",
      "[1 2 3 4]\n",
      "------------\n",
      "False\n",
      "True\n"
     ]
    }
   ],
   "source": [
    "#all,any\n",
    "lis1 = [1,0,3,5,False]\n",
    "lis2 = [1,2,3,4]\n",
    "\n",
    "arr1 = np.array(lis1)\n",
    "arr2 = np.array(lis2)\n",
    "print arr1\n",
    "print arr2\n",
    "print \"------------\"\n",
    "print arr1.all()\n",
    "print arr.any()"
   ]
  },
  {
   "cell_type": "code",
   "execution_count": 16,
   "metadata": {
    "collapsed": false
   },
   "outputs": [
    {
     "name": "stdout",
     "output_type": "stream",
     "text": [
      "[0 1 2 3 4 5 6 7 8 9]\n",
      "------------\n",
      "[ 0.          1.          1.41421356  1.73205081  2.          2.23606798\n",
      "  2.44948974  2.64575131  2.82842712  3.        ]\n",
      "[  1.00000000e+00   2.71828183e+00   7.38905610e+00   2.00855369e+01\n",
      "   5.45981500e+01   1.48413159e+02   4.03428793e+02   1.09663316e+03\n",
      "   2.98095799e+03   8.10308393e+03]\n"
     ]
    }
   ],
   "source": [
    "#sqrt,exp\n",
    "arr1 = np.arange(10)\n",
    "print arr1\n",
    "print \"------------\"\n",
    "print np.sqrt(arr1)\n",
    "print np.exp(arr1)"
   ]
  },
  {
   "cell_type": "code",
   "execution_count": 3,
   "metadata": {
    "collapsed": false
   },
   "outputs": [
    {
     "name": "stdout",
     "output_type": "stream",
     "text": [
      "[11 22  3  4  5  2  3  4  4  3]\n",
      "-------------\n",
      "[ 2  3  4  5 11 22]\n",
      "[ 2  3  3  3  4  4  4  5 11 22]\n",
      "set([2, 3, 4, 5, 11, 22])\n"
     ]
    }
   ],
   "source": [
    "#unique,sort\n",
    "lis1 = [11,22,3,4,5,2,3,4,4,3]\n",
    "arr = np.array(lis1)\n",
    "print arr\n",
    "print \"-------------\"\n",
    "print np.unique(arr)\n",
    "arr.sort()\n",
    "print arr\n",
    "print set(lis1)"
   ]
  },
  {
   "cell_type": "code",
   "execution_count": null,
   "metadata": {
    "collapsed": true
   },
   "outputs": [],
   "source": []
  }
 ],
 "metadata": {
  "kernelspec": {
   "display_name": "Python 2",
   "language": "python",
   "name": "python2"
  },
  "language_info": {
   "codemirror_mode": {
    "name": "ipython",
    "version": 2
   },
   "file_extension": ".py",
   "mimetype": "text/x-python",
   "name": "python",
   "nbconvert_exporter": "python",
   "pygments_lexer": "ipython2",
   "version": "2.7.11"
  }
 },
 "nbformat": 4,
 "nbformat_minor": 0
}
