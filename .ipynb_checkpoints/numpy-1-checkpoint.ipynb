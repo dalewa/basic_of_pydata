{
 "cells": [
  {
   "cell_type": "markdown",
   "metadata": {},
   "source": [
    "## 摘要\n",
    "* numpy是什么？\n",
    "> NumPy的主要对象是同种元素的多维数组。\n",
    "这是一个所有的元素都是一种类型、通过一个正整数元组索引的元素表格(通常是元素是数字)。在NumPy中维度(dimensions)叫做轴(axes)，轴的个数叫做秩(rank)。\n",
    "\n",
    "* numpy有什么用？\n",
    "> python内置数据类型list保存一组值可用来当做数组使用，不过由于数组的元素可以是如何对象，因此列表中保存的是对象的指针，简单的[1,2,3]需要3个指针及对象，对于数值运算来说显然比较浪费内存和CPU计算时间\n",
    "而array模块虽然可直接保存数值，不仅不支持多维还没有各种运算函数，因此也不适合数值运算。\n",
    "\n",
    "参考链接:[http://www.scipy.org/](http://www.scipy.org/)\n",
    "\n",
    "numpy中文教程: [http://blog.csdn.net/lsjseu/article/details/20359201](http://blog.csdn.net/lsjseu/article/details/20359201)\n",
    "\n",
    "\n",
    "### 注:python数据分析基础，所以不会涉及什么矩阵计算什么的，基本上只会局限于一维，二维数组"
   ]
  },
  {
   "cell_type": "code",
   "execution_count": 11,
   "metadata": {
    "collapsed": false
   },
   "outputs": [],
   "source": [
    "#首先导入numpy\n",
    "import numpy as np"
   ]
  },
  {
   "cell_type": "code",
   "execution_count": 12,
   "metadata": {
    "collapsed": false
   },
   "outputs": [
    {
     "name": "stdout",
     "output_type": "stream",
     "text": [
      "[[0 1 2]\n",
      " [3 4 5]\n",
      " [6 7 8]]\n"
     ]
    }
   ],
   "source": [
    "#这里创建一个3x3的二维数组\n",
    "n1 = np.arange(9).reshape((3,3))\n",
    "print n1"
   ]
  },
  {
   "cell_type": "code",
   "execution_count": 13,
   "metadata": {
    "collapsed": false
   },
   "outputs": [
    {
     "data": {
      "text/plain": [
       "4"
      ]
     },
     "execution_count": 13,
     "metadata": {},
     "output_type": "execute_result"
    }
   ],
   "source": [
    "n1[1][1]"
   ]
  },
  {
   "cell_type": "code",
   "execution_count": null,
   "metadata": {
    "collapsed": true
   },
   "outputs": [],
   "source": []
  }
 ],
 "metadata": {
  "kernelspec": {
   "display_name": "Python 2",
   "language": "python",
   "name": "python2"
  },
  "language_info": {
   "codemirror_mode": {
    "name": "ipython",
    "version": 2
   },
   "file_extension": ".py",
   "mimetype": "text/x-python",
   "name": "python",
   "nbconvert_exporter": "python",
   "pygments_lexer": "ipython2",
   "version": "2.7.10"
  }
 },
 "nbformat": 4,
 "nbformat_minor": 0
}
