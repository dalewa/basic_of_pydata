{
 "cells": [
  {
   "cell_type": "markdown",
   "metadata": {},
   "source": [
    "### 摘要\n",
    "\n",
    "* 怎么查询，找到相应的元素？\n",
    "\n",
    "这一节我主要讲解numpy的索引，与python自有的列表相同，numpy也有相应的索引，我们通过索引以及切片查询或截取相应的值\n",
    "#注，基本与列表的索引方式一致，可选择性略过"
   ]
  },
  {
   "cell_type": "code",
   "execution_count": 1,
   "metadata": {
    "collapsed": true
   },
   "outputs": [],
   "source": [
    "#首先导入numpy\n",
    "import numpy as np"
   ]
  },
  {
   "cell_type": "code",
   "execution_count": 6,
   "metadata": {
    "collapsed": false
   },
   "outputs": [
    {
     "name": "stdout",
     "output_type": "stream",
     "text": [
      "[0 1 2 3 4 5 6 7 8 9]\n",
      "-----------------\n",
      "1\n",
      "[1 2 3 4]\n",
      "[1 3]\n",
      "[0 1 2 3 4]\n",
      "[0 2 4 6 8]\n"
     ]
    }
   ],
   "source": [
    "#一维数组\n",
    "arr1 = np.arange(10)\n",
    "print arr1\n",
    "print \"-----------------\"\n",
    "print arr1[1]\n",
    "print arr1[1:5]\n",
    "print arr1[1:5:2]\n",
    "print arr1[:5]\n",
    "print arr1[::2]"
   ]
  },
  {
   "cell_type": "code",
   "execution_count": 14,
   "metadata": {
    "collapsed": false
   },
   "outputs": [
    {
     "name": "stdout",
     "output_type": "stream",
     "text": [
      "[[ 0  1  2  3  4]\n",
      " [ 5  6  7  8  9]\n",
      " [10 11 12 13 14]]\n",
      "-----------------\n",
      "[5 6 7 8 9] \n",
      "\n",
      "[[ 5  6  7  8  9]\n",
      " [10 11 12 13 14]] \n",
      "\n",
      "[[5 6 7 8 9]] \n",
      "\n",
      "[[ 0  1  2  3  4]\n",
      " [ 5  6  7  8  9]\n",
      " [10 11 12 13 14]] \n",
      "\n",
      "[[ 0  1  2  3  4]\n",
      " [10 11 12 13 14]] \n",
      "\n",
      "-----------------\n",
      "7 \n",
      "\n",
      "[6 7 8 9] \n",
      "\n",
      "[10 11 12 13 14] \n",
      "\n"
     ]
    }
   ],
   "source": [
    "#二维数组\n",
    "arr2 = np.arange(15).reshape((3,5))\n",
    "print arr2\n",
    "print \"-----------------\"\n",
    "print arr2[1],\"\\n\"\n",
    "print arr2[1:3],\"\\n\"\n",
    "print arr2[1:3:2],\"\\n\"\n",
    "print arr2[:3],\"\\n\"\n",
    "print arr2[::2],\"\\n\"\n",
    "print \"-----------------\"\n",
    "print arr2[1][2],\"\\n\"\n",
    "print arr2[1][1:5],\"\\n\"\n",
    "print arr2[1:3][1],\"\\n\"\n"
   ]
  }
 ],
 "metadata": {
  "kernelspec": {
   "display_name": "Python 2",
   "language": "python",
   "name": "python2"
  },
  "language_info": {
   "codemirror_mode": {
    "name": "ipython",
    "version": 2
   },
   "file_extension": ".py",
   "mimetype": "text/x-python",
   "name": "python",
   "nbconvert_exporter": "python",
   "pygments_lexer": "ipython2",
   "version": "2.7.10"
  }
 },
 "nbformat": 4,
 "nbformat_minor": 0
}
